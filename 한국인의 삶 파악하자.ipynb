{
 "cells": [
  {
   "cell_type": "code",
   "execution_count": null,
   "metadata": {},
   "outputs": [],
   "source": [
    "install.packages(\"foreign\")  # foreign 패키지 설치"
   ]
  },
  {
   "cell_type": "code",
   "execution_count": 1,
   "metadata": {
    "ExecuteTime": {
     "end_time": "2020-02-18T00:14:34.910234Z",
     "start_time": "2020-02-18T00:14:34.092Z"
    }
   },
   "outputs": [
    {
     "name": "stderr",
     "output_type": "stream",
     "text": [
      "Warning message:\n",
      "\"package 'foreign' was built under R version 3.6.2\"Warning message:\n",
      "\"package 'dplyr' was built under R version 3.6.2\"\n",
      "Attaching package: 'dplyr'\n",
      "\n",
      "The following objects are masked from 'package:stats':\n",
      "\n",
      "    filter, lag\n",
      "\n",
      "The following objects are masked from 'package:base':\n",
      "\n",
      "    intersect, setdiff, setequal, union\n",
      "\n",
      "Warning message:\n",
      "\"package 'ggplot2' was built under R version 3.6.2\"Warning message:\n",
      "\"package 'readxl' was built under R version 3.6.2\""
     ]
    }
   ],
   "source": [
    "library(foreign)             # SPSS 파일 로드\n",
    "library(dplyr)               # 전처리\n",
    "library(ggplot2)             # 시각화\n",
    "library(readxl)              # 엑셀 파일 불러오기"
   ]
  },
  {
   "cell_type": "code",
   "execution_count": 4,
   "metadata": {
    "ExecuteTime": {
     "end_time": "2020-02-18T00:14:59.491283Z",
     "start_time": "2020-02-18T00:14:58.719Z"
    }
   },
   "outputs": [
    {
     "name": "stderr",
     "output_type": "stream",
     "text": [
      "Warning message in read.spss(file = \"../data/Koweps_hpc10_2015_beta1.sav\", to.data.frame = T):\n",
      "\"../data/Koweps_hpc10_2015_beta1.sav: Compression bias (0) is not the usual value of 100\""
     ]
    }
   ],
   "source": [
    "raw_welfare <- read.spss(file='../data/Koweps_hpc10_2015_beta1.sav', to.data.frame = T)\n",
    "welfare <- raw_welfare"
   ]
  },
  {
   "cell_type": "code",
   "execution_count": null,
   "metadata": {
    "scrolled": true
   },
   "outputs": [],
   "source": [
    "str(welfare)"
   ]
  },
  {
   "cell_type": "markdown",
   "metadata": {},
   "source": [
    "#### 변수명 바꾸기"
   ]
  },
  {
   "cell_type": "code",
   "execution_count": 5,
   "metadata": {
    "ExecuteTime": {
     "end_time": "2020-02-18T00:15:35.284063Z",
     "start_time": "2020-02-18T00:15:04.486Z"
    }
   },
   "outputs": [],
   "source": [
    "welfare <- rename(welfare,\n",
    "                  sex = h10_g3,            # 성별\n",
    "                  birth = h10_g4,          # 태어난 연도\n",
    "                  marriage = h10_g10,      # 혼인 상태\n",
    "                  religion = h10_g11,      # 종교\n",
    "                  income = p1002_8aq1,     # 월급\n",
    "                  code_job = h10_eco9,     # 직종 코드\n",
    "                  code_region = h10_reg7)  # 지역 코드"
   ]
  },
  {
   "cell_type": "code",
   "execution_count": null,
   "metadata": {},
   "outputs": [],
   "source": [
    "# 4pm\n"
   ]
  },
  {
   "cell_type": "code",
   "execution_count": 4,
   "metadata": {},
   "outputs": [
    {
     "data": {
      "text/html": [
       "'numeric'"
      ],
      "text/latex": [
       "'numeric'"
      ],
      "text/markdown": [
       "'numeric'"
      ],
      "text/plain": [
       "[1] \"numeric\""
      ]
     },
     "metadata": {},
     "output_type": "display_data"
    },
    {
     "data": {
      "text/plain": [
       "\n",
       "   1    2 \n",
       "7578 9086 "
      ]
     },
     "metadata": {},
     "output_type": "display_data"
    }
   ],
   "source": [
    "class(welfare$sex)\n",
    "table(welfare$sex)"
   ]
  },
  {
   "cell_type": "code",
   "execution_count": 6,
   "metadata": {
    "ExecuteTime": {
     "end_time": "2020-02-18T00:16:27.000691Z",
     "start_time": "2020-02-18T00:16:26.959Z"
    }
   },
   "outputs": [
    {
     "data": {
      "text/plain": [
       "\n",
       "   1    2 \n",
       "7578 9086 "
      ]
     },
     "metadata": {},
     "output_type": "display_data"
    }
   ],
   "source": [
    "# 2. 전처리\n",
    "# 이상치 확인\n",
    "table(welfare$sex)"
   ]
  },
  {
   "cell_type": "code",
   "execution_count": null,
   "metadata": {},
   "outputs": [],
   "source": [
    "#  이상치 결측 처리\n",
    "# welfare$sex <- ifelse(welfare$sex == 9, NA, welfare$sex)\n",
    "# # 결측치 확인\n",
    "# table(is.na(welfare$sex))"
   ]
  },
  {
   "cell_type": "code",
   "execution_count": 7,
   "metadata": {
    "ExecuteTime": {
     "end_time": "2020-02-18T00:17:17.055843Z",
     "start_time": "2020-02-18T00:17:16.727Z"
    }
   },
   "outputs": [
    {
     "data": {
      "text/plain": [
       "\n",
       "female   male \n",
       "  9086   7578 "
      ]
     },
     "metadata": {},
     "output_type": "display_data"
    },
    {
     "data": {
      "image/png": "[encoded data removed]",
      "text/plain": [
       "plot without title"
      ]
     },
     "metadata": {},
     "output_type": "display_data"
    }
   ],
   "source": [
    "# 성별 항목 이름 부여\n",
    "welfare$sex <- ifelse(welfare$sex == 1, \"male\", \"female\")\n",
    "table(welfare$sex)\n",
    "qplot(welfare$sex)"
   ]
  },
  {
   "cell_type": "markdown",
   "metadata": {},
   "source": [
    "월급에 대한 전처리\n"
   ]
  },
  {
   "cell_type": "code",
   "execution_count": 5,
   "metadata": {},
   "outputs": [
    {
     "data": {
      "text/html": [
       "'numeric'"
      ],
      "text/latex": [
       "'numeric'"
      ],
      "text/markdown": [
       "'numeric'"
      ],
      "text/plain": [
       "[1] \"numeric\""
      ]
     },
     "metadata": {},
     "output_type": "display_data"
    }
   ],
   "source": [
    "# 변수 검토 1 : \n",
    "class(welfare$income)"
   ]
  },
  {
   "cell_type": "code",
   "execution_count": 6,
   "metadata": {
    "scrolled": true
   },
   "outputs": [
    {
     "data": {
      "text/plain": [
       "   Min. 1st Qu.  Median    Mean 3rd Qu.    Max.    NA's \n",
       "    0.0   122.0   192.5   241.6   316.6  2400.0   12030 "
      ]
     },
     "metadata": {},
     "output_type": "display_data"
    }
   ],
   "source": [
    "summary(welfare$income)"
   ]
  },
  {
   "cell_type": "code",
   "execution_count": 9,
   "metadata": {},
   "outputs": [
    {
     "name": "stderr",
     "output_type": "stream",
     "text": [
      "`stat_bin()` using `bins = 30`. Pick better value with `binwidth`.\n",
      "Warning message:\n",
      "\"Removed 12030 rows containing non-finite values (stat_bin).\""
     ]
    },
    {
     "data": {
      "image/png": "[encoded data removed]",
      "text/plain": [
       "plot without title"
      ]
     },
     "metadata": {},
     "output_type": "display_data"
    }
   ],
   "source": [
    "qplot(welfare$income)"
   ]
  },
  {
   "cell_type": "code",
   "execution_count": 10,
   "metadata": {
    "ExecuteTime": {
     "end_time": "2020-02-18T00:21:00.804584Z",
     "start_time": "2020-02-18T00:20:48.718Z"
    }
   },
   "outputs": [],
   "source": [
    "# 이상치 결측 처리\n",
    "welfare$income <- ifelse(welfare$income %in% c(0, 9999), NA, welfare$income)"
   ]
  },
  {
   "cell_type": "code",
   "execution_count": 11,
   "metadata": {
    "ExecuteTime": {
     "end_time": "2020-02-18T00:21:36.713509Z",
     "start_time": "2020-02-18T00:20:50.677Z"
    }
   },
   "outputs": [
    {
     "data": {
      "text/plain": [
       "\n",
       "FALSE  TRUE \n",
       " 4620 12044 "
      ]
     },
     "metadata": {},
     "output_type": "display_data"
    }
   ],
   "source": [
    "# 결측치 확인\n",
    "table(is.na(welfare$income))"
   ]
  },
  {
   "cell_type": "code",
   "execution_count": 8,
   "metadata": {
    "ExecuteTime": {
     "end_time": "2020-02-18T00:19:03.208205Z",
     "start_time": "2020-02-18T00:19:03.143Z"
    }
   },
   "outputs": [],
   "source": [
    "sex_income <- welfare %>%\n",
    "  filter(!is.na(income)) %>%\n",
    "  group_by(sex) %>%\n",
    "  summarise(mean_income = mean(income))"
   ]
  },
  {
   "cell_type": "code",
   "execution_count": null,
   "metadata": {},
   "outputs": [],
   "source": []
  },
  {
   "cell_type": "markdown",
   "metadata": {},
   "source": [
    "### 몇살 때 월급이 가장 많이 받을까.?"
   ]
  },
  {
   "cell_type": "markdown",
   "metadata": {},
   "source": [
    "- 나이, 월급에 따른 분석"
   ]
  },
  {
   "cell_type": "code",
   "execution_count": 12,
   "metadata": {
    "ExecuteTime": {
     "end_time": "2020-02-18T00:22:56.198213Z",
     "start_time": "2020-02-18T00:22:56.174Z"
    }
   },
   "outputs": [
    {
     "data": {
      "text/html": [
       "'numeric'"
      ],
      "text/latex": [
       "'numeric'"
      ],
      "text/markdown": [
       "'numeric'"
      ],
      "text/plain": [
       "[1] \"numeric\""
      ]
     },
     "metadata": {},
     "output_type": "display_data"
    }
   ],
   "source": [
    "class(welfare$birth)"
   ]
  },
  {
   "cell_type": "code",
   "execution_count": 13,
   "metadata": {
    "ExecuteTime": {
     "end_time": "2020-02-18T00:23:31.822146Z",
     "start_time": "2020-02-18T00:22:57.013Z"
    }
   },
   "outputs": [
    {
     "data": {
      "text/plain": [
       "   Min. 1st Qu.  Median    Mean 3rd Qu.    Max. \n",
       "   1907    1946    1966    1968    1988    2014 "
      ]
     },
     "metadata": {},
     "output_type": "display_data"
    }
   ],
   "source": [
    "summary(welfare$birth)"
   ]
  },
  {
   "cell_type": "code",
   "execution_count": 14,
   "metadata": {
    "ExecuteTime": {
     "end_time": "2020-02-18T00:24:07.570055Z",
     "start_time": "2020-02-18T00:23:07.373Z"
    }
   },
   "outputs": [
    {
     "name": "stderr",
     "output_type": "stream",
     "text": [
      "`stat_bin()` using `bins = 30`. Pick better value with `binwidth`.\n"
     ]
    },
    {
     "data": {
      "image/png": "[encoded data removed]",
      "text/plain": [
       "plot without title"
      ]
     },
     "metadata": {},
     "output_type": "display_data"
    }
   ],
   "source": [
    "qplot(welfare$birth)"
   ]
  },
  {
   "cell_type": "markdown",
   "metadata": {},
   "source": [
    "- 이상치확인"
   ]
  },
  {
   "cell_type": "code",
   "execution_count": 15,
   "metadata": {
    "ExecuteTime": {
     "end_time": "2020-02-18T00:24:43.303324Z",
     "start_time": "2020-02-18T00:24:00.750Z"
    }
   },
   "outputs": [
    {
     "data": {
      "text/plain": [
       "   Min. 1st Qu.  Median    Mean 3rd Qu.    Max. \n",
       "   1907    1946    1966    1968    1988    2014 "
      ]
     },
     "metadata": {},
     "output_type": "display_data"
    }
   ],
   "source": [
    "# 이상치 확인\n",
    "summary(welfare$birth)"
   ]
  },
  {
   "cell_type": "code",
   "execution_count": 16,
   "metadata": {
    "ExecuteTime": {
     "end_time": "2020-02-18T00:25:18.835561Z",
     "start_time": "2020-02-18T00:24:16.302Z"
    }
   },
   "outputs": [
    {
     "data": {
      "text/plain": [
       "\n",
       "FALSE \n",
       "16664 "
      ]
     },
     "metadata": {},
     "output_type": "display_data"
    }
   ],
   "source": [
    "# 결측치 확인\n",
    "table(is.na(welfare$birth))"
   ]
  },
  {
   "cell_type": "markdown",
   "metadata": {},
   "source": [
    "### 파생 변수 만들기\n",
    "- 나이"
   ]
  },
  {
   "cell_type": "code",
   "execution_count": 17,
   "metadata": {
    "ExecuteTime": {
     "end_time": "2020-02-18T00:25:54.551238Z",
     "start_time": "2020-02-18T00:25:54.502Z"
    }
   },
   "outputs": [
    {
     "data": {
      "text/plain": [
       "   Min. 1st Qu.  Median    Mean 3rd Qu.    Max. \n",
       "   2.00   28.00   50.00   48.43   70.00  109.00 "
      ]
     },
     "metadata": {},
     "output_type": "display_data"
    }
   ],
   "source": [
    "# 2015년 기준으로 나이 계산. / 한국 나이계산은 +1\n",
    "welfare$age <- 2015 - welfare$birth + 1\n",
    "summary(welfare$age) \n",
    "\n",
    "# 2 ~ 109살까지 ㄷㄷ.."
   ]
  },
  {
   "cell_type": "code",
   "execution_count": 18,
   "metadata": {
    "ExecuteTime": {
     "end_time": "2020-02-18T00:26:36.121738Z",
     "start_time": "2020-02-18T00:26:35.886Z"
    },
    "scrolled": false
   },
   "outputs": [
    {
     "name": "stderr",
     "output_type": "stream",
     "text": [
      "`stat_bin()` using `bins = 30`. Pick better value with `binwidth`.\n"
     ]
    },
    {
     "data": {
      "image/png": "[encoded data removed]",
      "text/plain": [
       "plot without title"
      ]
     },
     "metadata": {},
     "output_type": "display_data"
    }
   ],
   "source": [
    "qplot(welfare$age)"
   ]
  },
  {
   "cell_type": "code",
   "execution_count": 19,
   "metadata": {
    "ExecuteTime": {
     "end_time": "2020-02-18T00:27:43.270237Z",
     "start_time": "2020-02-18T00:27:43.215Z"
    }
   },
   "outputs": [
    {
     "data": {
      "text/html": [
       "<table>\n",
       "<thead><tr><th scope=col>age</th><th scope=col>mean_income</th></tr></thead>\n",
       "<tbody>\n",
       "\t<tr><td>20      </td><td>121.3000</td></tr>\n",
       "\t<tr><td>21      </td><td>105.5185</td></tr>\n",
       "\t<tr><td>22      </td><td>130.0923</td></tr>\n",
       "\t<tr><td>23      </td><td>141.7157</td></tr>\n",
       "\t<tr><td>24      </td><td>134.0877</td></tr>\n",
       "\t<tr><td>25      </td><td>144.6559</td></tr>\n",
       "</tbody>\n",
       "</table>\n"
      ],
      "text/latex": [
       "\\begin{tabular}{r|ll}\n",
       " age & mean\\_income\\\\\n",
       "\\hline\n",
       "\t 20       & 121.3000\\\\\n",
       "\t 21       & 105.5185\\\\\n",
       "\t 22       & 130.0923\\\\\n",
       "\t 23       & 141.7157\\\\\n",
       "\t 24       & 134.0877\\\\\n",
       "\t 25       & 144.6559\\\\\n",
       "\\end{tabular}\n"
      ],
      "text/markdown": [
       "\n",
       "| age | mean_income |\n",
       "|---|---|\n",
       "| 20       | 121.3000 |\n",
       "| 21       | 105.5185 |\n",
       "| 22       | 130.0923 |\n",
       "| 23       | 141.7157 |\n",
       "| 24       | 134.0877 |\n",
       "| 25       | 144.6559 |\n",
       "\n"
      ],
      "text/plain": [
       "  age mean_income\n",
       "1 20  121.3000   \n",
       "2 21  105.5185   \n",
       "3 22  130.0923   \n",
       "4 23  141.7157   \n",
       "5 24  134.0877   \n",
       "6 25  144.6559   "
      ]
     },
     "metadata": {},
     "output_type": "display_data"
    }
   ],
   "source": [
    "# 나이를 시계열? 범주? => 범주형.\n",
    "age_income <- welfare %>%\n",
    "  filter(!is.na(income)) %>%\n",
    "  group_by(age) %>%\n",
    "  summarise(mean_income = mean(income))\n",
    "head(age_income)"
   ]
  },
  {
   "cell_type": "markdown",
   "metadata": {},
   "source": [
    "시계열은 아니지만, 선그래프로 알아보자."
   ]
  },
  {
   "cell_type": "code",
   "execution_count": 20,
   "metadata": {
    "ExecuteTime": {
     "end_time": "2020-02-18T00:28:18.968394Z",
     "start_time": "2020-02-18T00:28:00.278Z"
    }
   },
   "outputs": [
    {
     "data": {
      "image/png": "[encoded data removed]",
      "text/plain": [
       "plot without title"
      ]
     },
     "metadata": {},
     "output_type": "display_data"
    }
   ],
   "source": [
    "ggplot(data = age_income, aes(x = age, y = mean_income)) + geom_line()"
   ]
  },
  {
   "cell_type": "markdown",
   "metadata": {},
   "source": [
    "### 정리해서 보기 -> 연령으로반 보니 너무 넓어서. 연령대별로 조절하기."
   ]
  },
  {
   "cell_type": "code",
   "execution_count": 21,
   "metadata": {
    "ExecuteTime": {
     "end_time": "2020-02-18T00:30:52.773533Z",
     "start_time": "2020-02-18T00:30:52.718Z"
    }
   },
   "outputs": [
    {
     "data": {
      "text/plain": [
       "\n",
       "middle    old  young \n",
       "  6049   6281   4334 "
      ]
     },
     "metadata": {},
     "output_type": "display_data"
    }
   ],
   "source": [
    "#\n",
    "welfare <- welfare %>% \n",
    " mutate(ageg = ifelse(age < 30, \"young\", # 30대이전\n",
    "                      ifelse(age <= 59,\"middle\", \"old\")))\n",
    "table(welfare$ageg)"
   ]
  },
  {
   "cell_type": "code",
   "execution_count": 22,
   "metadata": {
    "ExecuteTime": {
     "end_time": "2020-02-18T00:31:28.489234Z",
     "start_time": "2020-02-18T00:31:10.357Z"
    }
   },
   "outputs": [
    {
     "data": {
      "image/png": "[encoded data removed]",
      "text/plain": [
       "plot without title"
      ]
     },
     "metadata": {},
     "output_type": "display_data"
    }
   ],
   "source": [
    "qplot(welfare$ageg)"
   ]
  },
  {
   "cell_type": "code",
   "execution_count": 23,
   "metadata": {
    "ExecuteTime": {
     "end_time": "2020-02-18T00:32:04.224455Z",
     "start_time": "2020-02-18T00:31:59.510Z"
    },
    "scrolled": true
   },
   "outputs": [
    {
     "data": {
      "text/html": [
       "<table>\n",
       "<thead><tr><th scope=col>ageg</th><th scope=col>mean_income</th></tr></thead>\n",
       "<tbody>\n",
       "\t<tr><td>middle  </td><td>281.8871</td></tr>\n",
       "\t<tr><td>old     </td><td>125.3295</td></tr>\n",
       "\t<tr><td>young   </td><td>163.5953</td></tr>\n",
       "</tbody>\n",
       "</table>\n"
      ],
      "text/latex": [
       "\\begin{tabular}{r|ll}\n",
       " ageg & mean\\_income\\\\\n",
       "\\hline\n",
       "\t middle   & 281.8871\\\\\n",
       "\t old      & 125.3295\\\\\n",
       "\t young    & 163.5953\\\\\n",
       "\\end{tabular}\n"
      ],
      "text/markdown": [
       "\n",
       "| ageg | mean_income |\n",
       "|---|---|\n",
       "| middle   | 281.8871 |\n",
       "| old      | 125.3295 |\n",
       "| young    | 163.5953 |\n",
       "\n"
      ],
      "text/plain": [
       "  ageg   mean_income\n",
       "1 middle 281.8871   \n",
       "2 old    125.3295   \n",
       "3 young  163.5953   "
      ]
     },
     "metadata": {},
     "output_type": "display_data"
    }
   ],
   "source": [
    "ageg_income <- welfare %>%\n",
    "  filter(!is.na(income)) %>%\n",
    "  group_by(ageg) %>%\n",
    "  summarise(mean_income = mean(income))\n",
    "ageg_income"
   ]
  },
  {
   "cell_type": "code",
   "execution_count": null,
   "metadata": {},
   "outputs": [],
   "source": [
    "ggplot(data = ageg_income, aes(x = ageg, y = mean_income)) + geom_col()"
   ]
  },
  {
   "cell_type": "code",
   "execution_count": null,
   "metadata": {},
   "outputs": [],
   "source": [
    "#막대 정렬 : 초년, 중년, 노년 나이 순\n",
    "ggplot(data = ageg_income, aes(x = ageg, y = mean_income)) +\n",
    "  geom_col() +\n",
    "  scale_x_discrete(limits = c(\"young\", \"middle\", \"old\"))"
   ]
  },
  {
   "cell_type": "markdown",
   "metadata": {},
   "source": [
    "## 09-5. 연령대 및 성별 월급 차이"
   ]
  },
  {
   "cell_type": "code",
   "execution_count": 24,
   "metadata": {
    "ExecuteTime": {
     "end_time": "2020-02-18T00:35:24.685497Z",
     "start_time": "2020-02-18T00:35:24.623Z"
    },
    "scrolled": true
   },
   "outputs": [
    {
     "data": {
      "text/html": [
       "<table>\n",
       "<thead><tr><th scope=col>ageg</th><th scope=col>sex</th><th scope=col>mean_income</th></tr></thead>\n",
       "<tbody>\n",
       "\t<tr><td>middle   </td><td>female   </td><td>187.97552</td></tr>\n",
       "\t<tr><td>middle   </td><td>male     </td><td>353.07574</td></tr>\n",
       "\t<tr><td>old      </td><td>female   </td><td> 81.52917</td></tr>\n",
       "\t<tr><td>old      </td><td>male     </td><td>173.85558</td></tr>\n",
       "\t<tr><td>young    </td><td>female   </td><td>159.50518</td></tr>\n",
       "\t<tr><td>young    </td><td>male     </td><td>170.81737</td></tr>\n",
       "</tbody>\n",
       "</table>\n"
      ],
      "text/latex": [
       "\\begin{tabular}{r|lll}\n",
       " ageg & sex & mean\\_income\\\\\n",
       "\\hline\n",
       "\t middle    & female    & 187.97552\\\\\n",
       "\t middle    & male      & 353.07574\\\\\n",
       "\t old       & female    &  81.52917\\\\\n",
       "\t old       & male      & 173.85558\\\\\n",
       "\t young     & female    & 159.50518\\\\\n",
       "\t young     & male      & 170.81737\\\\\n",
       "\\end{tabular}\n"
      ],
      "text/markdown": [
       "\n",
       "| ageg | sex | mean_income |\n",
       "|---|---|---|\n",
       "| middle    | female    | 187.97552 |\n",
       "| middle    | male      | 353.07574 |\n",
       "| old       | female    |  81.52917 |\n",
       "| old       | male      | 173.85558 |\n",
       "| young     | female    | 159.50518 |\n",
       "| young     | male      | 170.81737 |\n",
       "\n"
      ],
      "text/plain": [
       "  ageg   sex    mean_income\n",
       "1 middle female 187.97552  \n",
       "2 middle male   353.07574  \n",
       "3 old    female  81.52917  \n",
       "4 old    male   173.85558  \n",
       "5 young  female 159.50518  \n",
       "6 young  male   170.81737  "
      ]
     },
     "metadata": {},
     "output_type": "display_data"
    }
   ],
   "source": [
    "# 연령대별 및 성별 월급 평균포 만들기\n",
    "# 4 ~ 50 대의 남녀.\n",
    "# 테이블을 머리에 그리자. 연령대별과 그 해당하는성별까짇로도 구분.\n",
    "sex_income <- welfare  %>% \n",
    " filter(!is.na(income)) %>% \n",
    " group_by(ageg, sex) %>%  \n",
    " summarise(mean_income = mean(income))\n",
    "sex_income"
   ]
  },
  {
   "cell_type": "code",
   "execution_count": 25,
   "metadata": {
    "ExecuteTime": {
     "end_time": "2020-02-18T00:36:23.708566Z",
     "start_time": "2020-02-18T00:36:23.478Z"
    }
   },
   "outputs": [
    {
     "data": {
      "image/png": "[encoded data removed]",
      "text/plain": [
       "plot without title"
      ]
     },
     "metadata": {},
     "output_type": "display_data"
    }
   ],
   "source": [
    "# 고소득자?의 차이 # 회사사장님? \n",
    "ggplot(data = sex_income, aes(x = ageg, y = mean_income, fill = sex)) + # fill : 색깔채우기.\n",
    "  geom_col() +\n",
    "  scale_x_discrete(limits = c(\"young\", \"middle\", \"old\"))"
   ]
  },
  {
   "cell_type": "code",
   "execution_count": null,
   "metadata": {},
   "outputs": [],
   "source": [
    "# 스토리 : 이러카면 조아!(당신에게)\n",
    "# "
   ]
  },
  {
   "cell_type": "code",
   "execution_count": 26,
   "metadata": {
    "ExecuteTime": {
     "end_time": "2020-02-18T00:46:58.070923Z",
     "start_time": "2020-02-18T00:46:57.846Z"
    }
   },
   "outputs": [
    {
     "data": {
      "image/png": "[encoded data removed]",
      "text/plain": [
       "plot without title"
      ]
     },
     "metadata": {},
     "output_type": "display_data"
    }
   ],
   "source": [
    "# 옵션 dodge를 주면 \n",
    "# 막대그래프가 stack 이 아닌 따로 보여줌.\n",
    "ggplot(data = sex_income, aes(x = ageg, y = mean_income, fill = sex)) +\n",
    "  geom_col(position = \"dodge\") +\n",
    "  scale_x_discrete(limits = c(\"young\", \"middle\", \"old\"))"
   ]
  },
  {
   "cell_type": "code",
   "execution_count": 27,
   "metadata": {
    "ExecuteTime": {
     "end_time": "2020-02-18T00:49:08.170899Z",
     "start_time": "2020-02-18T00:49:08.117Z"
    }
   },
   "outputs": [],
   "source": [
    "### 나이 및 성별 월급 차이 분석하기\n",
    "\n",
    "# 성별 연령별 월급 평균표 만들기\n",
    "sex_age <- welfare %>%\n",
    "  filter(!is.na(income)) %>%\n",
    "  group_by(age, sex) %>%\n",
    "  summarise(mean_income = mean(income))\n"
   ]
  },
  {
   "cell_type": "code",
   "execution_count": 28,
   "metadata": {
    "ExecuteTime": {
     "end_time": "2020-02-18T00:49:44.395076Z",
     "start_time": "2020-02-18T00:49:09.124Z"
    }
   },
   "outputs": [
    {
     "data": {
      "image/png": "[encoded data removed]",
      "text/plain": [
       "plot without title"
      ]
     },
     "metadata": {},
     "output_type": "display_data"
    }
   ],
   "source": [
    "# 30 ~ 40 대엔 차이가 나느것을 선으로 볼 수 있다.\n",
    "ggplot(data = sex_age, aes(x = age, y = mean_income, col = sex)) + geom_line()"
   ]
  },
  {
   "cell_type": "code",
   "execution_count": 29,
   "metadata": {
    "ExecuteTime": {
     "end_time": "2020-02-18T00:50:20.555834Z",
     "start_time": "2020-02-18T00:49:24.124Z"
    }
   },
   "outputs": [
    {
     "data": {
      "text/html": [
       "'numeric'"
      ],
      "text/latex": [
       "'numeric'"
      ],
      "text/markdown": [
       "'numeric'"
      ],
      "text/plain": [
       "[1] \"numeric\""
      ]
     },
     "metadata": {},
     "output_type": "display_data"
    }
   ],
   "source": [
    "class(welfare$code_job)"
   ]
  },
  {
   "cell_type": "code",
   "execution_count": 30,
   "metadata": {
    "ExecuteTime": {
     "end_time": "2020-02-18T00:50:56.673646Z",
     "start_time": "2020-02-18T00:49:24.836Z"
    }
   },
   "outputs": [
    {
     "data": {
      "text/plain": [
       "\n",
       " 111  120  131  132  133  134  135  139  141  149  151  152  153  159  211  212 \n",
       "   2   16   10   11    9    3    7   10   35   20   26   18   15   16    8    4 \n",
       " 213  221  222  223  224  231  232  233  234  235  236  237  239  241  242  243 \n",
       "   3   17   31   12    4   41    5    3    6   48   14    2   29   12    4   63 \n",
       " 244  245  246  247  248  251  252  253  254  259  261  271  272  273  274  281 \n",
       "   4   33   59   77   38   14  111   24   67  109    4   15   11    4   36   17 \n",
       " 283  284  285  286  289  311  312  313  314  320  330  391  392  399  411  412 \n",
       "   8   10   26   16    5  140  260  220   84   75   15    4   13   87   47   12 \n",
       " 421  422  423  429  431  432  441  442  510  521  522  530  611  612  613  620 \n",
       " 124   71    5   14   20   33  154  197  192  353    5  106 1320   11   40    2 \n",
       " 630  710  721  722  730  741  742  743  751  752  753  761  762  771  772  773 \n",
       "  20   29   30   22   16   27    3   34   34    5   49   69   27   11   61   86 \n",
       " 774  780  791  792  799  811  812  819  821  822  823  831  832  841  842  843 \n",
       "   7   17    5   21   45   16    1    6    9    9   23    5   17   32   10    4 \n",
       " 851  852  853  854  855  861  862  863  864  871  873  874  875  876  881  882 \n",
       "  19   13    7   33    9    3   14   17   31    2  257   34   37    2    2    3 \n",
       " 891  892  899  910  921  922  930  941  942  951  952  953  991  992  999 1011 \n",
       "   8   19   16  102   31   74  289  325   99  125  122   73   45   12  141    2 \n",
       "1012 \n",
       "  17 "
      ]
     },
     "metadata": {},
     "output_type": "display_data"
    }
   ],
   "source": [
    "table(welfare$code_job)"
   ]
  },
  {
   "cell_type": "code",
   "execution_count": 32,
   "metadata": {
    "ExecuteTime": {
     "end_time": "2020-02-18T00:51:37.833647Z",
     "start_time": "2020-02-18T00:51:37.772Z"
    }
   },
   "outputs": [
    {
     "data": {
      "text/html": [
       "<table>\n",
       "<thead><tr><th scope=col>code_job</th><th scope=col>job</th></tr></thead>\n",
       "<tbody>\n",
       "\t<tr><td>111                                </td><td>의회의원 고위공무원 및 공공단체임원</td></tr>\n",
       "\t<tr><td>112                                </td><td>기업고위임원                       </td></tr>\n",
       "\t<tr><td>120                                </td><td>행정 및 경영지원 관리자            </td></tr>\n",
       "\t<tr><td>131                                </td><td>연구 교육 및 법률 관련 관리자      </td></tr>\n",
       "\t<tr><td>132                                </td><td>보험 및 금융 관리자                </td></tr>\n",
       "\t<tr><td>133                                </td><td>보건 및 사회복지 관련 관리자       </td></tr>\n",
       "</tbody>\n",
       "</table>\n"
      ],
      "text/latex": [
       "\\begin{tabular}{r|ll}\n",
       " code\\_job & job\\\\\n",
       "\\hline\n",
       "\t 111                                 & 의회의원 고위공무원 및 공공단체임원\\\\\n",
       "\t 112                                 & 기업고위임원                       \\\\\n",
       "\t 120                                 & 행정 및 경영지원 관리자            \\\\\n",
       "\t 131                                 & 연구 교육 및 법률 관련 관리자      \\\\\n",
       "\t 132                                 & 보험 및 금융 관리자                \\\\\n",
       "\t 133                                 & 보건 및 사회복지 관련 관리자       \\\\\n",
       "\\end{tabular}\n"
      ],
      "text/markdown": [
       "\n",
       "| code_job | job |\n",
       "|---|---|\n",
       "| 111                                 | 의회의원 고위공무원 및 공공단체임원 |\n",
       "| 112                                 | 기업고위임원                        |\n",
       "| 120                                 | 행정 및 경영지원 관리자             |\n",
       "| 131                                 | 연구 교육 및 법률 관련 관리자       |\n",
       "| 132                                 | 보험 및 금융 관리자                 |\n",
       "| 133                                 | 보건 및 사회복지 관련 관리자        |\n",
       "\n"
      ],
      "text/plain": [
       "  code_job job                                \n",
       "1 111      의회의원 고위공무원 및 공공단체임원\n",
       "2 112      기업고위임원                       \n",
       "3 120      행정 및 경영지원 관리자            \n",
       "4 131      연구 교육 및 법률 관련 관리자      \n",
       "5 132      보험 및 금융 관리자                \n",
       "6 133      보건 및 사회복지 관련 관리자       "
      ]
     },
     "metadata": {},
     "output_type": "display_data"
    },
    {
     "data": {
      "text/html": [
       "<ol class=list-inline>\n",
       "\t<li>149</li>\n",
       "\t<li>2</li>\n",
       "</ol>\n"
      ],
      "text/latex": [
       "\\begin{enumerate*}\n",
       "\\item 149\n",
       "\\item 2\n",
       "\\end{enumerate*}\n"
      ],
      "text/markdown": [
       "1. 149\n",
       "2. 2\n",
       "\n",
       "\n"
      ],
      "text/plain": [
       "[1] 149   2"
      ]
     },
     "metadata": {},
     "output_type": "display_data"
    }
   ],
   "source": [
    "#### 2. 전처리\n",
    "\n",
    "# **직업분류코드 목록 불러오기**\n",
    "library(readxl)\n",
    "list_job <- read_excel(\"../data/Koweps_Codebook.xlsx\", col_names = T, sheet = 2)\n",
    "head(list_job)\n",
    "dim(list_job)"
   ]
  },
  {
   "cell_type": "code",
   "execution_count": 33,
   "metadata": {
    "ExecuteTime": {
     "end_time": "2020-02-18T00:52:25.412933Z",
     "start_time": "2020-02-18T00:52:25.229Z"
    },
    "scrolled": true
   },
   "outputs": [
    {
     "name": "stderr",
     "output_type": "stream",
     "text": [
      "Joining, by = \"code_job\"\n"
     ]
    },
    {
     "data": {
      "text/html": [
       "<table>\n",
       "<thead><tr><th scope=col>code_job</th><th scope=col>job</th></tr></thead>\n",
       "<tbody>\n",
       "\t<tr><td>942                               </td><td>경비원 및 검표원                  </td></tr>\n",
       "\t<tr><td>762                               </td><td>전기공                            </td></tr>\n",
       "\t<tr><td>530                               </td><td>방문 노점 및 통신 판매 관련 종사자</td></tr>\n",
       "\t<tr><td>999                               </td><td>기타 서비스관련 단순 종사원       </td></tr>\n",
       "\t<tr><td>312                               </td><td>경영관련 사무원                   </td></tr>\n",
       "\t<tr><td>254                               </td><td>문리 기술 및 예능 강사            </td></tr>\n",
       "\t<tr><td>510                               </td><td>영업 종사자                       </td></tr>\n",
       "\t<tr><td>530                               </td><td>방문 노점 및 통신 판매 관련 종사자</td></tr>\n",
       "\t<tr><td>286                               </td><td>스포츠 및 레크레이션 관련 전문가  </td></tr>\n",
       "\t<tr><td>521                               </td><td>매장 판매 종사자                  </td></tr>\n",
       "</tbody>\n",
       "</table>\n"
      ],
      "text/latex": [
       "\\begin{tabular}{r|ll}\n",
       " code\\_job & job\\\\\n",
       "\\hline\n",
       "\t 942                                & 경비원 및 검표원                  \\\\\n",
       "\t 762                                & 전기공                            \\\\\n",
       "\t 530                                & 방문 노점 및 통신 판매 관련 종사자\\\\\n",
       "\t 999                                & 기타 서비스관련 단순 종사원       \\\\\n",
       "\t 312                                & 경영관련 사무원                   \\\\\n",
       "\t 254                                & 문리 기술 및 예능 강사            \\\\\n",
       "\t 510                                & 영업 종사자                       \\\\\n",
       "\t 530                                & 방문 노점 및 통신 판매 관련 종사자\\\\\n",
       "\t 286                                & 스포츠 및 레크레이션 관련 전문가  \\\\\n",
       "\t 521                                & 매장 판매 종사자                  \\\\\n",
       "\\end{tabular}\n"
      ],
      "text/markdown": [
       "\n",
       "| code_job | job |\n",
       "|---|---|\n",
       "| 942                                | 경비원 및 검표원                   |\n",
       "| 762                                | 전기공                             |\n",
       "| 530                                | 방문 노점 및 통신 판매 관련 종사자 |\n",
       "| 999                                | 기타 서비스관련 단순 종사원        |\n",
       "| 312                                | 경영관련 사무원                    |\n",
       "| 254                                | 문리 기술 및 예능 강사             |\n",
       "| 510                                | 영업 종사자                        |\n",
       "| 530                                | 방문 노점 및 통신 판매 관련 종사자 |\n",
       "| 286                                | 스포츠 및 레크레이션 관련 전문가   |\n",
       "| 521                                | 매장 판매 종사자                   |\n",
       "\n"
      ],
      "text/plain": [
       "   code_job job                               \n",
       "1  942      경비원 및 검표원                  \n",
       "2  762      전기공                            \n",
       "3  530      방문 노점 및 통신 판매 관련 종사자\n",
       "4  999      기타 서비스관련 단순 종사원       \n",
       "5  312      경영관련 사무원                   \n",
       "6  254      문리 기술 및 예능 강사            \n",
       "7  510      영업 종사자                       \n",
       "8  530      방문 노점 및 통신 판매 관련 종사자\n",
       "9  286      스포츠 및 레크레이션 관련 전문가  \n",
       "10 521      매장 판매 종사자                  "
      ]
     },
     "metadata": {},
     "output_type": "display_data"
    }
   ],
   "source": [
    "\n",
    "welfare <- left_join(welfare, list_job, id = \"code_job\")\n",
    "\n",
    "## joining, by = \"code_job\"\n",
    "welfare %>%\n",
    "  filter(!is.na(code_job)) %>%\n",
    "  select(code_job, job) %>%\n",
    "  head(10)"
   ]
  },
  {
   "cell_type": "code",
   "execution_count": 34,
   "metadata": {
    "ExecuteTime": {
     "end_time": "2020-02-18T00:53:05.421255Z",
     "start_time": "2020-02-18T00:53:05.349Z"
    }
   },
   "outputs": [
    {
     "data": {
      "text/html": [
       "<table>\n",
       "<thead><tr><th scope=col>job</th><th scope=col>mean_income</th></tr></thead>\n",
       "<tbody>\n",
       "\t<tr><td>가사 및 육아 도우미          </td><td> 80.16648                    </td></tr>\n",
       "\t<tr><td>간호사                       </td><td>240.68127                    </td></tr>\n",
       "\t<tr><td>건설 및 광업 단순 종사원     </td><td>190.12974                    </td></tr>\n",
       "\t<tr><td>건설 및 채굴 기계운전원      </td><td>357.97000                    </td></tr>\n",
       "\t<tr><td>건설 전기 및 생산 관련 관리자</td><td>535.80556                    </td></tr>\n",
       "\t<tr><td>건설관련 기능 종사자         </td><td>246.63214                    </td></tr>\n",
       "</tbody>\n",
       "</table>\n"
      ],
      "text/latex": [
       "\\begin{tabular}{r|ll}\n",
       " job & mean\\_income\\\\\n",
       "\\hline\n",
       "\t 가사 및 육아 도우미           &  80.16648                    \\\\\n",
       "\t 간호사                        & 240.68127                    \\\\\n",
       "\t 건설 및 광업 단순 종사원      & 190.12974                    \\\\\n",
       "\t 건설 및 채굴 기계운전원       & 357.97000                    \\\\\n",
       "\t 건설 전기 및 생산 관련 관리자 & 535.80556                    \\\\\n",
       "\t 건설관련 기능 종사자          & 246.63214                    \\\\\n",
       "\\end{tabular}\n"
      ],
      "text/markdown": [
       "\n",
       "| job | mean_income |\n",
       "|---|---|\n",
       "| 가사 및 육아 도우미           |  80.16648                     |\n",
       "| 간호사                        | 240.68127                     |\n",
       "| 건설 및 광업 단순 종사원      | 190.12974                     |\n",
       "| 건설 및 채굴 기계운전원       | 357.97000                     |\n",
       "| 건설 전기 및 생산 관련 관리자 | 535.80556                     |\n",
       "| 건설관련 기능 종사자          | 246.63214                     |\n",
       "\n"
      ],
      "text/plain": [
       "  job                           mean_income\n",
       "1 가사 및 육아 도우미            80.16648  \n",
       "2 간호사                        240.68127  \n",
       "3 건설 및 광업 단순 종사원      190.12974  \n",
       "4 건설 및 채굴 기계운전원       357.97000  \n",
       "5 건설 전기 및 생산 관련 관리자 535.80556  \n",
       "6 건설관련 기능 종사자          246.63214  "
      ]
     },
     "metadata": {},
     "output_type": "display_data"
    }
   ],
   "source": [
    "### 직업별 월급 차이 분석하기\n",
    "\n",
    "#### 1. 직업별 월급 평균표 만들기\n",
    "job_income <- welfare %>%\n",
    "  filter(!is.na(job) & !is.na(income)) %>%\n",
    "  group_by(job) %>%\n",
    "  summarise(mean_income = mean(income))\n",
    "head(job_income)"
   ]
  },
  {
   "cell_type": "code",
   "execution_count": 35,
   "metadata": {
    "ExecuteTime": {
     "end_time": "2020-02-18T01:09:43.391536Z",
     "start_time": "2020-02-18T01:09:43.356Z"
    }
   },
   "outputs": [
    {
     "data": {
      "text/html": [
       "<table>\n",
       "<thead><tr><th scope=col>job</th><th scope=col>mean_income</th></tr></thead>\n",
       "<tbody>\n",
       "\t<tr><td>금속 재료 공학 기술자 및 시험원     </td><td>845.0667                            </td></tr>\n",
       "\t<tr><td>의료진료 전문가                     </td><td>843.6429                            </td></tr>\n",
       "\t<tr><td>의회의원 고위공무원 및 공공단체임원 </td><td>750.0000                            </td></tr>\n",
       "\t<tr><td>보험 및 금융 관리자                 </td><td>726.1800                            </td></tr>\n",
       "\t<tr><td>제관원 및 판금원                    </td><td>572.4067                            </td></tr>\n",
       "\t<tr><td>행정 및 경영지원 관리자             </td><td>563.7633                            </td></tr>\n",
       "\t<tr><td>문화 예술 디자인 및 영상 관련 관리자</td><td>557.4667                            </td></tr>\n",
       "\t<tr><td>연구 교육 및 법률 관련 관리자       </td><td>549.9125                            </td></tr>\n",
       "\t<tr><td>건설 전기 및 생산 관련 관리자       </td><td>535.8056                            </td></tr>\n",
       "\t<tr><td>석유 및 화학물 가공장치 조작원      </td><td>531.6600                            </td></tr>\n",
       "</tbody>\n",
       "</table>\n"
      ],
      "text/latex": [
       "\\begin{tabular}{r|ll}\n",
       " job & mean\\_income\\\\\n",
       "\\hline\n",
       "\t 금속 재료 공학 기술자 및 시험원      & 845.0667                            \\\\\n",
       "\t 의료진료 전문가                      & 843.6429                            \\\\\n",
       "\t 의회의원 고위공무원 및 공공단체임원  & 750.0000                            \\\\\n",
       "\t 보험 및 금융 관리자                  & 726.1800                            \\\\\n",
       "\t 제관원 및 판금원                     & 572.4067                            \\\\\n",
       "\t 행정 및 경영지원 관리자              & 563.7633                            \\\\\n",
       "\t 문화 예술 디자인 및 영상 관련 관리자 & 557.4667                            \\\\\n",
       "\t 연구 교육 및 법률 관련 관리자        & 549.9125                            \\\\\n",
       "\t 건설 전기 및 생산 관련 관리자        & 535.8056                            \\\\\n",
       "\t 석유 및 화학물 가공장치 조작원       & 531.6600                            \\\\\n",
       "\\end{tabular}\n"
      ],
      "text/markdown": [
       "\n",
       "| job | mean_income |\n",
       "|---|---|\n",
       "| 금속 재료 공학 기술자 및 시험원      | 845.0667                             |\n",
       "| 의료진료 전문가                      | 843.6429                             |\n",
       "| 의회의원 고위공무원 및 공공단체임원  | 750.0000                             |\n",
       "| 보험 및 금융 관리자                  | 726.1800                             |\n",
       "| 제관원 및 판금원                     | 572.4067                             |\n",
       "| 행정 및 경영지원 관리자              | 563.7633                             |\n",
       "| 문화 예술 디자인 및 영상 관련 관리자 | 557.4667                             |\n",
       "| 연구 교육 및 법률 관련 관리자        | 549.9125                             |\n",
       "| 건설 전기 및 생산 관련 관리자        | 535.8056                             |\n",
       "| 석유 및 화학물 가공장치 조작원       | 531.6600                             |\n",
       "\n"
      ],
      "text/plain": [
       "   job                                  mean_income\n",
       "1  금속 재료 공학 기술자 및 시험원      845.0667   \n",
       "2  의료진료 전문가                      843.6429   \n",
       "3  의회의원 고위공무원 및 공공단체임원  750.0000   \n",
       "4  보험 및 금융 관리자                  726.1800   \n",
       "5  제관원 및 판금원                     572.4067   \n",
       "6  행정 및 경영지원 관리자              563.7633   \n",
       "7  문화 예술 디자인 및 영상 관련 관리자 557.4667   \n",
       "8  연구 교육 및 법률 관련 관리자        549.9125   \n",
       "9  건설 전기 및 생산 관련 관리자        535.8056   \n",
       "10 석유 및 화학물 가공장치 조작원       531.6600   "
      ]
     },
     "metadata": {},
     "output_type": "display_data"
    }
   ],
   "source": [
    "# 2. \n",
    "# 상위사람들의 성별비율이 여자가 적다면 충분히 생각해볼만한것.\n",
    "top10 <- job_income %>%\n",
    "  arrange(desc(mean_income)) %>%\n",
    "  head(10)\n",
    "top10"
   ]
  },
  {
   "cell_type": "code",
   "execution_count": 36,
   "metadata": {
    "ExecuteTime": {
     "end_time": "2020-02-18T01:10:38.227667Z",
     "start_time": "2020-02-18T01:10:37.939Z"
    }
   },
   "outputs": [
    {
     "data": {
      "image/png": "[encoded data removed]",
      "text/plain": [
       "plot without title"
      ]
     },
     "metadata": {},
     "output_type": "display_data"
    }
   ],
   "source": [
    "#### 3. 그래프 만들기\n",
    "ggplot(data = top10, aes(x = reorder(job, mean_income), y = mean_income)) +\n",
    "  geom_col() +\n",
    "  coord_flip() # 옆으로 늬어서 보여줌"
   ]
  },
  {
   "cell_type": "code",
   "execution_count": 37,
   "metadata": {
    "ExecuteTime": {
     "end_time": "2020-02-18T01:11:14.693912Z",
     "start_time": "2020-02-18T01:11:08.442Z"
    }
   },
   "outputs": [
    {
     "data": {
      "text/html": [
       "<table>\n",
       "<thead><tr><th scope=col>job</th><th scope=col>mean_income</th></tr></thead>\n",
       "<tbody>\n",
       "\t<tr><td>가사 및 육아 도우미         </td><td> 80.16648                   </td></tr>\n",
       "\t<tr><td>임업관련 종사자             </td><td> 83.33000                   </td></tr>\n",
       "\t<tr><td>기타 서비스관련 단순 종사원 </td><td> 88.22101                   </td></tr>\n",
       "\t<tr><td>청소원 및 환경 미화원       </td><td> 88.78775                   </td></tr>\n",
       "\t<tr><td>약사 및 한약사              </td><td> 89.00000                   </td></tr>\n",
       "\t<tr><td>작물재배 종사자             </td><td> 92.00000                   </td></tr>\n",
       "\t<tr><td>농립어업관련 단순 종사원    </td><td>101.58125                   </td></tr>\n",
       "\t<tr><td>의료 복지 관련 서비스 종사자</td><td>103.52643                   </td></tr>\n",
       "\t<tr><td>음식관련 단순 종사원        </td><td>107.84511                   </td></tr>\n",
       "\t<tr><td>판매관련 단순 종사원        </td><td>116.82203                   </td></tr>\n",
       "</tbody>\n",
       "</table>\n"
      ],
      "text/latex": [
       "\\begin{tabular}{r|ll}\n",
       " job & mean\\_income\\\\\n",
       "\\hline\n",
       "\t 가사 및 육아 도우미          &  80.16648                   \\\\\n",
       "\t 임업관련 종사자              &  83.33000                   \\\\\n",
       "\t 기타 서비스관련 단순 종사원  &  88.22101                   \\\\\n",
       "\t 청소원 및 환경 미화원        &  88.78775                   \\\\\n",
       "\t 약사 및 한약사               &  89.00000                   \\\\\n",
       "\t 작물재배 종사자              &  92.00000                   \\\\\n",
       "\t 농립어업관련 단순 종사원     & 101.58125                   \\\\\n",
       "\t 의료 복지 관련 서비스 종사자 & 103.52643                   \\\\\n",
       "\t 음식관련 단순 종사원         & 107.84511                   \\\\\n",
       "\t 판매관련 단순 종사원         & 116.82203                   \\\\\n",
       "\\end{tabular}\n"
      ],
      "text/markdown": [
       "\n",
       "| job | mean_income |\n",
       "|---|---|\n",
       "| 가사 및 육아 도우미          |  80.16648                    |\n",
       "| 임업관련 종사자              |  83.33000                    |\n",
       "| 기타 서비스관련 단순 종사원  |  88.22101                    |\n",
       "| 청소원 및 환경 미화원        |  88.78775                    |\n",
       "| 약사 및 한약사               |  89.00000                    |\n",
       "| 작물재배 종사자              |  92.00000                    |\n",
       "| 농립어업관련 단순 종사원     | 101.58125                    |\n",
       "| 의료 복지 관련 서비스 종사자 | 103.52643                    |\n",
       "| 음식관련 단순 종사원         | 107.84511                    |\n",
       "| 판매관련 단순 종사원         | 116.82203                    |\n",
       "\n"
      ],
      "text/plain": [
       "   job                          mean_income\n",
       "1  가사 및 육아 도우미           80.16648  \n",
       "2  임업관련 종사자               83.33000  \n",
       "3  기타 서비스관련 단순 종사원   88.22101  \n",
       "4  청소원 및 환경 미화원         88.78775  \n",
       "5  약사 및 한약사                89.00000  \n",
       "6  작물재배 종사자               92.00000  \n",
       "7  농립어업관련 단순 종사원     101.58125  \n",
       "8  의료 복지 관련 서비스 종사자 103.52643  \n",
       "9  음식관련 단순 종사원         107.84511  \n",
       "10 판매관련 단순 종사원         116.82203  "
      ]
     },
     "metadata": {},
     "output_type": "display_data"
    }
   ],
   "source": [
    "# 하위 10개\n",
    "bottom10 <- job_income %>%\n",
    "  arrange(mean_income) %>%\n",
    "  head(10)\n",
    "bottom10"
   ]
  },
  {
   "cell_type": "code",
   "execution_count": 38,
   "metadata": {
    "ExecuteTime": {
     "end_time": "2020-02-18T01:12:09.562332Z",
     "start_time": "2020-02-18T01:12:09.340Z"
    }
   },
   "outputs": [
    {
     "data": {
      "image/png": "[encoded data removed]",
      "text/plain": [
       "plot without title"
      ]
     },
     "metadata": {},
     "output_type": "display_data"
    }
   ],
   "source": [
    "#### 5. 그래프 만들기\n",
    "# reordered 해서 직업기준으로 해서 보면.\n",
    "ggplot(data = bottom10, aes(x = reorder(job, -mean_income),\n",
    "                            y = mean_income)) +\n",
    "  geom_col() +\n",
    "  coord_flip() +\n",
    "  ylim(0, 850)"
   ]
  },
  {
   "cell_type": "markdown",
   "metadata": {},
   "source": [
    "## 09-7. 성별 직업 빈도\n",
    "\n",
    "## - \"성별로 어떤 직업이 가장 많을까?\"\n",
    "\n",
    "#### 분석 절차\n",
    "**1. 변수 검토 및 전처리**\n",
    "  \n",
    "- 성별\n",
    "- 직업\n",
    "\n",
    "**2. 변수 간 관계 분석**\n",
    "  \n",
    "- 성별 직업 빈도표 만들기\n",
    "- 그래프 만들기"
   ]
  },
  {
   "cell_type": "code",
   "execution_count": 39,
   "metadata": {
    "ExecuteTime": {
     "end_time": "2020-02-18T01:13:23.123212Z",
     "start_time": "2020-02-18T01:13:23.068Z"
    }
   },
   "outputs": [
    {
     "data": {
      "text/html": [
       "<table>\n",
       "<thead><tr><th scope=col>job</th><th scope=col>n</th></tr></thead>\n",
       "<tbody>\n",
       "\t<tr><td>작물재배 종사자         </td><td>640                     </td></tr>\n",
       "\t<tr><td>자동차 운전원           </td><td>251                     </td></tr>\n",
       "\t<tr><td>경영관련 사무원         </td><td>213                     </td></tr>\n",
       "\t<tr><td>영업 종사자             </td><td>141                     </td></tr>\n",
       "\t<tr><td>매장 판매 종사자        </td><td>132                     </td></tr>\n",
       "\t<tr><td>제조관련 단순 종사원    </td><td>104                     </td></tr>\n",
       "\t<tr><td>청소원 및 환경 미화원   </td><td> 97                     </td></tr>\n",
       "\t<tr><td>건설 및 광업 단순 종사원</td><td> 95                     </td></tr>\n",
       "\t<tr><td>경비원 및 검표원        </td><td> 95                     </td></tr>\n",
       "\t<tr><td>행정 사무원             </td><td> 92                     </td></tr>\n",
       "</tbody>\n",
       "</table>\n"
      ],
      "text/latex": [
       "\\begin{tabular}{r|ll}\n",
       " job & n\\\\\n",
       "\\hline\n",
       "\t 작물재배 종사자          & 640                     \\\\\n",
       "\t 자동차 운전원            & 251                     \\\\\n",
       "\t 경영관련 사무원          & 213                     \\\\\n",
       "\t 영업 종사자              & 141                     \\\\\n",
       "\t 매장 판매 종사자         & 132                     \\\\\n",
       "\t 제조관련 단순 종사원     & 104                     \\\\\n",
       "\t 청소원 및 환경 미화원    &  97                     \\\\\n",
       "\t 건설 및 광업 단순 종사원 &  95                     \\\\\n",
       "\t 경비원 및 검표원         &  95                     \\\\\n",
       "\t 행정 사무원              &  92                     \\\\\n",
       "\\end{tabular}\n"
      ],
      "text/markdown": [
       "\n",
       "| job | n |\n",
       "|---|---|\n",
       "| 작물재배 종사자          | 640                      |\n",
       "| 자동차 운전원            | 251                      |\n",
       "| 경영관련 사무원          | 213                      |\n",
       "| 영업 종사자              | 141                      |\n",
       "| 매장 판매 종사자         | 132                      |\n",
       "| 제조관련 단순 종사원     | 104                      |\n",
       "| 청소원 및 환경 미화원    |  97                      |\n",
       "| 건설 및 광업 단순 종사원 |  95                      |\n",
       "| 경비원 및 검표원         |  95                      |\n",
       "| 행정 사무원              |  92                      |\n",
       "\n"
      ],
      "text/plain": [
       "   job                      n  \n",
       "1  작물재배 종사자          640\n",
       "2  자동차 운전원            251\n",
       "3  경영관련 사무원          213\n",
       "4  영업 종사자              141\n",
       "5  매장 판매 종사자         132\n",
       "6  제조관련 단순 종사원     104\n",
       "7  청소원 및 환경 미화원     97\n",
       "8  건설 및 광업 단순 종사원  95\n",
       "9  경비원 및 검표원          95\n",
       "10 행정 사무원               92"
      ]
     },
     "metadata": {},
     "output_type": "display_data"
    }
   ],
   "source": [
    "# 남성 직업 빈도 상위 10개 추출\n",
    "job_male <- welfare %>%\n",
    "  filter(!is.na(job) & sex == \"male\") %>%\n",
    "  group_by(job) %>%\n",
    "  summarise(n = n()) %>%\n",
    "  arrange(desc(n)) %>%\n",
    "  head(10)\n",
    "job_male"
   ]
  },
  {
   "cell_type": "code",
   "execution_count": 40,
   "metadata": {
    "ExecuteTime": {
     "end_time": "2020-02-18T01:14:04.185768Z",
     "start_time": "2020-02-18T01:14:04.068Z"
    }
   },
   "outputs": [
    {
     "data": {
      "text/html": [
       "<table>\n",
       "<thead><tr><th scope=col>job</th><th scope=col>n</th></tr></thead>\n",
       "<tbody>\n",
       "\t<tr><td>작물재배 종사자             </td><td>680                         </td></tr>\n",
       "\t<tr><td>청소원 및 환경 미화원       </td><td>228                         </td></tr>\n",
       "\t<tr><td>매장 판매 종사자            </td><td>221                         </td></tr>\n",
       "\t<tr><td>제조관련 단순 종사원        </td><td>185                         </td></tr>\n",
       "\t<tr><td>회계 및 경리 사무원         </td><td>176                         </td></tr>\n",
       "\t<tr><td>음식서비스 종사자           </td><td>149                         </td></tr>\n",
       "\t<tr><td>주방장 및 조리사            </td><td>126                         </td></tr>\n",
       "\t<tr><td>가사 및 육아 도우미         </td><td>125                         </td></tr>\n",
       "\t<tr><td>의료 복지 관련 서비스 종사자</td><td>121                         </td></tr>\n",
       "\t<tr><td>음식관련 단순 종사원        </td><td>104                         </td></tr>\n",
       "</tbody>\n",
       "</table>\n"
      ],
      "text/latex": [
       "\\begin{tabular}{r|ll}\n",
       " job & n\\\\\n",
       "\\hline\n",
       "\t 작물재배 종사자              & 680                         \\\\\n",
       "\t 청소원 및 환경 미화원        & 228                         \\\\\n",
       "\t 매장 판매 종사자             & 221                         \\\\\n",
       "\t 제조관련 단순 종사원         & 185                         \\\\\n",
       "\t 회계 및 경리 사무원          & 176                         \\\\\n",
       "\t 음식서비스 종사자            & 149                         \\\\\n",
       "\t 주방장 및 조리사             & 126                         \\\\\n",
       "\t 가사 및 육아 도우미          & 125                         \\\\\n",
       "\t 의료 복지 관련 서비스 종사자 & 121                         \\\\\n",
       "\t 음식관련 단순 종사원         & 104                         \\\\\n",
       "\\end{tabular}\n"
      ],
      "text/markdown": [
       "\n",
       "| job | n |\n",
       "|---|---|\n",
       "| 작물재배 종사자              | 680                          |\n",
       "| 청소원 및 환경 미화원        | 228                          |\n",
       "| 매장 판매 종사자             | 221                          |\n",
       "| 제조관련 단순 종사원         | 185                          |\n",
       "| 회계 및 경리 사무원          | 176                          |\n",
       "| 음식서비스 종사자            | 149                          |\n",
       "| 주방장 및 조리사             | 126                          |\n",
       "| 가사 및 육아 도우미          | 125                          |\n",
       "| 의료 복지 관련 서비스 종사자 | 121                          |\n",
       "| 음식관련 단순 종사원         | 104                          |\n",
       "\n"
      ],
      "text/plain": [
       "   job                          n  \n",
       "1  작물재배 종사자              680\n",
       "2  청소원 및 환경 미화원        228\n",
       "3  매장 판매 종사자             221\n",
       "4  제조관련 단순 종사원         185\n",
       "5  회계 및 경리 사무원          176\n",
       "6  음식서비스 종사자            149\n",
       "7  주방장 및 조리사             126\n",
       "8  가사 및 육아 도우미          125\n",
       "9  의료 복지 관련 서비스 종사자 121\n",
       "10 음식관련 단순 종사원         104"
      ]
     },
     "metadata": {},
     "output_type": "display_data"
    }
   ],
   "source": [
    "# 여성 직업 빈도 상위 10개 추출\n",
    "job_female <- welfare %>%\n",
    "  filter(!is.na(job) & sex == \"female\") %>%\n",
    "  group_by(job) %>%\n",
    "  summarise(n = n()) %>%\n",
    "  arrange(desc(n)) %>%\n",
    "  head(10)\n",
    "job_female"
   ]
  },
  {
   "cell_type": "code",
   "execution_count": 41,
   "metadata": {
    "ExecuteTime": {
     "end_time": "2020-02-18T01:14:40.570981Z",
     "start_time": "2020-02-18T01:14:21.403Z"
    }
   },
   "outputs": [
    {
     "data": {
      "image/png": "[encoded data removed]",
      "text/plain": [
       "plot without title"
      ]
     },
     "metadata": {},
     "output_type": "display_data"
    }
   ],
   "source": [
    "# 남성 직업 빈도 상위 10개 직업\n",
    "ggplot(data = job_male, aes(x = reorder(job, n), y = n)) +\n",
    "  geom_col() +\n",
    "  coord_flip()"
   ]
  },
  {
   "cell_type": "code",
   "execution_count": 42,
   "metadata": {
    "ExecuteTime": {
     "end_time": "2020-02-18T01:15:16.934769Z",
     "start_time": "2020-02-18T01:14:27.347Z"
    }
   },
   "outputs": [
    {
     "data": {
      "image/png": "[encoded data removed]",
      "text/plain": [
       "plot without title"
      ]
     },
     "metadata": {},
     "output_type": "display_data"
    }
   ],
   "source": [
    "# 여성 직업 빈도 상위 10개 직업\n",
    "ggplot(data = job_female, aes(x = reorder(job, n), y = n)) +\n",
    "  geom_col() +\n",
    "  coord_flip()"
   ]
  },
  {
   "cell_type": "markdown",
   "metadata": {},
   "source": [
    "## 09-9. 지역별 연령대 비율\n",
    "\n",
    "## - \"노년층이 많은 지역은 어디일까?\"\n",
    "\n",
    "#### 분석 절차\n",
    "\n",
    "**1. 변수 검토 및 전처리**\n",
    "  \n",
    "- 지역\n",
    "- 연령대\n",
    "\n",
    "**2. 변수 간 관계 분석**\n",
    "  \n",
    "- 지역별 연령대 비율표 만들기\n",
    "- 그래프 만들기"
   ]
  },
  {
   "cell_type": "code",
   "execution_count": 43,
   "metadata": {
    "ExecuteTime": {
     "end_time": "2020-02-18T01:16:13.675446Z",
     "start_time": "2020-02-18T01:16:13.652Z"
    }
   },
   "outputs": [
    {
     "data": {
      "text/html": [
       "'numeric'"
      ],
      "text/latex": [
       "'numeric'"
      ],
      "text/markdown": [
       "'numeric'"
      ],
      "text/plain": [
       "[1] \"numeric\""
      ]
     },
     "metadata": {},
     "output_type": "display_data"
    }
   ],
   "source": [
    "class(welfare$code_region)"
   ]
  },
  {
   "cell_type": "code",
   "execution_count": 44,
   "metadata": {
    "ExecuteTime": {
     "end_time": "2020-02-18T01:16:50.485241Z",
     "start_time": "2020-02-18T01:16:17.699Z"
    }
   },
   "outputs": [
    {
     "data": {
      "text/plain": [
       "\n",
       "   1    2    3    4    5    6    7 \n",
       "2486 3711 2785 2036 1467 1257 2922 "
      ]
     },
     "metadata": {},
     "output_type": "display_data"
    }
   ],
   "source": [
    "# 1 ~ 7 까징 지역 코드에 따른 갯수를 살필수 있다.\n",
    "table(welfare$code_region)"
   ]
  },
  {
   "cell_type": "code",
   "execution_count": 45,
   "metadata": {
    "ExecuteTime": {
     "end_time": "2020-02-18T01:17:27.199389Z",
     "start_time": "2020-02-18T01:17:22.483Z"
    }
   },
   "outputs": [
    {
     "data": {
      "text/html": [
       "<table>\n",
       "<thead><tr><th scope=col>code_region</th><th scope=col>region</th></tr></thead>\n",
       "<tbody>\n",
       "\t<tr><td>1                    </td><td>서울                 </td></tr>\n",
       "\t<tr><td>2                    </td><td>수도권(인천/경기)    </td></tr>\n",
       "\t<tr><td>3                    </td><td>부산/경남/울산       </td></tr>\n",
       "\t<tr><td>4                    </td><td>대구/경북            </td></tr>\n",
       "\t<tr><td>5                    </td><td>대전/충남            </td></tr>\n",
       "\t<tr><td>6                    </td><td>강원/충북            </td></tr>\n",
       "\t<tr><td>7                    </td><td>광주/전남/전북/제주도</td></tr>\n",
       "</tbody>\n",
       "</table>\n"
      ],
      "text/latex": [
       "\\begin{tabular}{r|ll}\n",
       " code\\_region & region\\\\\n",
       "\\hline\n",
       "\t 1                     & 서울                 \\\\\n",
       "\t 2                     & 수도권(인천/경기)    \\\\\n",
       "\t 3                     & 부산/경남/울산       \\\\\n",
       "\t 4                     & 대구/경북            \\\\\n",
       "\t 5                     & 대전/충남            \\\\\n",
       "\t 6                     & 강원/충북            \\\\\n",
       "\t 7                     & 광주/전남/전북/제주도\\\\\n",
       "\\end{tabular}\n"
      ],
      "text/markdown": [
       "\n",
       "| code_region | region |\n",
       "|---|---|\n",
       "| 1                     | 서울                  |\n",
       "| 2                     | 수도권(인천/경기)     |\n",
       "| 3                     | 부산/경남/울산        |\n",
       "| 4                     | 대구/경북             |\n",
       "| 5                     | 대전/충남             |\n",
       "| 6                     | 강원/충북             |\n",
       "| 7                     | 광주/전남/전북/제주도 |\n",
       "\n"
      ],
      "text/plain": [
       "  code_region region               \n",
       "1 1           서울                 \n",
       "2 2           수도권(인천/경기)    \n",
       "3 3           부산/경남/울산       \n",
       "4 4           대구/경북            \n",
       "5 5           대전/충남            \n",
       "6 6           강원/충북            \n",
       "7 7           광주/전남/전북/제주도"
      ]
     },
     "metadata": {},
     "output_type": "display_data"
    }
   ],
   "source": [
    "# 지역 코드 목록 만들기\n",
    "list_region <- data.frame(code_region = c(1:7),\n",
    "                          region = c(\"서울\",\n",
    "                                     \"수도권(인천/경기)\",\n",
    "                                     \"부산/경남/울산\",\n",
    "                                     \"대구/경북\",\n",
    "                                     \"대전/충남\",\n",
    "                                     \"강원/충북\",\n",
    "                                     \"광주/전남/전북/제주도\"))\n",
    "list_region"
   ]
  },
  {
   "cell_type": "code",
   "execution_count": 46,
   "metadata": {
    "ExecuteTime": {
     "end_time": "2020-02-18T01:18:03.939890Z",
     "start_time": "2020-02-18T01:17:57.291Z"
    }
   },
   "outputs": [
    {
     "name": "stderr",
     "output_type": "stream",
     "text": [
      "Joining, by = \"code_region\"\n"
     ]
    }
   ],
   "source": [
    "#### `welfare`에 지역명 변수 추가\n",
    "welfare <- left_join(welfare, list_region, id = \"code_region\")"
   ]
  },
  {
   "cell_type": "code",
   "execution_count": 47,
   "metadata": {
    "ExecuteTime": {
     "end_time": "2020-02-18T01:18:40.864854Z",
     "start_time": "2020-02-18T01:18:09.434Z"
    }
   },
   "outputs": [
    {
     "data": {
      "text/html": [
       "<table>\n",
       "<thead><tr><th scope=col>code_region</th><th scope=col>region</th></tr></thead>\n",
       "<tbody>\n",
       "\t<tr><td>1   </td><td>서울</td></tr>\n",
       "\t<tr><td>1   </td><td>서울</td></tr>\n",
       "\t<tr><td>1   </td><td>서울</td></tr>\n",
       "\t<tr><td>1   </td><td>서울</td></tr>\n",
       "\t<tr><td>1   </td><td>서울</td></tr>\n",
       "\t<tr><td>1   </td><td>서울</td></tr>\n",
       "</tbody>\n",
       "</table>\n"
      ],
      "text/latex": [
       "\\begin{tabular}{r|ll}\n",
       " code\\_region & region\\\\\n",
       "\\hline\n",
       "\t 1    & 서울\\\\\n",
       "\t 1    & 서울\\\\\n",
       "\t 1    & 서울\\\\\n",
       "\t 1    & 서울\\\\\n",
       "\t 1    & 서울\\\\\n",
       "\t 1    & 서울\\\\\n",
       "\\end{tabular}\n"
      ],
      "text/markdown": [
       "\n",
       "| code_region | region |\n",
       "|---|---|\n",
       "| 1    | 서울 |\n",
       "| 1    | 서울 |\n",
       "| 1    | 서울 |\n",
       "| 1    | 서울 |\n",
       "| 1    | 서울 |\n",
       "| 1    | 서울 |\n",
       "\n"
      ],
      "text/plain": [
       "  code_region region\n",
       "1 1           서울  \n",
       "2 1           서울  \n",
       "3 1           서울  \n",
       "4 1           서울  \n",
       "5 1           서울  \n",
       "6 1           서울  "
      ]
     },
     "metadata": {},
     "output_type": "display_data"
    }
   ],
   "source": [
    "welfare %>%\n",
    "  select(code_region, region) %>%\n",
    "  head"
   ]
  },
  {
   "cell_type": "code",
   "execution_count": 48,
   "metadata": {
    "ExecuteTime": {
     "end_time": "2020-02-18T01:19:17.741018Z",
     "start_time": "2020-02-18T01:18:44.738Z"
    }
   },
   "outputs": [
    {
     "data": {
      "text/html": [
       "<table>\n",
       "<thead><tr><th scope=col>region</th><th scope=col>ageg</th><th scope=col>n</th><th scope=col>tot_group</th><th scope=col>pct</th></tr></thead>\n",
       "<tbody>\n",
       "\t<tr><td>강원/충북            </td><td>middle               </td><td> 417                 </td><td>1257                 </td><td>33.17                </td></tr>\n",
       "\t<tr><td>강원/충북            </td><td>old                  </td><td> 555                 </td><td>1257                 </td><td>44.15                </td></tr>\n",
       "\t<tr><td>강원/충북            </td><td>young                </td><td> 285                 </td><td>1257                 </td><td>22.67                </td></tr>\n",
       "\t<tr><td>광주/전남/전북/제주도</td><td>middle               </td><td> 947                 </td><td>2922                 </td><td>32.41                </td></tr>\n",
       "\t<tr><td>광주/전남/전북/제주도</td><td>old                  </td><td>1233                 </td><td>2922                 </td><td>42.20                </td></tr>\n",
       "\t<tr><td>광주/전남/전북/제주도</td><td>young                </td><td> 742                 </td><td>2922                 </td><td>25.39                </td></tr>\n",
       "</tbody>\n",
       "</table>\n"
      ],
      "text/latex": [
       "\\begin{tabular}{r|lllll}\n",
       " region & ageg & n & tot\\_group & pct\\\\\n",
       "\\hline\n",
       "\t 강원/충북             & middle                &  417                  & 1257                  & 33.17                \\\\\n",
       "\t 강원/충북             & old                   &  555                  & 1257                  & 44.15                \\\\\n",
       "\t 강원/충북             & young                 &  285                  & 1257                  & 22.67                \\\\\n",
       "\t 광주/전남/전북/제주도 & middle                &  947                  & 2922                  & 32.41                \\\\\n",
       "\t 광주/전남/전북/제주도 & old                   & 1233                  & 2922                  & 42.20                \\\\\n",
       "\t 광주/전남/전북/제주도 & young                 &  742                  & 2922                  & 25.39                \\\\\n",
       "\\end{tabular}\n"
      ],
      "text/markdown": [
       "\n",
       "| region | ageg | n | tot_group | pct |\n",
       "|---|---|---|---|---|\n",
       "| 강원/충북             | middle                |  417                  | 1257                  | 33.17                 |\n",
       "| 강원/충북             | old                   |  555                  | 1257                  | 44.15                 |\n",
       "| 강원/충북             | young                 |  285                  | 1257                  | 22.67                 |\n",
       "| 광주/전남/전북/제주도 | middle                |  947                  | 2922                  | 32.41                 |\n",
       "| 광주/전남/전북/제주도 | old                   | 1233                  | 2922                  | 42.20                 |\n",
       "| 광주/전남/전북/제주도 | young                 |  742                  | 2922                  | 25.39                 |\n",
       "\n"
      ],
      "text/plain": [
       "  region                ageg   n    tot_group pct  \n",
       "1 강원/충북             middle  417 1257      33.17\n",
       "2 강원/충북             old     555 1257      44.15\n",
       "3 강원/충북             young   285 1257      22.67\n",
       "4 광주/전남/전북/제주도 middle  947 2922      32.41\n",
       "5 광주/전남/전북/제주도 old    1233 2922      42.20\n",
       "6 광주/전남/전북/제주도 young   742 2922      25.39"
      ]
     },
     "metadata": {},
     "output_type": "display_data"
    }
   ],
   "source": [
    "# 지역별 연령비율\n",
    "region_ageg <- welfare %>%\n",
    "  group_by(region, ageg) %>%\n",
    "  summarise(n = n()) %>%\n",
    "  mutate(tot_group = sum(n)) %>%\n",
    "  mutate(pct = round(n/tot_group*100, 2))\n",
    "\n",
    "# region_ageg <- welfare %>%\n",
    "#   count(region, ageg) %>%\n",
    "#   group_by(region) %>%\n",
    "#   mutate(pct = round(n/sum(n)*100, 2))\n",
    "\n",
    "head(region_ageg)"
   ]
  },
  {
   "cell_type": "code",
   "execution_count": 49,
   "metadata": {
    "ExecuteTime": {
     "end_time": "2020-02-18T01:20:44.165088Z",
     "start_time": "2020-02-18T01:20:43.907Z"
    }
   },
   "outputs": [
    {
     "data": {
      "image/png": "[encoded data removed]",
      "text/plain": [
       "plot without title"
      ]
     },
     "metadata": {},
     "output_type": "display_data"
    }
   ],
   "source": [
    "ggplot(data = region_ageg, aes(x = region, y = pct, fill = ageg)) +\n",
    "  geom_col() +\n",
    "  coord_flip()"
   ]
  },
  {
   "cell_type": "code",
   "execution_count": null,
   "metadata": {},
   "outputs": [],
   "source": []
  }
 ],
 "metadata": {
  "kernelspec": {
   "display_name": "R",
   "language": "R",
   "name": "ir"
  },
  "language_info": {
   "codemirror_mode": "r",
   "file_extension": ".r",
   "mimetype": "text/x-r-source",
   "name": "R",
   "pygments_lexer": "r",
   "version": "3.6.1"
  },
  "toc": {
   "base_numbering": 1,
   "nav_menu": {},
   "number_sections": true,
   "sideBar": true,
   "skip_h1_title": false,
   "title_cell": "Table of Contents",
   "title_sidebar": "Contents",
   "toc_cell": false,
   "toc_position": {
    "height": "calc(100% - 180px)",
    "left": "10px",
    "top": "150px",
    "width": "211.264px"
   },
   "toc_section_display": true,
   "toc_window_display": false
  },
  "varInspector": {
   "cols": {
    "lenName": 16,
    "lenType": 16,
    "lenVar": 40
   },
   "kernels_config": {
    "python": {
     "delete_cmd_postfix": "",
     "delete_cmd_prefix": "del ",
     "library": "var_list.py",
     "varRefreshCmd": "print(var_dic_list())"
    },
    "r": {
     "delete_cmd_postfix": ") ",
     "delete_cmd_prefix": "rm(",
     "library": "var_list.r",
     "varRefreshCmd": "cat(var_dic_list()) "
    }
   },
   "oldHeight": 558.9058180000001,
   "position": {
    "height": "40px",
    "left": "585.455px",
    "right": "20px",
    "top": "120px",
    "width": "250px"
   },
   "types_to_exclude": [
    "module",
    "function",
    "builtin_function_or_method",
    "instance",
    "_Feature"
   ],
   "varInspector_section_display": "none",
   "window_display": false
  }
 },
 "nbformat": 4,
 "nbformat_minor": 2
}
