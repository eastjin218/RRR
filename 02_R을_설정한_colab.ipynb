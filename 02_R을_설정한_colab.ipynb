{
  "nbformat": 4,
  "nbformat_minor": 0,
  "metadata": {
    "colab": {
      "name": "02. R을 설정한 colab.ipynb",
      "provenance": [],
      "collapsed_sections": [],
      "toc_visible": true,
      "authorship_tag": "ABX9TyMsCihCiMRBO3A3Gl52y7FA",
      "include_colab_link": true
    },
    "kernelspec": {
      "name": "ir",
      "display_name": "R"
    }
  },
  "cells": [
    {
      "cell_type": "markdown",
      "metadata": {
        "id": "view-in-github",
        "colab_type": "text"
      },
      "source": [
        "<a href=\"https://colab.research.google.com/github/eastjin218/R_lang./blob/master/02_R%EC%9D%84_%EC%84%A4%EC%A0%95%ED%95%9C_colab.ipynb\" target=\"_parent\"><img src=\"https://colab.research.google.com/assets/colab-badge.svg\" alt=\"Open In Colab\"/></a>"
      ]
    },
    {
      "cell_type": "code",
      "metadata": {
        "id": "LvX5GfX0e-Eu",
        "colab_type": "code",
        "colab": {}
      },
      "source": [
        "install.packages('dplyr')"
      ],
      "execution_count": 0,
      "outputs": []
    },
    {
      "cell_type": "code",
      "metadata": {
        "id": "p1Uy6gQ4jG21",
        "colab_type": "code",
        "colab": {}
      },
      "source": [
        "library(dplyr)"
      ],
      "execution_count": 0,
      "outputs": []
    },
    {
      "cell_type": "code",
      "metadata": {
        "id": "x5v9ML3mjbfk",
        "colab_type": "code",
        "colab": {}
      },
      "source": [
        "exam <- read.csv('csv_exam.csv')"
      ],
      "execution_count": 0,
      "outputs": []
    },
    {
      "cell_type": "code",
      "metadata": {
        "id": "07cG_UK3jmbN",
        "colab_type": "code",
        "outputId": "b7a7e722-ab70-4a53-be85-2c28533a3835",
        "colab": {
          "base_uri": "https://localhost:8080/",
          "height": 496
        }
      },
      "source": [
        "exam"
      ],
      "execution_count": 0,
      "outputs": [
        {
          "output_type": "display_data",
          "data": {
            "text/plain": [
              "   id class math english science\n",
              "1   1 1     50   98      50     \n",
              "2   2 1     60   97      60     \n",
              "3   3 1     45   86      78     \n",
              "4   4 1     30   98      58     \n",
              "5   5 2     25   80      65     \n",
              "6   6 2     50   89      98     \n",
              "7   7 2     80   90      45     \n",
              "8   8 2     90   78      25     \n",
              "9   9 3     20   98      15     \n",
              "10 10 3     50   98      45     \n",
              "11 11 3     65   65      65     \n",
              "12 12 3     45   85      32     \n",
              "13 13 4     46   98      65     \n",
              "14 14 4     48   87      12     \n",
              "15 15 4     75   56      78     \n",
              "16 16 4     58   98      65     \n",
              "17 17 5     65   68      98     \n",
              "18 18 5     80   78      90     \n",
              "19 19 5     89   68      87     \n",
              "20 20 5     78   83      58     "
            ],
            "text/latex": "A data.frame: 20 × 5\n\\begin{tabular}{lllll}\n id & class & math & english & science\\\\\n <int> & <int> & <int> & <int> & <int>\\\\\n\\hline\n\t  1 & 1 & 50 & 98 & 50\\\\\n\t  2 & 1 & 60 & 97 & 60\\\\\n\t  3 & 1 & 45 & 86 & 78\\\\\n\t  4 & 1 & 30 & 98 & 58\\\\\n\t  5 & 2 & 25 & 80 & 65\\\\\n\t  6 & 2 & 50 & 89 & 98\\\\\n\t  7 & 2 & 80 & 90 & 45\\\\\n\t  8 & 2 & 90 & 78 & 25\\\\\n\t  9 & 3 & 20 & 98 & 15\\\\\n\t 10 & 3 & 50 & 98 & 45\\\\\n\t 11 & 3 & 65 & 65 & 65\\\\\n\t 12 & 3 & 45 & 85 & 32\\\\\n\t 13 & 4 & 46 & 98 & 65\\\\\n\t 14 & 4 & 48 & 87 & 12\\\\\n\t 15 & 4 & 75 & 56 & 78\\\\\n\t 16 & 4 & 58 & 98 & 65\\\\\n\t 17 & 5 & 65 & 68 & 98\\\\\n\t 18 & 5 & 80 & 78 & 90\\\\\n\t 19 & 5 & 89 & 68 & 87\\\\\n\t 20 & 5 & 78 & 83 & 58\\\\\n\\end{tabular}\n",
            "text/markdown": "\nA data.frame: 20 × 5\n\n| id &lt;int&gt; | class &lt;int&gt; | math &lt;int&gt; | english &lt;int&gt; | science &lt;int&gt; |\n|---|---|---|---|---|\n|  1 | 1 | 50 | 98 | 50 |\n|  2 | 1 | 60 | 97 | 60 |\n|  3 | 1 | 45 | 86 | 78 |\n|  4 | 1 | 30 | 98 | 58 |\n|  5 | 2 | 25 | 80 | 65 |\n|  6 | 2 | 50 | 89 | 98 |\n|  7 | 2 | 80 | 90 | 45 |\n|  8 | 2 | 90 | 78 | 25 |\n|  9 | 3 | 20 | 98 | 15 |\n| 10 | 3 | 50 | 98 | 45 |\n| 11 | 3 | 65 | 65 | 65 |\n| 12 | 3 | 45 | 85 | 32 |\n| 13 | 4 | 46 | 98 | 65 |\n| 14 | 4 | 48 | 87 | 12 |\n| 15 | 4 | 75 | 56 | 78 |\n| 16 | 4 | 58 | 98 | 65 |\n| 17 | 5 | 65 | 68 | 98 |\n| 18 | 5 | 80 | 78 | 90 |\n| 19 | 5 | 89 | 68 | 87 |\n| 20 | 5 | 78 | 83 | 58 |\n\n",
            "text/html": [
              "<table>\n",
              "<caption>A data.frame: 20 × 5</caption>\n",
              "<thead>\n",
              "\t<tr><th scope=col>id</th><th scope=col>class</th><th scope=col>math</th><th scope=col>english</th><th scope=col>science</th></tr>\n",
              "\t<tr><th scope=col>&lt;int&gt;</th><th scope=col>&lt;int&gt;</th><th scope=col>&lt;int&gt;</th><th scope=col>&lt;int&gt;</th><th scope=col>&lt;int&gt;</th></tr>\n",
              "</thead>\n",
              "<tbody>\n",
              "\t<tr><td> 1</td><td>1</td><td>50</td><td>98</td><td>50</td></tr>\n",
              "\t<tr><td> 2</td><td>1</td><td>60</td><td>97</td><td>60</td></tr>\n",
              "\t<tr><td> 3</td><td>1</td><td>45</td><td>86</td><td>78</td></tr>\n",
              "\t<tr><td> 4</td><td>1</td><td>30</td><td>98</td><td>58</td></tr>\n",
              "\t<tr><td> 5</td><td>2</td><td>25</td><td>80</td><td>65</td></tr>\n",
              "\t<tr><td> 6</td><td>2</td><td>50</td><td>89</td><td>98</td></tr>\n",
              "\t<tr><td> 7</td><td>2</td><td>80</td><td>90</td><td>45</td></tr>\n",
              "\t<tr><td> 8</td><td>2</td><td>90</td><td>78</td><td>25</td></tr>\n",
              "\t<tr><td> 9</td><td>3</td><td>20</td><td>98</td><td>15</td></tr>\n",
              "\t<tr><td>10</td><td>3</td><td>50</td><td>98</td><td>45</td></tr>\n",
              "\t<tr><td>11</td><td>3</td><td>65</td><td>65</td><td>65</td></tr>\n",
              "\t<tr><td>12</td><td>3</td><td>45</td><td>85</td><td>32</td></tr>\n",
              "\t<tr><td>13</td><td>4</td><td>46</td><td>98</td><td>65</td></tr>\n",
              "\t<tr><td>14</td><td>4</td><td>48</td><td>87</td><td>12</td></tr>\n",
              "\t<tr><td>15</td><td>4</td><td>75</td><td>56</td><td>78</td></tr>\n",
              "\t<tr><td>16</td><td>4</td><td>58</td><td>98</td><td>65</td></tr>\n",
              "\t<tr><td>17</td><td>5</td><td>65</td><td>68</td><td>98</td></tr>\n",
              "\t<tr><td>18</td><td>5</td><td>80</td><td>78</td><td>90</td></tr>\n",
              "\t<tr><td>19</td><td>5</td><td>89</td><td>68</td><td>87</td></tr>\n",
              "\t<tr><td>20</td><td>5</td><td>78</td><td>83</td><td>58</td></tr>\n",
              "</tbody>\n",
              "</table>\n"
            ]
          },
          "metadata": {
            "tags": []
          }
        }
      ]
    },
    {
      "cell_type": "code",
      "metadata": {
        "id": "-8Xepp79jnW1",
        "colab_type": "code",
        "outputId": "b1522bbe-7019-4aca-e893-c8d6cb090f29",
        "colab": {
          "base_uri": "https://localhost:8080/",
          "height": 204
        }
      },
      "source": [
        "mpg <- as.data.frame(ggplot2 :: mpg)\n",
        "head(mpg)"
      ],
      "execution_count": 0,
      "outputs": [
        {
          "output_type": "display_data",
          "data": {
            "text/plain": [
              "  manufacturer model displ year cyl trans      drv cty hwy fl class  \n",
              "1 audi         a4    1.8   1999 4   auto(l5)   f   18  29  p  compact\n",
              "2 audi         a4    1.8   1999 4   manual(m5) f   21  29  p  compact\n",
              "3 audi         a4    2.0   2008 4   manual(m6) f   20  31  p  compact\n",
              "4 audi         a4    2.0   2008 4   auto(av)   f   21  30  p  compact\n",
              "5 audi         a4    2.8   1999 6   auto(l5)   f   16  26  p  compact\n",
              "6 audi         a4    2.8   1999 6   manual(m5) f   18  26  p  compact"
            ],
            "text/latex": "A data.frame: 6 × 11\n\\begin{tabular}{r|lllllllllll}\n  & manufacturer & model & displ & year & cyl & trans & drv & cty & hwy & fl & class\\\\\n  & <chr> & <chr> & <dbl> & <int> & <int> & <chr> & <chr> & <int> & <int> & <chr> & <chr>\\\\\n\\hline\n\t1 & audi & a4 & 1.8 & 1999 & 4 & auto(l5)   & f & 18 & 29 & p & compact\\\\\n\t2 & audi & a4 & 1.8 & 1999 & 4 & manual(m5) & f & 21 & 29 & p & compact\\\\\n\t3 & audi & a4 & 2.0 & 2008 & 4 & manual(m6) & f & 20 & 31 & p & compact\\\\\n\t4 & audi & a4 & 2.0 & 2008 & 4 & auto(av)   & f & 21 & 30 & p & compact\\\\\n\t5 & audi & a4 & 2.8 & 1999 & 6 & auto(l5)   & f & 16 & 26 & p & compact\\\\\n\t6 & audi & a4 & 2.8 & 1999 & 6 & manual(m5) & f & 18 & 26 & p & compact\\\\\n\\end{tabular}\n",
            "text/markdown": "\nA data.frame: 6 × 11\n\n| <!--/--> | manufacturer &lt;chr&gt; | model &lt;chr&gt; | displ &lt;dbl&gt; | year &lt;int&gt; | cyl &lt;int&gt; | trans &lt;chr&gt; | drv &lt;chr&gt; | cty &lt;int&gt; | hwy &lt;int&gt; | fl &lt;chr&gt; | class &lt;chr&gt; |\n|---|---|---|---|---|---|---|---|---|---|---|---|\n| 1 | audi | a4 | 1.8 | 1999 | 4 | auto(l5)   | f | 18 | 29 | p | compact |\n| 2 | audi | a4 | 1.8 | 1999 | 4 | manual(m5) | f | 21 | 29 | p | compact |\n| 3 | audi | a4 | 2.0 | 2008 | 4 | manual(m6) | f | 20 | 31 | p | compact |\n| 4 | audi | a4 | 2.0 | 2008 | 4 | auto(av)   | f | 21 | 30 | p | compact |\n| 5 | audi | a4 | 2.8 | 1999 | 6 | auto(l5)   | f | 16 | 26 | p | compact |\n| 6 | audi | a4 | 2.8 | 1999 | 6 | manual(m5) | f | 18 | 26 | p | compact |\n\n",
            "text/html": [
              "<table>\n",
              "<caption>A data.frame: 6 × 11</caption>\n",
              "<thead>\n",
              "\t<tr><th></th><th scope=col>manufacturer</th><th scope=col>model</th><th scope=col>displ</th><th scope=col>year</th><th scope=col>cyl</th><th scope=col>trans</th><th scope=col>drv</th><th scope=col>cty</th><th scope=col>hwy</th><th scope=col>fl</th><th scope=col>class</th></tr>\n",
              "\t<tr><th></th><th scope=col>&lt;chr&gt;</th><th scope=col>&lt;chr&gt;</th><th scope=col>&lt;dbl&gt;</th><th scope=col>&lt;int&gt;</th><th scope=col>&lt;int&gt;</th><th scope=col>&lt;chr&gt;</th><th scope=col>&lt;chr&gt;</th><th scope=col>&lt;int&gt;</th><th scope=col>&lt;int&gt;</th><th scope=col>&lt;chr&gt;</th><th scope=col>&lt;chr&gt;</th></tr>\n",
              "</thead>\n",
              "<tbody>\n",
              "\t<tr><th scope=row>1</th><td>audi</td><td>a4</td><td>1.8</td><td>1999</td><td>4</td><td>auto(l5)  </td><td>f</td><td>18</td><td>29</td><td>p</td><td>compact</td></tr>\n",
              "\t<tr><th scope=row>2</th><td>audi</td><td>a4</td><td>1.8</td><td>1999</td><td>4</td><td>manual(m5)</td><td>f</td><td>21</td><td>29</td><td>p</td><td>compact</td></tr>\n",
              "\t<tr><th scope=row>3</th><td>audi</td><td>a4</td><td>2.0</td><td>2008</td><td>4</td><td>manual(m6)</td><td>f</td><td>20</td><td>31</td><td>p</td><td>compact</td></tr>\n",
              "\t<tr><th scope=row>4</th><td>audi</td><td>a4</td><td>2.0</td><td>2008</td><td>4</td><td>auto(av)  </td><td>f</td><td>21</td><td>30</td><td>p</td><td>compact</td></tr>\n",
              "\t<tr><th scope=row>5</th><td>audi</td><td>a4</td><td>2.8</td><td>1999</td><td>6</td><td>auto(l5)  </td><td>f</td><td>16</td><td>26</td><td>p</td><td>compact</td></tr>\n",
              "\t<tr><th scope=row>6</th><td>audi</td><td>a4</td><td>2.8</td><td>1999</td><td>6</td><td>manual(m5)</td><td>f</td><td>18</td><td>26</td><td>p</td><td>compact</td></tr>\n",
              "</tbody>\n",
              "</table>\n"
            ]
          },
          "metadata": {
            "tags": []
          }
        }
      ]
    },
    {
      "cell_type": "code",
      "metadata": {
        "id": "kvXNN6wEkNV_",
        "colab_type": "code",
        "outputId": "a435daa0-3cb1-4d15-f76d-d9f5c34496bf",
        "colab": {
          "base_uri": "https://localhost:8080/",
          "height": 52
        }
      },
      "source": [
        "displ4 <- mpg %>% filter (displ <= 4)\n",
        "displ5 <- mpg %>% filter (displ >= 5)\n",
        "mean(displ4$hwy)\n",
        "mean(displ5$hwy)"
      ],
      "execution_count": 0,
      "outputs": [
        {
          "output_type": "display_data",
          "data": {
            "text/plain": [
              "[1] 25.96319"
            ],
            "text/latex": "25.9631901840491",
            "text/markdown": "25.9631901840491",
            "text/html": [
              "25.9631901840491"
            ]
          },
          "metadata": {
            "tags": []
          }
        },
        {
          "output_type": "display_data",
          "data": {
            "text/plain": [
              "[1] 18.07895"
            ],
            "text/latex": "18.0789473684211",
            "text/markdown": "18.0789473684211",
            "text/html": [
              "18.0789473684211"
            ]
          },
          "metadata": {
            "tags": []
          }
        }
      ]
    },
    {
      "cell_type": "code",
      "metadata": {
        "id": "chEQv-T2kyGg",
        "colab_type": "code",
        "outputId": "1a1e4518-33ed-423d-9015-c501b570ecbb",
        "colab": {
          "base_uri": "https://localhost:8080/",
          "height": 35
        }
      },
      "source": [
        "ifelse (mean(displ4$hwy) > mean(displ5$hwy), '배기량 4', '개기량 5')"
      ],
      "execution_count": 0,
      "outputs": [
        {
          "output_type": "display_data",
          "data": {
            "text/plain": [
              "[1] \"배기량 4\""
            ],
            "text/latex": "'배기량 4'",
            "text/markdown": "'배기량 4'",
            "text/html": [
              "'배기량 4'"
            ]
          },
          "metadata": {
            "tags": []
          }
        }
      ]
    },
    {
      "cell_type": "code",
      "metadata": {
        "id": "ZzpjPf20mKUW",
        "colab_type": "code",
        "outputId": "87a0c92f-df57-440a-c05c-37217d26dc40",
        "colab": {
          "base_uri": "https://localhost:8080/",
          "height": 145
        }
      },
      "source": [
        "table(mpg$manufacturer)"
      ],
      "execution_count": 0,
      "outputs": [
        {
          "output_type": "display_data",
          "data": {
            "text/plain": [
              "\n",
              "      audi  chevrolet      dodge       ford      honda    hyundai       jeep \n",
              "        18         19         37         25          9         14          8 \n",
              "land rover    lincoln    mercury     nissan    pontiac     subaru     toyota \n",
              "         4          3          4         13          5         14         34 \n",
              "volkswagen \n",
              "        27 "
            ]
          },
          "metadata": {
            "tags": []
          }
        }
      ]
    },
    {
      "cell_type": "code",
      "metadata": {
        "id": "GDujl7_xlTyF",
        "colab_type": "code",
        "outputId": "ab6678fb-1979-440b-dcec-b5f24ac617f6",
        "colab": {
          "base_uri": "https://localhost:8080/",
          "height": 52
        }
      },
      "source": [
        "audi <- mpg %>% filter (manufacturer == 'audi')\n",
        "toyota <- mpg %>% filter (manufacturer == 'toyota')\n",
        "mean(audi$cty)\n",
        "mean(toyota$cty)"
      ],
      "execution_count": 0,
      "outputs": [
        {
          "output_type": "display_data",
          "data": {
            "text/plain": [
              "[1] 17.61111"
            ],
            "text/latex": "17.6111111111111",
            "text/markdown": "17.6111111111111",
            "text/html": [
              "17.6111111111111"
            ]
          },
          "metadata": {
            "tags": []
          }
        },
        {
          "output_type": "display_data",
          "data": {
            "text/plain": [
              "[1] 18.52941"
            ],
            "text/latex": "18.5294117647059",
            "text/markdown": "18.5294117647059",
            "text/html": [
              "18.5294117647059"
            ]
          },
          "metadata": {
            "tags": []
          }
        }
      ]
    },
    {
      "cell_type": "code",
      "metadata": {
        "id": "HJnPVLHAlsdF",
        "colab_type": "code",
        "outputId": "35c1ab09-fe9c-4d4d-bf7f-a9d896c8bc83",
        "colab": {
          "base_uri": "https://localhost:8080/",
          "height": 35
        }
      },
      "source": [
        "ifelse (mean(audi$cty) > mean(toyota$cty), 'audi', 'toyota')"
      ],
      "execution_count": 0,
      "outputs": [
        {
          "output_type": "display_data",
          "data": {
            "text/plain": [
              "[1] \"toyota\""
            ],
            "text/latex": "'toyota'",
            "text/markdown": "'toyota'",
            "text/html": [
              "'toyota'"
            ]
          },
          "metadata": {
            "tags": []
          }
        }
      ]
    },
    {
      "cell_type": "code",
      "metadata": {
        "id": "u-ou9ZV8mpXd",
        "colab_type": "code",
        "outputId": "d19e5e3c-c228-4232-a790-7207d9c189ce",
        "colab": {
          "base_uri": "https://localhost:8080/",
          "height": 35
        }
      },
      "source": [
        "mpg_new <- mpg %>% filter(manufacturer %in% c(\"chevrolet\", \"ford\", \"honda\")) \n",
        "mean(mpg_new$hwy)"
      ],
      "execution_count": 0,
      "outputs": [
        {
          "output_type": "display_data",
          "data": {
            "text/plain": [
              "[1] 22.50943"
            ],
            "text/latex": "22.5094339622642",
            "text/markdown": "22.5094339622642",
            "text/html": [
              "22.5094339622642"
            ]
          },
          "metadata": {
            "tags": []
          }
        }
      ]
    },
    {
      "cell_type": "code",
      "metadata": {
        "id": "imWcGZRqnFRk",
        "colab_type": "code",
        "outputId": "babf9243-d20a-4f0e-8bbf-1b2e96d3b3a2",
        "colab": {
          "base_uri": "https://localhost:8080/",
          "height": 238
        }
      },
      "source": [
        "mpg_model <- mpg %>% select(model) # model추출\n",
        "head(mpg_model)"
      ],
      "execution_count": 0,
      "outputs": [
        {
          "output_type": "display_data",
          "data": {
            "text/plain": [
              "  model\n",
              "1 a4   \n",
              "2 a4   \n",
              "3 a4   \n",
              "4 a4   \n",
              "5 a4   \n",
              "6 a4   "
            ],
            "text/latex": "A data.frame: 6 × 1\n\\begin{tabular}{r|l}\n  & model\\\\\n  & <chr>\\\\\n\\hline\n\t1 & a4\\\\\n\t2 & a4\\\\\n\t3 & a4\\\\\n\t4 & a4\\\\\n\t5 & a4\\\\\n\t6 & a4\\\\\n\\end{tabular}\n",
            "text/markdown": "\nA data.frame: 6 × 1\n\n| <!--/--> | model &lt;chr&gt; |\n|---|---|\n| 1 | a4 |\n| 2 | a4 |\n| 3 | a4 |\n| 4 | a4 |\n| 5 | a4 |\n| 6 | a4 |\n\n",
            "text/html": [
              "<table>\n",
              "<caption>A data.frame: 6 × 1</caption>\n",
              "<thead>\n",
              "\t<tr><th></th><th scope=col>model</th></tr>\n",
              "\t<tr><th></th><th scope=col>&lt;chr&gt;</th></tr>\n",
              "</thead>\n",
              "<tbody>\n",
              "\t<tr><th scope=row>1</th><td>a4</td></tr>\n",
              "\t<tr><th scope=row>2</th><td>a4</td></tr>\n",
              "\t<tr><th scope=row>3</th><td>a4</td></tr>\n",
              "\t<tr><th scope=row>4</th><td>a4</td></tr>\n",
              "\t<tr><th scope=row>5</th><td>a4</td></tr>\n",
              "\t<tr><th scope=row>6</th><td>a4</td></tr>\n",
              "</tbody>\n",
              "</table>\n"
            ]
          },
          "metadata": {
            "tags": []
          }
        }
      ]
    },
    {
      "cell_type": "code",
      "metadata": {
        "id": "wgi_3X4esT0l",
        "colab_type": "code",
        "outputId": "a7429282-0f8a-4905-9fae-064f91c5491d",
        "colab": {
          "base_uri": "https://localhost:8080/",
          "height": 204
        }
      },
      "source": [
        "mpg_de_model <- mpg %>% select(-model)  # model 제외\n",
        "head(mpg_de_model)"
      ],
      "execution_count": 0,
      "outputs": [
        {
          "output_type": "display_data",
          "data": {
            "text/plain": [
              "  manufacturer displ year cyl trans      drv cty hwy fl class  \n",
              "1 audi         1.8   1999 4   auto(l5)   f   18  29  p  compact\n",
              "2 audi         1.8   1999 4   manual(m5) f   21  29  p  compact\n",
              "3 audi         2.0   2008 4   manual(m6) f   20  31  p  compact\n",
              "4 audi         2.0   2008 4   auto(av)   f   21  30  p  compact\n",
              "5 audi         2.8   1999 6   auto(l5)   f   16  26  p  compact\n",
              "6 audi         2.8   1999 6   manual(m5) f   18  26  p  compact"
            ],
            "text/latex": "A data.frame: 6 × 10\n\\begin{tabular}{r|llllllllll}\n  & manufacturer & displ & year & cyl & trans & drv & cty & hwy & fl & class\\\\\n  & <chr> & <dbl> & <int> & <int> & <chr> & <chr> & <int> & <int> & <chr> & <chr>\\\\\n\\hline\n\t1 & audi & 1.8 & 1999 & 4 & auto(l5)   & f & 18 & 29 & p & compact\\\\\n\t2 & audi & 1.8 & 1999 & 4 & manual(m5) & f & 21 & 29 & p & compact\\\\\n\t3 & audi & 2.0 & 2008 & 4 & manual(m6) & f & 20 & 31 & p & compact\\\\\n\t4 & audi & 2.0 & 2008 & 4 & auto(av)   & f & 21 & 30 & p & compact\\\\\n\t5 & audi & 2.8 & 1999 & 6 & auto(l5)   & f & 16 & 26 & p & compact\\\\\n\t6 & audi & 2.8 & 1999 & 6 & manual(m5) & f & 18 & 26 & p & compact\\\\\n\\end{tabular}\n",
            "text/markdown": "\nA data.frame: 6 × 10\n\n| <!--/--> | manufacturer &lt;chr&gt; | displ &lt;dbl&gt; | year &lt;int&gt; | cyl &lt;int&gt; | trans &lt;chr&gt; | drv &lt;chr&gt; | cty &lt;int&gt; | hwy &lt;int&gt; | fl &lt;chr&gt; | class &lt;chr&gt; |\n|---|---|---|---|---|---|---|---|---|---|---|\n| 1 | audi | 1.8 | 1999 | 4 | auto(l5)   | f | 18 | 29 | p | compact |\n| 2 | audi | 1.8 | 1999 | 4 | manual(m5) | f | 21 | 29 | p | compact |\n| 3 | audi | 2.0 | 2008 | 4 | manual(m6) | f | 20 | 31 | p | compact |\n| 4 | audi | 2.0 | 2008 | 4 | auto(av)   | f | 21 | 30 | p | compact |\n| 5 | audi | 2.8 | 1999 | 6 | auto(l5)   | f | 16 | 26 | p | compact |\n| 6 | audi | 2.8 | 1999 | 6 | manual(m5) | f | 18 | 26 | p | compact |\n\n",
            "text/html": [
              "<table>\n",
              "<caption>A data.frame: 6 × 10</caption>\n",
              "<thead>\n",
              "\t<tr><th></th><th scope=col>manufacturer</th><th scope=col>displ</th><th scope=col>year</th><th scope=col>cyl</th><th scope=col>trans</th><th scope=col>drv</th><th scope=col>cty</th><th scope=col>hwy</th><th scope=col>fl</th><th scope=col>class</th></tr>\n",
              "\t<tr><th></th><th scope=col>&lt;chr&gt;</th><th scope=col>&lt;dbl&gt;</th><th scope=col>&lt;int&gt;</th><th scope=col>&lt;int&gt;</th><th scope=col>&lt;chr&gt;</th><th scope=col>&lt;chr&gt;</th><th scope=col>&lt;int&gt;</th><th scope=col>&lt;int&gt;</th><th scope=col>&lt;chr&gt;</th><th scope=col>&lt;chr&gt;</th></tr>\n",
              "</thead>\n",
              "<tbody>\n",
              "\t<tr><th scope=row>1</th><td>audi</td><td>1.8</td><td>1999</td><td>4</td><td>auto(l5)  </td><td>f</td><td>18</td><td>29</td><td>p</td><td>compact</td></tr>\n",
              "\t<tr><th scope=row>2</th><td>audi</td><td>1.8</td><td>1999</td><td>4</td><td>manual(m5)</td><td>f</td><td>21</td><td>29</td><td>p</td><td>compact</td></tr>\n",
              "\t<tr><th scope=row>3</th><td>audi</td><td>2.0</td><td>2008</td><td>4</td><td>manual(m6)</td><td>f</td><td>20</td><td>31</td><td>p</td><td>compact</td></tr>\n",
              "\t<tr><th scope=row>4</th><td>audi</td><td>2.0</td><td>2008</td><td>4</td><td>auto(av)  </td><td>f</td><td>21</td><td>30</td><td>p</td><td>compact</td></tr>\n",
              "\t<tr><th scope=row>5</th><td>audi</td><td>2.8</td><td>1999</td><td>6</td><td>auto(l5)  </td><td>f</td><td>16</td><td>26</td><td>p</td><td>compact</td></tr>\n",
              "\t<tr><th scope=row>6</th><td>audi</td><td>2.8</td><td>1999</td><td>6</td><td>manual(m5)</td><td>f</td><td>18</td><td>26</td><td>p</td><td>compact</td></tr>\n",
              "</tbody>\n",
              "</table>\n"
            ]
          },
          "metadata": {
            "tags": []
          }
        }
      ]
    },
    {
      "cell_type": "code",
      "metadata": {
        "id": "IPVAj0nFsXrL",
        "colab_type": "code",
        "outputId": "859a86ce-d561-4e3b-da91-627851051482",
        "colab": {
          "base_uri": "https://localhost:8080/",
          "height": 221
        }
      },
      "source": [
        "mpg_class_cty <- mpg %>% select(class, cty)\n",
        "head(mpg_class_cty)"
      ],
      "execution_count": 0,
      "outputs": [
        {
          "output_type": "display_data",
          "data": {
            "text/plain": [
              "  class   cty\n",
              "1 compact 18 \n",
              "2 compact 21 \n",
              "3 compact 20 \n",
              "4 compact 21 \n",
              "5 compact 16 \n",
              "6 compact 18 "
            ],
            "text/latex": "A data.frame: 6 × 2\n\\begin{tabular}{r|ll}\n  & class & cty\\\\\n  & <chr> & <int>\\\\\n\\hline\n\t1 & compact & 18\\\\\n\t2 & compact & 21\\\\\n\t3 & compact & 20\\\\\n\t4 & compact & 21\\\\\n\t5 & compact & 16\\\\\n\t6 & compact & 18\\\\\n\\end{tabular}\n",
            "text/markdown": "\nA data.frame: 6 × 2\n\n| <!--/--> | class &lt;chr&gt; | cty &lt;int&gt; |\n|---|---|---|\n| 1 | compact | 18 |\n| 2 | compact | 21 |\n| 3 | compact | 20 |\n| 4 | compact | 21 |\n| 5 | compact | 16 |\n| 6 | compact | 18 |\n\n",
            "text/html": [
              "<table>\n",
              "<caption>A data.frame: 6 × 2</caption>\n",
              "<thead>\n",
              "\t<tr><th></th><th scope=col>class</th><th scope=col>cty</th></tr>\n",
              "\t<tr><th></th><th scope=col>&lt;chr&gt;</th><th scope=col>&lt;int&gt;</th></tr>\n",
              "</thead>\n",
              "<tbody>\n",
              "\t<tr><th scope=row>1</th><td>compact</td><td>18</td></tr>\n",
              "\t<tr><th scope=row>2</th><td>compact</td><td>21</td></tr>\n",
              "\t<tr><th scope=row>3</th><td>compact</td><td>20</td></tr>\n",
              "\t<tr><th scope=row>4</th><td>compact</td><td>21</td></tr>\n",
              "\t<tr><th scope=row>5</th><td>compact</td><td>16</td></tr>\n",
              "\t<tr><th scope=row>6</th><td>compact</td><td>18</td></tr>\n",
              "</tbody>\n",
              "</table>\n"
            ]
          },
          "metadata": {
            "tags": []
          }
        }
      ]
    },
    {
      "cell_type": "code",
      "metadata": {
        "id": "0qPhLPNwuKl1",
        "colab_type": "code",
        "outputId": "51ac421f-8596-46ac-e0e5-08df39f34460",
        "colab": {
          "base_uri": "https://localhost:8080/",
          "height": 52
        }
      },
      "source": [
        "mpg_class_cty_suv <- mpg_class_cty %>% filter(class == 'suv')\n",
        "mpg_class_cty_compact <- mpg_class_cty %>% filter(class == 'compact')\n",
        "mean(mpg_class_cty_suv$cty)\n",
        "mean(mpg_class_cty_compact$cty)"
      ],
      "execution_count": 0,
      "outputs": [
        {
          "output_type": "display_data",
          "data": {
            "text/plain": [
              "[1] 13.5"
            ],
            "text/latex": "13.5",
            "text/markdown": "13.5",
            "text/html": [
              "13.5"
            ]
          },
          "metadata": {
            "tags": []
          }
        },
        {
          "output_type": "display_data",
          "data": {
            "text/plain": [
              "[1] 20.12766"
            ],
            "text/latex": "20.1276595744681",
            "text/markdown": "20.1276595744681",
            "text/html": [
              "20.1276595744681"
            ]
          },
          "metadata": {
            "tags": []
          }
        }
      ]
    },
    {
      "cell_type": "code",
      "metadata": {
        "id": "_wfrch6QuyiC",
        "colab_type": "code",
        "outputId": "f24c7ae2-dfb0-402d-a90c-cefa1cadb7b5",
        "colab": {
          "base_uri": "https://localhost:8080/",
          "height": 35
        }
      },
      "source": [
        "ifelse (mean(mpg_class_cty_suv$cty) > mean(mpg_class_cty_compact$cty), 'suv가 연비가 좋음', 'compact가 연비가 좋음')"
      ],
      "execution_count": 0,
      "outputs": [
        {
          "output_type": "display_data",
          "data": {
            "text/plain": [
              "[1] \"compact가 연비가 좋음\""
            ],
            "text/latex": "'compact가 연비가 좋음'",
            "text/markdown": "'compact가 연비가 좋음'",
            "text/html": [
              "'compact가 연비가 좋음'"
            ]
          },
          "metadata": {
            "tags": []
          }
        }
      ]
    },
    {
      "cell_type": "code",
      "metadata": {
        "id": "jMDsIeSGu-DC",
        "colab_type": "code",
        "colab": {}
      },
      "source": [
        "mpg_class_cty %>% arrange(cty)  # cty 오름차순 정렬"
      ],
      "execution_count": 0,
      "outputs": []
    },
    {
      "cell_type": "code",
      "metadata": {
        "id": "z09KHfGKwbYc",
        "colab_type": "code",
        "colab": {}
      },
      "source": [
        "mpg_class_cty %>% arrange(desc(cty)) #내림차순 정렬"
      ],
      "execution_count": 0,
      "outputs": []
    },
    {
      "cell_type": "code",
      "metadata": {
        "id": "nM512XMRw07q",
        "colab_type": "code",
        "outputId": "d8c7bcd5-1b91-42c8-f055-4691160f0cdf",
        "colab": {
          "base_uri": "https://localhost:8080/",
          "height": 183
        }
      },
      "source": [
        "audi <- mpg %>% filter (manufacturer == 'audi' )\n",
        "top5 <- audi %>% arrange(desc (cty)) \n",
        "top5 %>% head(5)"
      ],
      "execution_count": 0,
      "outputs": [
        {
          "output_type": "display_data",
          "data": {
            "text/plain": [
              "  manufacturer model      displ year cyl trans      drv cty hwy fl class  \n",
              "1 audi         a4         1.8   1999 4   manual(m5) f   21  29  p  compact\n",
              "2 audi         a4         2.0   2008 4   auto(av)   f   21  30  p  compact\n",
              "3 audi         a4         2.0   2008 4   manual(m6) f   20  31  p  compact\n",
              "4 audi         a4 quattro 2.0   2008 4   manual(m6) 4   20  28  p  compact\n",
              "5 audi         a4 quattro 2.0   2008 4   auto(s6)   4   19  27  p  compact"
            ],
            "text/latex": "A data.frame: 5 × 11\n\\begin{tabular}{r|lllllllllll}\n  & manufacturer & model & displ & year & cyl & trans & drv & cty & hwy & fl & class\\\\\n  & <chr> & <chr> & <dbl> & <int> & <int> & <chr> & <chr> & <int> & <int> & <chr> & <chr>\\\\\n\\hline\n\t1 & audi & a4         & 1.8 & 1999 & 4 & manual(m5) & f & 21 & 29 & p & compact\\\\\n\t2 & audi & a4         & 2.0 & 2008 & 4 & auto(av)   & f & 21 & 30 & p & compact\\\\\n\t3 & audi & a4         & 2.0 & 2008 & 4 & manual(m6) & f & 20 & 31 & p & compact\\\\\n\t4 & audi & a4 quattro & 2.0 & 2008 & 4 & manual(m6) & 4 & 20 & 28 & p & compact\\\\\n\t5 & audi & a4 quattro & 2.0 & 2008 & 4 & auto(s6)   & 4 & 19 & 27 & p & compact\\\\\n\\end{tabular}\n",
            "text/markdown": "\nA data.frame: 5 × 11\n\n| <!--/--> | manufacturer &lt;chr&gt; | model &lt;chr&gt; | displ &lt;dbl&gt; | year &lt;int&gt; | cyl &lt;int&gt; | trans &lt;chr&gt; | drv &lt;chr&gt; | cty &lt;int&gt; | hwy &lt;int&gt; | fl &lt;chr&gt; | class &lt;chr&gt; |\n|---|---|---|---|---|---|---|---|---|---|---|---|\n| 1 | audi | a4         | 1.8 | 1999 | 4 | manual(m5) | f | 21 | 29 | p | compact |\n| 2 | audi | a4         | 2.0 | 2008 | 4 | auto(av)   | f | 21 | 30 | p | compact |\n| 3 | audi | a4         | 2.0 | 2008 | 4 | manual(m6) | f | 20 | 31 | p | compact |\n| 4 | audi | a4 quattro | 2.0 | 2008 | 4 | manual(m6) | 4 | 20 | 28 | p | compact |\n| 5 | audi | a4 quattro | 2.0 | 2008 | 4 | auto(s6)   | 4 | 19 | 27 | p | compact |\n\n",
            "text/html": [
              "<table>\n",
              "<caption>A data.frame: 5 × 11</caption>\n",
              "<thead>\n",
              "\t<tr><th></th><th scope=col>manufacturer</th><th scope=col>model</th><th scope=col>displ</th><th scope=col>year</th><th scope=col>cyl</th><th scope=col>trans</th><th scope=col>drv</th><th scope=col>cty</th><th scope=col>hwy</th><th scope=col>fl</th><th scope=col>class</th></tr>\n",
              "\t<tr><th></th><th scope=col>&lt;chr&gt;</th><th scope=col>&lt;chr&gt;</th><th scope=col>&lt;dbl&gt;</th><th scope=col>&lt;int&gt;</th><th scope=col>&lt;int&gt;</th><th scope=col>&lt;chr&gt;</th><th scope=col>&lt;chr&gt;</th><th scope=col>&lt;int&gt;</th><th scope=col>&lt;int&gt;</th><th scope=col>&lt;chr&gt;</th><th scope=col>&lt;chr&gt;</th></tr>\n",
              "</thead>\n",
              "<tbody>\n",
              "\t<tr><th scope=row>1</th><td>audi</td><td>a4        </td><td>1.8</td><td>1999</td><td>4</td><td>manual(m5)</td><td>f</td><td>21</td><td>29</td><td>p</td><td>compact</td></tr>\n",
              "\t<tr><th scope=row>2</th><td>audi</td><td>a4        </td><td>2.0</td><td>2008</td><td>4</td><td>auto(av)  </td><td>f</td><td>21</td><td>30</td><td>p</td><td>compact</td></tr>\n",
              "\t<tr><th scope=row>3</th><td>audi</td><td>a4        </td><td>2.0</td><td>2008</td><td>4</td><td>manual(m6)</td><td>f</td><td>20</td><td>31</td><td>p</td><td>compact</td></tr>\n",
              "\t<tr><th scope=row>4</th><td>audi</td><td>a4 quattro</td><td>2.0</td><td>2008</td><td>4</td><td>manual(m6)</td><td>4</td><td>20</td><td>28</td><td>p</td><td>compact</td></tr>\n",
              "\t<tr><th scope=row>5</th><td>audi</td><td>a4 quattro</td><td>2.0</td><td>2008</td><td>4</td><td>auto(s6)  </td><td>4</td><td>19</td><td>27</td><td>p</td><td>compact</td></tr>\n",
              "</tbody>\n",
              "</table>\n"
            ]
          },
          "metadata": {
            "tags": []
          }
        }
      ]
    },
    {
      "cell_type": "code",
      "metadata": {
        "id": "_LnH3tUuxadS",
        "colab_type": "code",
        "outputId": "79b570a0-c7ec-42cb-cb2b-ad88d9137097",
        "colab": {
          "base_uri": "https://localhost:8080/",
          "height": 162
        }
      },
      "source": [
        "mpg1 <- mpg\n",
        "mpg1 %>% head(4)"
      ],
      "execution_count": 0,
      "outputs": [
        {
          "output_type": "display_data",
          "data": {
            "text/plain": [
              "  manufacturer model displ year cyl trans      drv cty hwy fl class  \n",
              "1 audi         a4    1.8   1999 4   auto(l5)   f   18  29  p  compact\n",
              "2 audi         a4    1.8   1999 4   manual(m5) f   21  29  p  compact\n",
              "3 audi         a4    2.0   2008 4   manual(m6) f   20  31  p  compact\n",
              "4 audi         a4    2.0   2008 4   auto(av)   f   21  30  p  compact"
            ],
            "text/latex": "A data.frame: 4 × 11\n\\begin{tabular}{r|lllllllllll}\n  & manufacturer & model & displ & year & cyl & trans & drv & cty & hwy & fl & class\\\\\n  & <chr> & <chr> & <dbl> & <int> & <int> & <chr> & <chr> & <int> & <int> & <chr> & <chr>\\\\\n\\hline\n\t1 & audi & a4 & 1.8 & 1999 & 4 & auto(l5)   & f & 18 & 29 & p & compact\\\\\n\t2 & audi & a4 & 1.8 & 1999 & 4 & manual(m5) & f & 21 & 29 & p & compact\\\\\n\t3 & audi & a4 & 2.0 & 2008 & 4 & manual(m6) & f & 20 & 31 & p & compact\\\\\n\t4 & audi & a4 & 2.0 & 2008 & 4 & auto(av)   & f & 21 & 30 & p & compact\\\\\n\\end{tabular}\n",
            "text/markdown": "\nA data.frame: 4 × 11\n\n| <!--/--> | manufacturer &lt;chr&gt; | model &lt;chr&gt; | displ &lt;dbl&gt; | year &lt;int&gt; | cyl &lt;int&gt; | trans &lt;chr&gt; | drv &lt;chr&gt; | cty &lt;int&gt; | hwy &lt;int&gt; | fl &lt;chr&gt; | class &lt;chr&gt; |\n|---|---|---|---|---|---|---|---|---|---|---|---|\n| 1 | audi | a4 | 1.8 | 1999 | 4 | auto(l5)   | f | 18 | 29 | p | compact |\n| 2 | audi | a4 | 1.8 | 1999 | 4 | manual(m5) | f | 21 | 29 | p | compact |\n| 3 | audi | a4 | 2.0 | 2008 | 4 | manual(m6) | f | 20 | 31 | p | compact |\n| 4 | audi | a4 | 2.0 | 2008 | 4 | auto(av)   | f | 21 | 30 | p | compact |\n\n",
            "text/html": [
              "<table>\n",
              "<caption>A data.frame: 4 × 11</caption>\n",
              "<thead>\n",
              "\t<tr><th></th><th scope=col>manufacturer</th><th scope=col>model</th><th scope=col>displ</th><th scope=col>year</th><th scope=col>cyl</th><th scope=col>trans</th><th scope=col>drv</th><th scope=col>cty</th><th scope=col>hwy</th><th scope=col>fl</th><th scope=col>class</th></tr>\n",
              "\t<tr><th></th><th scope=col>&lt;chr&gt;</th><th scope=col>&lt;chr&gt;</th><th scope=col>&lt;dbl&gt;</th><th scope=col>&lt;int&gt;</th><th scope=col>&lt;int&gt;</th><th scope=col>&lt;chr&gt;</th><th scope=col>&lt;chr&gt;</th><th scope=col>&lt;int&gt;</th><th scope=col>&lt;int&gt;</th><th scope=col>&lt;chr&gt;</th><th scope=col>&lt;chr&gt;</th></tr>\n",
              "</thead>\n",
              "<tbody>\n",
              "\t<tr><th scope=row>1</th><td>audi</td><td>a4</td><td>1.8</td><td>1999</td><td>4</td><td>auto(l5)  </td><td>f</td><td>18</td><td>29</td><td>p</td><td>compact</td></tr>\n",
              "\t<tr><th scope=row>2</th><td>audi</td><td>a4</td><td>1.8</td><td>1999</td><td>4</td><td>manual(m5)</td><td>f</td><td>21</td><td>29</td><td>p</td><td>compact</td></tr>\n",
              "\t<tr><th scope=row>3</th><td>audi</td><td>a4</td><td>2.0</td><td>2008</td><td>4</td><td>manual(m6)</td><td>f</td><td>20</td><td>31</td><td>p</td><td>compact</td></tr>\n",
              "\t<tr><th scope=row>4</th><td>audi</td><td>a4</td><td>2.0</td><td>2008</td><td>4</td><td>auto(av)  </td><td>f</td><td>21</td><td>30</td><td>p</td><td>compact</td></tr>\n",
              "</tbody>\n",
              "</table>\n"
            ]
          },
          "metadata": {
            "tags": []
          }
        }
      ]
    },
    {
      "cell_type": "code",
      "metadata": {
        "id": "YKvrcCm2yl0h",
        "colab_type": "code",
        "outputId": "16f11e94-8e7f-4990-c2df-6e93cf546d82",
        "colab": {
          "base_uri": "https://localhost:8080/",
          "height": 204
        }
      },
      "source": [
        "mpg1 %>%\n",
        "  mutate('total' = cty + hwy) %>% head"
      ],
      "execution_count": 0,
      "outputs": [
        {
          "output_type": "display_data",
          "data": {
            "text/plain": [
              "  manufacturer model displ year cyl trans      drv cty hwy fl class   total\n",
              "1 audi         a4    1.8   1999 4   auto(l5)   f   18  29  p  compact 47   \n",
              "2 audi         a4    1.8   1999 4   manual(m5) f   21  29  p  compact 50   \n",
              "3 audi         a4    2.0   2008 4   manual(m6) f   20  31  p  compact 51   \n",
              "4 audi         a4    2.0   2008 4   auto(av)   f   21  30  p  compact 51   \n",
              "5 audi         a4    2.8   1999 6   auto(l5)   f   16  26  p  compact 42   \n",
              "6 audi         a4    2.8   1999 6   manual(m5) f   18  26  p  compact 44   "
            ],
            "text/latex": "A data.frame: 6 × 12\n\\begin{tabular}{r|llllllllllll}\n  & manufacturer & model & displ & year & cyl & trans & drv & cty & hwy & fl & class & total\\\\\n  & <chr> & <chr> & <dbl> & <int> & <int> & <chr> & <chr> & <int> & <int> & <chr> & <chr> & <int>\\\\\n\\hline\n\t1 & audi & a4 & 1.8 & 1999 & 4 & auto(l5)   & f & 18 & 29 & p & compact & 47\\\\\n\t2 & audi & a4 & 1.8 & 1999 & 4 & manual(m5) & f & 21 & 29 & p & compact & 50\\\\\n\t3 & audi & a4 & 2.0 & 2008 & 4 & manual(m6) & f & 20 & 31 & p & compact & 51\\\\\n\t4 & audi & a4 & 2.0 & 2008 & 4 & auto(av)   & f & 21 & 30 & p & compact & 51\\\\\n\t5 & audi & a4 & 2.8 & 1999 & 6 & auto(l5)   & f & 16 & 26 & p & compact & 42\\\\\n\t6 & audi & a4 & 2.8 & 1999 & 6 & manual(m5) & f & 18 & 26 & p & compact & 44\\\\\n\\end{tabular}\n",
            "text/markdown": "\nA data.frame: 6 × 12\n\n| <!--/--> | manufacturer &lt;chr&gt; | model &lt;chr&gt; | displ &lt;dbl&gt; | year &lt;int&gt; | cyl &lt;int&gt; | trans &lt;chr&gt; | drv &lt;chr&gt; | cty &lt;int&gt; | hwy &lt;int&gt; | fl &lt;chr&gt; | class &lt;chr&gt; | total &lt;int&gt; |\n|---|---|---|---|---|---|---|---|---|---|---|---|---|\n| 1 | audi | a4 | 1.8 | 1999 | 4 | auto(l5)   | f | 18 | 29 | p | compact | 47 |\n| 2 | audi | a4 | 1.8 | 1999 | 4 | manual(m5) | f | 21 | 29 | p | compact | 50 |\n| 3 | audi | a4 | 2.0 | 2008 | 4 | manual(m6) | f | 20 | 31 | p | compact | 51 |\n| 4 | audi | a4 | 2.0 | 2008 | 4 | auto(av)   | f | 21 | 30 | p | compact | 51 |\n| 5 | audi | a4 | 2.8 | 1999 | 6 | auto(l5)   | f | 16 | 26 | p | compact | 42 |\n| 6 | audi | a4 | 2.8 | 1999 | 6 | manual(m5) | f | 18 | 26 | p | compact | 44 |\n\n",
            "text/html": [
              "<table>\n",
              "<caption>A data.frame: 6 × 12</caption>\n",
              "<thead>\n",
              "\t<tr><th></th><th scope=col>manufacturer</th><th scope=col>model</th><th scope=col>displ</th><th scope=col>year</th><th scope=col>cyl</th><th scope=col>trans</th><th scope=col>drv</th><th scope=col>cty</th><th scope=col>hwy</th><th scope=col>fl</th><th scope=col>class</th><th scope=col>total</th></tr>\n",
              "\t<tr><th></th><th scope=col>&lt;chr&gt;</th><th scope=col>&lt;chr&gt;</th><th scope=col>&lt;dbl&gt;</th><th scope=col>&lt;int&gt;</th><th scope=col>&lt;int&gt;</th><th scope=col>&lt;chr&gt;</th><th scope=col>&lt;chr&gt;</th><th scope=col>&lt;int&gt;</th><th scope=col>&lt;int&gt;</th><th scope=col>&lt;chr&gt;</th><th scope=col>&lt;chr&gt;</th><th scope=col>&lt;int&gt;</th></tr>\n",
              "</thead>\n",
              "<tbody>\n",
              "\t<tr><th scope=row>1</th><td>audi</td><td>a4</td><td>1.8</td><td>1999</td><td>4</td><td>auto(l5)  </td><td>f</td><td>18</td><td>29</td><td>p</td><td>compact</td><td>47</td></tr>\n",
              "\t<tr><th scope=row>2</th><td>audi</td><td>a4</td><td>1.8</td><td>1999</td><td>4</td><td>manual(m5)</td><td>f</td><td>21</td><td>29</td><td>p</td><td>compact</td><td>50</td></tr>\n",
              "\t<tr><th scope=row>3</th><td>audi</td><td>a4</td><td>2.0</td><td>2008</td><td>4</td><td>manual(m6)</td><td>f</td><td>20</td><td>31</td><td>p</td><td>compact</td><td>51</td></tr>\n",
              "\t<tr><th scope=row>4</th><td>audi</td><td>a4</td><td>2.0</td><td>2008</td><td>4</td><td>auto(av)  </td><td>f</td><td>21</td><td>30</td><td>p</td><td>compact</td><td>51</td></tr>\n",
              "\t<tr><th scope=row>5</th><td>audi</td><td>a4</td><td>2.8</td><td>1999</td><td>6</td><td>auto(l5)  </td><td>f</td><td>16</td><td>26</td><td>p</td><td>compact</td><td>42</td></tr>\n",
              "\t<tr><th scope=row>6</th><td>audi</td><td>a4</td><td>2.8</td><td>1999</td><td>6</td><td>manual(m5)</td><td>f</td><td>18</td><td>26</td><td>p</td><td>compact</td><td>44</td></tr>\n",
              "</tbody>\n",
              "</table>\n"
            ]
          },
          "metadata": {
            "tags": []
          }
        }
      ]
    },
    {
      "cell_type": "code",
      "metadata": {
        "id": "HM2nCI5ly5b5",
        "colab_type": "code",
        "outputId": "840f5220-7e3e-4c1c-ec02-e1c3d00ffece",
        "colab": {
          "base_uri": "https://localhost:8080/",
          "height": 141
        }
      },
      "source": [
        "new_mpg <- mpg1 %>%\n",
        "  mutate('total' = (cty + hwy)/2)\n",
        "new_mpg %>% head(3)"
      ],
      "execution_count": 0,
      "outputs": [
        {
          "output_type": "display_data",
          "data": {
            "text/plain": [
              "  manufacturer model displ year cyl trans      drv cty hwy fl class   total\n",
              "1 audi         a4    1.8   1999 4   auto(l5)   f   18  29  p  compact 23.5 \n",
              "2 audi         a4    1.8   1999 4   manual(m5) f   21  29  p  compact 25.0 \n",
              "3 audi         a4    2.0   2008 4   manual(m6) f   20  31  p  compact 25.5 "
            ],
            "text/latex": "A data.frame: 3 × 12\n\\begin{tabular}{r|llllllllllll}\n  & manufacturer & model & displ & year & cyl & trans & drv & cty & hwy & fl & class & total\\\\\n  & <chr> & <chr> & <dbl> & <int> & <int> & <chr> & <chr> & <int> & <int> & <chr> & <chr> & <dbl>\\\\\n\\hline\n\t1 & audi & a4 & 1.8 & 1999 & 4 & auto(l5)   & f & 18 & 29 & p & compact & 23.5\\\\\n\t2 & audi & a4 & 1.8 & 1999 & 4 & manual(m5) & f & 21 & 29 & p & compact & 25.0\\\\\n\t3 & audi & a4 & 2.0 & 2008 & 4 & manual(m6) & f & 20 & 31 & p & compact & 25.5\\\\\n\\end{tabular}\n",
            "text/markdown": "\nA data.frame: 3 × 12\n\n| <!--/--> | manufacturer &lt;chr&gt; | model &lt;chr&gt; | displ &lt;dbl&gt; | year &lt;int&gt; | cyl &lt;int&gt; | trans &lt;chr&gt; | drv &lt;chr&gt; | cty &lt;int&gt; | hwy &lt;int&gt; | fl &lt;chr&gt; | class &lt;chr&gt; | total &lt;dbl&gt; |\n|---|---|---|---|---|---|---|---|---|---|---|---|---|\n| 1 | audi | a4 | 1.8 | 1999 | 4 | auto(l5)   | f | 18 | 29 | p | compact | 23.5 |\n| 2 | audi | a4 | 1.8 | 1999 | 4 | manual(m5) | f | 21 | 29 | p | compact | 25.0 |\n| 3 | audi | a4 | 2.0 | 2008 | 4 | manual(m6) | f | 20 | 31 | p | compact | 25.5 |\n\n",
            "text/html": [
              "<table>\n",
              "<caption>A data.frame: 3 × 12</caption>\n",
              "<thead>\n",
              "\t<tr><th></th><th scope=col>manufacturer</th><th scope=col>model</th><th scope=col>displ</th><th scope=col>year</th><th scope=col>cyl</th><th scope=col>trans</th><th scope=col>drv</th><th scope=col>cty</th><th scope=col>hwy</th><th scope=col>fl</th><th scope=col>class</th><th scope=col>total</th></tr>\n",
              "\t<tr><th></th><th scope=col>&lt;chr&gt;</th><th scope=col>&lt;chr&gt;</th><th scope=col>&lt;dbl&gt;</th><th scope=col>&lt;int&gt;</th><th scope=col>&lt;int&gt;</th><th scope=col>&lt;chr&gt;</th><th scope=col>&lt;chr&gt;</th><th scope=col>&lt;int&gt;</th><th scope=col>&lt;int&gt;</th><th scope=col>&lt;chr&gt;</th><th scope=col>&lt;chr&gt;</th><th scope=col>&lt;dbl&gt;</th></tr>\n",
              "</thead>\n",
              "<tbody>\n",
              "\t<tr><th scope=row>1</th><td>audi</td><td>a4</td><td>1.8</td><td>1999</td><td>4</td><td>auto(l5)  </td><td>f</td><td>18</td><td>29</td><td>p</td><td>compact</td><td>23.5</td></tr>\n",
              "\t<tr><th scope=row>2</th><td>audi</td><td>a4</td><td>1.8</td><td>1999</td><td>4</td><td>manual(m5)</td><td>f</td><td>21</td><td>29</td><td>p</td><td>compact</td><td>25.0</td></tr>\n",
              "\t<tr><th scope=row>3</th><td>audi</td><td>a4</td><td>2.0</td><td>2008</td><td>4</td><td>manual(m6)</td><td>f</td><td>20</td><td>31</td><td>p</td><td>compact</td><td>25.5</td></tr>\n",
              "</tbody>\n",
              "</table>\n"
            ]
          },
          "metadata": {
            "tags": []
          }
        }
      ]
    },
    {
      "cell_type": "code",
      "metadata": {
        "id": "NJm6M1tpzBB5",
        "colab_type": "code",
        "outputId": "bfb0e065-3e3c-406c-9050-08be6aaa8561",
        "colab": {
          "base_uri": "https://localhost:8080/",
          "height": 141
        }
      },
      "source": [
        "new_mpg %>% arrange(desc (total)) %>% head(3)"
      ],
      "execution_count": 0,
      "outputs": [
        {
          "output_type": "display_data",
          "data": {
            "text/plain": [
              "  manufacturer model      displ year cyl trans      drv cty hwy fl class     \n",
              "1 volkswagen   new beetle 1.9   1999 4   manual(m5) f   35  44  d  subcompact\n",
              "2 volkswagen   jetta      1.9   1999 4   manual(m5) f   33  44  d  compact   \n",
              "3 volkswagen   new beetle 1.9   1999 4   auto(l4)   f   29  41  d  subcompact\n",
              "  total\n",
              "1 39.5 \n",
              "2 38.5 \n",
              "3 35.0 "
            ],
            "text/latex": "A data.frame: 3 × 12\n\\begin{tabular}{r|llllllllllll}\n  & manufacturer & model & displ & year & cyl & trans & drv & cty & hwy & fl & class & total\\\\\n  & <chr> & <chr> & <dbl> & <int> & <int> & <chr> & <chr> & <int> & <int> & <chr> & <chr> & <dbl>\\\\\n\\hline\n\t1 & volkswagen & new beetle & 1.9 & 1999 & 4 & manual(m5) & f & 35 & 44 & d & subcompact & 39.5\\\\\n\t2 & volkswagen & jetta      & 1.9 & 1999 & 4 & manual(m5) & f & 33 & 44 & d & compact    & 38.5\\\\\n\t3 & volkswagen & new beetle & 1.9 & 1999 & 4 & auto(l4)   & f & 29 & 41 & d & subcompact & 35.0\\\\\n\\end{tabular}\n",
            "text/markdown": "\nA data.frame: 3 × 12\n\n| <!--/--> | manufacturer &lt;chr&gt; | model &lt;chr&gt; | displ &lt;dbl&gt; | year &lt;int&gt; | cyl &lt;int&gt; | trans &lt;chr&gt; | drv &lt;chr&gt; | cty &lt;int&gt; | hwy &lt;int&gt; | fl &lt;chr&gt; | class &lt;chr&gt; | total &lt;dbl&gt; |\n|---|---|---|---|---|---|---|---|---|---|---|---|---|\n| 1 | volkswagen | new beetle | 1.9 | 1999 | 4 | manual(m5) | f | 35 | 44 | d | subcompact | 39.5 |\n| 2 | volkswagen | jetta      | 1.9 | 1999 | 4 | manual(m5) | f | 33 | 44 | d | compact    | 38.5 |\n| 3 | volkswagen | new beetle | 1.9 | 1999 | 4 | auto(l4)   | f | 29 | 41 | d | subcompact | 35.0 |\n\n",
            "text/html": [
              "<table>\n",
              "<caption>A data.frame: 3 × 12</caption>\n",
              "<thead>\n",
              "\t<tr><th></th><th scope=col>manufacturer</th><th scope=col>model</th><th scope=col>displ</th><th scope=col>year</th><th scope=col>cyl</th><th scope=col>trans</th><th scope=col>drv</th><th scope=col>cty</th><th scope=col>hwy</th><th scope=col>fl</th><th scope=col>class</th><th scope=col>total</th></tr>\n",
              "\t<tr><th></th><th scope=col>&lt;chr&gt;</th><th scope=col>&lt;chr&gt;</th><th scope=col>&lt;dbl&gt;</th><th scope=col>&lt;int&gt;</th><th scope=col>&lt;int&gt;</th><th scope=col>&lt;chr&gt;</th><th scope=col>&lt;chr&gt;</th><th scope=col>&lt;int&gt;</th><th scope=col>&lt;int&gt;</th><th scope=col>&lt;chr&gt;</th><th scope=col>&lt;chr&gt;</th><th scope=col>&lt;dbl&gt;</th></tr>\n",
              "</thead>\n",
              "<tbody>\n",
              "\t<tr><th scope=row>1</th><td>volkswagen</td><td>new beetle</td><td>1.9</td><td>1999</td><td>4</td><td>manual(m5)</td><td>f</td><td>35</td><td>44</td><td>d</td><td>subcompact</td><td>39.5</td></tr>\n",
              "\t<tr><th scope=row>2</th><td>volkswagen</td><td>jetta     </td><td>1.9</td><td>1999</td><td>4</td><td>manual(m5)</td><td>f</td><td>33</td><td>44</td><td>d</td><td>compact   </td><td>38.5</td></tr>\n",
              "\t<tr><th scope=row>3</th><td>volkswagen</td><td>new beetle</td><td>1.9</td><td>1999</td><td>4</td><td>auto(l4)  </td><td>f</td><td>29</td><td>41</td><td>d</td><td>subcompact</td><td>35.0</td></tr>\n",
              "</tbody>\n",
              "</table>\n"
            ]
          },
          "metadata": {
            "tags": []
          }
        }
      ]
    },
    {
      "cell_type": "code",
      "metadata": {
        "id": "AY_AdKi7zNbZ",
        "colab_type": "code",
        "outputId": "a8177438-a01f-4e37-93ca-fd1b0d7beb62",
        "colab": {
          "base_uri": "https://localhost:8080/",
          "height": 141
        }
      },
      "source": [
        "mpg %>% mutate('total' = (cty + hwy)/2) %>% arrange(desc (total)) %>% head(3)"
      ],
      "execution_count": 0,
      "outputs": [
        {
          "output_type": "display_data",
          "data": {
            "text/plain": [
              "  manufacturer model      displ year cyl trans      drv cty hwy fl class     \n",
              "1 volkswagen   new beetle 1.9   1999 4   manual(m5) f   35  44  d  subcompact\n",
              "2 volkswagen   jetta      1.9   1999 4   manual(m5) f   33  44  d  compact   \n",
              "3 volkswagen   new beetle 1.9   1999 4   auto(l4)   f   29  41  d  subcompact\n",
              "  total\n",
              "1 39.5 \n",
              "2 38.5 \n",
              "3 35.0 "
            ],
            "text/latex": "A data.frame: 3 × 12\n\\begin{tabular}{r|llllllllllll}\n  & manufacturer & model & displ & year & cyl & trans & drv & cty & hwy & fl & class & total\\\\\n  & <chr> & <chr> & <dbl> & <int> & <int> & <chr> & <chr> & <int> & <int> & <chr> & <chr> & <dbl>\\\\\n\\hline\n\t1 & volkswagen & new beetle & 1.9 & 1999 & 4 & manual(m5) & f & 35 & 44 & d & subcompact & 39.5\\\\\n\t2 & volkswagen & jetta      & 1.9 & 1999 & 4 & manual(m5) & f & 33 & 44 & d & compact    & 38.5\\\\\n\t3 & volkswagen & new beetle & 1.9 & 1999 & 4 & auto(l4)   & f & 29 & 41 & d & subcompact & 35.0\\\\\n\\end{tabular}\n",
            "text/markdown": "\nA data.frame: 3 × 12\n\n| <!--/--> | manufacturer &lt;chr&gt; | model &lt;chr&gt; | displ &lt;dbl&gt; | year &lt;int&gt; | cyl &lt;int&gt; | trans &lt;chr&gt; | drv &lt;chr&gt; | cty &lt;int&gt; | hwy &lt;int&gt; | fl &lt;chr&gt; | class &lt;chr&gt; | total &lt;dbl&gt; |\n|---|---|---|---|---|---|---|---|---|---|---|---|---|\n| 1 | volkswagen | new beetle | 1.9 | 1999 | 4 | manual(m5) | f | 35 | 44 | d | subcompact | 39.5 |\n| 2 | volkswagen | jetta      | 1.9 | 1999 | 4 | manual(m5) | f | 33 | 44 | d | compact    | 38.5 |\n| 3 | volkswagen | new beetle | 1.9 | 1999 | 4 | auto(l4)   | f | 29 | 41 | d | subcompact | 35.0 |\n\n",
            "text/html": [
              "<table>\n",
              "<caption>A data.frame: 3 × 12</caption>\n",
              "<thead>\n",
              "\t<tr><th></th><th scope=col>manufacturer</th><th scope=col>model</th><th scope=col>displ</th><th scope=col>year</th><th scope=col>cyl</th><th scope=col>trans</th><th scope=col>drv</th><th scope=col>cty</th><th scope=col>hwy</th><th scope=col>fl</th><th scope=col>class</th><th scope=col>total</th></tr>\n",
              "\t<tr><th></th><th scope=col>&lt;chr&gt;</th><th scope=col>&lt;chr&gt;</th><th scope=col>&lt;dbl&gt;</th><th scope=col>&lt;int&gt;</th><th scope=col>&lt;int&gt;</th><th scope=col>&lt;chr&gt;</th><th scope=col>&lt;chr&gt;</th><th scope=col>&lt;int&gt;</th><th scope=col>&lt;int&gt;</th><th scope=col>&lt;chr&gt;</th><th scope=col>&lt;chr&gt;</th><th scope=col>&lt;dbl&gt;</th></tr>\n",
              "</thead>\n",
              "<tbody>\n",
              "\t<tr><th scope=row>1</th><td>volkswagen</td><td>new beetle</td><td>1.9</td><td>1999</td><td>4</td><td>manual(m5)</td><td>f</td><td>35</td><td>44</td><td>d</td><td>subcompact</td><td>39.5</td></tr>\n",
              "\t<tr><th scope=row>2</th><td>volkswagen</td><td>jetta     </td><td>1.9</td><td>1999</td><td>4</td><td>manual(m5)</td><td>f</td><td>33</td><td>44</td><td>d</td><td>compact   </td><td>38.5</td></tr>\n",
              "\t<tr><th scope=row>3</th><td>volkswagen</td><td>new beetle</td><td>1.9</td><td>1999</td><td>4</td><td>auto(l4)  </td><td>f</td><td>29</td><td>41</td><td>d</td><td>subcompact</td><td>35.0</td></tr>\n",
              "</tbody>\n",
              "</table>\n"
            ]
          },
          "metadata": {
            "tags": []
          }
        }
      ]
    },
    {
      "cell_type": "code",
      "metadata": {
        "id": "YYvQvKyNz17u",
        "colab_type": "code",
        "outputId": "4dd917b9-e094-4a68-f9ad-12493fe59f9c",
        "colab": {
          "base_uri": "https://localhost:8080/",
          "height": 183
        }
      },
      "source": [
        "mpg %>% head(5)"
      ],
      "execution_count": 0,
      "outputs": [
        {
          "output_type": "display_data",
          "data": {
            "text/plain": [
              "  manufacturer model displ year cyl trans      drv cty hwy fl class  \n",
              "1 audi         a4    1.8   1999 4   auto(l5)   f   18  29  p  compact\n",
              "2 audi         a4    1.8   1999 4   manual(m5) f   21  29  p  compact\n",
              "3 audi         a4    2.0   2008 4   manual(m6) f   20  31  p  compact\n",
              "4 audi         a4    2.0   2008 4   auto(av)   f   21  30  p  compact\n",
              "5 audi         a4    2.8   1999 6   auto(l5)   f   16  26  p  compact"
            ],
            "text/latex": "A data.frame: 5 × 11\n\\begin{tabular}{r|lllllllllll}\n  & manufacturer & model & displ & year & cyl & trans & drv & cty & hwy & fl & class\\\\\n  & <chr> & <chr> & <dbl> & <int> & <int> & <chr> & <chr> & <int> & <int> & <chr> & <chr>\\\\\n\\hline\n\t1 & audi & a4 & 1.8 & 1999 & 4 & auto(l5)   & f & 18 & 29 & p & compact\\\\\n\t2 & audi & a4 & 1.8 & 1999 & 4 & manual(m5) & f & 21 & 29 & p & compact\\\\\n\t3 & audi & a4 & 2.0 & 2008 & 4 & manual(m6) & f & 20 & 31 & p & compact\\\\\n\t4 & audi & a4 & 2.0 & 2008 & 4 & auto(av)   & f & 21 & 30 & p & compact\\\\\n\t5 & audi & a4 & 2.8 & 1999 & 6 & auto(l5)   & f & 16 & 26 & p & compact\\\\\n\\end{tabular}\n",
            "text/markdown": "\nA data.frame: 5 × 11\n\n| <!--/--> | manufacturer &lt;chr&gt; | model &lt;chr&gt; | displ &lt;dbl&gt; | year &lt;int&gt; | cyl &lt;int&gt; | trans &lt;chr&gt; | drv &lt;chr&gt; | cty &lt;int&gt; | hwy &lt;int&gt; | fl &lt;chr&gt; | class &lt;chr&gt; |\n|---|---|---|---|---|---|---|---|---|---|---|---|\n| 1 | audi | a4 | 1.8 | 1999 | 4 | auto(l5)   | f | 18 | 29 | p | compact |\n| 2 | audi | a4 | 1.8 | 1999 | 4 | manual(m5) | f | 21 | 29 | p | compact |\n| 3 | audi | a4 | 2.0 | 2008 | 4 | manual(m6) | f | 20 | 31 | p | compact |\n| 4 | audi | a4 | 2.0 | 2008 | 4 | auto(av)   | f | 21 | 30 | p | compact |\n| 5 | audi | a4 | 2.8 | 1999 | 6 | auto(l5)   | f | 16 | 26 | p | compact |\n\n",
            "text/html": [
              "<table>\n",
              "<caption>A data.frame: 5 × 11</caption>\n",
              "<thead>\n",
              "\t<tr><th></th><th scope=col>manufacturer</th><th scope=col>model</th><th scope=col>displ</th><th scope=col>year</th><th scope=col>cyl</th><th scope=col>trans</th><th scope=col>drv</th><th scope=col>cty</th><th scope=col>hwy</th><th scope=col>fl</th><th scope=col>class</th></tr>\n",
              "\t<tr><th></th><th scope=col>&lt;chr&gt;</th><th scope=col>&lt;chr&gt;</th><th scope=col>&lt;dbl&gt;</th><th scope=col>&lt;int&gt;</th><th scope=col>&lt;int&gt;</th><th scope=col>&lt;chr&gt;</th><th scope=col>&lt;chr&gt;</th><th scope=col>&lt;int&gt;</th><th scope=col>&lt;int&gt;</th><th scope=col>&lt;chr&gt;</th><th scope=col>&lt;chr&gt;</th></tr>\n",
              "</thead>\n",
              "<tbody>\n",
              "\t<tr><th scope=row>1</th><td>audi</td><td>a4</td><td>1.8</td><td>1999</td><td>4</td><td>auto(l5)  </td><td>f</td><td>18</td><td>29</td><td>p</td><td>compact</td></tr>\n",
              "\t<tr><th scope=row>2</th><td>audi</td><td>a4</td><td>1.8</td><td>1999</td><td>4</td><td>manual(m5)</td><td>f</td><td>21</td><td>29</td><td>p</td><td>compact</td></tr>\n",
              "\t<tr><th scope=row>3</th><td>audi</td><td>a4</td><td>2.0</td><td>2008</td><td>4</td><td>manual(m6)</td><td>f</td><td>20</td><td>31</td><td>p</td><td>compact</td></tr>\n",
              "\t<tr><th scope=row>4</th><td>audi</td><td>a4</td><td>2.0</td><td>2008</td><td>4</td><td>auto(av)  </td><td>f</td><td>21</td><td>30</td><td>p</td><td>compact</td></tr>\n",
              "\t<tr><th scope=row>5</th><td>audi</td><td>a4</td><td>2.8</td><td>1999</td><td>6</td><td>auto(l5)  </td><td>f</td><td>16</td><td>26</td><td>p</td><td>compact</td></tr>\n",
              "</tbody>\n",
              "</table>\n"
            ]
          },
          "metadata": {
            "tags": []
          }
        }
      ]
    },
    {
      "cell_type": "code",
      "metadata": {
        "id": "bfMo5BZc7k4a",
        "colab_type": "code",
        "outputId": "0ad8bd09-3a95-4986-ef1f-46b02c7c50be",
        "colab": {
          "base_uri": "https://localhost:8080/",
          "height": 225
        }
      },
      "source": [
        "mpg_class <- mpg %>% group_by( class ) %>% summarise( mean_cty = mean(cty))\n",
        "mpg_class"
      ],
      "execution_count": 0,
      "outputs": [
        {
          "output_type": "display_data",
          "data": {
            "text/plain": [
              "  class      mean_cty\n",
              "1 2seater    15.40000\n",
              "2 compact    20.12766\n",
              "3 midsize    18.75610\n",
              "4 minivan    15.81818\n",
              "5 pickup     13.00000\n",
              "6 subcompact 20.37143\n",
              "7 suv        13.50000"
            ],
            "text/latex": "A tibble: 7 × 2\n\\begin{tabular}{ll}\n class & mean\\_cty\\\\\n <chr> & <dbl>\\\\\n\\hline\n\t 2seater    & 15.40000\\\\\n\t compact    & 20.12766\\\\\n\t midsize    & 18.75610\\\\\n\t minivan    & 15.81818\\\\\n\t pickup     & 13.00000\\\\\n\t subcompact & 20.37143\\\\\n\t suv        & 13.50000\\\\\n\\end{tabular}\n",
            "text/markdown": "\nA tibble: 7 × 2\n\n| class &lt;chr&gt; | mean_cty &lt;dbl&gt; |\n|---|---|\n| 2seater    | 15.40000 |\n| compact    | 20.12766 |\n| midsize    | 18.75610 |\n| minivan    | 15.81818 |\n| pickup     | 13.00000 |\n| subcompact | 20.37143 |\n| suv        | 13.50000 |\n\n",
            "text/html": [
              "<table>\n",
              "<caption>A tibble: 7 × 2</caption>\n",
              "<thead>\n",
              "\t<tr><th scope=col>class</th><th scope=col>mean_cty</th></tr>\n",
              "\t<tr><th scope=col>&lt;chr&gt;</th><th scope=col>&lt;dbl&gt;</th></tr>\n",
              "</thead>\n",
              "<tbody>\n",
              "\t<tr><td>2seater   </td><td>15.40000</td></tr>\n",
              "\t<tr><td>compact   </td><td>20.12766</td></tr>\n",
              "\t<tr><td>midsize   </td><td>18.75610</td></tr>\n",
              "\t<tr><td>minivan   </td><td>15.81818</td></tr>\n",
              "\t<tr><td>pickup    </td><td>13.00000</td></tr>\n",
              "\t<tr><td>subcompact</td><td>20.37143</td></tr>\n",
              "\t<tr><td>suv       </td><td>13.50000</td></tr>\n",
              "</tbody>\n",
              "</table>\n"
            ]
          },
          "metadata": {
            "tags": []
          }
        }
      ]
    },
    {
      "cell_type": "code",
      "metadata": {
        "id": "ZOAZF57y8Oy3",
        "colab_type": "code",
        "outputId": "76cfd6c4-46c7-4b21-8ff8-9d1a1222ddaf",
        "colab": {
          "base_uri": "https://localhost:8080/",
          "height": 225
        }
      },
      "source": [
        "mpg_class %>% arrange(desc (mean_cty))"
      ],
      "execution_count": 0,
      "outputs": [
        {
          "output_type": "display_data",
          "data": {
            "text/plain": [
              "  class      mean_cty\n",
              "1 subcompact 20.37143\n",
              "2 compact    20.12766\n",
              "3 midsize    18.75610\n",
              "4 minivan    15.81818\n",
              "5 2seater    15.40000\n",
              "6 suv        13.50000\n",
              "7 pickup     13.00000"
            ],
            "text/latex": "A tibble: 7 × 2\n\\begin{tabular}{ll}\n class & mean\\_cty\\\\\n <chr> & <dbl>\\\\\n\\hline\n\t subcompact & 20.37143\\\\\n\t compact    & 20.12766\\\\\n\t midsize    & 18.75610\\\\\n\t minivan    & 15.81818\\\\\n\t 2seater    & 15.40000\\\\\n\t suv        & 13.50000\\\\\n\t pickup     & 13.00000\\\\\n\\end{tabular}\n",
            "text/markdown": "\nA tibble: 7 × 2\n\n| class &lt;chr&gt; | mean_cty &lt;dbl&gt; |\n|---|---|\n| subcompact | 20.37143 |\n| compact    | 20.12766 |\n| midsize    | 18.75610 |\n| minivan    | 15.81818 |\n| 2seater    | 15.40000 |\n| suv        | 13.50000 |\n| pickup     | 13.00000 |\n\n",
            "text/html": [
              "<table>\n",
              "<caption>A tibble: 7 × 2</caption>\n",
              "<thead>\n",
              "\t<tr><th scope=col>class</th><th scope=col>mean_cty</th></tr>\n",
              "\t<tr><th scope=col>&lt;chr&gt;</th><th scope=col>&lt;dbl&gt;</th></tr>\n",
              "</thead>\n",
              "<tbody>\n",
              "\t<tr><td>subcompact</td><td>20.37143</td></tr>\n",
              "\t<tr><td>compact   </td><td>20.12766</td></tr>\n",
              "\t<tr><td>midsize   </td><td>18.75610</td></tr>\n",
              "\t<tr><td>minivan   </td><td>15.81818</td></tr>\n",
              "\t<tr><td>2seater   </td><td>15.40000</td></tr>\n",
              "\t<tr><td>suv       </td><td>13.50000</td></tr>\n",
              "\t<tr><td>pickup    </td><td>13.00000</td></tr>\n",
              "</tbody>\n",
              "</table>\n"
            ]
          },
          "metadata": {
            "tags": []
          }
        }
      ]
    },
    {
      "cell_type": "code",
      "metadata": {
        "id": "Pwz6MeZ19Tjk",
        "colab_type": "code",
        "outputId": "43be03ef-1cc4-4b16-991d-c4ba754841f5",
        "colab": {
          "base_uri": "https://localhost:8080/",
          "height": 141
        }
      },
      "source": [
        "mpg_manu <- mpg %>% group_by(manufacturer) %>% summarise( mean_hwy = mean(hwy)) %>% arrange( desc(mean_hwy))\n",
        "mpg_manu %>% head(3)"
      ],
      "execution_count": 0,
      "outputs": [
        {
          "output_type": "display_data",
          "data": {
            "text/plain": [
              "  manufacturer mean_hwy\n",
              "1 honda        32.55556\n",
              "2 volkswagen   29.22222\n",
              "3 hyundai      26.85714"
            ],
            "text/latex": "A tibble: 3 × 2\n\\begin{tabular}{ll}\n manufacturer & mean\\_hwy\\\\\n <chr> & <dbl>\\\\\n\\hline\n\t honda      & 32.55556\\\\\n\t volkswagen & 29.22222\\\\\n\t hyundai    & 26.85714\\\\\n\\end{tabular}\n",
            "text/markdown": "\nA tibble: 3 × 2\n\n| manufacturer &lt;chr&gt; | mean_hwy &lt;dbl&gt; |\n|---|---|\n| honda      | 32.55556 |\n| volkswagen | 29.22222 |\n| hyundai    | 26.85714 |\n\n",
            "text/html": [
              "<table>\n",
              "<caption>A tibble: 3 × 2</caption>\n",
              "<thead>\n",
              "\t<tr><th scope=col>manufacturer</th><th scope=col>mean_hwy</th></tr>\n",
              "\t<tr><th scope=col>&lt;chr&gt;</th><th scope=col>&lt;dbl&gt;</th></tr>\n",
              "</thead>\n",
              "<tbody>\n",
              "\t<tr><td>honda     </td><td>32.55556</td></tr>\n",
              "\t<tr><td>volkswagen</td><td>29.22222</td></tr>\n",
              "\t<tr><td>hyundai   </td><td>26.85714</td></tr>\n",
              "</tbody>\n",
              "</table>\n"
            ]
          },
          "metadata": {
            "tags": []
          }
        }
      ]
    },
    {
      "cell_type": "code",
      "metadata": {
        "id": "xNBMTO5u9we3",
        "colab_type": "code",
        "outputId": "5374cc26-0c39-47da-e8c1-10ca27c51236",
        "colab": {
          "base_uri": "https://localhost:8080/",
          "height": 183
        }
      },
      "source": [
        "mpg %>% filter(class == \"compact\") %>% group_by(manufacturer) %>%  summarise(count = n()) %>% arrange( desc(count))"
      ],
      "execution_count": 0,
      "outputs": [
        {
          "output_type": "display_data",
          "data": {
            "text/plain": [
              "  manufacturer count\n",
              "1 audi         15   \n",
              "2 volkswagen   14   \n",
              "3 toyota       12   \n",
              "4 subaru        4   \n",
              "5 nissan        2   "
            ],
            "text/latex": "A tibble: 5 × 2\n\\begin{tabular}{ll}\n manufacturer & count\\\\\n <chr> & <int>\\\\\n\\hline\n\t audi       & 15\\\\\n\t volkswagen & 14\\\\\n\t toyota     & 12\\\\\n\t subaru     &  4\\\\\n\t nissan     &  2\\\\\n\\end{tabular}\n",
            "text/markdown": "\nA tibble: 5 × 2\n\n| manufacturer &lt;chr&gt; | count &lt;int&gt; |\n|---|---|\n| audi       | 15 |\n| volkswagen | 14 |\n| toyota     | 12 |\n| subaru     |  4 |\n| nissan     |  2 |\n\n",
            "text/html": [
              "<table>\n",
              "<caption>A tibble: 5 × 2</caption>\n",
              "<thead>\n",
              "\t<tr><th scope=col>manufacturer</th><th scope=col>count</th></tr>\n",
              "\t<tr><th scope=col>&lt;chr&gt;</th><th scope=col>&lt;int&gt;</th></tr>\n",
              "</thead>\n",
              "<tbody>\n",
              "\t<tr><td>audi      </td><td>15</td></tr>\n",
              "\t<tr><td>volkswagen</td><td>14</td></tr>\n",
              "\t<tr><td>toyota    </td><td>12</td></tr>\n",
              "\t<tr><td>subaru    </td><td> 4</td></tr>\n",
              "\t<tr><td>nissan    </td><td> 2</td></tr>\n",
              "</tbody>\n",
              "</table>\n"
            ]
          },
          "metadata": {
            "tags": []
          }
        }
      ]
    },
    {
      "cell_type": "code",
      "metadata": {
        "id": "kNKX2o4a-O9s",
        "colab_type": "code",
        "colab": {}
      },
      "source": [
        "test1 <- data.frame(id = c(1, 2, 3, 4, 5),                     \n",
        "          midterm = c(60, 80, 70, 90, 85)) "
      ],
      "execution_count": 0,
      "outputs": []
    },
    {
      "cell_type": "code",
      "metadata": {
        "id": "lc6JC9-q_3eY",
        "colab_type": "code",
        "colab": {}
      },
      "source": [
        "test2 <- data.frame(id = c(1, 2, 3, 4, 5),                    \n",
        "          final = c(70, 83, 65, 95, 80))"
      ],
      "execution_count": 0,
      "outputs": []
    },
    {
      "cell_type": "code",
      "metadata": {
        "id": "FkV6-hEF_6fe",
        "colab_type": "code",
        "outputId": "a150b590-e222-499a-943c-39e412c6bc76",
        "colab": {
          "base_uri": "https://localhost:8080/",
          "height": 183
        }
      },
      "source": [
        "total <- left_join(test1, test2, by = \"id\")  # id 기준으로 합쳐 total 에 할당\n",
        " total                                        # total 출력"
      ],
      "execution_count": 0,
      "outputs": [
        {
          "output_type": "display_data",
          "data": {
            "text/plain": [
              "  id midterm final\n",
              "1 1  60      70   \n",
              "2 2  80      83   \n",
              "3 3  70      65   \n",
              "4 4  90      95   \n",
              "5 5  85      80   "
            ],
            "text/latex": "A data.frame: 5 × 3\n\\begin{tabular}{lll}\n id & midterm & final\\\\\n <dbl> & <dbl> & <dbl>\\\\\n\\hline\n\t 1 & 60 & 70\\\\\n\t 2 & 80 & 83\\\\\n\t 3 & 70 & 65\\\\\n\t 4 & 90 & 95\\\\\n\t 5 & 85 & 80\\\\\n\\end{tabular}\n",
            "text/markdown": "\nA data.frame: 5 × 3\n\n| id &lt;dbl&gt; | midterm &lt;dbl&gt; | final &lt;dbl&gt; |\n|---|---|---|\n| 1 | 60 | 70 |\n| 2 | 80 | 83 |\n| 3 | 70 | 65 |\n| 4 | 90 | 95 |\n| 5 | 85 | 80 |\n\n",
            "text/html": [
              "<table>\n",
              "<caption>A data.frame: 5 × 3</caption>\n",
              "<thead>\n",
              "\t<tr><th scope=col>id</th><th scope=col>midterm</th><th scope=col>final</th></tr>\n",
              "\t<tr><th scope=col>&lt;dbl&gt;</th><th scope=col>&lt;dbl&gt;</th><th scope=col>&lt;dbl&gt;</th></tr>\n",
              "</thead>\n",
              "<tbody>\n",
              "\t<tr><td>1</td><td>60</td><td>70</td></tr>\n",
              "\t<tr><td>2</td><td>80</td><td>83</td></tr>\n",
              "\t<tr><td>3</td><td>70</td><td>65</td></tr>\n",
              "\t<tr><td>4</td><td>90</td><td>95</td></tr>\n",
              "\t<tr><td>5</td><td>85</td><td>80</td></tr>\n",
              "</tbody>\n",
              "</table>\n"
            ]
          },
          "metadata": {
            "tags": []
          }
        }
      ]
    },
    {
      "cell_type": "code",
      "metadata": {
        "id": "0ojk-PKG_9mO",
        "colab_type": "code",
        "outputId": "59e0e955-8e8c-42b6-d604-c517b543e979",
        "colab": {
          "base_uri": "https://localhost:8080/",
          "height": 183
        }
      },
      "source": [
        "mpg %>% head(5)"
      ],
      "execution_count": 0,
      "outputs": [
        {
          "output_type": "display_data",
          "data": {
            "text/plain": [
              "  manufacturer model displ year cyl trans      drv cty hwy fl class  \n",
              "1 audi         a4    1.8   1999 4   auto(l5)   f   18  29  p  compact\n",
              "2 audi         a4    1.8   1999 4   manual(m5) f   21  29  p  compact\n",
              "3 audi         a4    2.0   2008 4   manual(m6) f   20  31  p  compact\n",
              "4 audi         a4    2.0   2008 4   auto(av)   f   21  30  p  compact\n",
              "5 audi         a4    2.8   1999 6   auto(l5)   f   16  26  p  compact"
            ],
            "text/latex": "A data.frame: 5 × 11\n\\begin{tabular}{r|lllllllllll}\n  & manufacturer & model & displ & year & cyl & trans & drv & cty & hwy & fl & class\\\\\n  & <chr> & <chr> & <dbl> & <int> & <int> & <chr> & <chr> & <int> & <int> & <chr> & <chr>\\\\\n\\hline\n\t1 & audi & a4 & 1.8 & 1999 & 4 & auto(l5)   & f & 18 & 29 & p & compact\\\\\n\t2 & audi & a4 & 1.8 & 1999 & 4 & manual(m5) & f & 21 & 29 & p & compact\\\\\n\t3 & audi & a4 & 2.0 & 2008 & 4 & manual(m6) & f & 20 & 31 & p & compact\\\\\n\t4 & audi & a4 & 2.0 & 2008 & 4 & auto(av)   & f & 21 & 30 & p & compact\\\\\n\t5 & audi & a4 & 2.8 & 1999 & 6 & auto(l5)   & f & 16 & 26 & p & compact\\\\\n\\end{tabular}\n",
            "text/markdown": "\nA data.frame: 5 × 11\n\n| <!--/--> | manufacturer &lt;chr&gt; | model &lt;chr&gt; | displ &lt;dbl&gt; | year &lt;int&gt; | cyl &lt;int&gt; | trans &lt;chr&gt; | drv &lt;chr&gt; | cty &lt;int&gt; | hwy &lt;int&gt; | fl &lt;chr&gt; | class &lt;chr&gt; |\n|---|---|---|---|---|---|---|---|---|---|---|---|\n| 1 | audi | a4 | 1.8 | 1999 | 4 | auto(l5)   | f | 18 | 29 | p | compact |\n| 2 | audi | a4 | 1.8 | 1999 | 4 | manual(m5) | f | 21 | 29 | p | compact |\n| 3 | audi | a4 | 2.0 | 2008 | 4 | manual(m6) | f | 20 | 31 | p | compact |\n| 4 | audi | a4 | 2.0 | 2008 | 4 | auto(av)   | f | 21 | 30 | p | compact |\n| 5 | audi | a4 | 2.8 | 1999 | 6 | auto(l5)   | f | 16 | 26 | p | compact |\n\n",
            "text/html": [
              "<table>\n",
              "<caption>A data.frame: 5 × 11</caption>\n",
              "<thead>\n",
              "\t<tr><th></th><th scope=col>manufacturer</th><th scope=col>model</th><th scope=col>displ</th><th scope=col>year</th><th scope=col>cyl</th><th scope=col>trans</th><th scope=col>drv</th><th scope=col>cty</th><th scope=col>hwy</th><th scope=col>fl</th><th scope=col>class</th></tr>\n",
              "\t<tr><th></th><th scope=col>&lt;chr&gt;</th><th scope=col>&lt;chr&gt;</th><th scope=col>&lt;dbl&gt;</th><th scope=col>&lt;int&gt;</th><th scope=col>&lt;int&gt;</th><th scope=col>&lt;chr&gt;</th><th scope=col>&lt;chr&gt;</th><th scope=col>&lt;int&gt;</th><th scope=col>&lt;int&gt;</th><th scope=col>&lt;chr&gt;</th><th scope=col>&lt;chr&gt;</th></tr>\n",
              "</thead>\n",
              "<tbody>\n",
              "\t<tr><th scope=row>1</th><td>audi</td><td>a4</td><td>1.8</td><td>1999</td><td>4</td><td>auto(l5)  </td><td>f</td><td>18</td><td>29</td><td>p</td><td>compact</td></tr>\n",
              "\t<tr><th scope=row>2</th><td>audi</td><td>a4</td><td>1.8</td><td>1999</td><td>4</td><td>manual(m5)</td><td>f</td><td>21</td><td>29</td><td>p</td><td>compact</td></tr>\n",
              "\t<tr><th scope=row>3</th><td>audi</td><td>a4</td><td>2.0</td><td>2008</td><td>4</td><td>manual(m6)</td><td>f</td><td>20</td><td>31</td><td>p</td><td>compact</td></tr>\n",
              "\t<tr><th scope=row>4</th><td>audi</td><td>a4</td><td>2.0</td><td>2008</td><td>4</td><td>auto(av)  </td><td>f</td><td>21</td><td>30</td><td>p</td><td>compact</td></tr>\n",
              "\t<tr><th scope=row>5</th><td>audi</td><td>a4</td><td>2.8</td><td>1999</td><td>6</td><td>auto(l5)  </td><td>f</td><td>16</td><td>26</td><td>p</td><td>compact</td></tr>\n",
              "</tbody>\n",
              "</table>\n"
            ]
          },
          "metadata": {
            "tags": []
          }
        }
      ]
    },
    {
      "cell_type": "code",
      "metadata": {
        "id": "MFRZT7irBSIu",
        "colab_type": "code",
        "outputId": "ece9dad5-9e4f-4bb2-9977-0511df656dce",
        "colab": {
          "base_uri": "https://localhost:8080/",
          "height": 200
        }
      },
      "source": [
        "fuel <- data.frame(fl = c(\"c\", \"d\", \"e\", \"p\", \"r\"),                    \n",
        "  price_fl = c(2.35, 2.38, 2.11, 2.76, 2.22), stringsAsFactors = F)\n",
        "fuel"
      ],
      "execution_count": 0,
      "outputs": [
        {
          "output_type": "display_data",
          "data": {
            "text/plain": [
              "  fl price_fl\n",
              "1 c  2.35    \n",
              "2 d  2.38    \n",
              "3 e  2.11    \n",
              "4 p  2.76    \n",
              "5 r  2.22    "
            ],
            "text/latex": "A data.frame: 5 × 2\n\\begin{tabular}{ll}\n fl & price\\_fl\\\\\n <chr> & <dbl>\\\\\n\\hline\n\t c & 2.35\\\\\n\t d & 2.38\\\\\n\t e & 2.11\\\\\n\t p & 2.76\\\\\n\t r & 2.22\\\\\n\\end{tabular}\n",
            "text/markdown": "\nA data.frame: 5 × 2\n\n| fl &lt;chr&gt; | price_fl &lt;dbl&gt; |\n|---|---|\n| c | 2.35 |\n| d | 2.38 |\n| e | 2.11 |\n| p | 2.76 |\n| r | 2.22 |\n\n",
            "text/html": [
              "<table>\n",
              "<caption>A data.frame: 5 × 2</caption>\n",
              "<thead>\n",
              "\t<tr><th scope=col>fl</th><th scope=col>price_fl</th></tr>\n",
              "\t<tr><th scope=col>&lt;chr&gt;</th><th scope=col>&lt;dbl&gt;</th></tr>\n",
              "</thead>\n",
              "<tbody>\n",
              "\t<tr><td>c</td><td>2.35</td></tr>\n",
              "\t<tr><td>d</td><td>2.38</td></tr>\n",
              "\t<tr><td>e</td><td>2.11</td></tr>\n",
              "\t<tr><td>p</td><td>2.76</td></tr>\n",
              "\t<tr><td>r</td><td>2.22</td></tr>\n",
              "</tbody>\n",
              "</table>\n"
            ]
          },
          "metadata": {
            "tags": []
          }
        }
      ]
    },
    {
      "cell_type": "code",
      "metadata": {
        "id": "cOuFD1jvBeAG",
        "colab_type": "code",
        "colab": {}
      },
      "source": [
        "mpg <- left_join(mpg, fuel, by = \"fl\")"
      ],
      "execution_count": 0,
      "outputs": []
    },
    {
      "cell_type": "code",
      "metadata": {
        "id": "6HkVOSJ2B6cF",
        "colab_type": "code",
        "outputId": "7f45776f-82f7-42b3-d5eb-bbf1ccbbf84a",
        "colab": {
          "base_uri": "https://localhost:8080/",
          "height": 183
        }
      },
      "source": [
        "mpg %>% head(5)"
      ],
      "execution_count": 0,
      "outputs": [
        {
          "output_type": "display_data",
          "data": {
            "text/plain": [
              "  manufacturer model displ year cyl trans      drv cty hwy fl class   price_fl\n",
              "1 audi         a4    1.8   1999 4   auto(l5)   f   18  29  p  compact 2.76    \n",
              "2 audi         a4    1.8   1999 4   manual(m5) f   21  29  p  compact 2.76    \n",
              "3 audi         a4    2.0   2008 4   manual(m6) f   20  31  p  compact 2.76    \n",
              "4 audi         a4    2.0   2008 4   auto(av)   f   21  30  p  compact 2.76    \n",
              "5 audi         a4    2.8   1999 6   auto(l5)   f   16  26  p  compact 2.76    "
            ],
            "text/latex": "A data.frame: 5 × 12\n\\begin{tabular}{r|llllllllllll}\n  & manufacturer & model & displ & year & cyl & trans & drv & cty & hwy & fl & class & price\\_fl\\\\\n  & <chr> & <chr> & <dbl> & <int> & <int> & <chr> & <chr> & <int> & <int> & <chr> & <chr> & <dbl>\\\\\n\\hline\n\t1 & audi & a4 & 1.8 & 1999 & 4 & auto(l5)   & f & 18 & 29 & p & compact & 2.76\\\\\n\t2 & audi & a4 & 1.8 & 1999 & 4 & manual(m5) & f & 21 & 29 & p & compact & 2.76\\\\\n\t3 & audi & a4 & 2.0 & 2008 & 4 & manual(m6) & f & 20 & 31 & p & compact & 2.76\\\\\n\t4 & audi & a4 & 2.0 & 2008 & 4 & auto(av)   & f & 21 & 30 & p & compact & 2.76\\\\\n\t5 & audi & a4 & 2.8 & 1999 & 6 & auto(l5)   & f & 16 & 26 & p & compact & 2.76\\\\\n\\end{tabular}\n",
            "text/markdown": "\nA data.frame: 5 × 12\n\n| <!--/--> | manufacturer &lt;chr&gt; | model &lt;chr&gt; | displ &lt;dbl&gt; | year &lt;int&gt; | cyl &lt;int&gt; | trans &lt;chr&gt; | drv &lt;chr&gt; | cty &lt;int&gt; | hwy &lt;int&gt; | fl &lt;chr&gt; | class &lt;chr&gt; | price_fl &lt;dbl&gt; |\n|---|---|---|---|---|---|---|---|---|---|---|---|---|\n| 1 | audi | a4 | 1.8 | 1999 | 4 | auto(l5)   | f | 18 | 29 | p | compact | 2.76 |\n| 2 | audi | a4 | 1.8 | 1999 | 4 | manual(m5) | f | 21 | 29 | p | compact | 2.76 |\n| 3 | audi | a4 | 2.0 | 2008 | 4 | manual(m6) | f | 20 | 31 | p | compact | 2.76 |\n| 4 | audi | a4 | 2.0 | 2008 | 4 | auto(av)   | f | 21 | 30 | p | compact | 2.76 |\n| 5 | audi | a4 | 2.8 | 1999 | 6 | auto(l5)   | f | 16 | 26 | p | compact | 2.76 |\n\n",
            "text/html": [
              "<table>\n",
              "<caption>A data.frame: 5 × 12</caption>\n",
              "<thead>\n",
              "\t<tr><th></th><th scope=col>manufacturer</th><th scope=col>model</th><th scope=col>displ</th><th scope=col>year</th><th scope=col>cyl</th><th scope=col>trans</th><th scope=col>drv</th><th scope=col>cty</th><th scope=col>hwy</th><th scope=col>fl</th><th scope=col>class</th><th scope=col>price_fl</th></tr>\n",
              "\t<tr><th></th><th scope=col>&lt;chr&gt;</th><th scope=col>&lt;chr&gt;</th><th scope=col>&lt;dbl&gt;</th><th scope=col>&lt;int&gt;</th><th scope=col>&lt;int&gt;</th><th scope=col>&lt;chr&gt;</th><th scope=col>&lt;chr&gt;</th><th scope=col>&lt;int&gt;</th><th scope=col>&lt;int&gt;</th><th scope=col>&lt;chr&gt;</th><th scope=col>&lt;chr&gt;</th><th scope=col>&lt;dbl&gt;</th></tr>\n",
              "</thead>\n",
              "<tbody>\n",
              "\t<tr><th scope=row>1</th><td>audi</td><td>a4</td><td>1.8</td><td>1999</td><td>4</td><td>auto(l5)  </td><td>f</td><td>18</td><td>29</td><td>p</td><td>compact</td><td>2.76</td></tr>\n",
              "\t<tr><th scope=row>2</th><td>audi</td><td>a4</td><td>1.8</td><td>1999</td><td>4</td><td>manual(m5)</td><td>f</td><td>21</td><td>29</td><td>p</td><td>compact</td><td>2.76</td></tr>\n",
              "\t<tr><th scope=row>3</th><td>audi</td><td>a4</td><td>2.0</td><td>2008</td><td>4</td><td>manual(m6)</td><td>f</td><td>20</td><td>31</td><td>p</td><td>compact</td><td>2.76</td></tr>\n",
              "\t<tr><th scope=row>4</th><td>audi</td><td>a4</td><td>2.0</td><td>2008</td><td>4</td><td>auto(av)  </td><td>f</td><td>21</td><td>30</td><td>p</td><td>compact</td><td>2.76</td></tr>\n",
              "\t<tr><th scope=row>5</th><td>audi</td><td>a4</td><td>2.8</td><td>1999</td><td>6</td><td>auto(l5)  </td><td>f</td><td>16</td><td>26</td><td>p</td><td>compact</td><td>2.76</td></tr>\n",
              "</tbody>\n",
              "</table>\n"
            ]
          },
          "metadata": {
            "tags": []
          }
        }
      ]
    },
    {
      "cell_type": "markdown",
      "metadata": {
        "id": "-GC9c7nuCsj6",
        "colab_type": "text"
      },
      "source": [
        "# 1. 조건에 맞는 데이터만 추출하기\n",
        " exam %>% filter(english >= 80) \n",
        " \n",
        "# 여러 조건 동시 충족\n",
        " exam %>% filter(class == 1 & math >= 50) \n",
        " \n",
        "# 여러 조건 중 하나 이상 충족\n",
        " exam %>% filter(math >= 90 | english >= 90) exam %>% filter(class %in% c(1,3,5)) \n",
        " \n",
        " \n",
        "# 2. 필요한 변수만 추출하기\n",
        " exam %>% select(math) exam %>% select(class, math, english) \n",
        " \n",
        " \n",
        "# 3. 함수 조합하기 , 일부만 출력하기\n",
        " exam %>%   select(id, math) %>%   head(10) \n",
        "\n",
        "# 4. 순서대로 정렬하기\n",
        " exam %>% arrange(math)         # 오름차순 정렬\n",
        " exam %>% arrange(desc(math))   # 내림차순 정렬\n",
        " exam %>% arrange(class, math)  # 여러 변수 기준 오름차순 정렬\n",
        " \n",
        " \n",
        "# 5. 파생변수 추가하기\n",
        " exam %>% mutate(total = math + english + science) \n",
        " \n",
        "# 여러 파생변수 한 번에 추가하기\n",
        " exam %>%   mutate(total = math + english + science,          mean = (math + english + science)/3) \n",
        " \n",
        "# mutate() 에 ifelse() 적용하기\n",
        " exam %>% mutate(test = ifelse(science >= 60, \"pass\", \"fail\")) \n",
        " \n",
        "# 추가한 변수를 dplyr 코드에 바로 활용하기\n",
        " exam %>%   mutate(total = math + english + science) %>%   arrange(total) \n",
        "NP # 6. 집단별로 요약하기\n",
        " exam %>%   group_by(class) %>%   summarise(mean_math = mean(math)) \n",
        " \n",
        "# 각 집단별로 다시 집단 나누기\n",
        " mpg %>%   group_by(manufacturer, drv) %>%   summarise(mean_cty = mean(cty)) \n",
        " \n",
        " \n",
        "# 7. 데이터 합치기\n",
        " # 가로로 합치기\n",
        " total <- left_join(test1, test2, by = \"id\") \n",
        " \n",
        "# 세로로 합치기\n",
        " group_all <- bind_rows(group_a, group_b) \n",
        " "
      ]
    },
    {
      "cell_type": "code",
      "metadata": {
        "id": "BdpYnqokCx_t",
        "colab_type": "code",
        "outputId": "79a8f5f6-54a7-4587-ef99-41d59bea0b60",
        "colab": {
          "base_uri": "https://localhost:8080/",
          "height": 224
        }
      },
      "source": [
        "midwest <- as.data.frame(ggplot2:: midwest)\n",
        "midwest %>% head"
      ],
      "execution_count": 0,
      "outputs": [
        {
          "output_type": "display_data",
          "data": {
            "text/plain": [
              "  PID county    state area  poptotal popdensity popwhite popblack popamerindian\n",
              "1 561 ADAMS     IL    0.052 66090    1270.9615  63917    1702     98           \n",
              "2 562 ALEXANDER IL    0.014 10626     759.0000   7054    3496     19           \n",
              "3 563 BOND      IL    0.022 14991     681.4091  14477     429     35           \n",
              "4 564 BOONE     IL    0.017 30806    1812.1176  29344     127     46           \n",
              "5 565 BROWN     IL    0.018  5836     324.2222   5264     547     14           \n",
              "6 566 BUREAU    IL    0.050 35688     713.7600  35157      50     65           \n",
              "  popasian ⋯ percollege percprof poppovertyknown percpovertyknown\n",
              "1 249      ⋯ 19.63139   4.355859 63628           96.27478        \n",
              "2  48      ⋯ 11.24331   2.870315 10529           99.08714        \n",
              "3  16      ⋯ 17.03382   4.488572 14235           94.95697        \n",
              "4 150      ⋯ 17.27895   4.197800 30337           98.47757        \n",
              "5   5      ⋯ 14.47600   3.367680  4815           82.50514        \n",
              "6 195      ⋯ 18.90462   3.275891 35107           98.37200        \n",
              "  percbelowpoverty percchildbelowpovert percadultpoverty percelderlypoverty\n",
              "1 13.151443        18.01172             11.009776        12.443812         \n",
              "2 32.244278        45.82651             27.385647        25.228976         \n",
              "3 12.068844        14.03606             10.852090        12.697410         \n",
              "4  7.209019        11.17954              5.536013         6.217047         \n",
              "5 13.520249        13.02289             11.143211        19.200000         \n",
              "6 10.399635        14.15882              8.179287        11.008586         \n",
              "  inmetro category\n",
              "1 0       AAR     \n",
              "2 0       LHR     \n",
              "3 0       AAR     \n",
              "4 1       ALU     \n",
              "5 0       AAR     \n",
              "6 0       AAR     "
            ],
            "text/latex": "A data.frame: 6 × 28\n\\begin{tabular}{r|lllllllllllllllllllll}\n  & PID & county & state & area & poptotal & popdensity & popwhite & popblack & popamerindian & popasian & ⋯ & percollege & percprof & poppovertyknown & percpovertyknown & percbelowpoverty & percchildbelowpovert & percadultpoverty & percelderlypoverty & inmetro & category\\\\\n  & <int> & <chr> & <chr> & <dbl> & <int> & <dbl> & <int> & <int> & <int> & <int> & ⋯ & <dbl> & <dbl> & <int> & <dbl> & <dbl> & <dbl> & <dbl> & <dbl> & <int> & <chr>\\\\\n\\hline\n\t1 & 561 & ADAMS     & IL & 0.052 & 66090 & 1270.9615 & 63917 & 1702 & 98 & 249 & ⋯ & 19.63139 & 4.355859 & 63628 & 96.27478 & 13.151443 & 18.01172 & 11.009776 & 12.443812 & 0 & AAR\\\\\n\t2 & 562 & ALEXANDER & IL & 0.014 & 10626 &  759.0000 &  7054 & 3496 & 19 &  48 & ⋯ & 11.24331 & 2.870315 & 10529 & 99.08714 & 32.244278 & 45.82651 & 27.385647 & 25.228976 & 0 & LHR\\\\\n\t3 & 563 & BOND      & IL & 0.022 & 14991 &  681.4091 & 14477 &  429 & 35 &  16 & ⋯ & 17.03382 & 4.488572 & 14235 & 94.95697 & 12.068844 & 14.03606 & 10.852090 & 12.697410 & 0 & AAR\\\\\n\t4 & 564 & BOONE     & IL & 0.017 & 30806 & 1812.1176 & 29344 &  127 & 46 & 150 & ⋯ & 17.27895 & 4.197800 & 30337 & 98.47757 &  7.209019 & 11.17954 &  5.536013 &  6.217047 & 1 & ALU\\\\\n\t5 & 565 & BROWN     & IL & 0.018 &  5836 &  324.2222 &  5264 &  547 & 14 &   5 & ⋯ & 14.47600 & 3.367680 &  4815 & 82.50514 & 13.520249 & 13.02289 & 11.143211 & 19.200000 & 0 & AAR\\\\\n\t6 & 566 & BUREAU    & IL & 0.050 & 35688 &  713.7600 & 35157 &   50 & 65 & 195 & ⋯ & 18.90462 & 3.275891 & 35107 & 98.37200 & 10.399635 & 14.15882 &  8.179287 & 11.008586 & 0 & AAR\\\\\n\\end{tabular}\n",
            "text/markdown": "\nA data.frame: 6 × 28\n\n| <!--/--> | PID &lt;int&gt; | county &lt;chr&gt; | state &lt;chr&gt; | area &lt;dbl&gt; | poptotal &lt;int&gt; | popdensity &lt;dbl&gt; | popwhite &lt;int&gt; | popblack &lt;int&gt; | popamerindian &lt;int&gt; | popasian &lt;int&gt; | ⋯ ⋯ | percollege &lt;dbl&gt; | percprof &lt;dbl&gt; | poppovertyknown &lt;int&gt; | percpovertyknown &lt;dbl&gt; | percbelowpoverty &lt;dbl&gt; | percchildbelowpovert &lt;dbl&gt; | percadultpoverty &lt;dbl&gt; | percelderlypoverty &lt;dbl&gt; | inmetro &lt;int&gt; | category &lt;chr&gt; |\n|---|---|---|---|---|---|---|---|---|---|---|---|---|---|---|---|---|---|---|---|---|---|\n| 1 | 561 | ADAMS     | IL | 0.052 | 66090 | 1270.9615 | 63917 | 1702 | 98 | 249 | ⋯ | 19.63139 | 4.355859 | 63628 | 96.27478 | 13.151443 | 18.01172 | 11.009776 | 12.443812 | 0 | AAR |\n| 2 | 562 | ALEXANDER | IL | 0.014 | 10626 |  759.0000 |  7054 | 3496 | 19 |  48 | ⋯ | 11.24331 | 2.870315 | 10529 | 99.08714 | 32.244278 | 45.82651 | 27.385647 | 25.228976 | 0 | LHR |\n| 3 | 563 | BOND      | IL | 0.022 | 14991 |  681.4091 | 14477 |  429 | 35 |  16 | ⋯ | 17.03382 | 4.488572 | 14235 | 94.95697 | 12.068844 | 14.03606 | 10.852090 | 12.697410 | 0 | AAR |\n| 4 | 564 | BOONE     | IL | 0.017 | 30806 | 1812.1176 | 29344 |  127 | 46 | 150 | ⋯ | 17.27895 | 4.197800 | 30337 | 98.47757 |  7.209019 | 11.17954 |  5.536013 |  6.217047 | 1 | ALU |\n| 5 | 565 | BROWN     | IL | 0.018 |  5836 |  324.2222 |  5264 |  547 | 14 |   5 | ⋯ | 14.47600 | 3.367680 |  4815 | 82.50514 | 13.520249 | 13.02289 | 11.143211 | 19.200000 | 0 | AAR |\n| 6 | 566 | BUREAU    | IL | 0.050 | 35688 |  713.7600 | 35157 |   50 | 65 | 195 | ⋯ | 18.90462 | 3.275891 | 35107 | 98.37200 | 10.399635 | 14.15882 |  8.179287 | 11.008586 | 0 | AAR |\n\n",
            "text/html": [
              "<table>\n",
              "<caption>A data.frame: 6 × 28</caption>\n",
              "<thead>\n",
              "\t<tr><th></th><th scope=col>PID</th><th scope=col>county</th><th scope=col>state</th><th scope=col>area</th><th scope=col>poptotal</th><th scope=col>popdensity</th><th scope=col>popwhite</th><th scope=col>popblack</th><th scope=col>popamerindian</th><th scope=col>popasian</th><th scope=col>⋯</th><th scope=col>percollege</th><th scope=col>percprof</th><th scope=col>poppovertyknown</th><th scope=col>percpovertyknown</th><th scope=col>percbelowpoverty</th><th scope=col>percchildbelowpovert</th><th scope=col>percadultpoverty</th><th scope=col>percelderlypoverty</th><th scope=col>inmetro</th><th scope=col>category</th></tr>\n",
              "\t<tr><th></th><th scope=col>&lt;int&gt;</th><th scope=col>&lt;chr&gt;</th><th scope=col>&lt;chr&gt;</th><th scope=col>&lt;dbl&gt;</th><th scope=col>&lt;int&gt;</th><th scope=col>&lt;dbl&gt;</th><th scope=col>&lt;int&gt;</th><th scope=col>&lt;int&gt;</th><th scope=col>&lt;int&gt;</th><th scope=col>&lt;int&gt;</th><th scope=col>⋯</th><th scope=col>&lt;dbl&gt;</th><th scope=col>&lt;dbl&gt;</th><th scope=col>&lt;int&gt;</th><th scope=col>&lt;dbl&gt;</th><th scope=col>&lt;dbl&gt;</th><th scope=col>&lt;dbl&gt;</th><th scope=col>&lt;dbl&gt;</th><th scope=col>&lt;dbl&gt;</th><th scope=col>&lt;int&gt;</th><th scope=col>&lt;chr&gt;</th></tr>\n",
              "</thead>\n",
              "<tbody>\n",
              "\t<tr><th scope=row>1</th><td>561</td><td>ADAMS    </td><td>IL</td><td>0.052</td><td>66090</td><td>1270.9615</td><td>63917</td><td>1702</td><td>98</td><td>249</td><td>⋯</td><td>19.63139</td><td>4.355859</td><td>63628</td><td>96.27478</td><td>13.151443</td><td>18.01172</td><td>11.009776</td><td>12.443812</td><td>0</td><td>AAR</td></tr>\n",
              "\t<tr><th scope=row>2</th><td>562</td><td>ALEXANDER</td><td>IL</td><td>0.014</td><td>10626</td><td> 759.0000</td><td> 7054</td><td>3496</td><td>19</td><td> 48</td><td>⋯</td><td>11.24331</td><td>2.870315</td><td>10529</td><td>99.08714</td><td>32.244278</td><td>45.82651</td><td>27.385647</td><td>25.228976</td><td>0</td><td>LHR</td></tr>\n",
              "\t<tr><th scope=row>3</th><td>563</td><td>BOND     </td><td>IL</td><td>0.022</td><td>14991</td><td> 681.4091</td><td>14477</td><td> 429</td><td>35</td><td> 16</td><td>⋯</td><td>17.03382</td><td>4.488572</td><td>14235</td><td>94.95697</td><td>12.068844</td><td>14.03606</td><td>10.852090</td><td>12.697410</td><td>0</td><td>AAR</td></tr>\n",
              "\t<tr><th scope=row>4</th><td>564</td><td>BOONE    </td><td>IL</td><td>0.017</td><td>30806</td><td>1812.1176</td><td>29344</td><td> 127</td><td>46</td><td>150</td><td>⋯</td><td>17.27895</td><td>4.197800</td><td>30337</td><td>98.47757</td><td> 7.209019</td><td>11.17954</td><td> 5.536013</td><td> 6.217047</td><td>1</td><td>ALU</td></tr>\n",
              "\t<tr><th scope=row>5</th><td>565</td><td>BROWN    </td><td>IL</td><td>0.018</td><td> 5836</td><td> 324.2222</td><td> 5264</td><td> 547</td><td>14</td><td>  5</td><td>⋯</td><td>14.47600</td><td>3.367680</td><td> 4815</td><td>82.50514</td><td>13.520249</td><td>13.02289</td><td>11.143211</td><td>19.200000</td><td>0</td><td>AAR</td></tr>\n",
              "\t<tr><th scope=row>6</th><td>566</td><td>BUREAU   </td><td>IL</td><td>0.050</td><td>35688</td><td> 713.7600</td><td>35157</td><td>  50</td><td>65</td><td>195</td><td>⋯</td><td>18.90462</td><td>3.275891</td><td>35107</td><td>98.37200</td><td>10.399635</td><td>14.15882</td><td> 8.179287</td><td>11.008586</td><td>0</td><td>AAR</td></tr>\n",
              "</tbody>\n",
              "</table>\n"
            ]
          },
          "metadata": {
            "tags": []
          }
        }
      ]
    },
    {
      "cell_type": "code",
      "metadata": {
        "id": "gu6Y4wsCQxq4",
        "colab_type": "code",
        "outputId": "07a083fa-95b5-4628-dbed-a7649e9a6f6c",
        "colab": {
          "base_uri": "https://localhost:8080/",
          "height": 224
        }
      },
      "source": [
        "midwest$popkid <- (midwest$poptotal-midwest$popadults)/midwest$poptotal*100 \n",
        "midwest %>% head"
      ],
      "execution_count": 0,
      "outputs": [
        {
          "output_type": "display_data",
          "data": {
            "text/plain": [
              "  PID county    state area  poptotal popdensity popwhite popblack popamerindian\n",
              "1 561 ADAMS     IL    0.052 66090    1270.9615  63917    1702     98           \n",
              "2 562 ALEXANDER IL    0.014 10626     759.0000   7054    3496     19           \n",
              "3 563 BOND      IL    0.022 14991     681.4091  14477     429     35           \n",
              "4 564 BOONE     IL    0.017 30806    1812.1176  29344     127     46           \n",
              "5 565 BROWN     IL    0.018  5836     324.2222   5264     547     14           \n",
              "6 566 BUREAU    IL    0.050 35688     713.7600  35157      50     65           \n",
              "  popasian ⋯ percprof poppovertyknown percpovertyknown percbelowpoverty\n",
              "1 249      ⋯ 4.355859 63628           96.27478         13.151443       \n",
              "2  48      ⋯ 2.870315 10529           99.08714         32.244278       \n",
              "3  16      ⋯ 4.488572 14235           94.95697         12.068844       \n",
              "4 150      ⋯ 4.197800 30337           98.47757          7.209019       \n",
              "5   5      ⋯ 3.367680  4815           82.50514         13.520249       \n",
              "6 195      ⋯ 3.275891 35107           98.37200         10.399635       \n",
              "  percchildbelowpovert percadultpoverty percelderlypoverty inmetro category\n",
              "1 18.01172             11.009776        12.443812          0       AAR     \n",
              "2 45.82651             27.385647        25.228976          0       LHR     \n",
              "3 14.03606             10.852090        12.697410          0       AAR     \n",
              "4 11.17954              5.536013         6.217047          1       ALU     \n",
              "5 13.02289             11.143211        19.200000          0       AAR     \n",
              "6 14.15882              8.179287        11.008586          0       AAR     \n",
              "  popkid  \n",
              "1 34.48631\n",
              "2 36.72125\n",
              "3 35.50130\n",
              "4 37.44076\n",
              "5 31.81974\n",
              "6 34.30845"
            ],
            "text/latex": "A data.frame: 6 × 29\n\\begin{tabular}{r|lllllllllllllllllllll}\n  & PID & county & state & area & poptotal & popdensity & popwhite & popblack & popamerindian & popasian & ⋯ & percprof & poppovertyknown & percpovertyknown & percbelowpoverty & percchildbelowpovert & percadultpoverty & percelderlypoverty & inmetro & category & popkid\\\\\n  & <int> & <chr> & <chr> & <dbl> & <int> & <dbl> & <int> & <int> & <int> & <int> & ⋯ & <dbl> & <int> & <dbl> & <dbl> & <dbl> & <dbl> & <dbl> & <int> & <chr> & <dbl>\\\\\n\\hline\n\t1 & 561 & ADAMS     & IL & 0.052 & 66090 & 1270.9615 & 63917 & 1702 & 98 & 249 & ⋯ & 4.355859 & 63628 & 96.27478 & 13.151443 & 18.01172 & 11.009776 & 12.443812 & 0 & AAR & 34.48631\\\\\n\t2 & 562 & ALEXANDER & IL & 0.014 & 10626 &  759.0000 &  7054 & 3496 & 19 &  48 & ⋯ & 2.870315 & 10529 & 99.08714 & 32.244278 & 45.82651 & 27.385647 & 25.228976 & 0 & LHR & 36.72125\\\\\n\t3 & 563 & BOND      & IL & 0.022 & 14991 &  681.4091 & 14477 &  429 & 35 &  16 & ⋯ & 4.488572 & 14235 & 94.95697 & 12.068844 & 14.03606 & 10.852090 & 12.697410 & 0 & AAR & 35.50130\\\\\n\t4 & 564 & BOONE     & IL & 0.017 & 30806 & 1812.1176 & 29344 &  127 & 46 & 150 & ⋯ & 4.197800 & 30337 & 98.47757 &  7.209019 & 11.17954 &  5.536013 &  6.217047 & 1 & ALU & 37.44076\\\\\n\t5 & 565 & BROWN     & IL & 0.018 &  5836 &  324.2222 &  5264 &  547 & 14 &   5 & ⋯ & 3.367680 &  4815 & 82.50514 & 13.520249 & 13.02289 & 11.143211 & 19.200000 & 0 & AAR & 31.81974\\\\\n\t6 & 566 & BUREAU    & IL & 0.050 & 35688 &  713.7600 & 35157 &   50 & 65 & 195 & ⋯ & 3.275891 & 35107 & 98.37200 & 10.399635 & 14.15882 &  8.179287 & 11.008586 & 0 & AAR & 34.30845\\\\\n\\end{tabular}\n",
            "text/markdown": "\nA data.frame: 6 × 29\n\n| <!--/--> | PID &lt;int&gt; | county &lt;chr&gt; | state &lt;chr&gt; | area &lt;dbl&gt; | poptotal &lt;int&gt; | popdensity &lt;dbl&gt; | popwhite &lt;int&gt; | popblack &lt;int&gt; | popamerindian &lt;int&gt; | popasian &lt;int&gt; | ⋯ ⋯ | percprof &lt;dbl&gt; | poppovertyknown &lt;int&gt; | percpovertyknown &lt;dbl&gt; | percbelowpoverty &lt;dbl&gt; | percchildbelowpovert &lt;dbl&gt; | percadultpoverty &lt;dbl&gt; | percelderlypoverty &lt;dbl&gt; | inmetro &lt;int&gt; | category &lt;chr&gt; | popkid &lt;dbl&gt; |\n|---|---|---|---|---|---|---|---|---|---|---|---|---|---|---|---|---|---|---|---|---|---|\n| 1 | 561 | ADAMS     | IL | 0.052 | 66090 | 1270.9615 | 63917 | 1702 | 98 | 249 | ⋯ | 4.355859 | 63628 | 96.27478 | 13.151443 | 18.01172 | 11.009776 | 12.443812 | 0 | AAR | 34.48631 |\n| 2 | 562 | ALEXANDER | IL | 0.014 | 10626 |  759.0000 |  7054 | 3496 | 19 |  48 | ⋯ | 2.870315 | 10529 | 99.08714 | 32.244278 | 45.82651 | 27.385647 | 25.228976 | 0 | LHR | 36.72125 |\n| 3 | 563 | BOND      | IL | 0.022 | 14991 |  681.4091 | 14477 |  429 | 35 |  16 | ⋯ | 4.488572 | 14235 | 94.95697 | 12.068844 | 14.03606 | 10.852090 | 12.697410 | 0 | AAR | 35.50130 |\n| 4 | 564 | BOONE     | IL | 0.017 | 30806 | 1812.1176 | 29344 |  127 | 46 | 150 | ⋯ | 4.197800 | 30337 | 98.47757 |  7.209019 | 11.17954 |  5.536013 |  6.217047 | 1 | ALU | 37.44076 |\n| 5 | 565 | BROWN     | IL | 0.018 |  5836 |  324.2222 |  5264 |  547 | 14 |   5 | ⋯ | 3.367680 |  4815 | 82.50514 | 13.520249 | 13.02289 | 11.143211 | 19.200000 | 0 | AAR | 31.81974 |\n| 6 | 566 | BUREAU    | IL | 0.050 | 35688 |  713.7600 | 35157 |   50 | 65 | 195 | ⋯ | 3.275891 | 35107 | 98.37200 | 10.399635 | 14.15882 |  8.179287 | 11.008586 | 0 | AAR | 34.30845 |\n\n",
            "text/html": [
              "<table>\n",
              "<caption>A data.frame: 6 × 29</caption>\n",
              "<thead>\n",
              "\t<tr><th></th><th scope=col>PID</th><th scope=col>county</th><th scope=col>state</th><th scope=col>area</th><th scope=col>poptotal</th><th scope=col>popdensity</th><th scope=col>popwhite</th><th scope=col>popblack</th><th scope=col>popamerindian</th><th scope=col>popasian</th><th scope=col>⋯</th><th scope=col>percprof</th><th scope=col>poppovertyknown</th><th scope=col>percpovertyknown</th><th scope=col>percbelowpoverty</th><th scope=col>percchildbelowpovert</th><th scope=col>percadultpoverty</th><th scope=col>percelderlypoverty</th><th scope=col>inmetro</th><th scope=col>category</th><th scope=col>popkid</th></tr>\n",
              "\t<tr><th></th><th scope=col>&lt;int&gt;</th><th scope=col>&lt;chr&gt;</th><th scope=col>&lt;chr&gt;</th><th scope=col>&lt;dbl&gt;</th><th scope=col>&lt;int&gt;</th><th scope=col>&lt;dbl&gt;</th><th scope=col>&lt;int&gt;</th><th scope=col>&lt;int&gt;</th><th scope=col>&lt;int&gt;</th><th scope=col>&lt;int&gt;</th><th scope=col>⋯</th><th scope=col>&lt;dbl&gt;</th><th scope=col>&lt;int&gt;</th><th scope=col>&lt;dbl&gt;</th><th scope=col>&lt;dbl&gt;</th><th scope=col>&lt;dbl&gt;</th><th scope=col>&lt;dbl&gt;</th><th scope=col>&lt;dbl&gt;</th><th scope=col>&lt;int&gt;</th><th scope=col>&lt;chr&gt;</th><th scope=col>&lt;dbl&gt;</th></tr>\n",
              "</thead>\n",
              "<tbody>\n",
              "\t<tr><th scope=row>1</th><td>561</td><td>ADAMS    </td><td>IL</td><td>0.052</td><td>66090</td><td>1270.9615</td><td>63917</td><td>1702</td><td>98</td><td>249</td><td>⋯</td><td>4.355859</td><td>63628</td><td>96.27478</td><td>13.151443</td><td>18.01172</td><td>11.009776</td><td>12.443812</td><td>0</td><td>AAR</td><td>34.48631</td></tr>\n",
              "\t<tr><th scope=row>2</th><td>562</td><td>ALEXANDER</td><td>IL</td><td>0.014</td><td>10626</td><td> 759.0000</td><td> 7054</td><td>3496</td><td>19</td><td> 48</td><td>⋯</td><td>2.870315</td><td>10529</td><td>99.08714</td><td>32.244278</td><td>45.82651</td><td>27.385647</td><td>25.228976</td><td>0</td><td>LHR</td><td>36.72125</td></tr>\n",
              "\t<tr><th scope=row>3</th><td>563</td><td>BOND     </td><td>IL</td><td>0.022</td><td>14991</td><td> 681.4091</td><td>14477</td><td> 429</td><td>35</td><td> 16</td><td>⋯</td><td>4.488572</td><td>14235</td><td>94.95697</td><td>12.068844</td><td>14.03606</td><td>10.852090</td><td>12.697410</td><td>0</td><td>AAR</td><td>35.50130</td></tr>\n",
              "\t<tr><th scope=row>4</th><td>564</td><td>BOONE    </td><td>IL</td><td>0.017</td><td>30806</td><td>1812.1176</td><td>29344</td><td> 127</td><td>46</td><td>150</td><td>⋯</td><td>4.197800</td><td>30337</td><td>98.47757</td><td> 7.209019</td><td>11.17954</td><td> 5.536013</td><td> 6.217047</td><td>1</td><td>ALU</td><td>37.44076</td></tr>\n",
              "\t<tr><th scope=row>5</th><td>565</td><td>BROWN    </td><td>IL</td><td>0.018</td><td> 5836</td><td> 324.2222</td><td> 5264</td><td> 547</td><td>14</td><td>  5</td><td>⋯</td><td>3.367680</td><td> 4815</td><td>82.50514</td><td>13.520249</td><td>13.02289</td><td>11.143211</td><td>19.200000</td><td>0</td><td>AAR</td><td>31.81974</td></tr>\n",
              "\t<tr><th scope=row>6</th><td>566</td><td>BUREAU   </td><td>IL</td><td>0.050</td><td>35688</td><td> 713.7600</td><td>35157</td><td>  50</td><td>65</td><td>195</td><td>⋯</td><td>3.275891</td><td>35107</td><td>98.37200</td><td>10.399635</td><td>14.15882</td><td> 8.179287</td><td>11.008586</td><td>0</td><td>AAR</td><td>34.30845</td></tr>\n",
              "</tbody>\n",
              "</table>\n"
            ]
          },
          "metadata": {
            "tags": []
          }
        }
      ]
    },
    {
      "cell_type": "code",
      "metadata": {
        "id": "C6SLYyb0Q7Bo",
        "colab_type": "code",
        "outputId": "c686062d-e5e6-423e-d375-d2d47b32597f",
        "colab": {
          "base_uri": "https://localhost:8080/",
          "height": 204
        }
      },
      "source": [
        "midwest_1 <- midwest %>% select(county, popkid) %>% arrange(desc(popkid))\n",
        "midwest_1 %>% head"
      ],
      "execution_count": 0,
      "outputs": [
        {
          "output_type": "display_data",
          "data": {
            "text/plain": [
              "  county    popkid  \n",
              "1 ISABELLA  51.50117\n",
              "2 MENOMINEE 50.59126\n",
              "3 ATHENS    49.32073\n",
              "4 MECOSTA   49.05918\n",
              "5 MONROE    47.35818\n",
              "6 JACKSON   47.31688"
            ],
            "text/latex": "A data.frame: 6 × 2\n\\begin{tabular}{r|ll}\n  & county & popkid\\\\\n  & <chr> & <dbl>\\\\\n\\hline\n\t1 & ISABELLA  & 51.50117\\\\\n\t2 & MENOMINEE & 50.59126\\\\\n\t3 & ATHENS    & 49.32073\\\\\n\t4 & MECOSTA   & 49.05918\\\\\n\t5 & MONROE    & 47.35818\\\\\n\t6 & JACKSON   & 47.31688\\\\\n\\end{tabular}\n",
            "text/markdown": "\nA data.frame: 6 × 2\n\n| <!--/--> | county &lt;chr&gt; | popkid &lt;dbl&gt; |\n|---|---|---|\n| 1 | ISABELLA  | 51.50117 |\n| 2 | MENOMINEE | 50.59126 |\n| 3 | ATHENS    | 49.32073 |\n| 4 | MECOSTA   | 49.05918 |\n| 5 | MONROE    | 47.35818 |\n| 6 | JACKSON   | 47.31688 |\n\n",
            "text/html": [
              "<table>\n",
              "<caption>A data.frame: 6 × 2</caption>\n",
              "<thead>\n",
              "\t<tr><th></th><th scope=col>county</th><th scope=col>popkid</th></tr>\n",
              "\t<tr><th></th><th scope=col>&lt;chr&gt;</th><th scope=col>&lt;dbl&gt;</th></tr>\n",
              "</thead>\n",
              "<tbody>\n",
              "\t<tr><th scope=row>1</th><td>ISABELLA </td><td>51.50117</td></tr>\n",
              "\t<tr><th scope=row>2</th><td>MENOMINEE</td><td>50.59126</td></tr>\n",
              "\t<tr><th scope=row>3</th><td>ATHENS   </td><td>49.32073</td></tr>\n",
              "\t<tr><th scope=row>4</th><td>MECOSTA  </td><td>49.05918</td></tr>\n",
              "\t<tr><th scope=row>5</th><td>MONROE   </td><td>47.35818</td></tr>\n",
              "\t<tr><th scope=row>6</th><td>JACKSON  </td><td>47.31688</td></tr>\n",
              "</tbody>\n",
              "</table>\n"
            ]
          },
          "metadata": {
            "tags": []
          }
        }
      ]
    },
    {
      "cell_type": "code",
      "metadata": {
        "id": "7G5PrWpORRDu",
        "colab_type": "code",
        "outputId": "eaa9bbfe-7fb7-401e-870d-6222978dde64",
        "colab": {
          "base_uri": "https://localhost:8080/",
          "height": 183
        }
      },
      "source": [
        "midwest_1$rate <- ifelse(midwest_1$popkid >= 40, 'Large',\n",
        "                    ifelse(midwest_1$popkid >=30 , 'Middle', 'small') )\n",
        "midwest_1%>% head(5)"
      ],
      "execution_count": 0,
      "outputs": [
        {
          "output_type": "display_data",
          "data": {
            "text/plain": [
              "  county    popkid   rate \n",
              "1 ISABELLA  51.50117 Large\n",
              "2 MENOMINEE 50.59126 Large\n",
              "3 ATHENS    49.32073 Large\n",
              "4 MECOSTA   49.05918 Large\n",
              "5 MONROE    47.35818 Large"
            ],
            "text/latex": "A data.frame: 5 × 3\n\\begin{tabular}{r|lll}\n  & county & popkid & rate\\\\\n  & <chr> & <dbl> & <chr>\\\\\n\\hline\n\t1 & ISABELLA  & 51.50117 & Large\\\\\n\t2 & MENOMINEE & 50.59126 & Large\\\\\n\t3 & ATHENS    & 49.32073 & Large\\\\\n\t4 & MECOSTA   & 49.05918 & Large\\\\\n\t5 & MONROE    & 47.35818 & Large\\\\\n\\end{tabular}\n",
            "text/markdown": "\nA data.frame: 5 × 3\n\n| <!--/--> | county &lt;chr&gt; | popkid &lt;dbl&gt; | rate &lt;chr&gt; |\n|---|---|---|---|\n| 1 | ISABELLA  | 51.50117 | Large |\n| 2 | MENOMINEE | 50.59126 | Large |\n| 3 | ATHENS    | 49.32073 | Large |\n| 4 | MECOSTA   | 49.05918 | Large |\n| 5 | MONROE    | 47.35818 | Large |\n\n",
            "text/html": [
              "<table>\n",
              "<caption>A data.frame: 5 × 3</caption>\n",
              "<thead>\n",
              "\t<tr><th></th><th scope=col>county</th><th scope=col>popkid</th><th scope=col>rate</th></tr>\n",
              "\t<tr><th></th><th scope=col>&lt;chr&gt;</th><th scope=col>&lt;dbl&gt;</th><th scope=col>&lt;chr&gt;</th></tr>\n",
              "</thead>\n",
              "<tbody>\n",
              "\t<tr><th scope=row>1</th><td>ISABELLA </td><td>51.50117</td><td>Large</td></tr>\n",
              "\t<tr><th scope=row>2</th><td>MENOMINEE</td><td>50.59126</td><td>Large</td></tr>\n",
              "\t<tr><th scope=row>3</th><td>ATHENS   </td><td>49.32073</td><td>Large</td></tr>\n",
              "\t<tr><th scope=row>4</th><td>MECOSTA  </td><td>49.05918</td><td>Large</td></tr>\n",
              "\t<tr><th scope=row>5</th><td>MONROE   </td><td>47.35818</td><td>Large</td></tr>\n",
              "</tbody>\n",
              "</table>\n"
            ]
          },
          "metadata": {
            "tags": []
          }
        }
      ]
    },
    {
      "cell_type": "code",
      "metadata": {
        "id": "ZltWT8a9Slm6",
        "colab_type": "code",
        "outputId": "639c0983-f185-457a-a91b-b7fdbfd8f325",
        "colab": {
          "base_uri": "https://localhost:8080/",
          "height": 72
        }
      },
      "source": [
        "table(midwest_1$rate)"
      ],
      "execution_count": 0,
      "outputs": [
        {
          "output_type": "display_data",
          "data": {
            "text/plain": [
              "\n",
              " Large Middle  small \n",
              "    32    396      9 "
            ]
          },
          "metadata": {
            "tags": []
          }
        }
      ]
    },
    {
      "cell_type": "code",
      "metadata": {
        "id": "lgOLm8BSSxXc",
        "colab_type": "code",
        "colab": {}
      },
      "source": [
        "midwest$asian <- midwest$popasian/midwest$poptotal*100 "
      ],
      "execution_count": 0,
      "outputs": []
    },
    {
      "cell_type": "code",
      "metadata": {
        "id": "_o6qlY5UTJSD",
        "colab_type": "code",
        "outputId": "3bf16d71-8257-4eee-c22e-175eb2f49118",
        "colab": {
          "base_uri": "https://localhost:8080/",
          "height": 287
        }
      },
      "source": [
        "midwest %>% arrange(desc(asian)) %>% tail(10) %>% select(county,state, asian )"
      ],
      "execution_count": 0,
      "outputs": [
        {
          "output_type": "display_data",
          "data": {
            "text/plain": [
              "    county    state asian     \n",
              "428 PIATT     IL    0.07074865\n",
              "429 PERRY     OH    0.06654625\n",
              "430 OSCODA    MI    0.06375925\n",
              "431 CLAY      IN    0.06071645\n",
              "432 SCOTT     IL    0.05315379\n",
              "433 IRON      WI    0.03250447\n",
              "434 VINTON    OH    0.02703190\n",
              "435 CARROLL   IN    0.01594981\n",
              "436 BENTON    IN    0.01059210\n",
              "437 MENOMINEE WI    0.00000000"
            ],
            "text/latex": "A data.frame: 10 × 3\n\\begin{tabular}{r|lll}\n  & county & state & asian\\\\\n  & <chr> & <chr> & <dbl>\\\\\n\\hline\n\t428 & PIATT     & IL & 0.07074865\\\\\n\t429 & PERRY     & OH & 0.06654625\\\\\n\t430 & OSCODA    & MI & 0.06375925\\\\\n\t431 & CLAY      & IN & 0.06071645\\\\\n\t432 & SCOTT     & IL & 0.05315379\\\\\n\t433 & IRON      & WI & 0.03250447\\\\\n\t434 & VINTON    & OH & 0.02703190\\\\\n\t435 & CARROLL   & IN & 0.01594981\\\\\n\t436 & BENTON    & IN & 0.01059210\\\\\n\t437 & MENOMINEE & WI & 0.00000000\\\\\n\\end{tabular}\n",
            "text/markdown": "\nA data.frame: 10 × 3\n\n| <!--/--> | county &lt;chr&gt; | state &lt;chr&gt; | asian &lt;dbl&gt; |\n|---|---|---|---|\n| 428 | PIATT     | IL | 0.07074865 |\n| 429 | PERRY     | OH | 0.06654625 |\n| 430 | OSCODA    | MI | 0.06375925 |\n| 431 | CLAY      | IN | 0.06071645 |\n| 432 | SCOTT     | IL | 0.05315379 |\n| 433 | IRON      | WI | 0.03250447 |\n| 434 | VINTON    | OH | 0.02703190 |\n| 435 | CARROLL   | IN | 0.01594981 |\n| 436 | BENTON    | IN | 0.01059210 |\n| 437 | MENOMINEE | WI | 0.00000000 |\n\n",
            "text/html": [
              "<table>\n",
              "<caption>A data.frame: 10 × 3</caption>\n",
              "<thead>\n",
              "\t<tr><th></th><th scope=col>county</th><th scope=col>state</th><th scope=col>asian</th></tr>\n",
              "\t<tr><th></th><th scope=col>&lt;chr&gt;</th><th scope=col>&lt;chr&gt;</th><th scope=col>&lt;dbl&gt;</th></tr>\n",
              "</thead>\n",
              "<tbody>\n",
              "\t<tr><th scope=row>428</th><td>PIATT    </td><td>IL</td><td>0.07074865</td></tr>\n",
              "\t<tr><th scope=row>429</th><td>PERRY    </td><td>OH</td><td>0.06654625</td></tr>\n",
              "\t<tr><th scope=row>430</th><td>OSCODA   </td><td>MI</td><td>0.06375925</td></tr>\n",
              "\t<tr><th scope=row>431</th><td>CLAY     </td><td>IN</td><td>0.06071645</td></tr>\n",
              "\t<tr><th scope=row>432</th><td>SCOTT    </td><td>IL</td><td>0.05315379</td></tr>\n",
              "\t<tr><th scope=row>433</th><td>IRON     </td><td>WI</td><td>0.03250447</td></tr>\n",
              "\t<tr><th scope=row>434</th><td>VINTON   </td><td>OH</td><td>0.02703190</td></tr>\n",
              "\t<tr><th scope=row>435</th><td>CARROLL  </td><td>IN</td><td>0.01594981</td></tr>\n",
              "\t<tr><th scope=row>436</th><td>BENTON   </td><td>IN</td><td>0.01059210</td></tr>\n",
              "\t<tr><th scope=row>437</th><td>MENOMINEE</td><td>WI</td><td>0.00000000</td></tr>\n",
              "</tbody>\n",
              "</table>\n"
            ]
          },
          "metadata": {
            "tags": []
          }
        }
      ]
    },
    {
      "cell_type": "code",
      "metadata": {
        "id": "ctKAPyV5Tgj0",
        "colab_type": "code",
        "outputId": "fa8813eb-c5eb-4558-b7d3-c37084ce2aaa",
        "colab": {
          "base_uri": "https://localhost:8080/",
          "height": 183
        }
      },
      "source": [
        "mpg %>% head(5)"
      ],
      "execution_count": 0,
      "outputs": [
        {
          "output_type": "display_data",
          "data": {
            "text/plain": [
              "  manufacturer model displ year cyl trans      drv cty hwy fl class   price_fl\n",
              "1 audi         a4    1.8   1999 4   auto(l5)   f   18  29  p  compact 2.76    \n",
              "2 audi         a4    1.8   1999 4   manual(m5) f   21  29  p  compact 2.76    \n",
              "3 audi         a4    2.0   2008 4   manual(m6) f   20  31  p  compact 2.76    \n",
              "4 audi         a4    2.0   2008 4   auto(av)   f   21  30  p  compact 2.76    \n",
              "5 audi         a4    2.8   1999 6   auto(l5)   f   16  26  p  compact 2.76    "
            ],
            "text/latex": "A data.frame: 5 × 12\n\\begin{tabular}{r|llllllllllll}\n  & manufacturer & model & displ & year & cyl & trans & drv & cty & hwy & fl & class & price\\_fl\\\\\n  & <chr> & <chr> & <dbl> & <int> & <int> & <chr> & <chr> & <int> & <int> & <chr> & <chr> & <dbl>\\\\\n\\hline\n\t1 & audi & a4 & 1.8 & 1999 & 4 & auto(l5)   & f & 18 & 29 & p & compact & 2.76\\\\\n\t2 & audi & a4 & 1.8 & 1999 & 4 & manual(m5) & f & 21 & 29 & p & compact & 2.76\\\\\n\t3 & audi & a4 & 2.0 & 2008 & 4 & manual(m6) & f & 20 & 31 & p & compact & 2.76\\\\\n\t4 & audi & a4 & 2.0 & 2008 & 4 & auto(av)   & f & 21 & 30 & p & compact & 2.76\\\\\n\t5 & audi & a4 & 2.8 & 1999 & 6 & auto(l5)   & f & 16 & 26 & p & compact & 2.76\\\\\n\\end{tabular}\n",
            "text/markdown": "\nA data.frame: 5 × 12\n\n| <!--/--> | manufacturer &lt;chr&gt; | model &lt;chr&gt; | displ &lt;dbl&gt; | year &lt;int&gt; | cyl &lt;int&gt; | trans &lt;chr&gt; | drv &lt;chr&gt; | cty &lt;int&gt; | hwy &lt;int&gt; | fl &lt;chr&gt; | class &lt;chr&gt; | price_fl &lt;dbl&gt; |\n|---|---|---|---|---|---|---|---|---|---|---|---|---|\n| 1 | audi | a4 | 1.8 | 1999 | 4 | auto(l5)   | f | 18 | 29 | p | compact | 2.76 |\n| 2 | audi | a4 | 1.8 | 1999 | 4 | manual(m5) | f | 21 | 29 | p | compact | 2.76 |\n| 3 | audi | a4 | 2.0 | 2008 | 4 | manual(m6) | f | 20 | 31 | p | compact | 2.76 |\n| 4 | audi | a4 | 2.0 | 2008 | 4 | auto(av)   | f | 21 | 30 | p | compact | 2.76 |\n| 5 | audi | a4 | 2.8 | 1999 | 6 | auto(l5)   | f | 16 | 26 | p | compact | 2.76 |\n\n",
            "text/html": [
              "<table>\n",
              "<caption>A data.frame: 5 × 12</caption>\n",
              "<thead>\n",
              "\t<tr><th></th><th scope=col>manufacturer</th><th scope=col>model</th><th scope=col>displ</th><th scope=col>year</th><th scope=col>cyl</th><th scope=col>trans</th><th scope=col>drv</th><th scope=col>cty</th><th scope=col>hwy</th><th scope=col>fl</th><th scope=col>class</th><th scope=col>price_fl</th></tr>\n",
              "\t<tr><th></th><th scope=col>&lt;chr&gt;</th><th scope=col>&lt;chr&gt;</th><th scope=col>&lt;dbl&gt;</th><th scope=col>&lt;int&gt;</th><th scope=col>&lt;int&gt;</th><th scope=col>&lt;chr&gt;</th><th scope=col>&lt;chr&gt;</th><th scope=col>&lt;int&gt;</th><th scope=col>&lt;int&gt;</th><th scope=col>&lt;chr&gt;</th><th scope=col>&lt;chr&gt;</th><th scope=col>&lt;dbl&gt;</th></tr>\n",
              "</thead>\n",
              "<tbody>\n",
              "\t<tr><th scope=row>1</th><td>audi</td><td>a4</td><td>1.8</td><td>1999</td><td>4</td><td>auto(l5)  </td><td>f</td><td>18</td><td>29</td><td>p</td><td>compact</td><td>2.76</td></tr>\n",
              "\t<tr><th scope=row>2</th><td>audi</td><td>a4</td><td>1.8</td><td>1999</td><td>4</td><td>manual(m5)</td><td>f</td><td>21</td><td>29</td><td>p</td><td>compact</td><td>2.76</td></tr>\n",
              "\t<tr><th scope=row>3</th><td>audi</td><td>a4</td><td>2.0</td><td>2008</td><td>4</td><td>manual(m6)</td><td>f</td><td>20</td><td>31</td><td>p</td><td>compact</td><td>2.76</td></tr>\n",
              "\t<tr><th scope=row>4</th><td>audi</td><td>a4</td><td>2.0</td><td>2008</td><td>4</td><td>auto(av)  </td><td>f</td><td>21</td><td>30</td><td>p</td><td>compact</td><td>2.76</td></tr>\n",
              "\t<tr><th scope=row>5</th><td>audi</td><td>a4</td><td>2.8</td><td>1999</td><td>6</td><td>auto(l5)  </td><td>f</td><td>16</td><td>26</td><td>p</td><td>compact</td><td>2.76</td></tr>\n",
              "</tbody>\n",
              "</table>\n"
            ]
          },
          "metadata": {
            "tags": []
          }
        }
      ]
    },
    {
      "cell_type": "code",
      "metadata": {
        "id": "Zic0QlHKdFDc",
        "colab_type": "code",
        "outputId": "f11385ab-ae24-4beb-8f24-7443716cc564",
        "colab": {
          "base_uri": "https://localhost:8080/",
          "height": 72
        }
      },
      "source": [
        "table(is.na(mpg$drv))"
      ],
      "execution_count": 0,
      "outputs": [
        {
          "output_type": "display_data",
          "data": {
            "text/plain": [
              "\n",
              "FALSE \n",
              "  234 "
            ]
          },
          "metadata": {
            "tags": []
          }
        }
      ]
    },
    {
      "cell_type": "code",
      "metadata": {
        "id": "GRtzHaGfdVIh",
        "colab_type": "code",
        "outputId": "a780733b-f5e7-4e3a-9742-97fdd5b2becd",
        "colab": {
          "base_uri": "https://localhost:8080/",
          "height": 72
        }
      },
      "source": [
        "table(is.na(mpg$hwy))"
      ],
      "execution_count": 0,
      "outputs": [
        {
          "output_type": "display_data",
          "data": {
            "text/plain": [
              "\n",
              "FALSE \n",
              "  234 "
            ]
          },
          "metadata": {
            "tags": []
          }
        }
      ]
    },
    {
      "cell_type": "code",
      "metadata": {
        "id": "6DiczMoodaaZ",
        "colab_type": "code",
        "colab": {}
      },
      "source": [
        "mpg[c(65,124,131,153,212),'hwy'] <- NA"
      ],
      "execution_count": 0,
      "outputs": []
    },
    {
      "cell_type": "code",
      "metadata": {
        "id": "n5qATryEdopp",
        "colab_type": "code",
        "outputId": "88f27bc9-9bf5-4c70-96d2-364b0975884a",
        "colab": {
          "base_uri": "https://localhost:8080/",
          "height": 72
        }
      },
      "source": [
        "table(is.na(mpg$hwy))"
      ],
      "execution_count": 0,
      "outputs": [
        {
          "output_type": "display_data",
          "data": {
            "text/plain": [
              "\n",
              "FALSE  TRUE \n",
              "  229     5 "
            ]
          },
          "metadata": {
            "tags": []
          }
        }
      ]
    },
    {
      "cell_type": "code",
      "metadata": {
        "id": "mMdDBDr_dqbZ",
        "colab_type": "code",
        "outputId": "05e4e84e-a7ae-49b7-9ad9-dcdc25397ea9",
        "colab": {
          "base_uri": "https://localhost:8080/",
          "height": 141
        }
      },
      "source": [
        "mpg %>% group_by(drv) %>% summarise( mean_hwy = mean(hwy, na.rm=T))"
      ],
      "execution_count": 0,
      "outputs": [
        {
          "output_type": "display_data",
          "data": {
            "text/plain": [
              "  drv mean_hwy\n",
              "1 4   19.24242\n",
              "2 f   28.20000\n",
              "3 r   21.00000"
            ],
            "text/latex": "A tibble: 3 × 2\n\\begin{tabular}{ll}\n drv & mean\\_hwy\\\\\n <chr> & <dbl>\\\\\n\\hline\n\t 4 & 19.24242\\\\\n\t f & 28.20000\\\\\n\t r & 21.00000\\\\\n\\end{tabular}\n",
            "text/markdown": "\nA tibble: 3 × 2\n\n| drv &lt;chr&gt; | mean_hwy &lt;dbl&gt; |\n|---|---|\n| 4 | 19.24242 |\n| f | 28.20000 |\n| r | 21.00000 |\n\n",
            "text/html": [
              "<table>\n",
              "<caption>A tibble: 3 × 2</caption>\n",
              "<thead>\n",
              "\t<tr><th scope=col>drv</th><th scope=col>mean_hwy</th></tr>\n",
              "\t<tr><th scope=col>&lt;chr&gt;</th><th scope=col>&lt;dbl&gt;</th></tr>\n",
              "</thead>\n",
              "<tbody>\n",
              "\t<tr><td>4</td><td>19.24242</td></tr>\n",
              "\t<tr><td>f</td><td>28.20000</td></tr>\n",
              "\t<tr><td>r</td><td>21.00000</td></tr>\n",
              "</tbody>\n",
              "</table>\n"
            ]
          },
          "metadata": {
            "tags": []
          }
        }
      ]
    },
    {
      "cell_type": "code",
      "metadata": {
        "id": "PQv-h8xbeD2h",
        "colab_type": "code",
        "outputId": "5e34a624-f386-4782-f56a-f00b5ff102de",
        "colab": {
          "base_uri": "https://localhost:8080/",
          "height": 72
        }
      },
      "source": [
        "mpg_1 <- mpg %>% filter(!is.na(hwy))\n",
        "table(is.na(mpg_1$hwy))"
      ],
      "execution_count": 0,
      "outputs": [
        {
          "output_type": "display_data",
          "data": {
            "text/plain": [
              "\n",
              "FALSE \n",
              "  229 "
            ]
          },
          "metadata": {
            "tags": []
          }
        }
      ]
    },
    {
      "cell_type": "code",
      "metadata": {
        "id": "bwadzH7ler9R",
        "colab_type": "code",
        "outputId": "6b81f879-bfee-434f-b2e3-bc7117f9433a",
        "colab": {
          "base_uri": "https://localhost:8080/",
          "height": 108
        }
      },
      "source": [
        "table(mpg_1$hwy) "
      ],
      "execution_count": 0,
      "outputs": [
        {
          "output_type": "display_data",
          "data": {
            "text/plain": [
              "\n",
              "12 14 15 16 17 18 19 20 21 22 23 24 25 26 27 28 29 30 31 32 33 34 35 36 37 41 \n",
              " 5  2  9  6 31 10 12 10  2  7  7 12 15 32 14  7 22  4  7  4  2  1  2  2  1  1 \n",
              "44 \n",
              " 2 "
            ]
          },
          "metadata": {
            "tags": []
          }
        }
      ]
    },
    {
      "cell_type": "code",
      "metadata": {
        "id": "WHPusMGnieaD",
        "colab_type": "code",
        "colab": {}
      },
      "source": [
        "mpg <- as.data.frame(ggplot2::mpg)                  # mpg 데이터 불러오기\n",
        " mpg[c(10, 14, 58, 93), \"drv\"] <- \"k\"                # drv 이상치 할당\n",
        " mpg[c(29, 43, 129, 203), \"cty\"] <- c(3, 4, 39, 42)  # cty 이상치 할당"
      ],
      "execution_count": 0,
      "outputs": []
    },
    {
      "cell_type": "code",
      "metadata": {
        "id": "2iX7OQxKlp5v",
        "colab_type": "code",
        "outputId": "855866f6-789f-4776-b53e-52b517788855",
        "colab": {
          "base_uri": "https://localhost:8080/",
          "height": 287
        }
      },
      "source": [
        "mpg %>% head(10)"
      ],
      "execution_count": 0,
      "outputs": [
        {
          "output_type": "display_data",
          "data": {
            "text/plain": [
              "   manufacturer model      displ year cyl trans      drv cty hwy fl class  \n",
              "1  audi         a4         1.8   1999 4   auto(l5)   f   18  29  p  compact\n",
              "2  audi         a4         1.8   1999 4   manual(m5) f   21  29  p  compact\n",
              "3  audi         a4         2.0   2008 4   manual(m6) f   20  31  p  compact\n",
              "4  audi         a4         2.0   2008 4   auto(av)   f   21  30  p  compact\n",
              "5  audi         a4         2.8   1999 6   auto(l5)   f   16  26  p  compact\n",
              "6  audi         a4         2.8   1999 6   manual(m5) f   18  26  p  compact\n",
              "7  audi         a4         3.1   2008 6   auto(av)   f   18  27  p  compact\n",
              "8  audi         a4 quattro 1.8   1999 4   manual(m5) 4   18  26  p  compact\n",
              "9  audi         a4 quattro 1.8   1999 4   auto(l5)   4   16  25  p  compact\n",
              "10 audi         a4 quattro 2.0   2008 4   manual(m6) k   20  28  p  compact"
            ],
            "text/latex": "A data.frame: 10 × 11\n\\begin{tabular}{r|lllllllllll}\n  & manufacturer & model & displ & year & cyl & trans & drv & cty & hwy & fl & class\\\\\n  & <chr> & <chr> & <dbl> & <int> & <int> & <chr> & <chr> & <dbl> & <int> & <chr> & <chr>\\\\\n\\hline\n\t1 & audi & a4         & 1.8 & 1999 & 4 & auto(l5)   & f & 18 & 29 & p & compact\\\\\n\t2 & audi & a4         & 1.8 & 1999 & 4 & manual(m5) & f & 21 & 29 & p & compact\\\\\n\t3 & audi & a4         & 2.0 & 2008 & 4 & manual(m6) & f & 20 & 31 & p & compact\\\\\n\t4 & audi & a4         & 2.0 & 2008 & 4 & auto(av)   & f & 21 & 30 & p & compact\\\\\n\t5 & audi & a4         & 2.8 & 1999 & 6 & auto(l5)   & f & 16 & 26 & p & compact\\\\\n\t6 & audi & a4         & 2.8 & 1999 & 6 & manual(m5) & f & 18 & 26 & p & compact\\\\\n\t7 & audi & a4         & 3.1 & 2008 & 6 & auto(av)   & f & 18 & 27 & p & compact\\\\\n\t8 & audi & a4 quattro & 1.8 & 1999 & 4 & manual(m5) & 4 & 18 & 26 & p & compact\\\\\n\t9 & audi & a4 quattro & 1.8 & 1999 & 4 & auto(l5)   & 4 & 16 & 25 & p & compact\\\\\n\t10 & audi & a4 quattro & 2.0 & 2008 & 4 & manual(m6) & k & 20 & 28 & p & compact\\\\\n\\end{tabular}\n",
            "text/markdown": "\nA data.frame: 10 × 11\n\n| <!--/--> | manufacturer &lt;chr&gt; | model &lt;chr&gt; | displ &lt;dbl&gt; | year &lt;int&gt; | cyl &lt;int&gt; | trans &lt;chr&gt; | drv &lt;chr&gt; | cty &lt;dbl&gt; | hwy &lt;int&gt; | fl &lt;chr&gt; | class &lt;chr&gt; |\n|---|---|---|---|---|---|---|---|---|---|---|---|\n| 1 | audi | a4         | 1.8 | 1999 | 4 | auto(l5)   | f | 18 | 29 | p | compact |\n| 2 | audi | a4         | 1.8 | 1999 | 4 | manual(m5) | f | 21 | 29 | p | compact |\n| 3 | audi | a4         | 2.0 | 2008 | 4 | manual(m6) | f | 20 | 31 | p | compact |\n| 4 | audi | a4         | 2.0 | 2008 | 4 | auto(av)   | f | 21 | 30 | p | compact |\n| 5 | audi | a4         | 2.8 | 1999 | 6 | auto(l5)   | f | 16 | 26 | p | compact |\n| 6 | audi | a4         | 2.8 | 1999 | 6 | manual(m5) | f | 18 | 26 | p | compact |\n| 7 | audi | a4         | 3.1 | 2008 | 6 | auto(av)   | f | 18 | 27 | p | compact |\n| 8 | audi | a4 quattro | 1.8 | 1999 | 4 | manual(m5) | 4 | 18 | 26 | p | compact |\n| 9 | audi | a4 quattro | 1.8 | 1999 | 4 | auto(l5)   | 4 | 16 | 25 | p | compact |\n| 10 | audi | a4 quattro | 2.0 | 2008 | 4 | manual(m6) | k | 20 | 28 | p | compact |\n\n",
            "text/html": [
              "<table>\n",
              "<caption>A data.frame: 10 × 11</caption>\n",
              "<thead>\n",
              "\t<tr><th></th><th scope=col>manufacturer</th><th scope=col>model</th><th scope=col>displ</th><th scope=col>year</th><th scope=col>cyl</th><th scope=col>trans</th><th scope=col>drv</th><th scope=col>cty</th><th scope=col>hwy</th><th scope=col>fl</th><th scope=col>class</th></tr>\n",
              "\t<tr><th></th><th scope=col>&lt;chr&gt;</th><th scope=col>&lt;chr&gt;</th><th scope=col>&lt;dbl&gt;</th><th scope=col>&lt;int&gt;</th><th scope=col>&lt;int&gt;</th><th scope=col>&lt;chr&gt;</th><th scope=col>&lt;chr&gt;</th><th scope=col>&lt;dbl&gt;</th><th scope=col>&lt;int&gt;</th><th scope=col>&lt;chr&gt;</th><th scope=col>&lt;chr&gt;</th></tr>\n",
              "</thead>\n",
              "<tbody>\n",
              "\t<tr><th scope=row>1</th><td>audi</td><td>a4        </td><td>1.8</td><td>1999</td><td>4</td><td>auto(l5)  </td><td>f</td><td>18</td><td>29</td><td>p</td><td>compact</td></tr>\n",
              "\t<tr><th scope=row>2</th><td>audi</td><td>a4        </td><td>1.8</td><td>1999</td><td>4</td><td>manual(m5)</td><td>f</td><td>21</td><td>29</td><td>p</td><td>compact</td></tr>\n",
              "\t<tr><th scope=row>3</th><td>audi</td><td>a4        </td><td>2.0</td><td>2008</td><td>4</td><td>manual(m6)</td><td>f</td><td>20</td><td>31</td><td>p</td><td>compact</td></tr>\n",
              "\t<tr><th scope=row>4</th><td>audi</td><td>a4        </td><td>2.0</td><td>2008</td><td>4</td><td>auto(av)  </td><td>f</td><td>21</td><td>30</td><td>p</td><td>compact</td></tr>\n",
              "\t<tr><th scope=row>5</th><td>audi</td><td>a4        </td><td>2.8</td><td>1999</td><td>6</td><td>auto(l5)  </td><td>f</td><td>16</td><td>26</td><td>p</td><td>compact</td></tr>\n",
              "\t<tr><th scope=row>6</th><td>audi</td><td>a4        </td><td>2.8</td><td>1999</td><td>6</td><td>manual(m5)</td><td>f</td><td>18</td><td>26</td><td>p</td><td>compact</td></tr>\n",
              "\t<tr><th scope=row>7</th><td>audi</td><td>a4        </td><td>3.1</td><td>2008</td><td>6</td><td>auto(av)  </td><td>f</td><td>18</td><td>27</td><td>p</td><td>compact</td></tr>\n",
              "\t<tr><th scope=row>8</th><td>audi</td><td>a4 quattro</td><td>1.8</td><td>1999</td><td>4</td><td>manual(m5)</td><td>4</td><td>18</td><td>26</td><td>p</td><td>compact</td></tr>\n",
              "\t<tr><th scope=row>9</th><td>audi</td><td>a4 quattro</td><td>1.8</td><td>1999</td><td>4</td><td>auto(l5)  </td><td>4</td><td>16</td><td>25</td><td>p</td><td>compact</td></tr>\n",
              "\t<tr><th scope=row>10</th><td>audi</td><td>a4 quattro</td><td>2.0</td><td>2008</td><td>4</td><td>manual(m6)</td><td>k</td><td>20</td><td>28</td><td>p</td><td>compact</td></tr>\n",
              "</tbody>\n",
              "</table>\n"
            ]
          },
          "metadata": {
            "tags": []
          }
        }
      ]
    },
    {
      "cell_type": "code",
      "metadata": {
        "id": "dSl4leBrltlP",
        "colab_type": "code",
        "outputId": "73af3db6-c4cb-4a8e-a27f-aff72ceff5a8",
        "colab": {
          "base_uri": "https://localhost:8080/",
          "height": 72
        }
      },
      "source": [
        "table(is.na(mpg$drv))"
      ],
      "execution_count": 0,
      "outputs": [
        {
          "output_type": "display_data",
          "data": {
            "text/plain": [
              "\n",
              "FALSE \n",
              "  234 "
            ]
          },
          "metadata": {
            "tags": []
          }
        }
      ]
    },
    {
      "cell_type": "code",
      "metadata": {
        "id": "QP_KFBQUl6HX",
        "colab_type": "code",
        "outputId": "87d9951f-90f3-4809-e7f0-beac7d2a58d3",
        "colab": {
          "base_uri": "https://localhost:8080/",
          "height": 72
        }
      },
      "source": [
        "table(mpg$drv)"
      ],
      "execution_count": 0,
      "outputs": [
        {
          "output_type": "display_data",
          "data": {
            "text/plain": [
              "\n",
              "  4   f   k   r \n",
              "100 106   4  24 "
            ]
          },
          "metadata": {
            "tags": []
          }
        }
      ]
    },
    {
      "cell_type": "code",
      "metadata": {
        "id": "703Mz9almBQX",
        "colab_type": "code",
        "colab": {}
      },
      "source": [
        "mpg_drv <- mpg %>% filter(drv %in% c(4, 'f', 'r'))"
      ],
      "execution_count": 0,
      "outputs": []
    },
    {
      "cell_type": "code",
      "metadata": {
        "id": "ER8Y6Jz6ma7e",
        "colab_type": "code",
        "outputId": "1e6d78de-f39a-471f-d454-8b0efae8563a",
        "colab": {
          "base_uri": "https://localhost:8080/",
          "height": 72
        }
      },
      "source": [
        "table(mpg_drv$drv)"
      ],
      "execution_count": 0,
      "outputs": [
        {
          "output_type": "display_data",
          "data": {
            "text/plain": [
              "\n",
              "  4   f   r \n",
              "100 106  24 "
            ]
          },
          "metadata": {
            "tags": []
          }
        }
      ]
    },
    {
      "cell_type": "code",
      "metadata": {
        "id": "IUXjhGMom9fW",
        "colab_type": "code",
        "outputId": "75d360d0-872e-4932-b3ac-87ad1890b913",
        "colab": {
          "base_uri": "https://localhost:8080/",
          "height": 437
        }
      },
      "source": [
        "library(ggplot2)\n",
        "ggplot(data = mpg, aes(x = displ, y = hwy)) + geom_point() "
      ],
      "execution_count": 0,
      "outputs": [
        {
          "output_type": "display_data",
          "data": {
            "image/png": "[encoded data removed]",
            "text/plain": [
              "plot without title"
            ]
          },
          "metadata": {
            "tags": [],
            "image/png": {
              "width": 420,
              "height": 420
            },
            "text/plain": {
              "width": 420,
              "height": 420
            }
          }
        }
      ]
    },
    {
      "cell_type": "code",
      "metadata": {
        "id": "GCA5BdaZwkut",
        "colab_type": "code",
        "outputId": "544afb9d-d26f-4934-aeb1-cd70ca0dc6d6",
        "colab": {
          "base_uri": "https://localhost:8080/",
          "height": 474
        }
      },
      "source": [
        "ggplot(data = mpg, aes(x = displ, y = hwy)) + geom_point() + xlim(3, 6) "
      ],
      "execution_count": 0,
      "outputs": [
        {
          "output_type": "stream",
          "text": [
            "Warning message:\n",
            "“Removed 105 rows containing missing values (geom_point).”\n"
          ],
          "name": "stderr"
        },
        {
          "output_type": "display_data",
          "data": {
            "image/png": "[encoded data removed]",
            "text/plain": [
              "plot without title"
            ]
          },
          "metadata": {
            "tags": [],
            "image/png": {
              "width": 420,
              "height": 420
            },
            "text/plain": {
              "width": 420,
              "height": 420
            }
          }
        }
      ]
    },
    {
      "cell_type": "code",
      "metadata": {
        "id": "xbuBmd1ZwsXE",
        "colab_type": "code",
        "outputId": "8f3507e8-5548-46bb-8b86-b0e621cb9db2",
        "colab": {
          "base_uri": "https://localhost:8080/",
          "height": 437
        }
      },
      "source": [
        "ggplot(data = mpg, aes(x = cty, y = hwy)) +\n",
        " geom_point()"
      ],
      "execution_count": 0,
      "outputs": [
        {
          "output_type": "display_data",
          "data": {
            "image/png": "[encoded data removed]",
            "text/plain": [
              "plot without title"
            ]
          },
          "metadata": {
            "tags": [],
            "image/png": {
              "width": 420,
              "height": 420
            },
            "text/plain": {
              "width": 420,
              "height": 420
            }
          }
        }
      ]
    },
    {
      "cell_type": "code",
      "metadata": {
        "id": "FLwC7PYexQBs",
        "colab_type": "code",
        "outputId": "c0b30309-7b63-49f1-e49f-b6cabf228e6e",
        "colab": {
          "base_uri": "https://localhost:8080/",
          "height": 474
        }
      },
      "source": [
        "ggplot(data = midwest, aes(x = poptotal, y = popasian)) + \n",
        "geom_point() + \n",
        "xlim(0, 500000) + \n",
        "ylim(0, 10000)"
      ],
      "execution_count": 0,
      "outputs": [
        {
          "output_type": "stream",
          "text": [
            "Warning message:\n",
            "“Removed 15 rows containing missing values (geom_point).”\n"
          ],
          "name": "stderr"
        },
        {
          "output_type": "display_data",
          "data": {
            "image/png": "[encoded data removed]",
            "text/plain": [
              "plot without title"
            ]
          },
          "metadata": {
            "tags": [],
            "image/png": {
              "width": 420,
              "height": 420
            },
            "text/plain": {
              "width": 420,
              "height": 420
            }
          }
        }
      ]
    },
    {
      "cell_type": "code",
      "metadata": {
        "id": "Jq_57Uo-xiGs",
        "colab_type": "code",
        "outputId": "68e40f5e-7617-4f9c-8f32-24ae8465c7fb",
        "colab": {
          "base_uri": "https://localhost:8080/",
          "height": 287
        }
      },
      "source": [
        "mpg_suv <- mpg %>% filter(class == 'suv') %>% group_by(manufacturer) %>% summarise(mean_cty = mean(cty))\n",
        "mpg_suv"
      ],
      "execution_count": 0,
      "outputs": [
        {
          "output_type": "display_data",
          "data": {
            "text/plain": [
              "   manufacturer mean_cty\n",
              "1  chevrolet    11.44444\n",
              "2  dodge        11.85714\n",
              "3  ford         12.88889\n",
              "4  jeep         16.75000\n",
              "5  land rover   11.50000\n",
              "6  lincoln      11.33333\n",
              "7  mercury      13.25000\n",
              "8  nissan       13.75000\n",
              "9  subaru       18.83333\n",
              "10 toyota       14.37500"
            ],
            "text/latex": "A tibble: 10 × 2\n\\begin{tabular}{ll}\n manufacturer & mean\\_cty\\\\\n <chr> & <dbl>\\\\\n\\hline\n\t chevrolet  & 11.44444\\\\\n\t dodge      & 11.85714\\\\\n\t ford       & 12.88889\\\\\n\t jeep       & 16.75000\\\\\n\t land rover & 11.50000\\\\\n\t lincoln    & 11.33333\\\\\n\t mercury    & 13.25000\\\\\n\t nissan     & 13.75000\\\\\n\t subaru     & 18.83333\\\\\n\t toyota     & 14.37500\\\\\n\\end{tabular}\n",
            "text/markdown": "\nA tibble: 10 × 2\n\n| manufacturer &lt;chr&gt; | mean_cty &lt;dbl&gt; |\n|---|---|\n| chevrolet  | 11.44444 |\n| dodge      | 11.85714 |\n| ford       | 12.88889 |\n| jeep       | 16.75000 |\n| land rover | 11.50000 |\n| lincoln    | 11.33333 |\n| mercury    | 13.25000 |\n| nissan     | 13.75000 |\n| subaru     | 18.83333 |\n| toyota     | 14.37500 |\n\n",
            "text/html": [
              "<table>\n",
              "<caption>A tibble: 10 × 2</caption>\n",
              "<thead>\n",
              "\t<tr><th scope=col>manufacturer</th><th scope=col>mean_cty</th></tr>\n",
              "\t<tr><th scope=col>&lt;chr&gt;</th><th scope=col>&lt;dbl&gt;</th></tr>\n",
              "</thead>\n",
              "<tbody>\n",
              "\t<tr><td>chevrolet </td><td>11.44444</td></tr>\n",
              "\t<tr><td>dodge     </td><td>11.85714</td></tr>\n",
              "\t<tr><td>ford      </td><td>12.88889</td></tr>\n",
              "\t<tr><td>jeep      </td><td>16.75000</td></tr>\n",
              "\t<tr><td>land rover</td><td>11.50000</td></tr>\n",
              "\t<tr><td>lincoln   </td><td>11.33333</td></tr>\n",
              "\t<tr><td>mercury   </td><td>13.25000</td></tr>\n",
              "\t<tr><td>nissan    </td><td>13.75000</td></tr>\n",
              "\t<tr><td>subaru    </td><td>18.83333</td></tr>\n",
              "\t<tr><td>toyota    </td><td>14.37500</td></tr>\n",
              "</tbody>\n",
              "</table>\n"
            ]
          },
          "metadata": {
            "tags": []
          }
        }
      ]
    },
    {
      "cell_type": "code",
      "metadata": {
        "id": "UK5gnMoL62qU",
        "colab_type": "code",
        "outputId": "ab95c84f-e1e2-413f-d0c5-22a3aacfaf10",
        "colab": {
          "base_uri": "https://localhost:8080/",
          "height": 437
        }
      },
      "source": [
        "ggplot(data = mpg_suv, aes(x = reorder(manufacturer, -mean_cty),y = mean_cty)) + geom_col() "
      ],
      "execution_count": 0,
      "outputs": [
        {
          "output_type": "display_data",
          "data": {
            "image/png": "[encoded data removed]",
            "text/plain": [
              "plot without title"
            ]
          },
          "metadata": {
            "tags": [],
            "image/png": {
              "width": 420,
              "height": 420
            },
            "text/plain": {
              "width": 420,
              "height": 420
            }
          }
        }
      ]
    },
    {
      "cell_type": "code",
      "metadata": {
        "id": "l-TuZCLI68vJ",
        "colab_type": "code",
        "outputId": "59bcee49-ba78-4f3a-d93e-11688175d165",
        "colab": {
          "base_uri": "https://localhost:8080/",
          "height": 437
        }
      },
      "source": [
        "ggplot(data = mpg_suv, aes(x = manufacturer, y = mean_cty)) + geom_col()"
      ],
      "execution_count": 0,
      "outputs": [
        {
          "output_type": "display_data",
          "data": {
            "image/png": "[encoded data removed]",
            "text/plain": [
              "plot without title"
            ]
          },
          "metadata": {
            "tags": [],
            "image/png": {
              "width": 420,
              "height": 420
            },
            "text/plain": {
              "width": 420,
              "height": 420
            }
          }
        }
      ]
    },
    {
      "cell_type": "code",
      "metadata": {
        "id": "I2aG8yJq76Kv",
        "colab_type": "code",
        "outputId": "0bef6ae9-e2ae-4d5f-9cc9-72d6047247b6",
        "colab": {
          "base_uri": "https://localhost:8080/",
          "height": 437
        }
      },
      "source": [
        "ggplot(data = economics, aes(x = date, y = psavert)) + geom_line()"
      ],
      "execution_count": 0,
      "outputs": [
        {
          "output_type": "display_data",
          "data": {
            "image/png": "[encoded data removed]",
            "text/plain": [
              "plot without title"
            ]
          },
          "metadata": {
            "tags": [],
            "image/png": {
              "width": 420,
              "height": 420
            },
            "text/plain": {
              "width": 420,
              "height": 420
            }
          }
        }
      ]
    },
    {
      "cell_type": "code",
      "metadata": {
        "id": "LoUb-X4j8d65",
        "colab_type": "code",
        "outputId": "72b8b5e3-2a08-4f03-e12f-f445630a8548",
        "colab": {
          "base_uri": "https://localhost:8080/",
          "height": 183
        }
      },
      "source": [
        "economics <- as.data.frame(ggplot2::economics)\n",
        "economics %>% head(5)"
      ],
      "execution_count": 0,
      "outputs": [
        {
          "output_type": "display_data",
          "data": {
            "text/plain": [
              "  date       pce   pop    psavert uempmed unemploy\n",
              "1 1967-07-01 506.7 198712 12.6    4.5     2944    \n",
              "2 1967-08-01 509.8 198911 12.6    4.7     2945    \n",
              "3 1967-09-01 515.6 199113 11.9    4.6     2958    \n",
              "4 1967-10-01 512.2 199311 12.9    4.9     3143    \n",
              "5 1967-11-01 517.4 199498 12.8    4.7     3066    "
            ],
            "text/latex": "A data.frame: 5 × 6\n\\begin{tabular}{r|llllll}\n  & date & pce & pop & psavert & uempmed & unemploy\\\\\n  & <date> & <dbl> & <dbl> & <dbl> & <dbl> & <dbl>\\\\\n\\hline\n\t1 & 1967-07-01 & 506.7 & 198712 & 12.6 & 4.5 & 2944\\\\\n\t2 & 1967-08-01 & 509.8 & 198911 & 12.6 & 4.7 & 2945\\\\\n\t3 & 1967-09-01 & 515.6 & 199113 & 11.9 & 4.6 & 2958\\\\\n\t4 & 1967-10-01 & 512.2 & 199311 & 12.9 & 4.9 & 3143\\\\\n\t5 & 1967-11-01 & 517.4 & 199498 & 12.8 & 4.7 & 3066\\\\\n\\end{tabular}\n",
            "text/markdown": "\nA data.frame: 5 × 6\n\n| <!--/--> | date &lt;date&gt; | pce &lt;dbl&gt; | pop &lt;dbl&gt; | psavert &lt;dbl&gt; | uempmed &lt;dbl&gt; | unemploy &lt;dbl&gt; |\n|---|---|---|---|---|---|---|\n| 1 | 1967-07-01 | 506.7 | 198712 | 12.6 | 4.5 | 2944 |\n| 2 | 1967-08-01 | 509.8 | 198911 | 12.6 | 4.7 | 2945 |\n| 3 | 1967-09-01 | 515.6 | 199113 | 11.9 | 4.6 | 2958 |\n| 4 | 1967-10-01 | 512.2 | 199311 | 12.9 | 4.9 | 3143 |\n| 5 | 1967-11-01 | 517.4 | 199498 | 12.8 | 4.7 | 3066 |\n\n",
            "text/html": [
              "<table>\n",
              "<caption>A data.frame: 5 × 6</caption>\n",
              "<thead>\n",
              "\t<tr><th></th><th scope=col>date</th><th scope=col>pce</th><th scope=col>pop</th><th scope=col>psavert</th><th scope=col>uempmed</th><th scope=col>unemploy</th></tr>\n",
              "\t<tr><th></th><th scope=col>&lt;date&gt;</th><th scope=col>&lt;dbl&gt;</th><th scope=col>&lt;dbl&gt;</th><th scope=col>&lt;dbl&gt;</th><th scope=col>&lt;dbl&gt;</th><th scope=col>&lt;dbl&gt;</th></tr>\n",
              "</thead>\n",
              "<tbody>\n",
              "\t<tr><th scope=row>1</th><td>1967-07-01</td><td>506.7</td><td>198712</td><td>12.6</td><td>4.5</td><td>2944</td></tr>\n",
              "\t<tr><th scope=row>2</th><td>1967-08-01</td><td>509.8</td><td>198911</td><td>12.6</td><td>4.7</td><td>2945</td></tr>\n",
              "\t<tr><th scope=row>3</th><td>1967-09-01</td><td>515.6</td><td>199113</td><td>11.9</td><td>4.6</td><td>2958</td></tr>\n",
              "\t<tr><th scope=row>4</th><td>1967-10-01</td><td>512.2</td><td>199311</td><td>12.9</td><td>4.9</td><td>3143</td></tr>\n",
              "\t<tr><th scope=row>5</th><td>1967-11-01</td><td>517.4</td><td>199498</td><td>12.8</td><td>4.7</td><td>3066</td></tr>\n",
              "</tbody>\n",
              "</table>\n"
            ]
          },
          "metadata": {
            "tags": []
          }
        }
      ]
    },
    {
      "cell_type": "code",
      "metadata": {
        "id": "BpXCkUUj8olB",
        "colab_type": "code",
        "colab": {
          "base_uri": "https://localhost:8080/",
          "height": 437
        },
        "outputId": "e131d0b7-98d3-4ff9-c2d5-980e6197e37b"
      },
      "source": [
        "ggplot(data = mpg, aes(x = drv, y = hwy)) + geom_boxplot() "
      ],
      "execution_count": 165,
      "outputs": [
        {
          "output_type": "display_data",
          "data": {
            "image/png": "[encoded data removed]",
            "text/plain": [
              "plot without title"
            ]
          },
          "metadata": {
            "tags": [],
            "image/png": {
              "width": 420,
              "height": 420
            },
            "text/plain": {
              "width": 420,
              "height": 420
            }
          }
        }
      ]
    },
    {
      "cell_type": "code",
      "metadata": {
        "id": "1qo-0XH2-uPL",
        "colab_type": "code",
        "colab": {
          "base_uri": "https://localhost:8080/",
          "height": 437
        },
        "outputId": "9976c8dc-734b-40c1-ecc0-e6aec03455d9"
      },
      "source": [
        "class_mpg <- mpg %>% filter(class %in% c(\"compact\", \"subcompact\", \"suv\")) \n",
        "ggplot(data = class_mpg, aes(x = class, y = cty)) + geom_boxplot()"
      ],
      "execution_count": 166,
      "outputs": [
        {
          "output_type": "display_data",
          "data": {
            "image/png": "[encoded data removed]",
            "text/plain": [
              "plot without title"
            ]
          },
          "metadata": {
            "tags": [],
            "image/png": {
              "width": 420,
              "height": 420
            },
            "text/plain": {
              "width": 420,
              "height": 420
            }
          }
        }
      ]
    },
    {
      "cell_type": "markdown",
      "metadata": {
        "id": "vvPfAfTtAr9F",
        "colab_type": "text"
      },
      "source": [
        "# 1. 산점도\n",
        " ggplot(data = mpg, aes(x = displ, y = hwy)) + geom_point() \n",
        " \n",
        "# 축 설정 추가\n",
        " ggplot(data = mpg, aes(x = displ, y = hwy)) +   geom_point() +   xlim(3, 6) +   ylim(10, 30) \n",
        " \n",
        "# 2. 평균 막대 그래프\n",
        " \n",
        " \n",
        "# 1 단계 . 평균표 만들기\n",
        " df_mpg <- mpg %>%   group_by(drv) %>%   summarise(mean_hwy = mean(hwy)) \n",
        " \n",
        "# 2 단계 . 그래프 생성하기 , 크기순 정렬하기\n",
        " ggplot(data = df_mpg, aes(x = reorder(drv, -mean_hwy), y = mean_hwy)) + geom_col() \n",
        " \n",
        "# 3. 빈도 막대 그래프\n",
        " ggplot(data = mpg, aes(x = drv)) + geom_bar() \n",
        " \n",
        "  \n",
        "# 4. 선 그래프\n",
        " ggplot(data = economics, aes(x = date, y = unemploy)) + geom_line() \n",
        " \n",
        "# 5. 상자 그림\n",
        " ggplot(data = mpg, aes(x = drv, y = hwy)) + geom_boxplot() "
      ]
    }
  ]
}