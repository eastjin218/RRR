{
 "cells": [
  {
   "cell_type": "markdown",
   "metadata": {},
   "source": [
    "# 5. 데이터 분석 기초"
   ]
  },
  {
   "cell_type": "markdown",
   "metadata": {},
   "source": [
    "## 5-1. 데이터 파악하기\n",
    "- head\n",
    "- tail\n",
    "- view\n",
    "- dim\n",
    "- str\n",
    "- summary"
   ]
  },
  {
   "cell_type": "code",
   "execution_count": 1,
   "metadata": {},
   "outputs": [],
   "source": [
    "exam <- read.csv(\"./data/csv_exam.csv\")"
   ]
  },
  {
   "cell_type": "code",
   "execution_count": 2,
   "metadata": {
    "collapsed": true
   },
   "outputs": [
    {
     "data": {
      "text/html": [
       "<table>\n",
       "<thead><tr><th scope=col>id</th><th scope=col>class</th><th scope=col>math</th><th scope=col>english</th><th scope=col>science</th></tr></thead>\n",
       "<tbody>\n",
       "\t<tr><td>1 </td><td>1 </td><td>50</td><td>98</td><td>50</td></tr>\n",
       "\t<tr><td>2 </td><td>1 </td><td>60</td><td>97</td><td>60</td></tr>\n",
       "\t<tr><td>3 </td><td>1 </td><td>45</td><td>86</td><td>78</td></tr>\n",
       "\t<tr><td>4 </td><td>1 </td><td>30</td><td>98</td><td>58</td></tr>\n",
       "\t<tr><td>5 </td><td>2 </td><td>25</td><td>80</td><td>65</td></tr>\n",
       "\t<tr><td>6 </td><td>2 </td><td>50</td><td>89</td><td>98</td></tr>\n",
       "</tbody>\n",
       "</table>\n"
      ],
      "text/latex": [
       "\\begin{tabular}{r|lllll}\n",
       " id & class & math & english & science\\\\\n",
       "\\hline\n",
       "\t 1  & 1  & 50 & 98 & 50\\\\\n",
       "\t 2  & 1  & 60 & 97 & 60\\\\\n",
       "\t 3  & 1  & 45 & 86 & 78\\\\\n",
       "\t 4  & 1  & 30 & 98 & 58\\\\\n",
       "\t 5  & 2  & 25 & 80 & 65\\\\\n",
       "\t 6  & 2  & 50 & 89 & 98\\\\\n",
       "\\end{tabular}\n"
      ],
      "text/markdown": [
       "\n",
       "| id | class | math | english | science |\n",
       "|---|---|---|---|---|\n",
       "| 1  | 1  | 50 | 98 | 50 |\n",
       "| 2  | 1  | 60 | 97 | 60 |\n",
       "| 3  | 1  | 45 | 86 | 78 |\n",
       "| 4  | 1  | 30 | 98 | 58 |\n",
       "| 5  | 2  | 25 | 80 | 65 |\n",
       "| 6  | 2  | 50 | 89 | 98 |\n",
       "\n"
      ],
      "text/plain": [
       "  id class math english science\n",
       "1 1  1     50   98      50     \n",
       "2 2  1     60   97      60     \n",
       "3 3  1     45   86      78     \n",
       "4 4  1     30   98      58     \n",
       "5 5  2     25   80      65     \n",
       "6 6  2     50   89      98     "
      ]
     },
     "metadata": {},
     "output_type": "display_data"
    }
   ],
   "source": [
    "head(exam)"
   ]
  },
  {
   "cell_type": "code",
   "execution_count": 4,
   "metadata": {
    "collapsed": true
   },
   "outputs": [
    {
     "data": {
      "text/html": [
       "<table>\n",
       "<thead><tr><th></th><th scope=col>id</th><th scope=col>class</th><th scope=col>math</th><th scope=col>english</th><th scope=col>science</th></tr></thead>\n",
       "<tbody>\n",
       "\t<tr><th scope=row>15</th><td>15</td><td>4 </td><td>75</td><td>56</td><td>78</td></tr>\n",
       "\t<tr><th scope=row>16</th><td>16</td><td>4 </td><td>58</td><td>98</td><td>65</td></tr>\n",
       "\t<tr><th scope=row>17</th><td>17</td><td>5 </td><td>65</td><td>68</td><td>98</td></tr>\n",
       "\t<tr><th scope=row>18</th><td>18</td><td>5 </td><td>80</td><td>78</td><td>90</td></tr>\n",
       "\t<tr><th scope=row>19</th><td>19</td><td>5 </td><td>89</td><td>68</td><td>87</td></tr>\n",
       "\t<tr><th scope=row>20</th><td>20</td><td>5 </td><td>78</td><td>83</td><td>58</td></tr>\n",
       "</tbody>\n",
       "</table>\n"
      ],
      "text/latex": [
       "\\begin{tabular}{r|lllll}\n",
       "  & id & class & math & english & science\\\\\n",
       "\\hline\n",
       "\t15 & 15 & 4  & 75 & 56 & 78\\\\\n",
       "\t16 & 16 & 4  & 58 & 98 & 65\\\\\n",
       "\t17 & 17 & 5  & 65 & 68 & 98\\\\\n",
       "\t18 & 18 & 5  & 80 & 78 & 90\\\\\n",
       "\t19 & 19 & 5  & 89 & 68 & 87\\\\\n",
       "\t20 & 20 & 5  & 78 & 83 & 58\\\\\n",
       "\\end{tabular}\n"
      ],
      "text/markdown": [
       "\n",
       "| <!--/--> | id | class | math | english | science |\n",
       "|---|---|---|---|---|---|\n",
       "| 15 | 15 | 4  | 75 | 56 | 78 |\n",
       "| 16 | 16 | 4  | 58 | 98 | 65 |\n",
       "| 17 | 17 | 5  | 65 | 68 | 98 |\n",
       "| 18 | 18 | 5  | 80 | 78 | 90 |\n",
       "| 19 | 19 | 5  | 89 | 68 | 87 |\n",
       "| 20 | 20 | 5  | 78 | 83 | 58 |\n",
       "\n"
      ],
      "text/plain": [
       "   id class math english science\n",
       "15 15 4     75   56      78     \n",
       "16 16 4     58   98      65     \n",
       "17 17 5     65   68      98     \n",
       "18 18 5     80   78      90     \n",
       "19 19 5     89   68      87     \n",
       "20 20 5     78   83      58     "
      ]
     },
     "metadata": {},
     "output_type": "display_data"
    },
    {
     "data": {
      "text/html": [
       "<table>\n",
       "<thead><tr><th></th><th scope=col>id</th><th scope=col>class</th><th scope=col>math</th><th scope=col>english</th><th scope=col>science</th></tr></thead>\n",
       "<tbody>\n",
       "\t<tr><th scope=row>6</th><td> 6</td><td>2 </td><td>50</td><td>89</td><td>98</td></tr>\n",
       "\t<tr><th scope=row>7</th><td> 7</td><td>2 </td><td>80</td><td>90</td><td>45</td></tr>\n",
       "\t<tr><th scope=row>8</th><td> 8</td><td>2 </td><td>90</td><td>78</td><td>25</td></tr>\n",
       "\t<tr><th scope=row>9</th><td> 9</td><td>3 </td><td>20</td><td>98</td><td>15</td></tr>\n",
       "\t<tr><th scope=row>10</th><td>10</td><td>3 </td><td>50</td><td>98</td><td>45</td></tr>\n",
       "\t<tr><th scope=row>11</th><td>11</td><td>3 </td><td>65</td><td>65</td><td>65</td></tr>\n",
       "\t<tr><th scope=row>12</th><td>12</td><td>3 </td><td>45</td><td>85</td><td>32</td></tr>\n",
       "\t<tr><th scope=row>13</th><td>13</td><td>4 </td><td>46</td><td>98</td><td>65</td></tr>\n",
       "\t<tr><th scope=row>14</th><td>14</td><td>4 </td><td>48</td><td>87</td><td>12</td></tr>\n",
       "\t<tr><th scope=row>15</th><td>15</td><td>4 </td><td>75</td><td>56</td><td>78</td></tr>\n",
       "\t<tr><th scope=row>16</th><td>16</td><td>4 </td><td>58</td><td>98</td><td>65</td></tr>\n",
       "\t<tr><th scope=row>17</th><td>17</td><td>5 </td><td>65</td><td>68</td><td>98</td></tr>\n",
       "\t<tr><th scope=row>18</th><td>18</td><td>5 </td><td>80</td><td>78</td><td>90</td></tr>\n",
       "\t<tr><th scope=row>19</th><td>19</td><td>5 </td><td>89</td><td>68</td><td>87</td></tr>\n",
       "\t<tr><th scope=row>20</th><td>20</td><td>5 </td><td>78</td><td>83</td><td>58</td></tr>\n",
       "</tbody>\n",
       "</table>\n"
      ],
      "text/latex": [
       "\\begin{tabular}{r|lllll}\n",
       "  & id & class & math & english & science\\\\\n",
       "\\hline\n",
       "\t6 &  6 & 2  & 50 & 89 & 98\\\\\n",
       "\t7 &  7 & 2  & 80 & 90 & 45\\\\\n",
       "\t8 &  8 & 2  & 90 & 78 & 25\\\\\n",
       "\t9 &  9 & 3  & 20 & 98 & 15\\\\\n",
       "\t10 & 10 & 3  & 50 & 98 & 45\\\\\n",
       "\t11 & 11 & 3  & 65 & 65 & 65\\\\\n",
       "\t12 & 12 & 3  & 45 & 85 & 32\\\\\n",
       "\t13 & 13 & 4  & 46 & 98 & 65\\\\\n",
       "\t14 & 14 & 4  & 48 & 87 & 12\\\\\n",
       "\t15 & 15 & 4  & 75 & 56 & 78\\\\\n",
       "\t16 & 16 & 4  & 58 & 98 & 65\\\\\n",
       "\t17 & 17 & 5  & 65 & 68 & 98\\\\\n",
       "\t18 & 18 & 5  & 80 & 78 & 90\\\\\n",
       "\t19 & 19 & 5  & 89 & 68 & 87\\\\\n",
       "\t20 & 20 & 5  & 78 & 83 & 58\\\\\n",
       "\\end{tabular}\n"
      ],
      "text/markdown": [
       "\n",
       "| <!--/--> | id | class | math | english | science |\n",
       "|---|---|---|---|---|---|\n",
       "| 6 |  6 | 2  | 50 | 89 | 98 |\n",
       "| 7 |  7 | 2  | 80 | 90 | 45 |\n",
       "| 8 |  8 | 2  | 90 | 78 | 25 |\n",
       "| 9 |  9 | 3  | 20 | 98 | 15 |\n",
       "| 10 | 10 | 3  | 50 | 98 | 45 |\n",
       "| 11 | 11 | 3  | 65 | 65 | 65 |\n",
       "| 12 | 12 | 3  | 45 | 85 | 32 |\n",
       "| 13 | 13 | 4  | 46 | 98 | 65 |\n",
       "| 14 | 14 | 4  | 48 | 87 | 12 |\n",
       "| 15 | 15 | 4  | 75 | 56 | 78 |\n",
       "| 16 | 16 | 4  | 58 | 98 | 65 |\n",
       "| 17 | 17 | 5  | 65 | 68 | 98 |\n",
       "| 18 | 18 | 5  | 80 | 78 | 90 |\n",
       "| 19 | 19 | 5  | 89 | 68 | 87 |\n",
       "| 20 | 20 | 5  | 78 | 83 | 58 |\n",
       "\n"
      ],
      "text/plain": [
       "   id class math english science\n",
       "6   6 2     50   89      98     \n",
       "7   7 2     80   90      45     \n",
       "8   8 2     90   78      25     \n",
       "9   9 3     20   98      15     \n",
       "10 10 3     50   98      45     \n",
       "11 11 3     65   65      65     \n",
       "12 12 3     45   85      32     \n",
       "13 13 4     46   98      65     \n",
       "14 14 4     48   87      12     \n",
       "15 15 4     75   56      78     \n",
       "16 16 4     58   98      65     \n",
       "17 17 5     65   68      98     \n",
       "18 18 5     80   78      90     \n",
       "19 19 5     89   68      87     \n",
       "20 20 5     78   83      58     "
      ]
     },
     "metadata": {},
     "output_type": "display_data"
    }
   ],
   "source": [
    "tail(exam)\n",
    "tail(exam, 15)"
   ]
  },
  {
   "cell_type": "code",
   "execution_count": 5,
   "metadata": {
    "scrolled": true
   },
   "outputs": [
    {
     "ename": "ERROR",
     "evalue": "Error in View(exam): 'View()' not yet supported in the Jupyter R kernel\n",
     "output_type": "error",
     "traceback": [
      "Error in View(exam): 'View()' not yet supported in the Jupyter R kernel\nTraceback:\n",
      "1. View(exam)",
      "2. stop(sQuote(\"View()\"), \" not yet supported in the Jupyter R kernel\")"
     ]
    }
   ],
   "source": [
    "View(exam)"
   ]
  },
  {
   "cell_type": "code",
   "execution_count": 6,
   "metadata": {},
   "outputs": [
    {
     "data": {
      "text/html": [
       "<ol class=list-inline>\n",
       "\t<li>20</li>\n",
       "\t<li>5</li>\n",
       "</ol>\n"
      ],
      "text/latex": [
       "\\begin{enumerate*}\n",
       "\\item 20\n",
       "\\item 5\n",
       "\\end{enumerate*}\n"
      ],
      "text/markdown": [
       "1. 20\n",
       "2. 5\n",
       "\n",
       "\n"
      ],
      "text/plain": [
       "[1] 20  5"
      ]
     },
     "metadata": {},
     "output_type": "display_data"
    }
   ],
   "source": [
    "dim(exam) # 행, 열 출력"
   ]
  },
  {
   "cell_type": "code",
   "execution_count": 7,
   "metadata": {
    "scrolled": true
   },
   "outputs": [
    {
     "name": "stdout",
     "output_type": "stream",
     "text": [
      "'data.frame':\t20 obs. of  5 variables:\n",
      " $ id     : int  1 2 3 4 5 6 7 8 9 10 ...\n",
      " $ class  : int  1 1 1 1 2 2 2 2 3 3 ...\n",
      " $ math   : int  50 60 45 30 25 50 80 90 20 50 ...\n",
      " $ english: int  98 97 86 98 80 89 90 78 98 98 ...\n",
      " $ science: int  50 60 78 58 65 98 45 25 15 45 ...\n"
     ]
    }
   ],
   "source": [
    "str(exam) # 데이터 속성 확인 # R에서 컬럼 = variable, 행 = obs  # 판다스의 info와 같은거."
   ]
  },
  {
   "cell_type": "code",
   "execution_count": 8,
   "metadata": {},
   "outputs": [
    {
     "data": {
      "text/plain": [
       "       id            class        math          english        science     \n",
       " Min.   : 1.00   Min.   :1   Min.   :20.00   Min.   :56.0   Min.   :12.00  \n",
       " 1st Qu.: 5.75   1st Qu.:2   1st Qu.:45.75   1st Qu.:78.0   1st Qu.:45.00  \n",
       " Median :10.50   Median :3   Median :54.00   Median :86.5   Median :62.50  \n",
       " Mean   :10.50   Mean   :3   Mean   :57.45   Mean   :84.9   Mean   :59.45  \n",
       " 3rd Qu.:15.25   3rd Qu.:4   3rd Qu.:75.75   3rd Qu.:98.0   3rd Qu.:78.00  \n",
       " Max.   :20.00   Max.   :5   Max.   :90.00   Max.   :98.0   Max.   :98.00  "
      ]
     },
     "metadata": {},
     "output_type": "display_data"
    }
   ],
   "source": [
    "summary(exam) # mode(최빈값)까지 구해서 \n",
    "# mean과 median으로 외도와 첨도가 얼마나 오차가 있는지 허용할 수준인지. \n",
    "# 정규분포로 맞춰야만 학습시 정확도가 아주 노파진다.\n",
    "# 테일이 긴쪽의 것을 보강해줘야함."
   ]
  },
  {
   "cell_type": "markdown",
   "metadata": {},
   "source": [
    "mpg 데이터 파악"
   ]
  },
  {
   "cell_type": "code",
   "execution_count": 10,
   "metadata": {},
   "outputs": [],
   "source": [
    "mpg <- as.data.frame(ggplot2::mpg)\n"
   ]
  },
  {
   "cell_type": "code",
   "execution_count": 12,
   "metadata": {},
   "outputs": [
    {
     "data": {
      "text/html": [
       "<table>\n",
       "<thead><tr><th scope=col>manufacturer</th><th scope=col>model</th><th scope=col>displ</th><th scope=col>year</th><th scope=col>cyl</th><th scope=col>trans</th><th scope=col>drv</th><th scope=col>cty</th><th scope=col>hwy</th><th scope=col>fl</th><th scope=col>class</th></tr></thead>\n",
       "<tbody>\n",
       "\t<tr><td>audi      </td><td>a4        </td><td>1.8       </td><td>1999      </td><td>4         </td><td>auto(l5)  </td><td>f         </td><td>18        </td><td>29        </td><td>p         </td><td>compact   </td></tr>\n",
       "\t<tr><td>audi      </td><td>a4        </td><td>1.8       </td><td>1999      </td><td>4         </td><td>manual(m5)</td><td>f         </td><td>21        </td><td>29        </td><td>p         </td><td>compact   </td></tr>\n",
       "\t<tr><td>audi      </td><td>a4        </td><td>2.0       </td><td>2008      </td><td>4         </td><td>manual(m6)</td><td>f         </td><td>20        </td><td>31        </td><td>p         </td><td>compact   </td></tr>\n",
       "\t<tr><td>audi      </td><td>a4        </td><td>2.0       </td><td>2008      </td><td>4         </td><td>auto(av)  </td><td>f         </td><td>21        </td><td>30        </td><td>p         </td><td>compact   </td></tr>\n",
       "\t<tr><td>audi      </td><td>a4        </td><td>2.8       </td><td>1999      </td><td>6         </td><td>auto(l5)  </td><td>f         </td><td>16        </td><td>26        </td><td>p         </td><td>compact   </td></tr>\n",
       "\t<tr><td>audi      </td><td>a4        </td><td>2.8       </td><td>1999      </td><td>6         </td><td>manual(m5)</td><td>f         </td><td>18        </td><td>26        </td><td>p         </td><td>compact   </td></tr>\n",
       "</tbody>\n",
       "</table>\n"
      ],
      "text/latex": [
       "\\begin{tabular}{r|lllllllllll}\n",
       " manufacturer & model & displ & year & cyl & trans & drv & cty & hwy & fl & class\\\\\n",
       "\\hline\n",
       "\t audi       & a4         & 1.8        & 1999       & 4          & auto(l5)   & f          & 18         & 29         & p          & compact   \\\\\n",
       "\t audi       & a4         & 1.8        & 1999       & 4          & manual(m5) & f          & 21         & 29         & p          & compact   \\\\\n",
       "\t audi       & a4         & 2.0        & 2008       & 4          & manual(m6) & f          & 20         & 31         & p          & compact   \\\\\n",
       "\t audi       & a4         & 2.0        & 2008       & 4          & auto(av)   & f          & 21         & 30         & p          & compact   \\\\\n",
       "\t audi       & a4         & 2.8        & 1999       & 6          & auto(l5)   & f          & 16         & 26         & p          & compact   \\\\\n",
       "\t audi       & a4         & 2.8        & 1999       & 6          & manual(m5) & f          & 18         & 26         & p          & compact   \\\\\n",
       "\\end{tabular}\n"
      ],
      "text/markdown": [
       "\n",
       "| manufacturer | model | displ | year | cyl | trans | drv | cty | hwy | fl | class |\n",
       "|---|---|---|---|---|---|---|---|---|---|---|\n",
       "| audi       | a4         | 1.8        | 1999       | 4          | auto(l5)   | f          | 18         | 29         | p          | compact    |\n",
       "| audi       | a4         | 1.8        | 1999       | 4          | manual(m5) | f          | 21         | 29         | p          | compact    |\n",
       "| audi       | a4         | 2.0        | 2008       | 4          | manual(m6) | f          | 20         | 31         | p          | compact    |\n",
       "| audi       | a4         | 2.0        | 2008       | 4          | auto(av)   | f          | 21         | 30         | p          | compact    |\n",
       "| audi       | a4         | 2.8        | 1999       | 6          | auto(l5)   | f          | 16         | 26         | p          | compact    |\n",
       "| audi       | a4         | 2.8        | 1999       | 6          | manual(m5) | f          | 18         | 26         | p          | compact    |\n",
       "\n"
      ],
      "text/plain": [
       "  manufacturer model displ year cyl trans      drv cty hwy fl class  \n",
       "1 audi         a4    1.8   1999 4   auto(l5)   f   18  29  p  compact\n",
       "2 audi         a4    1.8   1999 4   manual(m5) f   21  29  p  compact\n",
       "3 audi         a4    2.0   2008 4   manual(m6) f   20  31  p  compact\n",
       "4 audi         a4    2.0   2008 4   auto(av)   f   21  30  p  compact\n",
       "5 audi         a4    2.8   1999 6   auto(l5)   f   16  26  p  compact\n",
       "6 audi         a4    2.8   1999 6   manual(m5) f   18  26  p  compact"
      ]
     },
     "metadata": {},
     "output_type": "display_data"
    },
    {
     "data": {
      "text/html": [
       "<table>\n",
       "<thead><tr><th></th><th scope=col>manufacturer</th><th scope=col>model</th><th scope=col>displ</th><th scope=col>year</th><th scope=col>cyl</th><th scope=col>trans</th><th scope=col>drv</th><th scope=col>cty</th><th scope=col>hwy</th><th scope=col>fl</th><th scope=col>class</th></tr></thead>\n",
       "<tbody>\n",
       "\t<tr><th scope=row>229</th><td>volkswagen</td><td>passat    </td><td>1.8       </td><td>1999      </td><td>4         </td><td>auto(l5)  </td><td>f         </td><td>18        </td><td>29        </td><td>p         </td><td>midsize   </td></tr>\n",
       "\t<tr><th scope=row>230</th><td>volkswagen</td><td>passat    </td><td>2.0       </td><td>2008      </td><td>4         </td><td>auto(s6)  </td><td>f         </td><td>19        </td><td>28        </td><td>p         </td><td>midsize   </td></tr>\n",
       "\t<tr><th scope=row>231</th><td>volkswagen</td><td>passat    </td><td>2.0       </td><td>2008      </td><td>4         </td><td>manual(m6)</td><td>f         </td><td>21        </td><td>29        </td><td>p         </td><td>midsize   </td></tr>\n",
       "\t<tr><th scope=row>232</th><td>volkswagen</td><td>passat    </td><td>2.8       </td><td>1999      </td><td>6         </td><td>auto(l5)  </td><td>f         </td><td>16        </td><td>26        </td><td>p         </td><td>midsize   </td></tr>\n",
       "\t<tr><th scope=row>233</th><td>volkswagen</td><td>passat    </td><td>2.8       </td><td>1999      </td><td>6         </td><td>manual(m5)</td><td>f         </td><td>18        </td><td>26        </td><td>p         </td><td>midsize   </td></tr>\n",
       "\t<tr><th scope=row>234</th><td>volkswagen</td><td>passat    </td><td>3.6       </td><td>2008      </td><td>6         </td><td>auto(s6)  </td><td>f         </td><td>17        </td><td>26        </td><td>p         </td><td>midsize   </td></tr>\n",
       "</tbody>\n",
       "</table>\n"
      ],
      "text/latex": [
       "\\begin{tabular}{r|lllllllllll}\n",
       "  & manufacturer & model & displ & year & cyl & trans & drv & cty & hwy & fl & class\\\\\n",
       "\\hline\n",
       "\t229 & volkswagen & passat     & 1.8        & 1999       & 4          & auto(l5)   & f          & 18         & 29         & p          & midsize   \\\\\n",
       "\t230 & volkswagen & passat     & 2.0        & 2008       & 4          & auto(s6)   & f          & 19         & 28         & p          & midsize   \\\\\n",
       "\t231 & volkswagen & passat     & 2.0        & 2008       & 4          & manual(m6) & f          & 21         & 29         & p          & midsize   \\\\\n",
       "\t232 & volkswagen & passat     & 2.8        & 1999       & 6          & auto(l5)   & f          & 16         & 26         & p          & midsize   \\\\\n",
       "\t233 & volkswagen & passat     & 2.8        & 1999       & 6          & manual(m5) & f          & 18         & 26         & p          & midsize   \\\\\n",
       "\t234 & volkswagen & passat     & 3.6        & 2008       & 6          & auto(s6)   & f          & 17         & 26         & p          & midsize   \\\\\n",
       "\\end{tabular}\n"
      ],
      "text/markdown": [
       "\n",
       "| <!--/--> | manufacturer | model | displ | year | cyl | trans | drv | cty | hwy | fl | class |\n",
       "|---|---|---|---|---|---|---|---|---|---|---|---|\n",
       "| 229 | volkswagen | passat     | 1.8        | 1999       | 4          | auto(l5)   | f          | 18         | 29         | p          | midsize    |\n",
       "| 230 | volkswagen | passat     | 2.0        | 2008       | 4          | auto(s6)   | f          | 19         | 28         | p          | midsize    |\n",
       "| 231 | volkswagen | passat     | 2.0        | 2008       | 4          | manual(m6) | f          | 21         | 29         | p          | midsize    |\n",
       "| 232 | volkswagen | passat     | 2.8        | 1999       | 6          | auto(l5)   | f          | 16         | 26         | p          | midsize    |\n",
       "| 233 | volkswagen | passat     | 2.8        | 1999       | 6          | manual(m5) | f          | 18         | 26         | p          | midsize    |\n",
       "| 234 | volkswagen | passat     | 3.6        | 2008       | 6          | auto(s6)   | f          | 17         | 26         | p          | midsize    |\n",
       "\n"
      ],
      "text/plain": [
       "    manufacturer model  displ year cyl trans      drv cty hwy fl class  \n",
       "229 volkswagen   passat 1.8   1999 4   auto(l5)   f   18  29  p  midsize\n",
       "230 volkswagen   passat 2.0   2008 4   auto(s6)   f   19  28  p  midsize\n",
       "231 volkswagen   passat 2.0   2008 4   manual(m6) f   21  29  p  midsize\n",
       "232 volkswagen   passat 2.8   1999 6   auto(l5)   f   16  26  p  midsize\n",
       "233 volkswagen   passat 2.8   1999 6   manual(m5) f   18  26  p  midsize\n",
       "234 volkswagen   passat 3.6   2008 6   auto(s6)   f   17  26  p  midsize"
      ]
     },
     "metadata": {},
     "output_type": "display_data"
    }
   ],
   "source": [
    "head(mpg); tail(mpg)"
   ]
  },
  {
   "cell_type": "code",
   "execution_count": 14,
   "metadata": {},
   "outputs": [
    {
     "name": "stdout",
     "output_type": "stream",
     "text": [
      "'data.frame':\t234 obs. of  11 variables:\n",
      " $ manufacturer: chr  \"audi\" \"audi\" \"audi\" \"audi\" ...\n",
      " $ model       : chr  \"a4\" \"a4\" \"a4\" \"a4\" ...\n",
      " $ displ       : num  1.8 1.8 2 2 2.8 2.8 3.1 1.8 1.8 2 ...\n",
      " $ year        : int  1999 1999 2008 2008 1999 1999 2008 1999 1999 2008 ...\n",
      " $ cyl         : int  4 4 4 4 6 6 6 4 4 4 ...\n",
      " $ trans       : chr  \"auto(l5)\" \"manual(m5)\" \"manual(m6)\" \"auto(av)\" ...\n",
      " $ drv         : chr  \"f\" \"f\" \"f\" \"f\" ...\n",
      " $ cty         : int  18 21 20 21 16 18 18 18 16 20 ...\n",
      " $ hwy         : int  29 29 31 30 26 26 27 26 25 28 ...\n",
      " $ fl          : chr  \"p\" \"p\" \"p\" \"p\" ...\n",
      " $ class       : chr  \"compact\" \"compact\" \"compact\" \"compact\" ...\n"
     ]
    }
   ],
   "source": [
    "str(mpg) # num = float64"
   ]
  },
  {
   "cell_type": "code",
   "execution_count": 13,
   "metadata": {
    "scrolled": true
   },
   "outputs": [
    {
     "data": {
      "text/plain": [
       " manufacturer          model               displ            year     \n",
       " Length:234         Length:234         Min.   :1.600   Min.   :1999  \n",
       " Class :character   Class :character   1st Qu.:2.400   1st Qu.:1999  \n",
       " Mode  :character   Mode  :character   Median :3.300   Median :2004  \n",
       "                                       Mean   :3.472   Mean   :2004  \n",
       "                                       3rd Qu.:4.600   3rd Qu.:2008  \n",
       "                                       Max.   :7.000   Max.   :2008  \n",
       "      cyl           trans               drv                 cty       \n",
       " Min.   :4.000   Length:234         Length:234         Min.   : 9.00  \n",
       " 1st Qu.:4.000   Class :character   Class :character   1st Qu.:14.00  \n",
       " Median :6.000   Mode  :character   Mode  :character   Median :17.00  \n",
       " Mean   :5.889                                         Mean   :16.86  \n",
       " 3rd Qu.:8.000                                         3rd Qu.:19.00  \n",
       " Max.   :8.000                                         Max.   :35.00  \n",
       "      hwy             fl               class          \n",
       " Min.   :12.00   Length:234         Length:234        \n",
       " 1st Qu.:18.00   Class :character   Class :character  \n",
       " Median :24.00   Mode  :character   Mode  :character  \n",
       " Mean   :23.44                                        \n",
       " 3rd Qu.:27.00                                        \n",
       " Max.   :44.00                                        "
      ]
     },
     "metadata": {},
     "output_type": "display_data"
    }
   ],
   "source": [
    "summary(mpg)"
   ]
  },
  {
   "cell_type": "markdown",
   "metadata": {},
   "source": [
    "데이터 수정하기"
   ]
  },
  {
   "cell_type": "code",
   "execution_count": 31,
   "metadata": {
    "scrolled": true
   },
   "outputs": [
    {
     "name": "stderr",
     "output_type": "stream",
     "text": [
      "Installing package into 'C:/Users/admin/Documents/R/win-library/3.6'\n",
      "(as 'lib' is unspecified)\n"
     ]
    },
    {
     "name": "stdout",
     "output_type": "stream",
     "text": [
      "package 'dplyr' successfully unpacked and MD5 sums checked\n"
     ]
    },
    {
     "name": "stderr",
     "output_type": "stream",
     "text": [
      "Warning message:\n",
      "\"cannot remove prior installation of package 'dplyr'\"Warning message in file.copy(savedcopy, lib, recursive = TRUE):\n",
      "\"C:\\Users\\admin\\Documents\\R\\win-library\\3.6\\00LOCK\\dplyr\\libs\\x64\\dplyr.dll를 C:\\Users\\admin\\Documents\\R\\win-library\\3.6\\dplyr\\libs\\x64\\dplyr.dll로 복사하는데 문제가 발생했습니다: Permission denied\"Warning message:\n",
      "\"restored 'dplyr'\""
     ]
    },
    {
     "name": "stdout",
     "output_type": "stream",
     "text": [
      "\n",
      "The downloaded binary packages are in\n",
      "\tC:\\Users\\admin\\AppData\\Local\\Temp\\RtmpsDxGtM\\downloaded_packages\n"
     ]
    },
    {
     "name": "stderr",
     "output_type": "stream",
     "text": [
      "Warning message:\n",
      "\"package 'dplyr' was built under R version 3.6.2\"\n",
      "Attaching package: 'dplyr'\n",
      "\n",
      "The following objects are masked from 'package:stats':\n",
      "\n",
      "    filter, lag\n",
      "\n",
      "The following objects are masked from 'package:base':\n",
      "\n",
      "    intersect, setdiff, setequal, union\n",
      "\n"
     ]
    }
   ],
   "source": [
    "install.packages(\"dplyr\")\n",
    "library(\"dplyr\")"
   ]
  },
  {
   "cell_type": "markdown",
   "metadata": {},
   "source": [
    "**[유의] rename()에 '새 변수명 = 기존 변수명' 순서로 입력**\n",
    "data.frame <- rename( data.frame , 새변수명 = 기존변수명 )"
   ]
  },
  {
   "cell_type": "markdown",
   "metadata": {},
   "source": [
    "#### 혼자해보기\n",
    "##### Q1. ggplot2 패키지의 mpg 데이터를 사용할수 있도록 복사본 만들기"
   ]
  },
  {
   "cell_type": "code",
   "execution_count": 25,
   "metadata": {},
   "outputs": [],
   "source": [
    "mpg <- as.data.frame(ggplot2::mpg)\n",
    "mpg_new <- mpg"
   ]
  },
  {
   "cell_type": "markdown",
   "metadata": {},
   "source": [
    "##### Q2. 복사본 이용해서 cty는 city로, hwy는 highway로 변수명 교체"
   ]
  },
  {
   "cell_type": "code",
   "execution_count": 21,
   "metadata": {
    "scrolled": true
   },
   "outputs": [
    {
     "data": {
      "text/plain": [
       " manufacturer          model               displ            year     \n",
       " Length:234         Length:234         Min.   :1.600   Min.   :1999  \n",
       " Class :character   Class :character   1st Qu.:2.400   1st Qu.:1999  \n",
       " Mode  :character   Mode  :character   Median :3.300   Median :2004  \n",
       "                                       Mean   :3.472   Mean   :2004  \n",
       "                                       3rd Qu.:4.600   3rd Qu.:2008  \n",
       "                                       Max.   :7.000   Max.   :2008  \n",
       "      cyl           trans               drv                 city      \n",
       " Min.   :4.000   Length:234         Length:234         Min.   : 9.00  \n",
       " 1st Qu.:4.000   Class :character   Class :character   1st Qu.:14.00  \n",
       " Median :6.000   Mode  :character   Mode  :character   Median :17.00  \n",
       " Mean   :5.889                                         Mean   :16.86  \n",
       " 3rd Qu.:8.000                                         3rd Qu.:19.00  \n",
       " Max.   :8.000                                         Max.   :35.00  \n",
       "      hwy             fl               class          \n",
       " Min.   :12.00   Length:234         Length:234        \n",
       " 1st Qu.:18.00   Class :character   Class :character  \n",
       " Median :24.00   Mode  :character   Mode  :character  \n",
       " Mean   :23.44                                        \n",
       " 3rd Qu.:27.00                                        \n",
       " Max.   :44.00                                        "
      ]
     },
     "metadata": {},
     "output_type": "display_data"
    }
   ],
   "source": [
    "summary(mpg)"
   ]
  },
  {
   "cell_type": "code",
   "execution_count": 26,
   "metadata": {},
   "outputs": [],
   "source": [
    "mpg_new <- rename(mpg_new, city = cty)"
   ]
  },
  {
   "cell_type": "code",
   "execution_count": 27,
   "metadata": {},
   "outputs": [],
   "source": [
    "mpg_new <- rename(mpg_new, highway = hwy)"
   ]
  },
  {
   "cell_type": "markdown",
   "metadata": {},
   "source": [
    "##### Q3. 데이터 일부를 출력해서 변수명이 바뀌었느닞 확인."
   ]
  },
  {
   "cell_type": "code",
   "execution_count": 28,
   "metadata": {
    "scrolled": true
   },
   "outputs": [
    {
     "data": {
      "text/html": [
       "<table>\n",
       "<thead><tr><th scope=col>manufacturer</th><th scope=col>model</th><th scope=col>displ</th><th scope=col>year</th><th scope=col>cyl</th><th scope=col>trans</th><th scope=col>drv</th><th scope=col>city</th><th scope=col>highway</th><th scope=col>fl</th><th scope=col>class</th></tr></thead>\n",
       "<tbody>\n",
       "\t<tr><td>audi      </td><td>a4        </td><td>1.8       </td><td>1999      </td><td>4         </td><td>auto(l5)  </td><td>f         </td><td>18        </td><td>29        </td><td>p         </td><td>compact   </td></tr>\n",
       "\t<tr><td>audi      </td><td>a4        </td><td>1.8       </td><td>1999      </td><td>4         </td><td>manual(m5)</td><td>f         </td><td>21        </td><td>29        </td><td>p         </td><td>compact   </td></tr>\n",
       "\t<tr><td>audi      </td><td>a4        </td><td>2.0       </td><td>2008      </td><td>4         </td><td>manual(m6)</td><td>f         </td><td>20        </td><td>31        </td><td>p         </td><td>compact   </td></tr>\n",
       "\t<tr><td>audi      </td><td>a4        </td><td>2.0       </td><td>2008      </td><td>4         </td><td>auto(av)  </td><td>f         </td><td>21        </td><td>30        </td><td>p         </td><td>compact   </td></tr>\n",
       "\t<tr><td>audi      </td><td>a4        </td><td>2.8       </td><td>1999      </td><td>6         </td><td>auto(l5)  </td><td>f         </td><td>16        </td><td>26        </td><td>p         </td><td>compact   </td></tr>\n",
       "\t<tr><td>audi      </td><td>a4        </td><td>2.8       </td><td>1999      </td><td>6         </td><td>manual(m5)</td><td>f         </td><td>18        </td><td>26        </td><td>p         </td><td>compact   </td></tr>\n",
       "</tbody>\n",
       "</table>\n"
      ],
      "text/latex": [
       "\\begin{tabular}{r|lllllllllll}\n",
       " manufacturer & model & displ & year & cyl & trans & drv & city & highway & fl & class\\\\\n",
       "\\hline\n",
       "\t audi       & a4         & 1.8        & 1999       & 4          & auto(l5)   & f          & 18         & 29         & p          & compact   \\\\\n",
       "\t audi       & a4         & 1.8        & 1999       & 4          & manual(m5) & f          & 21         & 29         & p          & compact   \\\\\n",
       "\t audi       & a4         & 2.0        & 2008       & 4          & manual(m6) & f          & 20         & 31         & p          & compact   \\\\\n",
       "\t audi       & a4         & 2.0        & 2008       & 4          & auto(av)   & f          & 21         & 30         & p          & compact   \\\\\n",
       "\t audi       & a4         & 2.8        & 1999       & 6          & auto(l5)   & f          & 16         & 26         & p          & compact   \\\\\n",
       "\t audi       & a4         & 2.8        & 1999       & 6          & manual(m5) & f          & 18         & 26         & p          & compact   \\\\\n",
       "\\end{tabular}\n"
      ],
      "text/markdown": [
       "\n",
       "| manufacturer | model | displ | year | cyl | trans | drv | city | highway | fl | class |\n",
       "|---|---|---|---|---|---|---|---|---|---|---|\n",
       "| audi       | a4         | 1.8        | 1999       | 4          | auto(l5)   | f          | 18         | 29         | p          | compact    |\n",
       "| audi       | a4         | 1.8        | 1999       | 4          | manual(m5) | f          | 21         | 29         | p          | compact    |\n",
       "| audi       | a4         | 2.0        | 2008       | 4          | manual(m6) | f          | 20         | 31         | p          | compact    |\n",
       "| audi       | a4         | 2.0        | 2008       | 4          | auto(av)   | f          | 21         | 30         | p          | compact    |\n",
       "| audi       | a4         | 2.8        | 1999       | 6          | auto(l5)   | f          | 16         | 26         | p          | compact    |\n",
       "| audi       | a4         | 2.8        | 1999       | 6          | manual(m5) | f          | 18         | 26         | p          | compact    |\n",
       "\n"
      ],
      "text/plain": [
       "  manufacturer model displ year cyl trans      drv city highway fl class  \n",
       "1 audi         a4    1.8   1999 4   auto(l5)   f   18   29      p  compact\n",
       "2 audi         a4    1.8   1999 4   manual(m5) f   21   29      p  compact\n",
       "3 audi         a4    2.0   2008 4   manual(m6) f   20   31      p  compact\n",
       "4 audi         a4    2.0   2008 4   auto(av)   f   21   30      p  compact\n",
       "5 audi         a4    2.8   1999 6   auto(l5)   f   16   26      p  compact\n",
       "6 audi         a4    2.8   1999 6   manual(m5) f   18   26      p  compact"
      ]
     },
     "metadata": {},
     "output_type": "display_data"
    }
   ],
   "source": [
    "head(mpg_new)"
   ]
  },
  {
   "cell_type": "markdown",
   "metadata": {},
   "source": [
    "### 파생변수 만들기\n",
    "- 평균 구해서 컬럼 추가 작업"
   ]
  },
  {
   "cell_type": "code",
   "execution_count": 1,
   "metadata": {},
   "outputs": [
    {
     "data": {
      "text/html": [
       "<table>\n",
       "<thead><tr><th scope=col>var1</th><th scope=col>var2</th></tr></thead>\n",
       "<tbody>\n",
       "\t<tr><td>4</td><td>2</td></tr>\n",
       "\t<tr><td>3</td><td>6</td></tr>\n",
       "\t<tr><td>8</td><td>1</td></tr>\n",
       "</tbody>\n",
       "</table>\n"
      ],
      "text/latex": [
       "\\begin{tabular}{r|ll}\n",
       " var1 & var2\\\\\n",
       "\\hline\n",
       "\t 4 & 2\\\\\n",
       "\t 3 & 6\\\\\n",
       "\t 8 & 1\\\\\n",
       "\\end{tabular}\n"
      ],
      "text/markdown": [
       "\n",
       "| var1 | var2 |\n",
       "|---|---|\n",
       "| 4 | 2 |\n",
       "| 3 | 6 |\n",
       "| 8 | 1 |\n",
       "\n"
      ],
      "text/plain": [
       "  var1 var2\n",
       "1 4    2   \n",
       "2 3    6   \n",
       "3 8    1   "
      ]
     },
     "metadata": {},
     "output_type": "display_data"
    }
   ],
   "source": [
    "df <- data.frame(var1 = c(4, 3, 8),\n",
    "                 var2 = c(2, 6, 1))\n",
    "df"
   ]
  },
  {
   "cell_type": "code",
   "execution_count": 2,
   "metadata": {},
   "outputs": [
    {
     "data": {
      "text/html": [
       "<table>\n",
       "<thead><tr><th scope=col>var1</th><th scope=col>var2</th><th scope=col>var_sum</th></tr></thead>\n",
       "<tbody>\n",
       "\t<tr><td>4</td><td>2</td><td>6</td></tr>\n",
       "\t<tr><td>3</td><td>6</td><td>9</td></tr>\n",
       "\t<tr><td>8</td><td>1</td><td>9</td></tr>\n",
       "</tbody>\n",
       "</table>\n"
      ],
      "text/latex": [
       "\\begin{tabular}{r|lll}\n",
       " var1 & var2 & var\\_sum\\\\\n",
       "\\hline\n",
       "\t 4 & 2 & 6\\\\\n",
       "\t 3 & 6 & 9\\\\\n",
       "\t 8 & 1 & 9\\\\\n",
       "\\end{tabular}\n"
      ],
      "text/markdown": [
       "\n",
       "| var1 | var2 | var_sum |\n",
       "|---|---|---|\n",
       "| 4 | 2 | 6 |\n",
       "| 3 | 6 | 9 |\n",
       "| 8 | 1 | 9 |\n",
       "\n"
      ],
      "text/plain": [
       "  var1 var2 var_sum\n",
       "1 4    2    6      \n",
       "2 3    6    9      \n",
       "3 8    1    9      "
      ]
     },
     "metadata": {},
     "output_type": "display_data"
    }
   ],
   "source": [
    "df$var_sum <- df$var1 + df$var2\n",
    "df\n",
    "\n",
    "# df$var_sum <- df$var1 + df$var2       # var_sum 파생변수 생성\n",
    "# df\n",
    "\n",
    "# df$var_mean <- (df$var1 + df$var2)/2  # var_mean 파생변수 생성\n",
    "# df"
   ]
  },
  {
   "cell_type": "code",
   "execution_count": 3,
   "metadata": {},
   "outputs": [],
   "source": [
    "?mean"
   ]
  },
  {
   "cell_type": "code",
   "execution_count": 5,
   "metadata": {
    "scrolled": true
   },
   "outputs": [
    {
     "data": {
      "text/html": [
       "<table>\n",
       "<thead><tr><th scope=col>var1</th><th scope=col>var2</th><th scope=col>var_sum</th><th scope=col>var_mean</th></tr></thead>\n",
       "<tbody>\n",
       "\t<tr><td>4  </td><td>2  </td><td>6  </td><td>3.0</td></tr>\n",
       "\t<tr><td>3  </td><td>6  </td><td>9  </td><td>4.5</td></tr>\n",
       "\t<tr><td>8  </td><td>1  </td><td>9  </td><td>4.5</td></tr>\n",
       "</tbody>\n",
       "</table>\n"
      ],
      "text/latex": [
       "\\begin{tabular}{r|llll}\n",
       " var1 & var2 & var\\_sum & var\\_mean\\\\\n",
       "\\hline\n",
       "\t 4   & 2   & 6   & 3.0\\\\\n",
       "\t 3   & 6   & 9   & 4.5\\\\\n",
       "\t 8   & 1   & 9   & 4.5\\\\\n",
       "\\end{tabular}\n"
      ],
      "text/markdown": [
       "\n",
       "| var1 | var2 | var_sum | var_mean |\n",
       "|---|---|---|---|\n",
       "| 4   | 2   | 6   | 3.0 |\n",
       "| 3   | 6   | 9   | 4.5 |\n",
       "| 8   | 1   | 9   | 4.5 |\n",
       "\n"
      ],
      "text/plain": [
       "  var1 var2 var_sum var_mean\n",
       "1 4    2    6       3.0     \n",
       "2 3    6    9       4.5     \n",
       "3 8    1    9       4.5     "
      ]
     },
     "metadata": {},
     "output_type": "display_data"
    }
   ],
   "source": [
    "df$var_mean <- (df$var1 + df$var2)/2\n",
    "df"
   ]
  },
  {
   "cell_type": "code",
   "execution_count": 6,
   "metadata": {},
   "outputs": [
    {
     "data": {
      "text/html": [
       "<table>\n",
       "<thead><tr><th scope=col>manufacturer</th><th scope=col>model</th><th scope=col>displ</th><th scope=col>year</th><th scope=col>cyl</th><th scope=col>trans</th><th scope=col>drv</th><th scope=col>cty</th><th scope=col>hwy</th><th scope=col>fl</th><th scope=col>class</th><th scope=col>total</th></tr></thead>\n",
       "<tbody>\n",
       "\t<tr><td>audi      </td><td>a4        </td><td>1.8       </td><td>1999      </td><td>4         </td><td>auto(l5)  </td><td>f         </td><td>18        </td><td>29        </td><td>p         </td><td>compact   </td><td>23.5      </td></tr>\n",
       "\t<tr><td>audi      </td><td>a4        </td><td>1.8       </td><td>1999      </td><td>4         </td><td>manual(m5)</td><td>f         </td><td>21        </td><td>29        </td><td>p         </td><td>compact   </td><td>25.0      </td></tr>\n",
       "\t<tr><td>audi      </td><td>a4        </td><td>2.0       </td><td>2008      </td><td>4         </td><td>manual(m6)</td><td>f         </td><td>20        </td><td>31        </td><td>p         </td><td>compact   </td><td>25.5      </td></tr>\n",
       "\t<tr><td>audi      </td><td>a4        </td><td>2.0       </td><td>2008      </td><td>4         </td><td>auto(av)  </td><td>f         </td><td>21        </td><td>30        </td><td>p         </td><td>compact   </td><td>25.5      </td></tr>\n",
       "\t<tr><td>audi      </td><td>a4        </td><td>2.8       </td><td>1999      </td><td>6         </td><td>auto(l5)  </td><td>f         </td><td>16        </td><td>26        </td><td>p         </td><td>compact   </td><td>21.0      </td></tr>\n",
       "\t<tr><td>audi      </td><td>a4        </td><td>2.8       </td><td>1999      </td><td>6         </td><td>manual(m5)</td><td>f         </td><td>18        </td><td>26        </td><td>p         </td><td>compact   </td><td>22.0      </td></tr>\n",
       "</tbody>\n",
       "</table>\n"
      ],
      "text/latex": [
       "\\begin{tabular}{r|llllllllllll}\n",
       " manufacturer & model & displ & year & cyl & trans & drv & cty & hwy & fl & class & total\\\\\n",
       "\\hline\n",
       "\t audi       & a4         & 1.8        & 1999       & 4          & auto(l5)   & f          & 18         & 29         & p          & compact    & 23.5      \\\\\n",
       "\t audi       & a4         & 1.8        & 1999       & 4          & manual(m5) & f          & 21         & 29         & p          & compact    & 25.0      \\\\\n",
       "\t audi       & a4         & 2.0        & 2008       & 4          & manual(m6) & f          & 20         & 31         & p          & compact    & 25.5      \\\\\n",
       "\t audi       & a4         & 2.0        & 2008       & 4          & auto(av)   & f          & 21         & 30         & p          & compact    & 25.5      \\\\\n",
       "\t audi       & a4         & 2.8        & 1999       & 6          & auto(l5)   & f          & 16         & 26         & p          & compact    & 21.0      \\\\\n",
       "\t audi       & a4         & 2.8        & 1999       & 6          & manual(m5) & f          & 18         & 26         & p          & compact    & 22.0      \\\\\n",
       "\\end{tabular}\n"
      ],
      "text/markdown": [
       "\n",
       "| manufacturer | model | displ | year | cyl | trans | drv | cty | hwy | fl | class | total |\n",
       "|---|---|---|---|---|---|---|---|---|---|---|---|\n",
       "| audi       | a4         | 1.8        | 1999       | 4          | auto(l5)   | f          | 18         | 29         | p          | compact    | 23.5       |\n",
       "| audi       | a4         | 1.8        | 1999       | 4          | manual(m5) | f          | 21         | 29         | p          | compact    | 25.0       |\n",
       "| audi       | a4         | 2.0        | 2008       | 4          | manual(m6) | f          | 20         | 31         | p          | compact    | 25.5       |\n",
       "| audi       | a4         | 2.0        | 2008       | 4          | auto(av)   | f          | 21         | 30         | p          | compact    | 25.5       |\n",
       "| audi       | a4         | 2.8        | 1999       | 6          | auto(l5)   | f          | 16         | 26         | p          | compact    | 21.0       |\n",
       "| audi       | a4         | 2.8        | 1999       | 6          | manual(m5) | f          | 18         | 26         | p          | compact    | 22.0       |\n",
       "\n"
      ],
      "text/plain": [
       "  manufacturer model displ year cyl trans      drv cty hwy fl class   total\n",
       "1 audi         a4    1.8   1999 4   auto(l5)   f   18  29  p  compact 23.5 \n",
       "2 audi         a4    1.8   1999 4   manual(m5) f   21  29  p  compact 25.0 \n",
       "3 audi         a4    2.0   2008 4   manual(m6) f   20  31  p  compact 25.5 \n",
       "4 audi         a4    2.0   2008 4   auto(av)   f   21  30  p  compact 25.5 \n",
       "5 audi         a4    2.8   1999 6   auto(l5)   f   16  26  p  compact 21.0 \n",
       "6 audi         a4    2.8   1999 6   manual(m5) f   18  26  p  compact 22.0 "
      ]
     },
     "metadata": {},
     "output_type": "display_data"
    }
   ],
   "source": [
    "# ㅌ오합연비 변수 생성(평균)\n",
    "mpg <- as.data.frame(ggplot2::mpg)\n",
    "mpg$total <- (mpg$cty + mpg$hwy)/2\n",
    "head(mpg)"
   ]
  },
  {
   "cell_type": "code",
   "execution_count": 7,
   "metadata": {},
   "outputs": [
    {
     "data": {
      "text/html": [
       "20.1495726495727"
      ],
      "text/latex": [
       "20.1495726495727"
      ],
      "text/markdown": [
       "20.1495726495727"
      ],
      "text/plain": [
       "[1] 20.14957"
      ]
     },
     "metadata": {},
     "output_type": "display_data"
    }
   ],
   "source": [
    "mean(mpg$total)  # 통합 연비 변수 평균"
   ]
  },
  {
   "cell_type": "code",
   "execution_count": 8,
   "metadata": {},
   "outputs": [
    {
     "data": {
      "text/plain": [
       "   Min. 1st Qu.  Median    Mean 3rd Qu.    Max. \n",
       "  10.50   15.50   20.50   20.15   23.50   39.50 "
      ]
     },
     "metadata": {},
     "output_type": "display_data"
    }
   ],
   "source": [
    "summary(mpg$total) # 평균보다 낮은놈은 낙방시키고, "
   ]
  },
  {
   "cell_type": "code",
   "execution_count": 9,
   "metadata": {},
   "outputs": [
    {
     "data": {
      "image/png": "[encoded data removed]",
      "text/plain": [
       "Plot with title \"Histogram of mpg$total\""
      ]
     },
     "metadata": {},
     "output_type": "display_data"
    }
   ],
   "source": [
    "hist(mpg$total)"
   ]
  },
  {
   "cell_type": "code",
   "execution_count": null,
   "metadata": {},
   "outputs": [],
   "source": [
    "# 20~ 25가 최빈값으로 가장 많고"
   ]
  },
  {
   "cell_type": "code",
   "execution_count": 11,
   "metadata": {},
   "outputs": [
    {
     "data": {
      "text/html": [
       "<table>\n",
       "<thead><tr><th scope=col>manufacturer</th><th scope=col>model</th><th scope=col>displ</th><th scope=col>year</th><th scope=col>cyl</th><th scope=col>trans</th><th scope=col>drv</th><th scope=col>cty</th><th scope=col>hwy</th><th scope=col>fl</th><th scope=col>class</th><th scope=col>total</th><th scope=col>test</th></tr></thead>\n",
       "<tbody>\n",
       "\t<tr><td>audi      </td><td>a4        </td><td>1.8       </td><td>1999      </td><td>4         </td><td>auto(l5)  </td><td>f         </td><td>18        </td><td>29        </td><td>p         </td><td>compact   </td><td>23.5      </td><td>pass      </td></tr>\n",
       "\t<tr><td>audi      </td><td>a4        </td><td>1.8       </td><td>1999      </td><td>4         </td><td>manual(m5)</td><td>f         </td><td>21        </td><td>29        </td><td>p         </td><td>compact   </td><td>25.0      </td><td>pass      </td></tr>\n",
       "\t<tr><td>audi      </td><td>a4        </td><td>2.0       </td><td>2008      </td><td>4         </td><td>manual(m6)</td><td>f         </td><td>20        </td><td>31        </td><td>p         </td><td>compact   </td><td>25.5      </td><td>pass      </td></tr>\n",
       "\t<tr><td>audi      </td><td>a4        </td><td>2.0       </td><td>2008      </td><td>4         </td><td>auto(av)  </td><td>f         </td><td>21        </td><td>30        </td><td>p         </td><td>compact   </td><td>25.5      </td><td>pass      </td></tr>\n",
       "\t<tr><td>audi      </td><td>a4        </td><td>2.8       </td><td>1999      </td><td>6         </td><td>auto(l5)  </td><td>f         </td><td>16        </td><td>26        </td><td>p         </td><td>compact   </td><td>21.0      </td><td>pass      </td></tr>\n",
       "\t<tr><td>audi      </td><td>a4        </td><td>2.8       </td><td>1999      </td><td>6         </td><td>manual(m5)</td><td>f         </td><td>18        </td><td>26        </td><td>p         </td><td>compact   </td><td>22.0      </td><td>pass      </td></tr>\n",
       "</tbody>\n",
       "</table>\n"
      ],
      "text/latex": [
       "\\begin{tabular}{r|lllllllllllll}\n",
       " manufacturer & model & displ & year & cyl & trans & drv & cty & hwy & fl & class & total & test\\\\\n",
       "\\hline\n",
       "\t audi       & a4         & 1.8        & 1999       & 4          & auto(l5)   & f          & 18         & 29         & p          & compact    & 23.5       & pass      \\\\\n",
       "\t audi       & a4         & 1.8        & 1999       & 4          & manual(m5) & f          & 21         & 29         & p          & compact    & 25.0       & pass      \\\\\n",
       "\t audi       & a4         & 2.0        & 2008       & 4          & manual(m6) & f          & 20         & 31         & p          & compact    & 25.5       & pass      \\\\\n",
       "\t audi       & a4         & 2.0        & 2008       & 4          & auto(av)   & f          & 21         & 30         & p          & compact    & 25.5       & pass      \\\\\n",
       "\t audi       & a4         & 2.8        & 1999       & 6          & auto(l5)   & f          & 16         & 26         & p          & compact    & 21.0       & pass      \\\\\n",
       "\t audi       & a4         & 2.8        & 1999       & 6          & manual(m5) & f          & 18         & 26         & p          & compact    & 22.0       & pass      \\\\\n",
       "\\end{tabular}\n"
      ],
      "text/markdown": [
       "\n",
       "| manufacturer | model | displ | year | cyl | trans | drv | cty | hwy | fl | class | total | test |\n",
       "|---|---|---|---|---|---|---|---|---|---|---|---|---|\n",
       "| audi       | a4         | 1.8        | 1999       | 4          | auto(l5)   | f          | 18         | 29         | p          | compact    | 23.5       | pass       |\n",
       "| audi       | a4         | 1.8        | 1999       | 4          | manual(m5) | f          | 21         | 29         | p          | compact    | 25.0       | pass       |\n",
       "| audi       | a4         | 2.0        | 2008       | 4          | manual(m6) | f          | 20         | 31         | p          | compact    | 25.5       | pass       |\n",
       "| audi       | a4         | 2.0        | 2008       | 4          | auto(av)   | f          | 21         | 30         | p          | compact    | 25.5       | pass       |\n",
       "| audi       | a4         | 2.8        | 1999       | 6          | auto(l5)   | f          | 16         | 26         | p          | compact    | 21.0       | pass       |\n",
       "| audi       | a4         | 2.8        | 1999       | 6          | manual(m5) | f          | 18         | 26         | p          | compact    | 22.0       | pass       |\n",
       "\n"
      ],
      "text/plain": [
       "  manufacturer model displ year cyl trans      drv cty hwy fl class   total\n",
       "1 audi         a4    1.8   1999 4   auto(l5)   f   18  29  p  compact 23.5 \n",
       "2 audi         a4    1.8   1999 4   manual(m5) f   21  29  p  compact 25.0 \n",
       "3 audi         a4    2.0   2008 4   manual(m6) f   20  31  p  compact 25.5 \n",
       "4 audi         a4    2.0   2008 4   auto(av)   f   21  30  p  compact 25.5 \n",
       "5 audi         a4    2.8   1999 6   auto(l5)   f   16  26  p  compact 21.0 \n",
       "6 audi         a4    2.8   1999 6   manual(m5) f   18  26  p  compact 22.0 \n",
       "  test\n",
       "1 pass\n",
       "2 pass\n",
       "3 pass\n",
       "4 pass\n",
       "5 pass\n",
       "6 pass"
      ]
     },
     "metadata": {},
     "output_type": "display_data"
    }
   ],
   "source": [
    "# 20 이상이면 pass, 아니면 fail\n",
    "mpg$test <- ifelse(mpg$total >= 20, 'pass','fail')\n",
    "head(mpg)"
   ]
  },
  {
   "cell_type": "code",
   "execution_count": 12,
   "metadata": {},
   "outputs": [
    {
     "data": {
      "text/plain": [
       "\n",
       "fail pass \n",
       " 106  128 "
      ]
     },
     "metadata": {},
     "output_type": "display_data"
    }
   ],
   "source": [
    "table(mpg$test) # 연비 합격 빈도표!"
   ]
  },
  {
   "cell_type": "code",
   "execution_count": 13,
   "metadata": {},
   "outputs": [
    {
     "name": "stderr",
     "output_type": "stream",
     "text": [
      "Warning message:\n",
      "\"package 'ggplot2' was built under R version 3.6.2\"\n",
      "Attaching package: 'ggplot2'\n",
      "\n",
      "The following object is masked _by_ '.GlobalEnv':\n",
      "\n",
      "    mpg\n",
      "\n"
     ]
    },
    {
     "data": {
      "image/png": "[encoded data removed]",
      "text/plain": [
       "plot without title"
      ]
     },
     "metadata": {},
     "output_type": "display_data"
    }
   ],
   "source": [
    "library(ggplot2)\n",
    "qplot(mpg$test)"
   ]
  },
  {
   "cell_type": "code",
   "execution_count": 14,
   "metadata": {},
   "outputs": [],
   "source": [
    "# 중첩 조건문 활용 - 연비 등급 변수 만들기\n",
    "# 중간 중간 범위 지정해서 등급부여\n",
    "# 오라클의 case when then  또는 decode \n",
    "#### 연속형 데이터를 나눠서 볼려면 ( 나이데이터 연령대별로 볼려면 그럴수 있다.) 쓰일 일이 많다.\n",
    "mpg$grade <- ifelse( mpg$total >= 30, 'A',\n",
    "                   ifelse(mpg$total >= 20, 'B', 'C') )"
   ]
  },
  {
   "cell_type": "code",
   "execution_count": 16,
   "metadata": {},
   "outputs": [
    {
     "data": {
      "text/html": [
       "<table>\n",
       "<thead><tr><th scope=col>manufacturer</th><th scope=col>model</th><th scope=col>displ</th><th scope=col>year</th><th scope=col>cyl</th><th scope=col>trans</th><th scope=col>drv</th><th scope=col>cty</th><th scope=col>hwy</th><th scope=col>fl</th><th scope=col>class</th><th scope=col>total</th><th scope=col>test</th><th scope=col>grade</th></tr></thead>\n",
       "<tbody>\n",
       "\t<tr><td>audi              </td><td>a4                </td><td>1.8               </td><td>1999              </td><td>4                 </td><td>auto(l5)          </td><td>f                 </td><td>18                </td><td>29                </td><td>p                 </td><td>compact           </td><td>23.5              </td><td>pass              </td><td>B                 </td></tr>\n",
       "\t<tr><td>audi              </td><td>a4                </td><td>1.8               </td><td>1999              </td><td>4                 </td><td>manual(m5)        </td><td>f                 </td><td>21                </td><td>29                </td><td>p                 </td><td>compact           </td><td>25.0              </td><td>pass              </td><td>B                 </td></tr>\n",
       "\t<tr><td>audi              </td><td>a4                </td><td>2.0               </td><td>2008              </td><td>4                 </td><td>manual(m6)        </td><td>f                 </td><td>20                </td><td>31                </td><td>p                 </td><td>compact           </td><td>25.5              </td><td>pass              </td><td>B                 </td></tr>\n",
       "\t<tr><td>audi              </td><td>a4                </td><td>2.0               </td><td>2008              </td><td>4                 </td><td>auto(av)          </td><td>f                 </td><td>21                </td><td>30                </td><td>p                 </td><td>compact           </td><td>25.5              </td><td>pass              </td><td>B                 </td></tr>\n",
       "\t<tr><td>audi              </td><td>a4                </td><td>2.8               </td><td>1999              </td><td>6                 </td><td>auto(l5)          </td><td>f                 </td><td>16                </td><td>26                </td><td>p                 </td><td>compact           </td><td>21.0              </td><td>pass              </td><td>B                 </td></tr>\n",
       "\t<tr><td>audi              </td><td>a4                </td><td>2.8               </td><td>1999              </td><td>6                 </td><td>manual(m5)        </td><td>f                 </td><td>18                </td><td>26                </td><td>p                 </td><td>compact           </td><td>22.0              </td><td>pass              </td><td>B                 </td></tr>\n",
       "\t<tr><td>audi              </td><td>a4                </td><td>3.1               </td><td>2008              </td><td>6                 </td><td>auto(av)          </td><td>f                 </td><td>18                </td><td>27                </td><td>p                 </td><td>compact           </td><td>22.5              </td><td>pass              </td><td>B                 </td></tr>\n",
       "\t<tr><td>audi              </td><td>a4 quattro        </td><td>1.8               </td><td>1999              </td><td>4                 </td><td>manual(m5)        </td><td>4                 </td><td>18                </td><td>26                </td><td>p                 </td><td>compact           </td><td>22.0              </td><td>pass              </td><td>B                 </td></tr>\n",
       "\t<tr><td>audi              </td><td>a4 quattro        </td><td>1.8               </td><td>1999              </td><td>4                 </td><td>auto(l5)          </td><td>4                 </td><td>16                </td><td>25                </td><td>p                 </td><td>compact           </td><td>20.5              </td><td>pass              </td><td>B                 </td></tr>\n",
       "\t<tr><td>audi              </td><td>a4 quattro        </td><td>2.0               </td><td>2008              </td><td>4                 </td><td>manual(m6)        </td><td>4                 </td><td>20                </td><td>28                </td><td>p                 </td><td>compact           </td><td>24.0              </td><td>pass              </td><td>B                 </td></tr>\n",
       "\t<tr><td>audi              </td><td>a4 quattro        </td><td>2.0               </td><td>2008              </td><td>4                 </td><td>auto(s6)          </td><td>4                 </td><td>19                </td><td>27                </td><td>p                 </td><td>compact           </td><td>23.0              </td><td>pass              </td><td>B                 </td></tr>\n",
       "\t<tr><td>audi              </td><td>a4 quattro        </td><td>2.8               </td><td>1999              </td><td>6                 </td><td>auto(l5)          </td><td>4                 </td><td>15                </td><td>25                </td><td>p                 </td><td>compact           </td><td>20.0              </td><td>pass              </td><td>B                 </td></tr>\n",
       "\t<tr><td>audi              </td><td>a4 quattro        </td><td>2.8               </td><td>1999              </td><td>6                 </td><td>manual(m5)        </td><td>4                 </td><td>17                </td><td>25                </td><td>p                 </td><td>compact           </td><td>21.0              </td><td>pass              </td><td>B                 </td></tr>\n",
       "\t<tr><td>audi              </td><td>a4 quattro        </td><td>3.1               </td><td>2008              </td><td>6                 </td><td>auto(s6)          </td><td>4                 </td><td>17                </td><td>25                </td><td>p                 </td><td>compact           </td><td>21.0              </td><td>pass              </td><td>B                 </td></tr>\n",
       "\t<tr><td>audi              </td><td>a4 quattro        </td><td>3.1               </td><td>2008              </td><td>6                 </td><td>manual(m6)        </td><td>4                 </td><td>15                </td><td>25                </td><td>p                 </td><td>compact           </td><td>20.0              </td><td>pass              </td><td>B                 </td></tr>\n",
       "\t<tr><td>audi              </td><td>a6 quattro        </td><td>2.8               </td><td>1999              </td><td>6                 </td><td>auto(l5)          </td><td>4                 </td><td>15                </td><td>24                </td><td>p                 </td><td>midsize           </td><td>19.5              </td><td>fail              </td><td>C                 </td></tr>\n",
       "\t<tr><td>audi              </td><td>a6 quattro        </td><td>3.1               </td><td>2008              </td><td>6                 </td><td>auto(s6)          </td><td>4                 </td><td>17                </td><td>25                </td><td>p                 </td><td>midsize           </td><td>21.0              </td><td>pass              </td><td>B                 </td></tr>\n",
       "\t<tr><td>audi              </td><td>a6 quattro        </td><td>4.2               </td><td>2008              </td><td>8                 </td><td>auto(s6)          </td><td>4                 </td><td>16                </td><td>23                </td><td>p                 </td><td>midsize           </td><td>19.5              </td><td>fail              </td><td>C                 </td></tr>\n",
       "\t<tr><td>chevrolet         </td><td>c1500 suburban 2wd</td><td>5.3               </td><td>2008              </td><td>8                 </td><td>auto(l4)          </td><td>r                 </td><td>14                </td><td>20                </td><td>r                 </td><td>suv               </td><td>17.0              </td><td>fail              </td><td>C                 </td></tr>\n",
       "\t<tr><td>chevrolet         </td><td>c1500 suburban 2wd</td><td>5.3               </td><td>2008              </td><td>8                 </td><td>auto(l4)          </td><td>r                 </td><td>11                </td><td>15                </td><td>e                 </td><td>suv               </td><td>13.0              </td><td>fail              </td><td>C                 </td></tr>\n",
       "</tbody>\n",
       "</table>\n"
      ],
      "text/latex": [
       "\\begin{tabular}{r|llllllllllllll}\n",
       " manufacturer & model & displ & year & cyl & trans & drv & cty & hwy & fl & class & total & test & grade\\\\\n",
       "\\hline\n",
       "\t audi               & a4                 & 1.8                & 1999               & 4                  & auto(l5)           & f                  & 18                 & 29                 & p                  & compact            & 23.5               & pass               & B                 \\\\\n",
       "\t audi               & a4                 & 1.8                & 1999               & 4                  & manual(m5)         & f                  & 21                 & 29                 & p                  & compact            & 25.0               & pass               & B                 \\\\\n",
       "\t audi               & a4                 & 2.0                & 2008               & 4                  & manual(m6)         & f                  & 20                 & 31                 & p                  & compact            & 25.5               & pass               & B                 \\\\\n",
       "\t audi               & a4                 & 2.0                & 2008               & 4                  & auto(av)           & f                  & 21                 & 30                 & p                  & compact            & 25.5               & pass               & B                 \\\\\n",
       "\t audi               & a4                 & 2.8                & 1999               & 6                  & auto(l5)           & f                  & 16                 & 26                 & p                  & compact            & 21.0               & pass               & B                 \\\\\n",
       "\t audi               & a4                 & 2.8                & 1999               & 6                  & manual(m5)         & f                  & 18                 & 26                 & p                  & compact            & 22.0               & pass               & B                 \\\\\n",
       "\t audi               & a4                 & 3.1                & 2008               & 6                  & auto(av)           & f                  & 18                 & 27                 & p                  & compact            & 22.5               & pass               & B                 \\\\\n",
       "\t audi               & a4 quattro         & 1.8                & 1999               & 4                  & manual(m5)         & 4                  & 18                 & 26                 & p                  & compact            & 22.0               & pass               & B                 \\\\\n",
       "\t audi               & a4 quattro         & 1.8                & 1999               & 4                  & auto(l5)           & 4                  & 16                 & 25                 & p                  & compact            & 20.5               & pass               & B                 \\\\\n",
       "\t audi               & a4 quattro         & 2.0                & 2008               & 4                  & manual(m6)         & 4                  & 20                 & 28                 & p                  & compact            & 24.0               & pass               & B                 \\\\\n",
       "\t audi               & a4 quattro         & 2.0                & 2008               & 4                  & auto(s6)           & 4                  & 19                 & 27                 & p                  & compact            & 23.0               & pass               & B                 \\\\\n",
       "\t audi               & a4 quattro         & 2.8                & 1999               & 6                  & auto(l5)           & 4                  & 15                 & 25                 & p                  & compact            & 20.0               & pass               & B                 \\\\\n",
       "\t audi               & a4 quattro         & 2.8                & 1999               & 6                  & manual(m5)         & 4                  & 17                 & 25                 & p                  & compact            & 21.0               & pass               & B                 \\\\\n",
       "\t audi               & a4 quattro         & 3.1                & 2008               & 6                  & auto(s6)           & 4                  & 17                 & 25                 & p                  & compact            & 21.0               & pass               & B                 \\\\\n",
       "\t audi               & a4 quattro         & 3.1                & 2008               & 6                  & manual(m6)         & 4                  & 15                 & 25                 & p                  & compact            & 20.0               & pass               & B                 \\\\\n",
       "\t audi               & a6 quattro         & 2.8                & 1999               & 6                  & auto(l5)           & 4                  & 15                 & 24                 & p                  & midsize            & 19.5               & fail               & C                 \\\\\n",
       "\t audi               & a6 quattro         & 3.1                & 2008               & 6                  & auto(s6)           & 4                  & 17                 & 25                 & p                  & midsize            & 21.0               & pass               & B                 \\\\\n",
       "\t audi               & a6 quattro         & 4.2                & 2008               & 8                  & auto(s6)           & 4                  & 16                 & 23                 & p                  & midsize            & 19.5               & fail               & C                 \\\\\n",
       "\t chevrolet          & c1500 suburban 2wd & 5.3                & 2008               & 8                  & auto(l4)           & r                  & 14                 & 20                 & r                  & suv                & 17.0               & fail               & C                 \\\\\n",
       "\t chevrolet          & c1500 suburban 2wd & 5.3                & 2008               & 8                  & auto(l4)           & r                  & 11                 & 15                 & e                  & suv                & 13.0               & fail               & C                 \\\\\n",
       "\\end{tabular}\n"
      ],
      "text/markdown": [
       "\n",
       "| manufacturer | model | displ | year | cyl | trans | drv | cty | hwy | fl | class | total | test | grade |\n",
       "|---|---|---|---|---|---|---|---|---|---|---|---|---|---|\n",
       "| audi               | a4                 | 1.8                | 1999               | 4                  | auto(l5)           | f                  | 18                 | 29                 | p                  | compact            | 23.5               | pass               | B                  |\n",
       "| audi               | a4                 | 1.8                | 1999               | 4                  | manual(m5)         | f                  | 21                 | 29                 | p                  | compact            | 25.0               | pass               | B                  |\n",
       "| audi               | a4                 | 2.0                | 2008               | 4                  | manual(m6)         | f                  | 20                 | 31                 | p                  | compact            | 25.5               | pass               | B                  |\n",
       "| audi               | a4                 | 2.0                | 2008               | 4                  | auto(av)           | f                  | 21                 | 30                 | p                  | compact            | 25.5               | pass               | B                  |\n",
       "| audi               | a4                 | 2.8                | 1999               | 6                  | auto(l5)           | f                  | 16                 | 26                 | p                  | compact            | 21.0               | pass               | B                  |\n",
       "| audi               | a4                 | 2.8                | 1999               | 6                  | manual(m5)         | f                  | 18                 | 26                 | p                  | compact            | 22.0               | pass               | B                  |\n",
       "| audi               | a4                 | 3.1                | 2008               | 6                  | auto(av)           | f                  | 18                 | 27                 | p                  | compact            | 22.5               | pass               | B                  |\n",
       "| audi               | a4 quattro         | 1.8                | 1999               | 4                  | manual(m5)         | 4                  | 18                 | 26                 | p                  | compact            | 22.0               | pass               | B                  |\n",
       "| audi               | a4 quattro         | 1.8                | 1999               | 4                  | auto(l5)           | 4                  | 16                 | 25                 | p                  | compact            | 20.5               | pass               | B                  |\n",
       "| audi               | a4 quattro         | 2.0                | 2008               | 4                  | manual(m6)         | 4                  | 20                 | 28                 | p                  | compact            | 24.0               | pass               | B                  |\n",
       "| audi               | a4 quattro         | 2.0                | 2008               | 4                  | auto(s6)           | 4                  | 19                 | 27                 | p                  | compact            | 23.0               | pass               | B                  |\n",
       "| audi               | a4 quattro         | 2.8                | 1999               | 6                  | auto(l5)           | 4                  | 15                 | 25                 | p                  | compact            | 20.0               | pass               | B                  |\n",
       "| audi               | a4 quattro         | 2.8                | 1999               | 6                  | manual(m5)         | 4                  | 17                 | 25                 | p                  | compact            | 21.0               | pass               | B                  |\n",
       "| audi               | a4 quattro         | 3.1                | 2008               | 6                  | auto(s6)           | 4                  | 17                 | 25                 | p                  | compact            | 21.0               | pass               | B                  |\n",
       "| audi               | a4 quattro         | 3.1                | 2008               | 6                  | manual(m6)         | 4                  | 15                 | 25                 | p                  | compact            | 20.0               | pass               | B                  |\n",
       "| audi               | a6 quattro         | 2.8                | 1999               | 6                  | auto(l5)           | 4                  | 15                 | 24                 | p                  | midsize            | 19.5               | fail               | C                  |\n",
       "| audi               | a6 quattro         | 3.1                | 2008               | 6                  | auto(s6)           | 4                  | 17                 | 25                 | p                  | midsize            | 21.0               | pass               | B                  |\n",
       "| audi               | a6 quattro         | 4.2                | 2008               | 8                  | auto(s6)           | 4                  | 16                 | 23                 | p                  | midsize            | 19.5               | fail               | C                  |\n",
       "| chevrolet          | c1500 suburban 2wd | 5.3                | 2008               | 8                  | auto(l4)           | r                  | 14                 | 20                 | r                  | suv                | 17.0               | fail               | C                  |\n",
       "| chevrolet          | c1500 suburban 2wd | 5.3                | 2008               | 8                  | auto(l4)           | r                  | 11                 | 15                 | e                  | suv                | 13.0               | fail               | C                  |\n",
       "\n"
      ],
      "text/plain": [
       "   manufacturer model              displ year cyl trans      drv cty hwy fl\n",
       "1  audi         a4                 1.8   1999 4   auto(l5)   f   18  29  p \n",
       "2  audi         a4                 1.8   1999 4   manual(m5) f   21  29  p \n",
       "3  audi         a4                 2.0   2008 4   manual(m6) f   20  31  p \n",
       "4  audi         a4                 2.0   2008 4   auto(av)   f   21  30  p \n",
       "5  audi         a4                 2.8   1999 6   auto(l5)   f   16  26  p \n",
       "6  audi         a4                 2.8   1999 6   manual(m5) f   18  26  p \n",
       "7  audi         a4                 3.1   2008 6   auto(av)   f   18  27  p \n",
       "8  audi         a4 quattro         1.8   1999 4   manual(m5) 4   18  26  p \n",
       "9  audi         a4 quattro         1.8   1999 4   auto(l5)   4   16  25  p \n",
       "10 audi         a4 quattro         2.0   2008 4   manual(m6) 4   20  28  p \n",
       "11 audi         a4 quattro         2.0   2008 4   auto(s6)   4   19  27  p \n",
       "12 audi         a4 quattro         2.8   1999 6   auto(l5)   4   15  25  p \n",
       "13 audi         a4 quattro         2.8   1999 6   manual(m5) 4   17  25  p \n",
       "14 audi         a4 quattro         3.1   2008 6   auto(s6)   4   17  25  p \n",
       "15 audi         a4 quattro         3.1   2008 6   manual(m6) 4   15  25  p \n",
       "16 audi         a6 quattro         2.8   1999 6   auto(l5)   4   15  24  p \n",
       "17 audi         a6 quattro         3.1   2008 6   auto(s6)   4   17  25  p \n",
       "18 audi         a6 quattro         4.2   2008 8   auto(s6)   4   16  23  p \n",
       "19 chevrolet    c1500 suburban 2wd 5.3   2008 8   auto(l4)   r   14  20  r \n",
       "20 chevrolet    c1500 suburban 2wd 5.3   2008 8   auto(l4)   r   11  15  e \n",
       "   class   total test grade\n",
       "1  compact 23.5  pass B    \n",
       "2  compact 25.0  pass B    \n",
       "3  compact 25.5  pass B    \n",
       "4  compact 25.5  pass B    \n",
       "5  compact 21.0  pass B    \n",
       "6  compact 22.0  pass B    \n",
       "7  compact 22.5  pass B    \n",
       "8  compact 22.0  pass B    \n",
       "9  compact 20.5  pass B    \n",
       "10 compact 24.0  pass B    \n",
       "11 compact 23.0  pass B    \n",
       "12 compact 20.0  pass B    \n",
       "13 compact 21.0  pass B    \n",
       "14 compact 21.0  pass B    \n",
       "15 compact 20.0  pass B    \n",
       "16 midsize 19.5  fail C    \n",
       "17 midsize 21.0  pass B    \n",
       "18 midsize 19.5  fail C    \n",
       "19 suv     17.0  fail C    \n",
       "20 suv     13.0  fail C    "
      ]
     },
     "metadata": {},
     "output_type": "display_data"
    }
   ],
   "source": [
    "head(mpg, 20)"
   ]
  },
  {
   "cell_type": "code",
   "execution_count": null,
   "metadata": {},
   "outputs": [],
   "source": [
    "# 전처리를 잘한다는거는 뭘냐면\n",
    "# 조밀하게 만든다.?  # 데이터를 어떻게 정리할거냐 \n",
    "# 나이를 쭉 볼거냐, 나이를 세대간으로 볼거냐(조밀하게 만든다.? )\n",
    "# 썸머리, 평균 할거냐, 결과가 달라진다.\n",
    "# 할거면 얼른!"
   ]
  },
  {
   "cell_type": "code",
   "execution_count": 17,
   "metadata": {},
   "outputs": [
    {
     "data": {
      "text/plain": [
       "\n",
       "  A   B   C \n",
       " 10 118 106 "
      ]
     },
     "metadata": {},
     "output_type": "display_data"
    }
   ],
   "source": [
    "table(mpg$grade)"
   ]
  },
  {
   "cell_type": "code",
   "execution_count": 18,
   "metadata": {
    "scrolled": false
   },
   "outputs": [
    {
     "data": {
      "image/png": "[encoded data removed]",
      "text/plain": [
       "plot without title"
      ]
     },
     "metadata": {},
     "output_type": "display_data"
    }
   ],
   "source": [
    "qplot(mpg$grade)\n",
    "# 보니까 결국 데이터가 고르지 않고, 짝도 맞지않는데 이를 A에 대한 보강이 필요하다는 것.\n",
    "# 이 등급을 어떻게 채울지... 고민...\n",
    "# 음식도 손 많이 가야, 맛있는것처럼."
   ]
  },
  {
   "cell_type": "code",
   "execution_count": 19,
   "metadata": {},
   "outputs": [
    {
     "data": {
      "text/plain": [
       "\n",
       "  A   B   C   D \n",
       " 10  33  85 106 "
      ]
     },
     "metadata": {},
     "output_type": "display_data"
    }
   ],
   "source": [
    "# 원하는 범주만큼 만들기 \n",
    "# 카테고리 범위 \n",
    "# 첨도(분산의 높이)가 낮아지는 현상도 있으니까 어느정도까지의 적당선을 유지하자\n",
    "# 첨도가 너무 높아도 너무 데이터가 밀집\n",
    "# 첨도가 너무 낮으면 너무 완만해서 별로이다.\n",
    "# 적당선을 잘조정하기\n",
    "mpg$grade <- ifelse( mpg$total >= 30, 'A'\n",
    "                   ,ifelse(mpg$total >= 25, 'B'\n",
    "                           ,ifelse(mpg$total >= 20, 'C', 'D')) )\n",
    "table(mpg$grade)"
   ]
  },
  {
   "cell_type": "code",
   "execution_count": 20,
   "metadata": {},
   "outputs": [
    {
     "data": {
      "image/png": "[encoded data removed]",
      "text/plain": [
       "plot without title"
      ]
     },
     "metadata": {},
     "output_type": "display_data"
    }
   ],
   "source": [
    "qplot(mpg$grade)"
   ]
  },
  {
   "cell_type": "code",
   "execution_count": null,
   "metadata": {},
   "outputs": [],
   "source": [
    "# 속성 : 들어온 데이터가 어떤 속성이냐."
   ]
  },
  {
   "cell_type": "markdown",
   "metadata": {},
   "source": [
    "### 분석 도전!\n",
    "-ggplot2 midwest"
   ]
  },
  {
   "cell_type": "markdown",
   "metadata": {},
   "source": [
    "#### Q1. ggplot2의 midwest 데이터를 데이터 프레임 형태로 불러와서 특성파악"
   ]
  },
  {
   "cell_type": "code",
   "execution_count": 21,
   "metadata": {},
   "outputs": [],
   "source": [
    "midwest <- as.data.frame(ggplot2::midwest)"
   ]
  },
  {
   "cell_type": "code",
   "execution_count": 27,
   "metadata": {},
   "outputs": [
    {
     "data": {
      "text/html": [
       "'data.frame'"
      ],
      "text/latex": [
       "'data.frame'"
      ],
      "text/markdown": [
       "'data.frame'"
      ],
      "text/plain": [
       "[1] \"data.frame\""
      ]
     },
     "metadata": {},
     "output_type": "display_data"
    }
   ],
   "source": [
    "class(midwest)\n",
    "dim() # 열\n",
    "# 행\n"
   ]
  },
  {
   "cell_type": "code",
   "execution_count": 26,
   "metadata": {
    "scrolled": false
   },
   "outputs": [
    {
     "name": "stdout",
     "output_type": "stream",
     "text": [
      "'data.frame':\t437 obs. of  28 variables:\n",
      " $ PID                 : int  561 562 563 564 565 566 567 568 569 570 ...\n",
      " $ county              : chr  \"ADAMS\" \"ALEXANDER\" \"BOND\" \"BOONE\" ...\n",
      " $ state               : chr  \"IL\" \"IL\" \"IL\" \"IL\" ...\n",
      " $ area                : num  0.052 0.014 0.022 0.017 0.018 0.05 0.017 0.027 0.024 0.058 ...\n",
      " $ poptotal            : int  66090 10626 14991 30806 5836 35688 5322 16805 13437 173025 ...\n",
      " $ popdensity          : num  1271 759 681 1812 324 ...\n",
      " $ popwhite            : int  63917 7054 14477 29344 5264 35157 5298 16519 13384 146506 ...\n",
      " $ popblack            : int  1702 3496 429 127 547 50 1 111 16 16559 ...\n",
      " $ popamerindian       : int  98 19 35 46 14 65 8 30 8 331 ...\n",
      " $ popasian            : int  249 48 16 150 5 195 15 61 23 8033 ...\n",
      " $ popother            : int  124 9 34 1139 6 221 0 84 6 1596 ...\n",
      " $ percwhite           : num  96.7 66.4 96.6 95.3 90.2 ...\n",
      " $ percblack           : num  2.575 32.9 2.862 0.412 9.373 ...\n",
      " $ percamerindan       : num  0.148 0.179 0.233 0.149 0.24 ...\n",
      " $ percasian           : num  0.3768 0.4517 0.1067 0.4869 0.0857 ...\n",
      " $ percother           : num  0.1876 0.0847 0.2268 3.6973 0.1028 ...\n",
      " $ popadults           : int  43298 6724 9669 19272 3979 23444 3583 11323 8825 95971 ...\n",
      " $ perchsd             : num  75.1 59.7 69.3 75.5 68.9 ...\n",
      " $ percollege          : num  19.6 11.2 17 17.3 14.5 ...\n",
      " $ percprof            : num  4.36 2.87 4.49 4.2 3.37 ...\n",
      " $ poppovertyknown     : int  63628 10529 14235 30337 4815 35107 5241 16455 13081 154934 ...\n",
      " $ percpovertyknown    : num  96.3 99.1 95 98.5 82.5 ...\n",
      " $ percbelowpoverty    : num  13.15 32.24 12.07 7.21 13.52 ...\n",
      " $ percchildbelowpovert: num  18 45.8 14 11.2 13 ...\n",
      " $ percadultpoverty    : num  11.01 27.39 10.85 5.54 11.14 ...\n",
      " $ percelderlypoverty  : num  12.44 25.23 12.7 6.22 19.2 ...\n",
      " $ inmetro             : int  0 0 0 1 0 0 0 0 0 1 ...\n",
      " $ category            : chr  \"AAR\" \"LHR\" \"AAR\" \"ALU\" ...\n"
     ]
    }
   ],
   "source": [
    "str(midwest)"
   ]
  },
  {
   "cell_type": "code",
   "execution_count": 22,
   "metadata": {},
   "outputs": [
    {
     "data": {
      "text/plain": [
       "      PID          county             state                area        \n",
       " Min.   : 561   Length:437         Length:437         Min.   :0.00500  \n",
       " 1st Qu.: 670   Class :character   Class :character   1st Qu.:0.02400  \n",
       " Median :1221   Mode  :character   Mode  :character   Median :0.03000  \n",
       " Mean   :1437                                         Mean   :0.03317  \n",
       " 3rd Qu.:2059                                         3rd Qu.:0.03800  \n",
       " Max.   :3052                                         Max.   :0.11000  \n",
       "    poptotal         popdensity          popwhite          popblack      \n",
       " Min.   :   1701   Min.   :   85.05   Min.   :    416   Min.   :      0  \n",
       " 1st Qu.:  18840   1st Qu.:  622.41   1st Qu.:  18630   1st Qu.:     29  \n",
       " Median :  35324   Median : 1156.21   Median :  34471   Median :    201  \n",
       " Mean   :  96130   Mean   : 3097.74   Mean   :  81840   Mean   :  11024  \n",
       " 3rd Qu.:  75651   3rd Qu.: 2330.00   3rd Qu.:  72968   3rd Qu.:   1291  \n",
       " Max.   :5105067   Max.   :88018.40   Max.   :3204947   Max.   :1317147  \n",
       " popamerindian        popasian         popother        percwhite    \n",
       " Min.   :    4.0   Min.   :     0   Min.   :     0   Min.   :10.69  \n",
       " 1st Qu.:   44.0   1st Qu.:    35   1st Qu.:    20   1st Qu.:94.89  \n",
       " Median :   94.0   Median :   102   Median :    66   Median :98.03  \n",
       " Mean   :  343.1   Mean   :  1310   Mean   :  1613   Mean   :95.56  \n",
       " 3rd Qu.:  288.0   3rd Qu.:   401   3rd Qu.:   345   3rd Qu.:99.07  \n",
       " Max.   :10289.0   Max.   :188565   Max.   :384119   Max.   :99.82  \n",
       "   percblack       percamerindan        percasian        percother      \n",
       " Min.   : 0.0000   Min.   : 0.05623   Min.   :0.0000   Min.   :0.00000  \n",
       " 1st Qu.: 0.1157   1st Qu.: 0.15793   1st Qu.:0.1737   1st Qu.:0.09102  \n",
       " Median : 0.5390   Median : 0.21502   Median :0.2972   Median :0.17844  \n",
       " Mean   : 2.6763   Mean   : 0.79894   Mean   :0.4872   Mean   :0.47906  \n",
       " 3rd Qu.: 2.6014   3rd Qu.: 0.38362   3rd Qu.:0.5212   3rd Qu.:0.48050  \n",
       " Max.   :40.2100   Max.   :89.17738   Max.   :5.0705   Max.   :7.52427  \n",
       "   popadults          perchsd        percollege        percprof      \n",
       " Min.   :   1287   Min.   :46.91   Min.   : 7.336   Min.   : 0.5203  \n",
       " 1st Qu.:  12271   1st Qu.:71.33   1st Qu.:14.114   1st Qu.: 2.9980  \n",
       " Median :  22188   Median :74.25   Median :16.798   Median : 3.8142  \n",
       " Mean   :  60973   Mean   :73.97   Mean   :18.273   Mean   : 4.4473  \n",
       " 3rd Qu.:  47541   3rd Qu.:77.20   3rd Qu.:20.550   3rd Qu.: 4.9493  \n",
       " Max.   :3291995   Max.   :88.90   Max.   :48.079   Max.   :20.7913  \n",
       " poppovertyknown   percpovertyknown percbelowpoverty percchildbelowpovert\n",
       " Min.   :   1696   Min.   :80.90    Min.   : 2.180   Min.   : 1.919      \n",
       " 1st Qu.:  18364   1st Qu.:96.89    1st Qu.: 9.199   1st Qu.:11.624      \n",
       " Median :  33788   Median :98.17    Median :11.822   Median :15.270      \n",
       " Mean   :  93642   Mean   :97.11    Mean   :12.511   Mean   :16.447      \n",
       " 3rd Qu.:  72840   3rd Qu.:98.60    3rd Qu.:15.133   3rd Qu.:20.352      \n",
       " Max.   :5023523   Max.   :99.86    Max.   :48.691   Max.   :64.308      \n",
       " percadultpoverty percelderlypoverty    inmetro         category        \n",
       " Min.   : 1.938   Min.   : 3.547     Min.   :0.0000   Length:437        \n",
       " 1st Qu.: 7.668   1st Qu.: 8.912     1st Qu.:0.0000   Class :character  \n",
       " Median :10.008   Median :10.869     Median :0.0000   Mode  :character  \n",
       " Mean   :10.919   Mean   :11.389     Mean   :0.3432                     \n",
       " 3rd Qu.:13.182   3rd Qu.:13.412     3rd Qu.:1.0000                     \n",
       " Max.   :43.312   Max.   :31.162     Max.   :1.0000                     "
      ]
     },
     "metadata": {},
     "output_type": "display_data"
    }
   ],
   "source": [
    "summary(midwest)"
   ]
  },
  {
   "cell_type": "markdown",
   "metadata": {},
   "source": [
    "#### Q2. poptotal(전체인구)을 total로, popasian(아시아인구)를 asian으로 변수명 수정"
   ]
  },
  {
   "cell_type": "code",
   "execution_count": 32,
   "metadata": {
    "scrolled": true
   },
   "outputs": [],
   "source": [
    "# 니가 리 네임 하고 싶다면 library(dplyr) 로딩해라.\n",
    "# mpg_new <- rename(mpg_new, highway = hwy)\n",
    "library(dplyr)\n",
    "midwest_new <- midwest\n",
    "midwest_new <- rename(midwest_new, total = poptotal)"
   ]
  },
  {
   "cell_type": "code",
   "execution_count": 35,
   "metadata": {},
   "outputs": [],
   "source": [
    "midwest_new <- rename(midwest_new, asian = popasian)"
   ]
  },
  {
   "cell_type": "code",
   "execution_count": 36,
   "metadata": {
    "scrolled": false
   },
   "outputs": [
    {
     "name": "stdout",
     "output_type": "stream",
     "text": [
      "'data.frame':\t437 obs. of  28 variables:\n",
      " $ PID                 : int  561 562 563 564 565 566 567 568 569 570 ...\n",
      " $ county              : chr  \"ADAMS\" \"ALEXANDER\" \"BOND\" \"BOONE\" ...\n",
      " $ state               : chr  \"IL\" \"IL\" \"IL\" \"IL\" ...\n",
      " $ area                : num  0.052 0.014 0.022 0.017 0.018 0.05 0.017 0.027 0.024 0.058 ...\n",
      " $ total               : int  66090 10626 14991 30806 5836 35688 5322 16805 13437 173025 ...\n",
      " $ popdensity          : num  1271 759 681 1812 324 ...\n",
      " $ popwhite            : int  63917 7054 14477 29344 5264 35157 5298 16519 13384 146506 ...\n",
      " $ popblack            : int  1702 3496 429 127 547 50 1 111 16 16559 ...\n",
      " $ popamerindian       : int  98 19 35 46 14 65 8 30 8 331 ...\n",
      " $ asian               : int  249 48 16 150 5 195 15 61 23 8033 ...\n",
      " $ popother            : int  124 9 34 1139 6 221 0 84 6 1596 ...\n",
      " $ percwhite           : num  96.7 66.4 96.6 95.3 90.2 ...\n",
      " $ percblack           : num  2.575 32.9 2.862 0.412 9.373 ...\n",
      " $ percamerindan       : num  0.148 0.179 0.233 0.149 0.24 ...\n",
      " $ percasian           : num  0.3768 0.4517 0.1067 0.4869 0.0857 ...\n",
      " $ percother           : num  0.1876 0.0847 0.2268 3.6973 0.1028 ...\n",
      " $ popadults           : int  43298 6724 9669 19272 3979 23444 3583 11323 8825 95971 ...\n",
      " $ perchsd             : num  75.1 59.7 69.3 75.5 68.9 ...\n",
      " $ percollege          : num  19.6 11.2 17 17.3 14.5 ...\n",
      " $ percprof            : num  4.36 2.87 4.49 4.2 3.37 ...\n",
      " $ poppovertyknown     : int  63628 10529 14235 30337 4815 35107 5241 16455 13081 154934 ...\n",
      " $ percpovertyknown    : num  96.3 99.1 95 98.5 82.5 ...\n",
      " $ percbelowpoverty    : num  13.15 32.24 12.07 7.21 13.52 ...\n",
      " $ percchildbelowpovert: num  18 45.8 14 11.2 13 ...\n",
      " $ percadultpoverty    : num  11.01 27.39 10.85 5.54 11.14 ...\n",
      " $ percelderlypoverty  : num  12.44 25.23 12.7 6.22 19.2 ...\n",
      " $ inmetro             : int  0 0 0 1 0 0 0 0 0 1 ...\n",
      " $ category            : chr  \"AAR\" \"LHR\" \"AAR\" \"ALU\" ...\n"
     ]
    }
   ],
   "source": [
    "str(midwest_new)"
   ]
  },
  {
   "cell_type": "markdown",
   "metadata": {},
   "source": [
    "#### Q3. total과 asian 변수를 이용해 '전체인구대비아시아인구 백분율' 파생변수를 만들고, 히스토그램 만들어서 도시들이 어떻게 분포하는지 살펴보기"
   ]
  },
  {
   "cell_type": "code",
   "execution_count": 37,
   "metadata": {},
   "outputs": [],
   "source": [
    "# midwest_new$rate_asian_per_total <- (midwest_new$asian  / midwest_new$total)\n",
    "midwest$ratio <- midwest$asian/midwest$total*100\n",
    "hist(midwest$ratio)"
   ]
  },
  {
   "cell_type": "code",
   "execution_count": 38,
   "metadata": {},
   "outputs": [
    {
     "name": "stdout",
     "output_type": "stream",
     "text": [
      "'data.frame':\t437 obs. of  29 variables:\n",
      " $ PID                 : int  561 562 563 564 565 566 567 568 569 570 ...\n",
      " $ county              : chr  \"ADAMS\" \"ALEXANDER\" \"BOND\" \"BOONE\" ...\n",
      " $ state               : chr  \"IL\" \"IL\" \"IL\" \"IL\" ...\n",
      " $ area                : num  0.052 0.014 0.022 0.017 0.018 0.05 0.017 0.027 0.024 0.058 ...\n",
      " $ total               : int  66090 10626 14991 30806 5836 35688 5322 16805 13437 173025 ...\n",
      " $ popdensity          : num  1271 759 681 1812 324 ...\n",
      " $ popwhite            : int  63917 7054 14477 29344 5264 35157 5298 16519 13384 146506 ...\n",
      " $ popblack            : int  1702 3496 429 127 547 50 1 111 16 16559 ...\n",
      " $ popamerindian       : int  98 19 35 46 14 65 8 30 8 331 ...\n",
      " $ asian               : int  249 48 16 150 5 195 15 61 23 8033 ...\n",
      " $ popother            : int  124 9 34 1139 6 221 0 84 6 1596 ...\n",
      " $ percwhite           : num  96.7 66.4 96.6 95.3 90.2 ...\n",
      " $ percblack           : num  2.575 32.9 2.862 0.412 9.373 ...\n",
      " $ percamerindan       : num  0.148 0.179 0.233 0.149 0.24 ...\n",
      " $ percasian           : num  0.3768 0.4517 0.1067 0.4869 0.0857 ...\n",
      " $ percother           : num  0.1876 0.0847 0.2268 3.6973 0.1028 ...\n",
      " $ popadults           : int  43298 6724 9669 19272 3979 23444 3583 11323 8825 95971 ...\n",
      " $ perchsd             : num  75.1 59.7 69.3 75.5 68.9 ...\n",
      " $ percollege          : num  19.6 11.2 17 17.3 14.5 ...\n",
      " $ percprof            : num  4.36 2.87 4.49 4.2 3.37 ...\n",
      " $ poppovertyknown     : int  63628 10529 14235 30337 4815 35107 5241 16455 13081 154934 ...\n",
      " $ percpovertyknown    : num  96.3 99.1 95 98.5 82.5 ...\n",
      " $ percbelowpoverty    : num  13.15 32.24 12.07 7.21 13.52 ...\n",
      " $ percchildbelowpovert: num  18 45.8 14 11.2 13 ...\n",
      " $ percadultpoverty    : num  11.01 27.39 10.85 5.54 11.14 ...\n",
      " $ percelderlypoverty  : num  12.44 25.23 12.7 6.22 19.2 ...\n",
      " $ inmetro             : int  0 0 0 1 0 0 0 0 0 1 ...\n",
      " $ category            : chr  \"AAR\" \"LHR\" \"AAR\" \"ALU\" ...\n",
      " $ rate_asian_per_total: num  0.003768 0.004517 0.001067 0.004869 0.000857 ...\n"
     ]
    }
   ],
   "source": [
    "str(midwest_new)"
   ]
  },
  {
   "cell_type": "markdown",
   "metadata": {},
   "source": [
    "#### Q4. 아시아 인구 백분율 전체 평균을 구하고, 평균을 초과하면 `\"large\"`, 그 외에는 `\"small\"`을 부여하는 파생변수를 만들어 보세요."
   ]
  },
  {
   "cell_type": "code",
   "execution_count": null,
   "metadata": {},
   "outputs": [],
   "source": [
    "mean(midwest$ratio)"
   ]
  },
  {
   "cell_type": "code",
   "execution_count": null,
   "metadata": {},
   "outputs": [],
   "source": [
    "midwest$group <- ifelse(midwest$ratio > 0.4872462, \"large\", \"small\")"
   ]
  },
  {
   "cell_type": "code",
   "execution_count": null,
   "metadata": {},
   "outputs": [],
   "source": [
    "table(midwest$group) # 빈도 막대표로 확인.."
   ]
  },
  {
   "cell_type": "markdown",
   "metadata": {},
   "source": [
    "#### Q5.  \"large\"`와 `\"small\"`에 해당하는 지역이 얼마나 되는지, 빈도표와 빈도 막대 그래프를 만들어 확인해 보세요."
   ]
  },
  {
   "cell_type": "code",
   "execution_count": null,
   "metadata": {},
   "outputs": [],
   "source": [
    "library(ggplot2)\n",
    "qplot(midwest$group)"
   ]
  }
 ],
 "metadata": {
  "kernelspec": {
   "display_name": "R",
   "language": "R",
   "name": "ir"
  },
  "language_info": {
   "codemirror_mode": "r",
   "file_extension": ".r",
   "mimetype": "text/x-r-source",
   "name": "R",
   "pygments_lexer": "r",
   "version": "3.6.1"
  },
  "toc": {
   "base_numbering": 1,
   "nav_menu": {},
   "number_sections": true,
   "sideBar": true,
   "skip_h1_title": false,
   "title_cell": "Table of Contents",
   "title_sidebar": "Contents",
   "toc_cell": false,
   "toc_position": {
    "height": "calc(100% - 180px)",
    "left": "10px",
    "top": "150px",
    "width": "223.168px"
   },
   "toc_section_display": true,
   "toc_window_display": true
  },
  "varInspector": {
   "cols": {
    "lenName": 16,
    "lenType": 16,
    "lenVar": 40
   },
   "kernels_config": {
    "python": {
     "delete_cmd_postfix": "",
     "delete_cmd_prefix": "del ",
     "library": "var_list.py",
     "varRefreshCmd": "print(var_dic_list())"
    },
    "r": {
     "delete_cmd_postfix": ") ",
     "delete_cmd_prefix": "rm(",
     "library": "var_list.r",
     "varRefreshCmd": "cat(var_dic_list()) "
    }
   },
   "position": {
    "height": "605px",
    "left": "1413.99px",
    "right": "20px",
    "top": "126.98px",
    "width": "350px"
   },
   "types_to_exclude": [
    "module",
    "function",
    "builtin_function_or_method",
    "instance",
    "_Feature"
   ],
   "window_display": true
  }
 },
 "nbformat": 4,
 "nbformat_minor": 2
}
