{
 "cells": [
  {
   "cell_type": "code",
   "execution_count": 9,
   "metadata": {},
   "outputs": [
    {
     "name": "stderr",
     "output_type": "stream",
     "text": [
      "Warning message:\n",
      "\"package 'dplyr' was built under R version 3.6.2\"\n",
      "Attaching package: 'dplyr'\n",
      "\n",
      "The following objects are masked from 'package:stats':\n",
      "\n",
      "    filter, lag\n",
      "\n",
      "The following objects are masked from 'package:base':\n",
      "\n",
      "    intersect, setdiff, setequal, union\n",
      "\n"
     ]
    }
   ],
   "source": [
    "library(dplyr)"
   ]
  },
  {
   "cell_type": "code",
   "execution_count": 1,
   "metadata": {
    "scrolled": true
   },
   "outputs": [
    {
     "data": {
      "text/html": [
       "<table>\n",
       "<thead><tr><th scope=col>sex</th><th scope=col>score</th></tr></thead>\n",
       "<tbody>\n",
       "\t<tr><td>M </td><td> 5</td></tr>\n",
       "\t<tr><td>F </td><td> 4</td></tr>\n",
       "\t<tr><td>NA</td><td> 3</td></tr>\n",
       "\t<tr><td>M </td><td> 4</td></tr>\n",
       "\t<tr><td>F </td><td>NA</td></tr>\n",
       "</tbody>\n",
       "</table>\n"
      ],
      "text/latex": [
       "\\begin{tabular}{r|ll}\n",
       " sex & score\\\\\n",
       "\\hline\n",
       "\t M  &  5\\\\\n",
       "\t F  &  4\\\\\n",
       "\t NA &  3\\\\\n",
       "\t M  &  4\\\\\n",
       "\t F  & NA\\\\\n",
       "\\end{tabular}\n"
      ],
      "text/markdown": [
       "\n",
       "| sex | score |\n",
       "|---|---|\n",
       "| M  |  5 |\n",
       "| F  |  4 |\n",
       "| NA |  3 |\n",
       "| M  |  4 |\n",
       "| F  | NA |\n",
       "\n"
      ],
      "text/plain": [
       "  sex score\n",
       "1 M    5   \n",
       "2 F    4   \n",
       "3 NA   3   \n",
       "4 M    4   \n",
       "5 F   NA   "
      ]
     },
     "metadata": {},
     "output_type": "display_data"
    }
   ],
   "source": [
    "# 결측치 <- NA        (주이! NAN은 없음.)\n",
    "df <- data.frame(sex = c(\"M\", \"F\", NA, \"M\", \"F\"),\n",
    "                 score = c(5, 4, 3, 4, NA))\n",
    "df"
   ]
  },
  {
   "cell_type": "code",
   "execution_count": 2,
   "metadata": {},
   "outputs": [
    {
     "data": {
      "text/html": [
       "<table>\n",
       "<thead><tr><th scope=col>sex</th><th scope=col>score</th></tr></thead>\n",
       "<tbody>\n",
       "\t<tr><td>FALSE</td><td>FALSE</td></tr>\n",
       "\t<tr><td>FALSE</td><td>FALSE</td></tr>\n",
       "\t<tr><td> TRUE</td><td>FALSE</td></tr>\n",
       "\t<tr><td>FALSE</td><td>FALSE</td></tr>\n",
       "\t<tr><td>FALSE</td><td> TRUE</td></tr>\n",
       "</tbody>\n",
       "</table>\n"
      ],
      "text/latex": [
       "\\begin{tabular}{ll}\n",
       " sex & score\\\\\n",
       "\\hline\n",
       "\t FALSE & FALSE\\\\\n",
       "\t FALSE & FALSE\\\\\n",
       "\t  TRUE & FALSE\\\\\n",
       "\t FALSE & FALSE\\\\\n",
       "\t FALSE &  TRUE\\\\\n",
       "\\end{tabular}\n"
      ],
      "text/markdown": [
       "\n",
       "| sex | score |\n",
       "|---|---|\n",
       "| FALSE | FALSE |\n",
       "| FALSE | FALSE |\n",
       "|  TRUE | FALSE |\n",
       "| FALSE | FALSE |\n",
       "| FALSE |  TRUE |\n",
       "\n"
      ],
      "text/plain": [
       "     sex   score\n",
       "[1,] FALSE FALSE\n",
       "[2,] FALSE FALSE\n",
       "[3,]  TRUE FALSE\n",
       "[4,] FALSE FALSE\n",
       "[5,] FALSE  TRUE"
      ]
     },
     "metadata": {},
     "output_type": "display_data"
    }
   ],
   "source": [
    "is.na(df)"
   ]
  },
  {
   "cell_type": "code",
   "execution_count": 3,
   "metadata": {},
   "outputs": [
    {
     "data": {
      "text/plain": [
       "\n",
       "FALSE  TRUE \n",
       "    8     2 "
      ]
     },
     "metadata": {},
     "output_type": "display_data"
    }
   ],
   "source": [
    "table(is.na(df))"
   ]
  },
  {
   "cell_type": "code",
   "execution_count": 4,
   "metadata": {},
   "outputs": [
    {
     "data": {
      "text/plain": [
       "\n",
       "FALSE  TRUE \n",
       "    4     1 "
      ]
     },
     "metadata": {},
     "output_type": "display_data"
    },
    {
     "data": {
      "text/plain": [
       "\n",
       "FALSE  TRUE \n",
       "    4     1 "
      ]
     },
     "metadata": {},
     "output_type": "display_data"
    }
   ],
   "source": [
    "table(is.na(df$sex)); table(is.na(df$score))"
   ]
  },
  {
   "cell_type": "code",
   "execution_count": 14,
   "metadata": {
    "scrolled": false
   },
   "outputs": [
    {
     "ename": "ERROR",
     "evalue": "Error in Summary.factor(structure(c(2L, 1L, NA, 2L, 1L), .Label = c(\"F\", : 'sum' not meaningful for factors\n",
     "output_type": "error",
     "traceback": [
      "Error in Summary.factor(structure(c(2L, 1L, NA, 2L, 1L), .Label = c(\"F\", : 'sum' not meaningful for factors\nTraceback:\n",
      "1. Summary.factor(structure(c(2L, 1L, NA, 2L, 1L), .Label = c(\"F\", \n . \"M\"), class = \"factor\"), na.rm = FALSE)",
      "2. stop(gettextf(\"%s not meaningful for factors\", sQuote(.Generic)))"
     ]
    },
    {
     "data": {
      "text/html": [
       "&lt;NA&gt;"
      ],
      "text/latex": [
       "<NA>"
      ],
      "text/markdown": [
       "&lt;NA&gt;"
      ],
      "text/plain": [
       "[1] NA"
      ]
     },
     "metadata": {},
     "output_type": "display_data"
    }
   ],
   "source": [
    "sum(df$sex); sum(df$score)"
   ]
  },
  {
   "cell_type": "code",
   "execution_count": 12,
   "metadata": {
    "scrolled": false
   },
   "outputs": [
    {
     "data": {
      "text/html": [
       "<table>\n",
       "<thead><tr><th scope=col>sex</th><th scope=col>score</th></tr></thead>\n",
       "<tbody>\n",
       "\t<tr><td>M </td><td> 5</td></tr>\n",
       "\t<tr><td>F </td><td> 4</td></tr>\n",
       "\t<tr><td>M </td><td> 4</td></tr>\n",
       "\t<tr><td>F </td><td>NA</td></tr>\n",
       "</tbody>\n",
       "</table>\n"
      ],
      "text/latex": [
       "\\begin{tabular}{r|ll}\n",
       " sex & score\\\\\n",
       "\\hline\n",
       "\t M  &  5\\\\\n",
       "\t F  &  4\\\\\n",
       "\t M  &  4\\\\\n",
       "\t F  & NA\\\\\n",
       "\\end{tabular}\n"
      ],
      "text/markdown": [
       "\n",
       "| sex | score |\n",
       "|---|---|\n",
       "| M  |  5 |\n",
       "| F  |  4 |\n",
       "| M  |  4 |\n",
       "| F  | NA |\n",
       "\n"
      ],
      "text/plain": [
       "  sex score\n",
       "1 M    5   \n",
       "2 F    4   \n",
       "3 M    4   \n",
       "4 F   NA   "
      ]
     },
     "metadata": {},
     "output_type": "display_data"
    }
   ],
   "source": [
    "df %>% filter(!is.na(sex))"
   ]
  },
  {
   "cell_type": "code",
   "execution_count": null,
   "metadata": {},
   "outputs": [],
   "source": [
    "# 결측치 삭제 omit"
   ]
  },
  {
   "cell_type": "code",
   "execution_count": 13,
   "metadata": {},
   "outputs": [
    {
     "data": {
      "text/html": [
       "4"
      ],
      "text/latex": [
       "4"
      ],
      "text/markdown": [
       "4"
      ],
      "text/plain": [
       "[1] 4"
      ]
     },
     "metadata": {},
     "output_type": "display_data"
    },
    {
     "data": {
      "text/html": [
       "16"
      ],
      "text/latex": [
       "16"
      ],
      "text/markdown": [
       "16"
      ],
      "text/plain": [
       "[1] 16"
      ]
     },
     "metadata": {},
     "output_type": "display_data"
    }
   ],
   "source": [
    "# 그룹연산시 na.rm은 (결측치를 삭제한게 아닌 제외시켜만 놓은것. )\n",
    "mean(df$score, na.rm= T); sum(df$score, na.rm= T)"
   ]
  },
  {
   "cell_type": "markdown",
   "metadata": {},
   "source": [
    "## 결측치 대채하기\n",
    "- 회귀 예측으로 채우는것도 방법중 하나., 또는 결측치를 채워주는 알고리즘도 있으니 찾아보자.\n",
    "- 평균은 젤 할일 없을떄, 마지막에 쓰는거\n",
    "- 물론 데이터 특성을 파악해야하는것.\n",
    "- 카테고리성 데이터: 최빈값. / 연속형 데이터는 시리얼이니까 바로앞이나 바로 뒤의 값이 근사값"
   ]
  },
  {
   "cell_type": "code",
   "execution_count": 15,
   "metadata": {},
   "outputs": [
    {
     "data": {
      "text/html": [
       "55.2352941176471"
      ],
      "text/latex": [
       "55.2352941176471"
      ],
      "text/markdown": [
       "55.2352941176471"
      ],
      "text/plain": [
       "[1] 55.23529"
      ]
     },
     "metadata": {},
     "output_type": "display_data"
    }
   ],
   "source": [
    "exam <- read.csv('./data/csv_exam.csv')\n",
    "exam[c(3, 8, 15), \"math\"] <- NA             # 3, 8, 15행의 math에 NA 할당\n",
    "mean(exam$math, na.rm=T)"
   ]
  },
  {
   "cell_type": "code",
   "execution_count": 16,
   "metadata": {},
   "outputs": [
    {
     "data": {
      "text/plain": [
       "\n",
       "FALSE  TRUE \n",
       "   17     3 "
      ]
     },
     "metadata": {},
     "output_type": "display_data"
    }
   ],
   "source": [
    "# 결측치 보기\n",
    "\n",
    "table(is.na(exam$math))"
   ]
  },
  {
   "cell_type": "code",
   "execution_count": 17,
   "metadata": {},
   "outputs": [
    {
     "data": {
      "text/plain": [
       "\n",
       "FALSE \n",
       "   20 "
      ]
     },
     "metadata": {},
     "output_type": "display_data"
    }
   ],
   "source": [
    "# 결측치를 평균으로 대체하기.\n",
    "exam$math <- ifelse(is.na(exam$math), 55, exam$math)\n",
    "table(is.na(exam$math))"
   ]
  },
  {
   "cell_type": "code",
   "execution_count": 18,
   "metadata": {},
   "outputs": [
    {
     "data": {
      "text/html": [
       "55.2"
      ],
      "text/latex": [
       "55.2"
      ],
      "text/markdown": [
       "55.2"
      ],
      "text/plain": [
       "[1] 55.2"
      ]
     },
     "metadata": {},
     "output_type": "display_data"
    }
   ],
   "source": [
    "mean(exam$math) # 평균에서 크게 벗어나진 않게 했었다."
   ]
  },
  {
   "cell_type": "markdown",
   "metadata": {},
   "source": [
    "## 혼자해보기\n",
    "- 사전준비작업"
   ]
  },
  {
   "cell_type": "code",
   "execution_count": 19,
   "metadata": {},
   "outputs": [],
   "source": [
    "mpg <- as.data.frame(ggplot2::mpg)           # mpg 데이터 불러오기\n",
    "mpg[c(65, 124, 131, 153, 212), \"hwy\"] <- NA  # NA 할당하기"
   ]
  },
  {
   "cell_type": "markdown",
   "metadata": {},
   "source": [
    "Q1. `drv`(구동방식)별로 `hwy`(고속도로 연비) 평균이 어떻게 다른지 알아보려고 합니다. 분석을 하기 전에 우선 두 변수에 결측치가 있는지 확인해야 합니다. `drv` 변수와 `hwy` 변수에 결측치가 몇 개 있는지 알아보세요."
   ]
  },
  {
   "cell_type": "code",
   "execution_count": 20,
   "metadata": {
    "scrolled": true
   },
   "outputs": [
    {
     "data": {
      "text/plain": [
       "\n",
       "FALSE  TRUE \n",
       " 2569     5 "
      ]
     },
     "metadata": {},
     "output_type": "display_data"
    }
   ],
   "source": [
    "table(is.na(mpg))"
   ]
  },
  {
   "cell_type": "code",
   "execution_count": null,
   "metadata": {},
   "outputs": [],
   "source": [
    "table(is.na(mpg$drv))"
   ]
  },
  {
   "cell_type": "code",
   "execution_count": null,
   "metadata": {},
   "outputs": [],
   "source": [
    "table(is.na(mpg$hwy))"
   ]
  },
  {
   "cell_type": "markdown",
   "metadata": {},
   "source": [
    "Q2. `filter()`를 이용해 `hwy` 변수의 결측치를 제외하고, 어떤 구동방식의 `hwy` 평균이 높은지 알아보세요. 하나의 `dplyr` 구문으로 만들어야 합니다."
   ]
  },
  {
   "cell_type": "code",
   "execution_count": null,
   "metadata": {},
   "outputs": [],
   "source": [
    "library(dplyr)"
   ]
  },
  {
   "cell_type": "code",
   "execution_count": 21,
   "metadata": {},
   "outputs": [
    {
     "name": "stdout",
     "output_type": "stream",
     "text": [
      "'data.frame':\t234 obs. of  11 variables:\n",
      " $ manufacturer: chr  \"audi\" \"audi\" \"audi\" \"audi\" ...\n",
      " $ model       : chr  \"a4\" \"a4\" \"a4\" \"a4\" ...\n",
      " $ displ       : num  1.8 1.8 2 2 2.8 2.8 3.1 1.8 1.8 2 ...\n",
      " $ year        : int  1999 1999 2008 2008 1999 1999 2008 1999 1999 2008 ...\n",
      " $ cyl         : int  4 4 4 4 6 6 6 4 4 4 ...\n",
      " $ trans       : chr  \"auto(l5)\" \"manual(m5)\" \"manual(m6)\" \"auto(av)\" ...\n",
      " $ drv         : chr  \"f\" \"f\" \"f\" \"f\" ...\n",
      " $ cty         : int  18 21 20 21 16 18 18 18 16 20 ...\n",
      " $ hwy         : int  29 29 31 30 26 26 27 26 25 28 ...\n",
      " $ fl          : chr  \"p\" \"p\" \"p\" \"p\" ...\n",
      " $ class       : chr  \"compact\" \"compact\" \"compact\" \"compact\" ...\n"
     ]
    }
   ],
   "source": [
    "str(mpg)"
   ]
  },
  {
   "cell_type": "code",
   "execution_count": 24,
   "metadata": {},
   "outputs": [
    {
     "ename": "ERROR",
     "evalue": "Error: Argument 2 filter condition does not evaluate to a logical vector\n",
     "output_type": "error",
     "traceback": [
      "Error: Argument 2 filter condition does not evaluate to a logical vector\nTraceback:\n",
      "1. mpg %>% filter(ifelse(is.na(mpg), na.omit(mpg), mpg)) %>% summerise(mean_hwy = mean(hwy)) %>% \n .     arrange(desc(mean_hwy))",
      "2. withVisible(eval(quote(`_fseq`(`_lhs`)), env, env))",
      "3. eval(quote(`_fseq`(`_lhs`)), env, env)",
      "4. eval(quote(`_fseq`(`_lhs`)), env, env)",
      "5. `_fseq`(`_lhs`)",
      "6. freduce(value, `_function_list`)",
      "7. function_list[[i]](value)",
      "8. filter(., ifelse(is.na(mpg), na.omit(mpg), mpg))",
      "9. filter.data.frame(., ifelse(is.na(mpg), na.omit(mpg), mpg))",
      "10. as.data.frame(filter(tbl_df(.data), ..., .preserve = .preserve))",
      "11. filter(tbl_df(.data), ..., .preserve = .preserve)",
      "12. filter.tbl_df(tbl_df(.data), ..., .preserve = .preserve)",
      "13. filter_impl(.data, quo)"
     ]
    }
   ],
   "source": [
    "mpg %>% \n",
    " filter( ifelse( is.na(mpg), na.omit(mpg), mpg ) ) %>% \n",
    " summerise(mean_hwy = mean(hwy)) %>% \n",
    " arrange(desc(mean_hwy))"
   ]
  },
  {
   "cell_type": "code",
   "execution_count": 25,
   "metadata": {},
   "outputs": [
    {
     "data": {
      "text/html": [
       "<table>\n",
       "<thead><tr><th scope=col>drv</th><th scope=col>mean_hwy</th></tr></thead>\n",
       "<tbody>\n",
       "\t<tr><td>4       </td><td>19.24242</td></tr>\n",
       "\t<tr><td>f       </td><td>28.20000</td></tr>\n",
       "\t<tr><td>r       </td><td>21.00000</td></tr>\n",
       "</tbody>\n",
       "</table>\n"
      ],
      "text/latex": [
       "\\begin{tabular}{r|ll}\n",
       " drv & mean\\_hwy\\\\\n",
       "\\hline\n",
       "\t 4        & 19.24242\\\\\n",
       "\t f        & 28.20000\\\\\n",
       "\t r        & 21.00000\\\\\n",
       "\\end{tabular}\n"
      ],
      "text/markdown": [
       "\n",
       "| drv | mean_hwy |\n",
       "|---|---|\n",
       "| 4        | 19.24242 |\n",
       "| f        | 28.20000 |\n",
       "| r        | 21.00000 |\n",
       "\n"
      ],
      "text/plain": [
       "  drv mean_hwy\n",
       "1 4   19.24242\n",
       "2 f   28.20000\n",
       "3 r   21.00000"
      ]
     },
     "metadata": {},
     "output_type": "display_data"
    }
   ],
   "source": [
    "mpg %>%\n",
    "  filter(!is.na(hwy)) %>%          # 결측치 제외\n",
    "  group_by(drv) %>%                # drv별 분리\n",
    "  summarise(mean_hwy = mean(hwy))  # hwy 평균 구하기"
   ]
  },
  {
   "cell_type": "markdown",
   "metadata": {},
   "source": [
    "# 이상치"
   ]
  },
  {
   "cell_type": "code",
   "execution_count": 26,
   "metadata": {},
   "outputs": [
    {
     "data": {
      "text/html": [
       "<table>\n",
       "<thead><tr><th scope=col>sex</th><th scope=col>score</th></tr></thead>\n",
       "<tbody>\n",
       "\t<tr><td>1</td><td>5</td></tr>\n",
       "\t<tr><td>2</td><td>4</td></tr>\n",
       "\t<tr><td>1</td><td>3</td></tr>\n",
       "\t<tr><td>3</td><td>4</td></tr>\n",
       "\t<tr><td>2</td><td>2</td></tr>\n",
       "\t<tr><td>1</td><td>6</td></tr>\n",
       "</tbody>\n",
       "</table>\n"
      ],
      "text/latex": [
       "\\begin{tabular}{r|ll}\n",
       " sex & score\\\\\n",
       "\\hline\n",
       "\t 1 & 5\\\\\n",
       "\t 2 & 4\\\\\n",
       "\t 1 & 3\\\\\n",
       "\t 3 & 4\\\\\n",
       "\t 2 & 2\\\\\n",
       "\t 1 & 6\\\\\n",
       "\\end{tabular}\n"
      ],
      "text/markdown": [
       "\n",
       "| sex | score |\n",
       "|---|---|\n",
       "| 1 | 5 |\n",
       "| 2 | 4 |\n",
       "| 1 | 3 |\n",
       "| 3 | 4 |\n",
       "| 2 | 2 |\n",
       "| 1 | 6 |\n",
       "\n"
      ],
      "text/plain": [
       "  sex score\n",
       "1 1   5    \n",
       "2 2   4    \n",
       "3 1   3    \n",
       "4 3   4    \n",
       "5 2   2    \n",
       "6 1   6    "
      ]
     },
     "metadata": {},
     "output_type": "display_data"
    }
   ],
   "source": [
    "outlier <- data.frame(sex = c(1, 2, 1, 3, 2, 1),\n",
    "                      score = c(5, 4, 3, 4, 2, 6))\n",
    "outlier"
   ]
  },
  {
   "cell_type": "code",
   "execution_count": null,
   "metadata": {},
   "outputs": [],
   "source": [
    "# 성별은 2개인데 3개가 나온점\n",
    "\n",
    "# 1 ~ 5인것을 6이라는 이상치."
   ]
  },
  {
   "cell_type": "code",
   "execution_count": 27,
   "metadata": {
    "collapsed": true
   },
   "outputs": [
    {
     "data": {
      "text/html": [
       "<table>\n",
       "<thead><tr><th scope=col>sex</th><th scope=col>score</th></tr></thead>\n",
       "<tbody>\n",
       "\t<tr><td> 1</td><td>5 </td></tr>\n",
       "\t<tr><td> 2</td><td>4 </td></tr>\n",
       "\t<tr><td> 1</td><td>3 </td></tr>\n",
       "\t<tr><td>NA</td><td>4 </td></tr>\n",
       "\t<tr><td> 2</td><td>2 </td></tr>\n",
       "\t<tr><td> 1</td><td>6 </td></tr>\n",
       "</tbody>\n",
       "</table>\n"
      ],
      "text/latex": [
       "\\begin{tabular}{r|ll}\n",
       " sex & score\\\\\n",
       "\\hline\n",
       "\t  1 & 5 \\\\\n",
       "\t  2 & 4 \\\\\n",
       "\t  1 & 3 \\\\\n",
       "\t NA & 4 \\\\\n",
       "\t  2 & 2 \\\\\n",
       "\t  1 & 6 \\\\\n",
       "\\end{tabular}\n"
      ],
      "text/markdown": [
       "\n",
       "| sex | score |\n",
       "|---|---|\n",
       "|  1 | 5  |\n",
       "|  2 | 4  |\n",
       "|  1 | 3  |\n",
       "| NA | 4  |\n",
       "|  2 | 2  |\n",
       "|  1 | 6  |\n",
       "\n"
      ],
      "text/plain": [
       "  sex score\n",
       "1  1  5    \n",
       "2  2  4    \n",
       "3  1  3    \n",
       "4 NA  4    \n",
       "5  2  2    \n",
       "6  1  6    "
      ]
     },
     "metadata": {},
     "output_type": "display_data"
    }
   ],
   "source": [
    "# 이상치 > 결측처리로 시키기.\n",
    "# 성별\n",
    "outlier$sex <- ifelse(outlier$sex == 3, NA, outlier$sex)\n",
    "outlier"
   ]
  },
  {
   "cell_type": "code",
   "execution_count": 28,
   "metadata": {},
   "outputs": [
    {
     "data": {
      "text/html": [
       "<table>\n",
       "<thead><tr><th scope=col>sex</th><th scope=col>score</th></tr></thead>\n",
       "<tbody>\n",
       "\t<tr><td> 1</td><td> 5</td></tr>\n",
       "\t<tr><td> 2</td><td> 4</td></tr>\n",
       "\t<tr><td> 1</td><td> 3</td></tr>\n",
       "\t<tr><td>NA</td><td> 4</td></tr>\n",
       "\t<tr><td> 2</td><td> 2</td></tr>\n",
       "\t<tr><td> 1</td><td>NA</td></tr>\n",
       "</tbody>\n",
       "</table>\n"
      ],
      "text/latex": [
       "\\begin{tabular}{r|ll}\n",
       " sex & score\\\\\n",
       "\\hline\n",
       "\t  1 &  5\\\\\n",
       "\t  2 &  4\\\\\n",
       "\t  1 &  3\\\\\n",
       "\t NA &  4\\\\\n",
       "\t  2 &  2\\\\\n",
       "\t  1 & NA\\\\\n",
       "\\end{tabular}\n"
      ],
      "text/markdown": [
       "\n",
       "| sex | score |\n",
       "|---|---|\n",
       "|  1 |  5 |\n",
       "|  2 |  4 |\n",
       "|  1 |  3 |\n",
       "| NA |  4 |\n",
       "|  2 |  2 |\n",
       "|  1 | NA |\n",
       "\n"
      ],
      "text/plain": [
       "  sex score\n",
       "1  1   5   \n",
       "2  2   4   \n",
       "3  1   3   \n",
       "4 NA   4   \n",
       "5  2   2   \n",
       "6  1  NA   "
      ]
     },
     "metadata": {},
     "output_type": "display_data"
    }
   ],
   "source": [
    "# score의 NA 넣기.\n",
    "outlier$score <- ifelse(outlier$score > 5, NA, outlier$score)\n",
    "outlier"
   ]
  },
  {
   "cell_type": "code",
   "execution_count": 30,
   "metadata": {
    "collapsed": true
   },
   "outputs": [
    {
     "data": {
      "text/html": [
       "<ol class=list-inline>\n",
       "\t<li>12</li>\n",
       "\t<li>18</li>\n",
       "\t<li>25</li>\n",
       "\t<li>27</li>\n",
       "\t<li>37</li>\n",
       "</ol>\n"
      ],
      "text/latex": [
       "\\begin{enumerate*}\n",
       "\\item 12\n",
       "\\item 18\n",
       "\\item 25\n",
       "\\item 27\n",
       "\\item 37\n",
       "\\end{enumerate*}\n"
      ],
      "text/markdown": [
       "1. 12\n",
       "2. 18\n",
       "3. 25\n",
       "4. 27\n",
       "5. 37\n",
       "\n",
       "\n"
      ],
      "text/plain": [
       "     [,1]\n",
       "[1,]   12\n",
       "[2,]   18\n",
       "[3,]   25\n",
       "[4,]   27\n",
       "[5,]   37\n",
       "attr(,\"class\")\n",
       "        1 \n",
       "\"integer\" "
      ]
     },
     "metadata": {},
     "output_type": "display_data"
    },
    {
     "data": {
      "image/png": "[encoded data removed]",
      "text/plain": [
       "plot without title"
      ]
     },
     "metadata": {},
     "output_type": "display_data"
    }
   ],
   "source": [
    "boxplot(mpg$hwy)$stats\n",
    "# 이상치 경계 최밑단 | ㅠ박스 최하 | 중앙값 | 박스 최상단 | 이상치 경계 최상단\n",
    "# 12   18 25 27 37"
   ]
  },
  {
   "cell_type": "markdown",
   "metadata": {},
   "source": [
    "## 혼자해보기"
   ]
  },
  {
   "cell_type": "code",
   "execution_count": 31,
   "metadata": {},
   "outputs": [],
   "source": [
    "mpg <- as.data.frame(ggplot2::mpg)                  # mpg 데이터 불러오기\n",
    "mpg[c(10, 14, 58, 93), \"drv\"] <- \"k\"                # drv 이상치 할당\n",
    "mpg[c(29, 43, 129, 203), \"cty\"] <- c(3, 4, 39, 42)  # cty 이상치 할당"
   ]
  },
  {
   "cell_type": "code",
   "execution_count": 33,
   "metadata": {
    "scrolled": true
   },
   "outputs": [
    {
     "data": {
      "text/plain": [
       "\n",
       "FALSE \n",
       "  234 "
      ]
     },
     "metadata": {},
     "output_type": "display_data"
    }
   ],
   "source": [
    "table(is.na(mpg$drv))"
   ]
  },
  {
   "cell_type": "code",
   "execution_count": 35,
   "metadata": {},
   "outputs": [
    {
     "data": {
      "text/plain": [
       "\n",
       "  4   f   k   r \n",
       "100 106   4  24 "
      ]
     },
     "metadata": {},
     "output_type": "display_data"
    }
   ],
   "source": [
    "table(mpg$drv)"
   ]
  },
  {
   "cell_type": "code",
   "execution_count": null,
   "metadata": {},
   "outputs": [],
   "source": [
    "# 4,r, f\n",
    "mpg$drv <- ifelse(mpg$drv %in% c(\"4\", \"f\" , \"r\"), mpg$drv, NA)"
   ]
  },
  {
   "cell_type": "code",
   "execution_count": 34,
   "metadata": {},
   "outputs": [
    {
     "data": {
      "text/html": [
       "<table>\n",
       "<tbody>\n",
       "\t<tr><td> 9</td></tr>\n",
       "\t<tr><td>14</td></tr>\n",
       "\t<tr><td>17</td></tr>\n",
       "\t<tr><td>19</td></tr>\n",
       "\t<tr><td>26</td></tr>\n",
       "</tbody>\n",
       "</table>\n"
      ],
      "text/latex": [
       "\\begin{tabular}{l}\n",
       "\t  9\\\\\n",
       "\t 14\\\\\n",
       "\t 17\\\\\n",
       "\t 19\\\\\n",
       "\t 26\\\\\n",
       "\\end{tabular}\n"
      ],
      "text/markdown": [
       "\n",
       "|  9 |\n",
       "| 14 |\n",
       "| 17 |\n",
       "| 19 |\n",
       "| 26 |\n",
       "\n"
      ],
      "text/plain": [
       "     [,1]\n",
       "[1,]  9  \n",
       "[2,] 14  \n",
       "[3,] 17  \n",
       "[4,] 19  \n",
       "[5,] 26  "
      ]
     },
     "metadata": {},
     "output_type": "display_data"
    },
    {
     "data": {
      "image/png": "[encoded data removed]",
      "text/plain": [
       "plot without title"
      ]
     },
     "metadata": {},
     "output_type": "display_data"
    }
   ],
   "source": [
    "boxplot(mpg$cty)$stats"
   ]
  },
  {
   "cell_type": "code",
   "execution_count": null,
   "metadata": {},
   "outputs": [],
   "source": []
  }
 ],
 "metadata": {
  "kernelspec": {
   "display_name": "R",
   "language": "R",
   "name": "ir"
  },
  "language_info": {
   "codemirror_mode": "r",
   "file_extension": ".r",
   "mimetype": "text/x-r-source",
   "name": "R",
   "pygments_lexer": "r",
   "version": "3.6.1"
  },
  "toc": {
   "base_numbering": 1,
   "nav_menu": {},
   "number_sections": true,
   "sideBar": true,
   "skip_h1_title": false,
   "title_cell": "Table of Contents",
   "title_sidebar": "Contents",
   "toc_cell": false,
   "toc_position": {
    "height": "calc(100% - 180px)",
    "left": "10px",
    "top": "150px",
    "width": "253.267px"
   },
   "toc_section_display": true,
   "toc_window_display": true
  },
  "varInspector": {
   "cols": {
    "lenName": 16,
    "lenType": 16,
    "lenVar": 40
   },
   "kernels_config": {
    "python": {
     "delete_cmd_postfix": "",
     "delete_cmd_prefix": "del ",
     "library": "var_list.py",
     "varRefreshCmd": "print(var_dic_list())"
    },
    "r": {
     "delete_cmd_postfix": ") ",
     "delete_cmd_prefix": "rm(",
     "library": "var_list.r",
     "varRefreshCmd": "cat(var_dic_list()) "
    }
   },
   "position": {
    "height": "657.713px",
    "left": "1375.45px",
    "right": "20px",
    "top": "120px",
    "width": "350px"
   },
   "types_to_exclude": [
    "module",
    "function",
    "builtin_function_or_method",
    "instance",
    "_Feature"
   ],
   "window_display": true
  }
 },
 "nbformat": 4,
 "nbformat_minor": 2
}
