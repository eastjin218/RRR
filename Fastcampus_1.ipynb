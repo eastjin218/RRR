{
  "nbformat": 4,
  "nbformat_minor": 0,
  "metadata": {
    "colab": {
      "name": "Fastcampus_1.ipynb",
      "provenance": [],
      "toc_visible": true,
      "authorship_tag": "ABX9TyMGCCsOnuDxnj0SK+Tx8IwV",
      "include_colab_link": true
    },
    "kernelspec": {
      "name": "python3",
      "display_name": "Python 3"
    }
  },
  "cells": [
    {
      "cell_type": "markdown",
      "metadata": {
        "id": "view-in-github",
        "colab_type": "text"
      },
      "source": [
        "<a href=\"https://colab.research.google.com/github/eastjin218/RRR/blob/master/Fastcampus_1.ipynb\" target=\"_parent\"><img src=\"https://colab.research.google.com/assets/colab-badge.svg\" alt=\"Open In Colab\"/></a>"
      ]
    },
    {
      "cell_type": "markdown",
      "metadata": {
        "id": "lqsW063N1Gzt",
        "colab_type": "text"
      },
      "source": [
        "# 광고성 노출지수"
      ]
    },
    {
      "cell_type": "code",
      "metadata": {
        "id": "BvzWUzSo093w",
        "colab_type": "code",
        "colab": {}
      },
      "source": [
        "# 노출\n",
        "imp = 10000\n",
        "# 클릭\n",
        "clk =100\n",
        "# 구매\n",
        "conv= 10\n",
        "#비용\n",
        "cost = 100000"
      ],
      "execution_count": 0,
      "outputs": []
    },
    {
      "cell_type": "code",
      "metadata": {
        "id": "qv4nhMlr1SCZ",
        "colab_type": "code",
        "colab": {}
      },
      "source": [
        "# ctr CTR(Click Through Rate) = 클릭수/ 노출수 *100\n",
        "# 100번 노출될때 1번의 클릭이 이루어졌다\n",
        "ctr = clk/imp*100"
      ],
      "execution_count": 0,
      "outputs": []
    },
    {
      "cell_type": "code",
      "metadata": {
        "id": "9Pt39krZ1cvM",
        "colab_type": "code",
        "colab": {
          "base_uri": "https://localhost:8080/",
          "height": 35
        },
        "outputId": "ee81b668-d50e-4097-a773-1d8aa4fe3aae"
      },
      "source": [
        "ctr"
      ],
      "execution_count": 4,
      "outputs": [
        {
          "output_type": "execute_result",
          "data": {
            "text/plain": [
              "1.0"
            ]
          },
          "metadata": {
            "tags": []
          },
          "execution_count": 4
        }
      ]
    },
    {
      "cell_type": "code",
      "metadata": {
        "id": "GZyxe-FA1fEU",
        "colab_type": "code",
        "colab": {
          "base_uri": "https://localhost:8080/",
          "height": 35
        },
        "outputId": "8f61b679-5a48-4a93-a780-05d55c603afd"
      },
      "source": [
        "#  cpm CPM(Cost Per Mile)= 광고비용 / 노출수 *1000\n",
        "cpm = cost/imp *1000\n",
        "# 천번노출될때 1만원의 비용이 들어가는 것으로 산정\n",
        "cpm"
      ],
      "execution_count": 5,
      "outputs": [
        {
          "output_type": "execute_result",
          "data": {
            "text/plain": [
              "10000.0"
            ]
          },
          "metadata": {
            "tags": []
          },
          "execution_count": 5
        }
      ]
    },
    {
      "cell_type": "code",
      "metadata": {
        "id": "RYtSf1J-12gM",
        "colab_type": "code",
        "colab": {
          "base_uri": "https://localhost:8080/",
          "height": 35
        },
        "outputId": "20bc56fb-d314-4277-a7ab-8b06a2381c47"
      },
      "source": [
        "# cpc CPC(Cost Per Click) = 광고비용/ 클릭수\n",
        "cpc =cost/clk\n",
        "cpc"
      ],
      "execution_count": 6,
      "outputs": [
        {
          "output_type": "execute_result",
          "data": {
            "text/plain": [
              "1000.0"
            ]
          },
          "metadata": {
            "tags": []
          },
          "execution_count": 6
        }
      ]
    },
    {
      "cell_type": "code",
      "metadata": {
        "id": "_uJAt4LQ2bRG",
        "colab_type": "code",
        "colab": {
          "base_uri": "https://localhost:8080/",
          "height": 35
        },
        "outputId": "0f2ce093-85a2-4ec1-891d-4977eb151846"
      },
      "source": [
        "# cpa CPA(Cost Per Action) =광고비용/구매수\n",
        "cpa = cost/conv\n",
        "cpa"
      ],
      "execution_count": 7,
      "outputs": [
        {
          "output_type": "execute_result",
          "data": {
            "text/plain": [
              "10000.0"
            ]
          },
          "metadata": {
            "tags": []
          },
          "execution_count": 7
        }
      ]
    },
    {
      "cell_type": "markdown",
      "metadata": {
        "id": "8T2WWbb93VGN",
        "colab_type": "text"
      },
      "source": [
        "# Matplotlib\n",
        "- 시각화 라이브러리\n",
        "\n",
        "- 데이터 분석과정과 시각화\n",
        "  - 머신러닝의 과정 "
      ]
    },
    {
      "cell_type": "code",
      "metadata": {
        "id": "LvRJyAG83N1E",
        "colab_type": "code",
        "colab": {}
      },
      "source": [
        "import matplotlib.pyplot as plt"
      ],
      "execution_count": 0,
      "outputs": []
    },
    {
      "cell_type": "code",
      "metadata": {
        "id": "3tfBAsuf3sUY",
        "colab_type": "code",
        "colab": {}
      },
      "source": [
        "import pandas as pd\n",
        "from pandas import DataFrame\n",
        "from pandas import Series"
      ],
      "execution_count": 0,
      "outputs": []
    },
    {
      "cell_type": "code",
      "metadata": {
        "id": "LiKCi7Pd32lq",
        "colab_type": "code",
        "colab": {}
      },
      "source": [
        "# matplotlib 한글폰트 출력 코드\n",
        "# 출처 데이터 공방( https:// kiddwannabe.blog.me)\n",
        "\n",
        "import matplotlib\n",
        "from matplotlib import font_manager, rc\n",
        "import platform\n",
        "\n",
        "try:\n",
        "    if platform.system() == 'Windows':\n",
        "        # 윈도우인 경우\n",
        "        font_name = font_manager.FontProperties(fname='C:\\Windows\\Fonts\\gulim.ttc').get_name()\n",
        "        rc('font',family=font_name)\n",
        "    else :\n",
        "        pass\n",
        "except:\n",
        "    pass\n",
        "matplotlib.rcParams['axes.unicode_minus'] = False"
      ],
      "execution_count": 0,
      "outputs": []
    },
    {
      "cell_type": "code",
      "metadata": {
        "id": "y6UdIf4R4fI1",
        "colab_type": "code",
        "colab": {}
      },
      "source": [
        "df = pd.read_excel('/content/네이버보고서.xls', skiprows =[0])"
      ],
      "execution_count": 0,
      "outputs": []
    },
    {
      "cell_type": "code",
      "metadata": {
        "id": "3yE7izir5Kkl",
        "colab_type": "code",
        "colab": {
          "base_uri": "https://localhost:8080/",
          "height": 407
        },
        "outputId": "87123fb2-9da1-4055-a91e-b71c6fdc6359"
      },
      "source": [
        "df"
      ],
      "execution_count": 12,
      "outputs": [
        {
          "output_type": "execute_result",
          "data": {
            "text/html": [
              "<div>\n",
              "<style scoped>\n",
              "    .dataframe tbody tr th:only-of-type {\n",
              "        vertical-align: middle;\n",
              "    }\n",
              "\n",
              "    .dataframe tbody tr th {\n",
              "        vertical-align: top;\n",
              "    }\n",
              "\n",
              "    .dataframe thead th {\n",
              "        text-align: right;\n",
              "    }\n",
              "</style>\n",
              "<table border=\"1\" class=\"dataframe\">\n",
              "  <thead>\n",
              "    <tr style=\"text-align: right;\">\n",
              "      <th></th>\n",
              "      <th>광고그룹</th>\n",
              "      <th>키워드</th>\n",
              "      <th>노출수</th>\n",
              "      <th>클릭수</th>\n",
              "      <th>클릭률(%)</th>\n",
              "      <th>평균클릭비용(VAT포함,원)</th>\n",
              "      <th>총비용(VAT포함,원)</th>\n",
              "    </tr>\n",
              "  </thead>\n",
              "  <tbody>\n",
              "    <tr>\n",
              "      <th>0</th>\n",
              "      <td>올인원 패키지 : 디자인 툴_파워컨텐츠_포토샵</td>\n",
              "      <td>-</td>\n",
              "      <td>2319456</td>\n",
              "      <td>9606.0</td>\n",
              "      <td>0.414149</td>\n",
              "      <td>261.549448</td>\n",
              "      <td>2512444</td>\n",
              "    </tr>\n",
              "    <tr>\n",
              "      <th>1</th>\n",
              "      <td>올인원 패키지 : 업무자동화_VBA</td>\n",
              "      <td>-</td>\n",
              "      <td>767491</td>\n",
              "      <td>8058.0</td>\n",
              "      <td>1.049915</td>\n",
              "      <td>295.974808</td>\n",
              "      <td>2384965</td>\n",
              "    </tr>\n",
              "    <tr>\n",
              "      <th>2</th>\n",
              "      <td>ㅍAOP 전체_중복키워드_디자인(삭제)</td>\n",
              "      <td>일러스트</td>\n",
              "      <td>1137840</td>\n",
              "      <td>324.0</td>\n",
              "      <td>0.028475</td>\n",
              "      <td>4841.663580</td>\n",
              "      <td>1568699</td>\n",
              "    </tr>\n",
              "    <tr>\n",
              "      <th>3</th>\n",
              "      <td>올인원 패키지 : 데이터 분석 입문 온라인_파콘</td>\n",
              "      <td>-</td>\n",
              "      <td>694106</td>\n",
              "      <td>1863.6</td>\n",
              "      <td>0.268489</td>\n",
              "      <td>630.593475</td>\n",
              "      <td>1175174</td>\n",
              "    </tr>\n",
              "    <tr>\n",
              "      <th>4</th>\n",
              "      <td>3. html</td>\n",
              "      <td>HTML</td>\n",
              "      <td>9626374</td>\n",
              "      <td>813.6</td>\n",
              "      <td>0.008452</td>\n",
              "      <td>1408.435349</td>\n",
              "      <td>1145903</td>\n",
              "    </tr>\n",
              "    <tr>\n",
              "      <th>...</th>\n",
              "      <td>...</td>\n",
              "      <td>...</td>\n",
              "      <td>...</td>\n",
              "      <td>...</td>\n",
              "      <td>...</td>\n",
              "      <td>...</td>\n",
              "      <td>...</td>\n",
              "    </tr>\n",
              "    <tr>\n",
              "      <th>1376</th>\n",
              "      <td>올인원 패키지 : 업무자동화_3. 엑셀</td>\n",
              "      <td>엑셀셀서식</td>\n",
              "      <td>24016</td>\n",
              "      <td>0.0</td>\n",
              "      <td>0.000000</td>\n",
              "      <td>0.000000</td>\n",
              "      <td>0</td>\n",
              "    </tr>\n",
              "    <tr>\n",
              "      <th>1377</th>\n",
              "      <td>올인원 패키지 : 업무자동화_3. 엑셀</td>\n",
              "      <td>MATCH</td>\n",
              "      <td>32287</td>\n",
              "      <td>0.0</td>\n",
              "      <td>0.000000</td>\n",
              "      <td>0.000000</td>\n",
              "      <td>0</td>\n",
              "    </tr>\n",
              "    <tr>\n",
              "      <th>1378</th>\n",
              "      <td>마케팅KPI수립</td>\n",
              "      <td>LTV</td>\n",
              "      <td>32602</td>\n",
              "      <td>0.0</td>\n",
              "      <td>0.000000</td>\n",
              "      <td>0.000000</td>\n",
              "      <td>0</td>\n",
              "    </tr>\n",
              "    <tr>\n",
              "      <th>1379</th>\n",
              "      <td>data_camp_rmp_8</td>\n",
              "      <td>DECISION</td>\n",
              "      <td>60844</td>\n",
              "      <td>0.0</td>\n",
              "      <td>0.000000</td>\n",
              "      <td>0.000000</td>\n",
              "      <td>0</td>\n",
              "    </tr>\n",
              "    <tr>\n",
              "      <th>1380</th>\n",
              "      <td>4. 웹의 동작</td>\n",
              "      <td>REST</td>\n",
              "      <td>61193</td>\n",
              "      <td>0.0</td>\n",
              "      <td>0.000000</td>\n",
              "      <td>0.000000</td>\n",
              "      <td>0</td>\n",
              "    </tr>\n",
              "  </tbody>\n",
              "</table>\n",
              "<p>1381 rows × 7 columns</p>\n",
              "</div>"
            ],
            "text/plain": [
              "                            광고그룹       키워드  ...  평균클릭비용(VAT포함,원)  총비용(VAT포함,원)\n",
              "0      올인원 패키지 : 디자인 툴_파워컨텐츠_포토샵         -  ...       261.549448       2512444\n",
              "1            올인원 패키지 : 업무자동화_VBA         -  ...       295.974808       2384965\n",
              "2          ㅍAOP 전체_중복키워드_디자인(삭제)      일러스트  ...      4841.663580       1568699\n",
              "3     올인원 패키지 : 데이터 분석 입문 온라인_파콘         -  ...       630.593475       1175174\n",
              "4                        3. html      HTML  ...      1408.435349       1145903\n",
              "...                          ...       ...  ...              ...           ...\n",
              "1376       올인원 패키지 : 업무자동화_3. 엑셀     엑셀셀서식  ...         0.000000             0\n",
              "1377       올인원 패키지 : 업무자동화_3. 엑셀     MATCH  ...         0.000000             0\n",
              "1378                    마케팅KPI수립       LTV  ...         0.000000             0\n",
              "1379             data_camp_rmp_8  DECISION  ...         0.000000             0\n",
              "1380                    4. 웹의 동작      REST  ...         0.000000             0\n",
              "\n",
              "[1381 rows x 7 columns]"
            ]
          },
          "metadata": {
            "tags": []
          },
          "execution_count": 12
        }
      ]
    },
    {
      "cell_type": "code",
      "metadata": {
        "id": "yDpWp7_o5L2z",
        "colab_type": "code",
        "colab": {
          "base_uri": "https://localhost:8080/",
          "height": 559
        },
        "outputId": "4c2de9ad-8662-44fd-e994-06a5ddfe1548"
      },
      "source": [
        "((((df['노출수'].sort_values())/1000).reset_index()).drop('index',axis=1)).plot(figsize=[13,5])\n",
        "plt.yticks([0,2000,4000,6000,8000,10000],\n",
        "         [0,'2,000,000','4,000,000','6,000,000','8,000,000','10,000,000'])\n",
        "plt.title('노출수 plot',fontsize=20)\n",
        "plt.show()"
      ],
      "execution_count": 16,
      "outputs": [
        {
          "output_type": "stream",
          "text": [
            "/usr/local/lib/python3.6/dist-packages/matplotlib/backends/backend_agg.py:211: RuntimeWarning: Glyph 45432 missing from current font.\n",
            "  font.set_text(s, 0.0, flags=flags)\n",
            "/usr/local/lib/python3.6/dist-packages/matplotlib/backends/backend_agg.py:211: RuntimeWarning: Glyph 52636 missing from current font.\n",
            "  font.set_text(s, 0.0, flags=flags)\n",
            "/usr/local/lib/python3.6/dist-packages/matplotlib/backends/backend_agg.py:211: RuntimeWarning: Glyph 49688 missing from current font.\n",
            "  font.set_text(s, 0.0, flags=flags)\n",
            "/usr/local/lib/python3.6/dist-packages/matplotlib/backends/backend_agg.py:180: RuntimeWarning: Glyph 45432 missing from current font.\n",
            "  font.set_text(s, 0, flags=flags)\n",
            "/usr/local/lib/python3.6/dist-packages/matplotlib/backends/backend_agg.py:180: RuntimeWarning: Glyph 52636 missing from current font.\n",
            "  font.set_text(s, 0, flags=flags)\n",
            "/usr/local/lib/python3.6/dist-packages/matplotlib/backends/backend_agg.py:180: RuntimeWarning: Glyph 49688 missing from current font.\n",
            "  font.set_text(s, 0, flags=flags)\n"
          ],
          "name": "stderr"
        },
        {
          "output_type": "display_data",
          "data": {
            "image/png": "[encoded data removed]",
            "text/plain": [
              "<Figure size 936x360 with 1 Axes>"
            ]
          },
          "metadata": {
            "tags": []
          }
        }
      ]
    },
    {
      "cell_type": "markdown",
      "metadata": {
        "id": "blSeTTiL-Hmt",
        "colab_type": "text"
      },
      "source": [
        "# 데이터 프레임 시각화"
      ]
    },
    {
      "cell_type": "code",
      "metadata": {
        "id": "0WH161rX9rVs",
        "colab_type": "code",
        "colab": {}
      },
      "source": [
        "# 데이터프레임 변수 생성\n"
      ],
      "execution_count": 0,
      "outputs": []
    },
    {
      "cell_type": "code",
      "metadata": {
        "id": "b8JCAQaE9VtE",
        "colab_type": "code",
        "colab": {
          "base_uri": "https://localhost:8080/",
          "height": 163
        },
        "outputId": "a350a0b8-1e24-457e-ce42-8770356dc3c4"
      },
      "source": [
        "df.isnull().sum()"
      ],
      "execution_count": 17,
      "outputs": [
        {
          "output_type": "execute_result",
          "data": {
            "text/plain": [
              "광고그룹               0\n",
              "키워드                0\n",
              "노출수                0\n",
              "클릭수                0\n",
              "클릭률(%)             0\n",
              "평균클릭비용(VAT포함,원)    0\n",
              "총비용(VAT포함,원)       0\n",
              "dtype: int64"
            ]
          },
          "metadata": {
            "tags": []
          },
          "execution_count": 17
        }
      ]
    },
    {
      "cell_type": "code",
      "metadata": {
        "id": "3Xvs-n5FDXi1",
        "colab_type": "code",
        "colab": {
          "base_uri": "https://localhost:8080/",
          "height": 235
        },
        "outputId": "762e2ce0-3fec-49d5-f77e-877f26b56998"
      },
      "source": [
        "df.info()"
      ],
      "execution_count": 26,
      "outputs": [
        {
          "output_type": "stream",
          "text": [
            "<class 'pandas.core.frame.DataFrame'>\n",
            "RangeIndex: 1381 entries, 0 to 1380\n",
            "Data columns (total 7 columns):\n",
            "광고그룹               1381 non-null object\n",
            "키워드                1381 non-null object\n",
            "노출수                1381 non-null int64\n",
            "클릭수                1381 non-null float64\n",
            "클릭률(%)             1381 non-null float64\n",
            "평균클릭비용(VAT포함,원)    1381 non-null float64\n",
            "총비용(VAT포함,원)       1381 non-null int64\n",
            "dtypes: float64(3), int64(2), object(2)\n",
            "memory usage: 75.6+ KB\n"
          ],
          "name": "stdout"
        }
      ]
    },
    {
      "cell_type": "code",
      "metadata": {
        "id": "Jco61lL3Elqp",
        "colab_type": "code",
        "colab": {
          "base_uri": "https://localhost:8080/",
          "height": 198
        },
        "outputId": "54080ef7-6655-4533-a584-d6d7f7d71eb2"
      },
      "source": [
        "df['클릭률(%)'] = df['클릭수']/df['노출수']*100\n",
        "df.head()"
      ],
      "execution_count": 29,
      "outputs": [
        {
          "output_type": "execute_result",
          "data": {
            "text/html": [
              "<div>\n",
              "<style scoped>\n",
              "    .dataframe tbody tr th:only-of-type {\n",
              "        vertical-align: middle;\n",
              "    }\n",
              "\n",
              "    .dataframe tbody tr th {\n",
              "        vertical-align: top;\n",
              "    }\n",
              "\n",
              "    .dataframe thead th {\n",
              "        text-align: right;\n",
              "    }\n",
              "</style>\n",
              "<table border=\"1\" class=\"dataframe\">\n",
              "  <thead>\n",
              "    <tr style=\"text-align: right;\">\n",
              "      <th></th>\n",
              "      <th>광고그룹</th>\n",
              "      <th>키워드</th>\n",
              "      <th>노출수</th>\n",
              "      <th>클릭수</th>\n",
              "      <th>클릭률(%)</th>\n",
              "      <th>평균클릭비용(VAT포함,원)</th>\n",
              "      <th>총비용(VAT포함,원)</th>\n",
              "    </tr>\n",
              "  </thead>\n",
              "  <tbody>\n",
              "    <tr>\n",
              "      <th>0</th>\n",
              "      <td>올인원 패키지 : 디자인 툴_파워컨텐츠_포토샵</td>\n",
              "      <td>-</td>\n",
              "      <td>2319456</td>\n",
              "      <td>9606</td>\n",
              "      <td>0.414149</td>\n",
              "      <td>261.549448</td>\n",
              "      <td>2512444</td>\n",
              "    </tr>\n",
              "    <tr>\n",
              "      <th>1</th>\n",
              "      <td>올인원 패키지 : 업무자동화_VBA</td>\n",
              "      <td>-</td>\n",
              "      <td>767491</td>\n",
              "      <td>8058</td>\n",
              "      <td>1.049915</td>\n",
              "      <td>295.974808</td>\n",
              "      <td>2384965</td>\n",
              "    </tr>\n",
              "    <tr>\n",
              "      <th>2</th>\n",
              "      <td>ㅍAOP 전체_중복키워드_디자인(삭제)</td>\n",
              "      <td>일러스트</td>\n",
              "      <td>1137840</td>\n",
              "      <td>324</td>\n",
              "      <td>0.028475</td>\n",
              "      <td>4841.663580</td>\n",
              "      <td>1568699</td>\n",
              "    </tr>\n",
              "    <tr>\n",
              "      <th>3</th>\n",
              "      <td>올인원 패키지 : 데이터 분석 입문 온라인_파콘</td>\n",
              "      <td>-</td>\n",
              "      <td>694106</td>\n",
              "      <td>1863</td>\n",
              "      <td>0.268403</td>\n",
              "      <td>630.593475</td>\n",
              "      <td>1175174</td>\n",
              "    </tr>\n",
              "    <tr>\n",
              "      <th>4</th>\n",
              "      <td>3. html</td>\n",
              "      <td>HTML</td>\n",
              "      <td>9626374</td>\n",
              "      <td>813</td>\n",
              "      <td>0.008446</td>\n",
              "      <td>1408.435349</td>\n",
              "      <td>1145903</td>\n",
              "    </tr>\n",
              "  </tbody>\n",
              "</table>\n",
              "</div>"
            ],
            "text/plain": [
              "                         광고그룹   키워드  ...  평균클릭비용(VAT포함,원)  총비용(VAT포함,원)\n",
              "0   올인원 패키지 : 디자인 툴_파워컨텐츠_포토샵     -  ...       261.549448       2512444\n",
              "1         올인원 패키지 : 업무자동화_VBA     -  ...       295.974808       2384965\n",
              "2       ㅍAOP 전체_중복키워드_디자인(삭제)  일러스트  ...      4841.663580       1568699\n",
              "3  올인원 패키지 : 데이터 분석 입문 온라인_파콘     -  ...       630.593475       1175174\n",
              "4                     3. html  HTML  ...      1408.435349       1145903\n",
              "\n",
              "[5 rows x 7 columns]"
            ]
          },
          "metadata": {
            "tags": []
          },
          "execution_count": 29
        }
      ]
    },
    {
      "cell_type": "code",
      "metadata": {
        "id": "lZTrWaNvEqgB",
        "colab_type": "code",
        "colab": {
          "base_uri": "https://localhost:8080/",
          "height": 235
        },
        "outputId": "bacf4693-b316-427d-f1f5-7eb67a1b96fc"
      },
      "source": [
        "df.info()"
      ],
      "execution_count": 30,
      "outputs": [
        {
          "output_type": "stream",
          "text": [
            "<class 'pandas.core.frame.DataFrame'>\n",
            "RangeIndex: 1381 entries, 0 to 1380\n",
            "Data columns (total 7 columns):\n",
            "광고그룹               1381 non-null object\n",
            "키워드                1381 non-null object\n",
            "노출수                1381 non-null int64\n",
            "클릭수                1381 non-null int64\n",
            "클릭률(%)             1381 non-null float64\n",
            "평균클릭비용(VAT포함,원)    1381 non-null float64\n",
            "총비용(VAT포함,원)       1381 non-null int64\n",
            "dtypes: float64(2), int64(3), object(2)\n",
            "memory usage: 75.6+ KB\n"
          ],
          "name": "stdout"
        }
      ]
    },
    {
      "cell_type": "code",
      "metadata": {
        "id": "R0l-EUVVFqrp",
        "colab_type": "code",
        "colab": {
          "base_uri": "https://localhost:8080/",
          "height": 198
        },
        "outputId": "925b7fec-be93-42d0-b433-0a70b167d6d5"
      },
      "source": [
        "df['평균클릭비용(VAT포함,원)'] = df['평균클릭비용(VAT포함,원)'].astype(int)\n",
        "df.head()"
      ],
      "execution_count": 31,
      "outputs": [
        {
          "output_type": "execute_result",
          "data": {
            "text/html": [
              "<div>\n",
              "<style scoped>\n",
              "    .dataframe tbody tr th:only-of-type {\n",
              "        vertical-align: middle;\n",
              "    }\n",
              "\n",
              "    .dataframe tbody tr th {\n",
              "        vertical-align: top;\n",
              "    }\n",
              "\n",
              "    .dataframe thead th {\n",
              "        text-align: right;\n",
              "    }\n",
              "</style>\n",
              "<table border=\"1\" class=\"dataframe\">\n",
              "  <thead>\n",
              "    <tr style=\"text-align: right;\">\n",
              "      <th></th>\n",
              "      <th>광고그룹</th>\n",
              "      <th>키워드</th>\n",
              "      <th>노출수</th>\n",
              "      <th>클릭수</th>\n",
              "      <th>클릭률(%)</th>\n",
              "      <th>평균클릭비용(VAT포함,원)</th>\n",
              "      <th>총비용(VAT포함,원)</th>\n",
              "    </tr>\n",
              "  </thead>\n",
              "  <tbody>\n",
              "    <tr>\n",
              "      <th>0</th>\n",
              "      <td>올인원 패키지 : 디자인 툴_파워컨텐츠_포토샵</td>\n",
              "      <td>-</td>\n",
              "      <td>2319456</td>\n",
              "      <td>9606</td>\n",
              "      <td>0.414149</td>\n",
              "      <td>261</td>\n",
              "      <td>2512444</td>\n",
              "    </tr>\n",
              "    <tr>\n",
              "      <th>1</th>\n",
              "      <td>올인원 패키지 : 업무자동화_VBA</td>\n",
              "      <td>-</td>\n",
              "      <td>767491</td>\n",
              "      <td>8058</td>\n",
              "      <td>1.049915</td>\n",
              "      <td>295</td>\n",
              "      <td>2384965</td>\n",
              "    </tr>\n",
              "    <tr>\n",
              "      <th>2</th>\n",
              "      <td>ㅍAOP 전체_중복키워드_디자인(삭제)</td>\n",
              "      <td>일러스트</td>\n",
              "      <td>1137840</td>\n",
              "      <td>324</td>\n",
              "      <td>0.028475</td>\n",
              "      <td>4841</td>\n",
              "      <td>1568699</td>\n",
              "    </tr>\n",
              "    <tr>\n",
              "      <th>3</th>\n",
              "      <td>올인원 패키지 : 데이터 분석 입문 온라인_파콘</td>\n",
              "      <td>-</td>\n",
              "      <td>694106</td>\n",
              "      <td>1863</td>\n",
              "      <td>0.268403</td>\n",
              "      <td>630</td>\n",
              "      <td>1175174</td>\n",
              "    </tr>\n",
              "    <tr>\n",
              "      <th>4</th>\n",
              "      <td>3. html</td>\n",
              "      <td>HTML</td>\n",
              "      <td>9626374</td>\n",
              "      <td>813</td>\n",
              "      <td>0.008446</td>\n",
              "      <td>1408</td>\n",
              "      <td>1145903</td>\n",
              "    </tr>\n",
              "  </tbody>\n",
              "</table>\n",
              "</div>"
            ],
            "text/plain": [
              "                         광고그룹   키워드  ...  평균클릭비용(VAT포함,원)  총비용(VAT포함,원)\n",
              "0   올인원 패키지 : 디자인 툴_파워컨텐츠_포토샵     -  ...              261       2512444\n",
              "1         올인원 패키지 : 업무자동화_VBA     -  ...              295       2384965\n",
              "2       ㅍAOP 전체_중복키워드_디자인(삭제)  일러스트  ...             4841       1568699\n",
              "3  올인원 패키지 : 데이터 분석 입문 온라인_파콘     -  ...              630       1175174\n",
              "4                     3. html  HTML  ...             1408       1145903\n",
              "\n",
              "[5 rows x 7 columns]"
            ]
          },
          "metadata": {
            "tags": []
          },
          "execution_count": 31
        }
      ]
    },
    {
      "cell_type": "code",
      "metadata": {
        "id": "fnj5QCbSGQyo",
        "colab_type": "code",
        "colab": {
          "base_uri": "https://localhost:8080/",
          "height": 407
        },
        "outputId": "1d6c32e4-fbbe-47f8-e87b-2b84d2a9fb5d"
      },
      "source": [
        "df.drop(labels= ['광고그룹','키워드'] ,axis=1)"
      ],
      "execution_count": 37,
      "outputs": [
        {
          "output_type": "execute_result",
          "data": {
            "text/html": [
              "<div>\n",
              "<style scoped>\n",
              "    .dataframe tbody tr th:only-of-type {\n",
              "        vertical-align: middle;\n",
              "    }\n",
              "\n",
              "    .dataframe tbody tr th {\n",
              "        vertical-align: top;\n",
              "    }\n",
              "\n",
              "    .dataframe thead th {\n",
              "        text-align: right;\n",
              "    }\n",
              "</style>\n",
              "<table border=\"1\" class=\"dataframe\">\n",
              "  <thead>\n",
              "    <tr style=\"text-align: right;\">\n",
              "      <th></th>\n",
              "      <th>노출수</th>\n",
              "      <th>클릭수</th>\n",
              "      <th>클릭률(%)</th>\n",
              "      <th>평균클릭비용(VAT포함,원)</th>\n",
              "      <th>총비용(VAT포함,원)</th>\n",
              "    </tr>\n",
              "  </thead>\n",
              "  <tbody>\n",
              "    <tr>\n",
              "      <th>0</th>\n",
              "      <td>2319456</td>\n",
              "      <td>9606</td>\n",
              "      <td>0.414149</td>\n",
              "      <td>261</td>\n",
              "      <td>2512444</td>\n",
              "    </tr>\n",
              "    <tr>\n",
              "      <th>1</th>\n",
              "      <td>767491</td>\n",
              "      <td>8058</td>\n",
              "      <td>1.049915</td>\n",
              "      <td>295</td>\n",
              "      <td>2384965</td>\n",
              "    </tr>\n",
              "    <tr>\n",
              "      <th>2</th>\n",
              "      <td>1137840</td>\n",
              "      <td>324</td>\n",
              "      <td>0.028475</td>\n",
              "      <td>4841</td>\n",
              "      <td>1568699</td>\n",
              "    </tr>\n",
              "    <tr>\n",
              "      <th>3</th>\n",
              "      <td>694106</td>\n",
              "      <td>1863</td>\n",
              "      <td>0.268403</td>\n",
              "      <td>630</td>\n",
              "      <td>1175174</td>\n",
              "    </tr>\n",
              "    <tr>\n",
              "      <th>4</th>\n",
              "      <td>9626374</td>\n",
              "      <td>813</td>\n",
              "      <td>0.008446</td>\n",
              "      <td>1408</td>\n",
              "      <td>1145903</td>\n",
              "    </tr>\n",
              "    <tr>\n",
              "      <th>...</th>\n",
              "      <td>...</td>\n",
              "      <td>...</td>\n",
              "      <td>...</td>\n",
              "      <td>...</td>\n",
              "      <td>...</td>\n",
              "    </tr>\n",
              "    <tr>\n",
              "      <th>1376</th>\n",
              "      <td>24016</td>\n",
              "      <td>0</td>\n",
              "      <td>0.000000</td>\n",
              "      <td>0</td>\n",
              "      <td>0</td>\n",
              "    </tr>\n",
              "    <tr>\n",
              "      <th>1377</th>\n",
              "      <td>32287</td>\n",
              "      <td>0</td>\n",
              "      <td>0.000000</td>\n",
              "      <td>0</td>\n",
              "      <td>0</td>\n",
              "    </tr>\n",
              "    <tr>\n",
              "      <th>1378</th>\n",
              "      <td>32602</td>\n",
              "      <td>0</td>\n",
              "      <td>0.000000</td>\n",
              "      <td>0</td>\n",
              "      <td>0</td>\n",
              "    </tr>\n",
              "    <tr>\n",
              "      <th>1379</th>\n",
              "      <td>60844</td>\n",
              "      <td>0</td>\n",
              "      <td>0.000000</td>\n",
              "      <td>0</td>\n",
              "      <td>0</td>\n",
              "    </tr>\n",
              "    <tr>\n",
              "      <th>1380</th>\n",
              "      <td>61193</td>\n",
              "      <td>0</td>\n",
              "      <td>0.000000</td>\n",
              "      <td>0</td>\n",
              "      <td>0</td>\n",
              "    </tr>\n",
              "  </tbody>\n",
              "</table>\n",
              "<p>1381 rows × 5 columns</p>\n",
              "</div>"
            ],
            "text/plain": [
              "          노출수   클릭수    클릭률(%)  평균클릭비용(VAT포함,원)  총비용(VAT포함,원)\n",
              "0     2319456  9606  0.414149              261       2512444\n",
              "1      767491  8058  1.049915              295       2384965\n",
              "2     1137840   324  0.028475             4841       1568699\n",
              "3      694106  1863  0.268403              630       1175174\n",
              "4     9626374   813  0.008446             1408       1145903\n",
              "...       ...   ...       ...              ...           ...\n",
              "1376    24016     0  0.000000                0             0\n",
              "1377    32287     0  0.000000                0             0\n",
              "1378    32602     0  0.000000                0             0\n",
              "1379    60844     0  0.000000                0             0\n",
              "1380    61193     0  0.000000                0             0\n",
              "\n",
              "[1381 rows x 5 columns]"
            ]
          },
          "metadata": {
            "tags": []
          },
          "execution_count": 37
        }
      ]
    },
    {
      "cell_type": "code",
      "metadata": {
        "id": "pdGNWZbAUCVi",
        "colab_type": "code",
        "colab": {
          "base_uri": "https://localhost:8080/",
          "height": 235
        },
        "outputId": "ffb9d528-6855-436e-ff58-d2fad6a2f2be"
      },
      "source": [
        "df['키워드'].value_counts()"
      ],
      "execution_count": 38,
      "outputs": [
        {
          "output_type": "execute_result",
          "data": {
            "text/plain": [
              "-         8\n",
              "포토샵       5\n",
              "GUI       5\n",
              "구글광고      5\n",
              "마케팅분석     4\n",
              "         ..\n",
              "뉴트론       1\n",
              "웹서버       1\n",
              "RAND함수    1\n",
              "리플렛       1\n",
              "프리미어강좌    1\n",
              "Name: 키워드, Length: 1112, dtype: int64"
            ]
          },
          "metadata": {
            "tags": []
          },
          "execution_count": 38
        }
      ]
    },
    {
      "cell_type": "code",
      "metadata": {
        "id": "NQ_KyC5HU5RJ",
        "colab_type": "code",
        "colab": {
          "base_uri": "https://localhost:8080/",
          "height": 235
        },
        "outputId": "59a88108-4191-47cf-945a-817352c1210e"
      },
      "source": [
        "df['클릭수'].sort_values()"
      ],
      "execution_count": 39,
      "outputs": [
        {
          "output_type": "execute_result",
          "data": {
            "text/plain": [
              "1380       0\n",
              "1159       0\n",
              "1160       0\n",
              "1161       0\n",
              "1162       0\n",
              "        ... \n",
              "26      2535\n",
              "83      2798\n",
              "8       2838\n",
              "1       8058\n",
              "0       9606\n",
              "Name: 클릭수, Length: 1381, dtype: int64"
            ]
          },
          "metadata": {
            "tags": []
          },
          "execution_count": 39
        }
      ]
    },
    {
      "cell_type": "code",
      "metadata": {
        "id": "I6gACfH7Vcbw",
        "colab_type": "code",
        "colab": {}
      },
      "source": [
        "df = pd.read_excel('/content/네이버보고서.xls', skiprows =[0])"
      ],
      "execution_count": 0,
      "outputs": []
    },
    {
      "cell_type": "code",
      "metadata": {
        "id": "6IzCuDcIZDZR",
        "colab_type": "code",
        "colab": {
          "base_uri": "https://localhost:8080/",
          "height": 198
        },
        "outputId": "49e09c77-7556-40c0-b402-ceb9de1cdfe5"
      },
      "source": [
        "df.head()"
      ],
      "execution_count": 41,
      "outputs": [
        {
          "output_type": "execute_result",
          "data": {
            "text/html": [
              "<div>\n",
              "<style scoped>\n",
              "    .dataframe tbody tr th:only-of-type {\n",
              "        vertical-align: middle;\n",
              "    }\n",
              "\n",
              "    .dataframe tbody tr th {\n",
              "        vertical-align: top;\n",
              "    }\n",
              "\n",
              "    .dataframe thead th {\n",
              "        text-align: right;\n",
              "    }\n",
              "</style>\n",
              "<table border=\"1\" class=\"dataframe\">\n",
              "  <thead>\n",
              "    <tr style=\"text-align: right;\">\n",
              "      <th></th>\n",
              "      <th>광고그룹</th>\n",
              "      <th>키워드</th>\n",
              "      <th>노출수</th>\n",
              "      <th>클릭수</th>\n",
              "      <th>클릭률(%)</th>\n",
              "      <th>평균클릭비용(VAT포함,원)</th>\n",
              "      <th>총비용(VAT포함,원)</th>\n",
              "    </tr>\n",
              "  </thead>\n",
              "  <tbody>\n",
              "    <tr>\n",
              "      <th>0</th>\n",
              "      <td>올인원 패키지 : 디자인 툴_파워컨텐츠_포토샵</td>\n",
              "      <td>-</td>\n",
              "      <td>2319456</td>\n",
              "      <td>9606.0</td>\n",
              "      <td>0.414149</td>\n",
              "      <td>261.549448</td>\n",
              "      <td>2512444</td>\n",
              "    </tr>\n",
              "    <tr>\n",
              "      <th>1</th>\n",
              "      <td>올인원 패키지 : 업무자동화_VBA</td>\n",
              "      <td>-</td>\n",
              "      <td>767491</td>\n",
              "      <td>8058.0</td>\n",
              "      <td>1.049915</td>\n",
              "      <td>295.974808</td>\n",
              "      <td>2384965</td>\n",
              "    </tr>\n",
              "    <tr>\n",
              "      <th>2</th>\n",
              "      <td>ㅍAOP 전체_중복키워드_디자인(삭제)</td>\n",
              "      <td>일러스트</td>\n",
              "      <td>1137840</td>\n",
              "      <td>324.0</td>\n",
              "      <td>0.028475</td>\n",
              "      <td>4841.663580</td>\n",
              "      <td>1568699</td>\n",
              "    </tr>\n",
              "    <tr>\n",
              "      <th>3</th>\n",
              "      <td>올인원 패키지 : 데이터 분석 입문 온라인_파콘</td>\n",
              "      <td>-</td>\n",
              "      <td>694106</td>\n",
              "      <td>1863.6</td>\n",
              "      <td>0.268489</td>\n",
              "      <td>630.593475</td>\n",
              "      <td>1175174</td>\n",
              "    </tr>\n",
              "    <tr>\n",
              "      <th>4</th>\n",
              "      <td>3. html</td>\n",
              "      <td>HTML</td>\n",
              "      <td>9626374</td>\n",
              "      <td>813.6</td>\n",
              "      <td>0.008452</td>\n",
              "      <td>1408.435349</td>\n",
              "      <td>1145903</td>\n",
              "    </tr>\n",
              "  </tbody>\n",
              "</table>\n",
              "</div>"
            ],
            "text/plain": [
              "                         광고그룹   키워드  ...  평균클릭비용(VAT포함,원)  총비용(VAT포함,원)\n",
              "0   올인원 패키지 : 디자인 툴_파워컨텐츠_포토샵     -  ...       261.549448       2512444\n",
              "1         올인원 패키지 : 업무자동화_VBA     -  ...       295.974808       2384965\n",
              "2       ㅍAOP 전체_중복키워드_디자인(삭제)  일러스트  ...      4841.663580       1568699\n",
              "3  올인원 패키지 : 데이터 분석 입문 온라인_파콘     -  ...       630.593475       1175174\n",
              "4                     3. html  HTML  ...      1408.435349       1145903\n",
              "\n",
              "[5 rows x 7 columns]"
            ]
          },
          "metadata": {
            "tags": []
          },
          "execution_count": 41
        }
      ]
    },
    {
      "cell_type": "code",
      "metadata": {
        "id": "13q-6Ov6ZFt3",
        "colab_type": "code",
        "colab": {}
      },
      "source": [
        "df_index = df.set_index('키워드')"
      ],
      "execution_count": 0,
      "outputs": []
    },
    {
      "cell_type": "code",
      "metadata": {
        "id": "ew4wwnqnZPXf",
        "colab_type": "code",
        "colab": {
          "base_uri": "https://localhost:8080/",
          "height": 437
        },
        "outputId": "9036a2c9-e38c-4b18-e857-6603d66641a1"
      },
      "source": [
        "df_index"
      ],
      "execution_count": 43,
      "outputs": [
        {
          "output_type": "execute_result",
          "data": {
            "text/html": [
              "<div>\n",
              "<style scoped>\n",
              "    .dataframe tbody tr th:only-of-type {\n",
              "        vertical-align: middle;\n",
              "    }\n",
              "\n",
              "    .dataframe tbody tr th {\n",
              "        vertical-align: top;\n",
              "    }\n",
              "\n",
              "    .dataframe thead th {\n",
              "        text-align: right;\n",
              "    }\n",
              "</style>\n",
              "<table border=\"1\" class=\"dataframe\">\n",
              "  <thead>\n",
              "    <tr style=\"text-align: right;\">\n",
              "      <th></th>\n",
              "      <th>광고그룹</th>\n",
              "      <th>노출수</th>\n",
              "      <th>클릭수</th>\n",
              "      <th>클릭률(%)</th>\n",
              "      <th>평균클릭비용(VAT포함,원)</th>\n",
              "      <th>총비용(VAT포함,원)</th>\n",
              "    </tr>\n",
              "    <tr>\n",
              "      <th>키워드</th>\n",
              "      <th></th>\n",
              "      <th></th>\n",
              "      <th></th>\n",
              "      <th></th>\n",
              "      <th></th>\n",
              "      <th></th>\n",
              "    </tr>\n",
              "  </thead>\n",
              "  <tbody>\n",
              "    <tr>\n",
              "      <th>-</th>\n",
              "      <td>올인원 패키지 : 디자인 툴_파워컨텐츠_포토샵</td>\n",
              "      <td>2319456</td>\n",
              "      <td>9606.0</td>\n",
              "      <td>0.414149</td>\n",
              "      <td>261.549448</td>\n",
              "      <td>2512444</td>\n",
              "    </tr>\n",
              "    <tr>\n",
              "      <th>-</th>\n",
              "      <td>올인원 패키지 : 업무자동화_VBA</td>\n",
              "      <td>767491</td>\n",
              "      <td>8058.0</td>\n",
              "      <td>1.049915</td>\n",
              "      <td>295.974808</td>\n",
              "      <td>2384965</td>\n",
              "    </tr>\n",
              "    <tr>\n",
              "      <th>일러스트</th>\n",
              "      <td>ㅍAOP 전체_중복키워드_디자인(삭제)</td>\n",
              "      <td>1137840</td>\n",
              "      <td>324.0</td>\n",
              "      <td>0.028475</td>\n",
              "      <td>4841.663580</td>\n",
              "      <td>1568699</td>\n",
              "    </tr>\n",
              "    <tr>\n",
              "      <th>-</th>\n",
              "      <td>올인원 패키지 : 데이터 분석 입문 온라인_파콘</td>\n",
              "      <td>694106</td>\n",
              "      <td>1863.6</td>\n",
              "      <td>0.268489</td>\n",
              "      <td>630.593475</td>\n",
              "      <td>1175174</td>\n",
              "    </tr>\n",
              "    <tr>\n",
              "      <th>HTML</th>\n",
              "      <td>3. html</td>\n",
              "      <td>9626374</td>\n",
              "      <td>813.6</td>\n",
              "      <td>0.008452</td>\n",
              "      <td>1408.435349</td>\n",
              "      <td>1145903</td>\n",
              "    </tr>\n",
              "    <tr>\n",
              "      <th>...</th>\n",
              "      <td>...</td>\n",
              "      <td>...</td>\n",
              "      <td>...</td>\n",
              "      <td>...</td>\n",
              "      <td>...</td>\n",
              "      <td>...</td>\n",
              "    </tr>\n",
              "    <tr>\n",
              "      <th>엑셀셀서식</th>\n",
              "      <td>올인원 패키지 : 업무자동화_3. 엑셀</td>\n",
              "      <td>24016</td>\n",
              "      <td>0.0</td>\n",
              "      <td>0.000000</td>\n",
              "      <td>0.000000</td>\n",
              "      <td>0</td>\n",
              "    </tr>\n",
              "    <tr>\n",
              "      <th>MATCH</th>\n",
              "      <td>올인원 패키지 : 업무자동화_3. 엑셀</td>\n",
              "      <td>32287</td>\n",
              "      <td>0.0</td>\n",
              "      <td>0.000000</td>\n",
              "      <td>0.000000</td>\n",
              "      <td>0</td>\n",
              "    </tr>\n",
              "    <tr>\n",
              "      <th>LTV</th>\n",
              "      <td>마케팅KPI수립</td>\n",
              "      <td>32602</td>\n",
              "      <td>0.0</td>\n",
              "      <td>0.000000</td>\n",
              "      <td>0.000000</td>\n",
              "      <td>0</td>\n",
              "    </tr>\n",
              "    <tr>\n",
              "      <th>DECISION</th>\n",
              "      <td>data_camp_rmp_8</td>\n",
              "      <td>60844</td>\n",
              "      <td>0.0</td>\n",
              "      <td>0.000000</td>\n",
              "      <td>0.000000</td>\n",
              "      <td>0</td>\n",
              "    </tr>\n",
              "    <tr>\n",
              "      <th>REST</th>\n",
              "      <td>4. 웹의 동작</td>\n",
              "      <td>61193</td>\n",
              "      <td>0.0</td>\n",
              "      <td>0.000000</td>\n",
              "      <td>0.000000</td>\n",
              "      <td>0</td>\n",
              "    </tr>\n",
              "  </tbody>\n",
              "</table>\n",
              "<p>1381 rows × 6 columns</p>\n",
              "</div>"
            ],
            "text/plain": [
              "                                광고그룹      노출수  ...  평균클릭비용(VAT포함,원)  총비용(VAT포함,원)\n",
              "키워드                                            ...                               \n",
              "-          올인원 패키지 : 디자인 툴_파워컨텐츠_포토샵  2319456  ...       261.549448       2512444\n",
              "-                올인원 패키지 : 업무자동화_VBA   767491  ...       295.974808       2384965\n",
              "일러스트           ㅍAOP 전체_중복키워드_디자인(삭제)  1137840  ...      4841.663580       1568699\n",
              "-         올인원 패키지 : 데이터 분석 입문 온라인_파콘   694106  ...       630.593475       1175174\n",
              "HTML                         3. html  9626374  ...      1408.435349       1145903\n",
              "...                              ...      ...  ...              ...           ...\n",
              "엑셀셀서식          올인원 패키지 : 업무자동화_3. 엑셀    24016  ...         0.000000             0\n",
              "MATCH          올인원 패키지 : 업무자동화_3. 엑셀    32287  ...         0.000000             0\n",
              "LTV                         마케팅KPI수립    32602  ...         0.000000             0\n",
              "DECISION             data_camp_rmp_8    60844  ...         0.000000             0\n",
              "REST                        4. 웹의 동작    61193  ...         0.000000             0\n",
              "\n",
              "[1381 rows x 6 columns]"
            ]
          },
          "metadata": {
            "tags": []
          },
          "execution_count": 43
        }
      ]
    },
    {
      "cell_type": "code",
      "metadata": {
        "id": "tisHv7WvZQfO",
        "colab_type": "code",
        "colab": {
          "base_uri": "https://localhost:8080/",
          "height": 35
        },
        "outputId": "d888b68f-8e59-435a-a5cd-56cd3dfe5e4e"
      },
      "source": [
        "imp=df_index['노출수']\n",
        "imp.shape"
      ],
      "execution_count": 50,
      "outputs": [
        {
          "output_type": "execute_result",
          "data": {
            "text/plain": [
              "(1381,)"
            ]
          },
          "metadata": {
            "tags": []
          },
          "execution_count": 50
        }
      ]
    },
    {
      "cell_type": "code",
      "metadata": {
        "id": "BpCJBtKAZZxW",
        "colab_type": "code",
        "colab": {}
      },
      "source": [
        "clk=df_index['클릭수']"
      ],
      "execution_count": 0,
      "outputs": []
    },
    {
      "cell_type": "code",
      "metadata": {
        "id": "CViUsZ_3ZlWe",
        "colab_type": "code",
        "colab": {
          "base_uri": "https://localhost:8080/",
          "height": 35
        },
        "outputId": "70d197cb-272f-4afe-e66b-20352c50a114"
      },
      "source": [
        "result=df_index[(imp>=imp.quantile(0.95))&(clk>=clk.quantile(0.95))]\n",
        "result.shape"
      ],
      "execution_count": 54,
      "outputs": [
        {
          "output_type": "execute_result",
          "data": {
            "text/plain": [
              "(27, 6)"
            ]
          },
          "metadata": {
            "tags": []
          },
          "execution_count": 54
        }
      ]
    },
    {
      "cell_type": "code",
      "metadata": {
        "id": "_qR4-NRqZ55X",
        "colab_type": "code",
        "colab": {}
      },
      "source": [
        "cost= df_index['총비용(VAT포함,원)']"
      ],
      "execution_count": 0,
      "outputs": []
    },
    {
      "cell_type": "code",
      "metadata": {
        "id": "H6HNjpBZbJiP",
        "colab_type": "code",
        "colab": {
          "base_uri": "https://localhost:8080/",
          "height": 35
        },
        "outputId": "ef9c49c9-994c-468b-9523-9023299d9a7a"
      },
      "source": [
        "result=df_index[(imp < imp.quantile(0.95))&(clk < clk.quantile(0.95))&(cost >= cost.quantile(0.85))&(cost < cost.quantile(0.95))]\n",
        "result.shape"
      ],
      "execution_count": 57,
      "outputs": [
        {
          "output_type": "execute_result",
          "data": {
            "text/plain": [
              "(97, 6)"
            ]
          },
          "metadata": {
            "tags": []
          },
          "execution_count": 57
        }
      ]
    },
    {
      "cell_type": "code",
      "metadata": {
        "id": "Lzd9Thq8bgv9",
        "colab_type": "code",
        "colab": {
          "base_uri": "https://localhost:8080/",
          "height": 290
        },
        "outputId": "424de9f4-2947-4ab7-9375-781e96ee58b5"
      },
      "source": [
        "result.index"
      ],
      "execution_count": 58,
      "outputs": [
        {
          "output_type": "execute_result",
          "data": {
            "text/plain": [
              "Index(['온라인마케팅교육', '온라인마케팅', '어플제작비용', '부동산경매', '퍼포먼스마케팅', '블록체인', 'C++',\n",
              "       '게임만드는프로그램', '엑셀배우기', '앱만들기', '영상제작', '쇼핑몰제작', '에프터이펙트', '어플리케이션제작',\n",
              "       '강남빌딩매매', '웹디자인', '디지털마케팅', '포토샵강의', '구글애널리틱스자격증', 'PYTHON', '페이스북광고',\n",
              "       '유튜브마케팅', '게임제작', '부동산투자', '마케팅전략', 'PYTHON', '홈페이지만들기', 'B2B사이트',\n",
              "       'JAVASCRIPT', '파이썬강좌', '인스타그램광고', '동영상제작', 'SEO', '쇼핑몰창업', '인터넷쇼핑몰',\n",
              "       '게임프로그래밍학원', '프로그래밍', '서울빌딩매매', '데이터사이언스', '모바일게임제작', '엑셀학원',\n",
              "       '유튜브크리에이터', '엑셀VBA', '영상편집학원', '텐서플로우', '쇼핑몰홈페이지제작', '엑셀교육', '그로스해킹',\n",
              "       '게임개발', '광고대행사', '통계학원', '모바일앱개발', '안드로이드앱만들기', '파이썬기초', '하이브리드앱',\n",
              "       '온라인마케팅', '인디자인', '검색엔진최적화', '엑셀실무', '인터넷쇼핑몰제작', '상가빌딩매매', '퍼포먼스마케팅',\n",
              "       '쇼핑몰', 'UX디자인', '유니티강좌', 'VBA', '코딩이란', 'SNS마케팅', 'GA자격증', '콘텐츠제작',\n",
              "       '구글애널리틱스', 'UI디자인', '1인미디어', '포토샵자격증', '하이브리드앱', '포토샵자격증', '브랜드네이밍',\n",
              "       '리플렛디자인', '데이터사이언티스트', '유니티3D', '자바스크립트', '일러스트레이터강좌', '데이터분석준전문가',\n",
              "       '유튜브편집', '모션그래픽', '리플렛디자인', 'SPRING', '어도비일러스트레이터', 'SNS광고', '쇼핑몰촬영',\n",
              "       '브랜드마케팅', '데이터분석', 'PHP', 'UXUI', 'SQL', 'UI디자인', '웹크롤링'],\n",
              "      dtype='object', name='키워드')"
            ]
          },
          "metadata": {
            "tags": []
          },
          "execution_count": 58
        }
      ]
    },
    {
      "cell_type": "markdown",
      "metadata": {
        "id": "qpcbClcIcGsJ",
        "colab_type": "text"
      },
      "source": [
        "# 광고그룹 분석"
      ]
    },
    {
      "cell_type": "code",
      "metadata": {
        "id": "iq-5uBwbbmc-",
        "colab_type": "code",
        "colab": {}
      },
      "source": [
        "grouped =df.groupby('광고그룹')"
      ],
      "execution_count": 0,
      "outputs": []
    },
    {
      "cell_type": "code",
      "metadata": {
        "id": "NNuqC-WlcKge",
        "colab_type": "code",
        "colab": {
          "base_uri": "https://localhost:8080/",
          "height": 437
        },
        "outputId": "5ac1f528-2e16-4dd2-e844-a84b4aff9bbe"
      },
      "source": [
        "grouped.count()"
      ],
      "execution_count": 61,
      "outputs": [
        {
          "output_type": "execute_result",
          "data": {
            "text/html": [
              "<div>\n",
              "<style scoped>\n",
              "    .dataframe tbody tr th:only-of-type {\n",
              "        vertical-align: middle;\n",
              "    }\n",
              "\n",
              "    .dataframe tbody tr th {\n",
              "        vertical-align: top;\n",
              "    }\n",
              "\n",
              "    .dataframe thead th {\n",
              "        text-align: right;\n",
              "    }\n",
              "</style>\n",
              "<table border=\"1\" class=\"dataframe\">\n",
              "  <thead>\n",
              "    <tr style=\"text-align: right;\">\n",
              "      <th></th>\n",
              "      <th>키워드</th>\n",
              "      <th>노출수</th>\n",
              "      <th>클릭수</th>\n",
              "      <th>클릭률(%)</th>\n",
              "      <th>평균클릭비용(VAT포함,원)</th>\n",
              "      <th>총비용(VAT포함,원)</th>\n",
              "    </tr>\n",
              "    <tr>\n",
              "      <th>광고그룹</th>\n",
              "      <th></th>\n",
              "      <th></th>\n",
              "      <th></th>\n",
              "      <th></th>\n",
              "      <th></th>\n",
              "      <th></th>\n",
              "    </tr>\n",
              "  </thead>\n",
              "  <tbody>\n",
              "    <tr>\n",
              "      <th>#000_마케팅 전체_main</th>\n",
              "      <td>48</td>\n",
              "      <td>48</td>\n",
              "      <td>48</td>\n",
              "      <td>48</td>\n",
              "      <td>48</td>\n",
              "      <td>48</td>\n",
              "    </tr>\n",
              "    <tr>\n",
              "      <th>001.BASIC DESIGN</th>\n",
              "      <td>9</td>\n",
              "      <td>9</td>\n",
              "      <td>9</td>\n",
              "      <td>9</td>\n",
              "      <td>9</td>\n",
              "      <td>9</td>\n",
              "    </tr>\n",
              "    <tr>\n",
              "      <th>001.데이터분석/ 통계</th>\n",
              "      <td>10</td>\n",
              "      <td>10</td>\n",
              "      <td>10</td>\n",
              "      <td>10</td>\n",
              "      <td>10</td>\n",
              "      <td>10</td>\n",
              "    </tr>\n",
              "    <tr>\n",
              "      <th>002.R</th>\n",
              "      <td>9</td>\n",
              "      <td>9</td>\n",
              "      <td>9</td>\n",
              "      <td>9</td>\n",
              "      <td>9</td>\n",
              "      <td>9</td>\n",
              "    </tr>\n",
              "    <tr>\n",
              "      <th>002.UX/UI</th>\n",
              "      <td>5</td>\n",
              "      <td>5</td>\n",
              "      <td>5</td>\n",
              "      <td>5</td>\n",
              "      <td>5</td>\n",
              "      <td>5</td>\n",
              "    </tr>\n",
              "    <tr>\n",
              "      <th>...</th>\n",
              "      <td>...</td>\n",
              "      <td>...</td>\n",
              "      <td>...</td>\n",
              "      <td>...</td>\n",
              "      <td>...</td>\n",
              "      <td>...</td>\n",
              "    </tr>\n",
              "    <tr>\n",
              "      <th>포토샵 유치원_일러스트레이터 유치원</th>\n",
              "      <td>13</td>\n",
              "      <td>13</td>\n",
              "      <td>13</td>\n",
              "      <td>13</td>\n",
              "      <td>13</td>\n",
              "      <td>13</td>\n",
              "    </tr>\n",
              "    <tr>\n",
              "      <th>프로그래밍 유치원</th>\n",
              "      <td>8</td>\n",
              "      <td>8</td>\n",
              "      <td>8</td>\n",
              "      <td>8</td>\n",
              "      <td>8</td>\n",
              "      <td>8</td>\n",
              "    </tr>\n",
              "    <tr>\n",
              "      <th>프로그래밍 전체</th>\n",
              "      <td>12</td>\n",
              "      <td>12</td>\n",
              "      <td>12</td>\n",
              "      <td>12</td>\n",
              "      <td>12</td>\n",
              "      <td>12</td>\n",
              "    </tr>\n",
              "    <tr>\n",
              "      <th>프로그래밍 전체_파워컨텐츠_블록체인(삭제)</th>\n",
              "      <td>3</td>\n",
              "      <td>3</td>\n",
              "      <td>3</td>\n",
              "      <td>3</td>\n",
              "      <td>3</td>\n",
              "      <td>3</td>\n",
              "    </tr>\n",
              "    <tr>\n",
              "      <th>프론트엔드 개발 스쿨 12기_기존 키워드</th>\n",
              "      <td>1</td>\n",
              "      <td>1</td>\n",
              "      <td>1</td>\n",
              "      <td>1</td>\n",
              "      <td>1</td>\n",
              "      <td>1</td>\n",
              "    </tr>\n",
              "  </tbody>\n",
              "</table>\n",
              "<p>186 rows × 6 columns</p>\n",
              "</div>"
            ],
            "text/plain": [
              "                         키워드  노출수  클릭수  클릭률(%)  평균클릭비용(VAT포함,원)  총비용(VAT포함,원)\n",
              "광고그룹                                                                         \n",
              "#000_마케팅 전체_main          48   48   48      48               48            48\n",
              "001.BASIC DESIGN           9    9    9       9                9             9\n",
              "001.데이터분석/ 통계             10   10   10      10               10            10\n",
              "002.R                      9    9    9       9                9             9\n",
              "002.UX/UI                  5    5    5       5                5             5\n",
              "...                      ...  ...  ...     ...              ...           ...\n",
              "포토샵 유치원_일러스트레이터 유치원       13   13   13      13               13            13\n",
              "프로그래밍 유치원                  8    8    8       8                8             8\n",
              "프로그래밍 전체                  12   12   12      12               12            12\n",
              "프로그래밍 전체_파워컨텐츠_블록체인(삭제)    3    3    3       3                3             3\n",
              "프론트엔드 개발 스쿨 12기_기존 키워드     1    1    1       1                1             1\n",
              "\n",
              "[186 rows x 6 columns]"
            ]
          },
          "metadata": {
            "tags": []
          },
          "execution_count": 61
        }
      ]
    },
    {
      "cell_type": "code",
      "metadata": {
        "id": "l-a3BKsXcW5G",
        "colab_type": "code",
        "colab": {
          "base_uri": "https://localhost:8080/",
          "height": 437
        },
        "outputId": "f529cc93-da30-4878-87db-6eed20f00cfe"
      },
      "source": [
        "grouped.mean()"
      ],
      "execution_count": 62,
      "outputs": [
        {
          "output_type": "execute_result",
          "data": {
            "text/html": [
              "<div>\n",
              "<style scoped>\n",
              "    .dataframe tbody tr th:only-of-type {\n",
              "        vertical-align: middle;\n",
              "    }\n",
              "\n",
              "    .dataframe tbody tr th {\n",
              "        vertical-align: top;\n",
              "    }\n",
              "\n",
              "    .dataframe thead th {\n",
              "        text-align: right;\n",
              "    }\n",
              "</style>\n",
              "<table border=\"1\" class=\"dataframe\">\n",
              "  <thead>\n",
              "    <tr style=\"text-align: right;\">\n",
              "      <th></th>\n",
              "      <th>노출수</th>\n",
              "      <th>클릭수</th>\n",
              "      <th>클릭률(%)</th>\n",
              "      <th>평균클릭비용(VAT포함,원)</th>\n",
              "      <th>총비용(VAT포함,원)</th>\n",
              "    </tr>\n",
              "    <tr>\n",
              "      <th>광고그룹</th>\n",
              "      <th></th>\n",
              "      <th></th>\n",
              "      <th></th>\n",
              "      <th></th>\n",
              "      <th></th>\n",
              "    </tr>\n",
              "  </thead>\n",
              "  <tbody>\n",
              "    <tr>\n",
              "      <th>#000_마케팅 전체_main</th>\n",
              "      <td>14780.145833</td>\n",
              "      <td>8.400000</td>\n",
              "      <td>0.183898</td>\n",
              "      <td>625.086295</td>\n",
              "      <td>7243.958333</td>\n",
              "    </tr>\n",
              "    <tr>\n",
              "      <th>001.BASIC DESIGN</th>\n",
              "      <td>5738.555556</td>\n",
              "      <td>6.800000</td>\n",
              "      <td>0.232924</td>\n",
              "      <td>298.693822</td>\n",
              "      <td>2427.333333</td>\n",
              "    </tr>\n",
              "    <tr>\n",
              "      <th>001.데이터분석/ 통계</th>\n",
              "      <td>3715.000000</td>\n",
              "      <td>20.280000</td>\n",
              "      <td>0.890571</td>\n",
              "      <td>1021.473357</td>\n",
              "      <td>19575.600000</td>\n",
              "    </tr>\n",
              "    <tr>\n",
              "      <th>002.R</th>\n",
              "      <td>13413.777778</td>\n",
              "      <td>8.533333</td>\n",
              "      <td>0.111199</td>\n",
              "      <td>360.038462</td>\n",
              "      <td>4796.000000</td>\n",
              "    </tr>\n",
              "    <tr>\n",
              "      <th>002.UX/UI</th>\n",
              "      <td>3090.800000</td>\n",
              "      <td>4.080000</td>\n",
              "      <td>0.089340</td>\n",
              "      <td>69.928571</td>\n",
              "      <td>550.000000</td>\n",
              "    </tr>\n",
              "    <tr>\n",
              "      <th>...</th>\n",
              "      <td>...</td>\n",
              "      <td>...</td>\n",
              "      <td>...</td>\n",
              "      <td>...</td>\n",
              "      <td>...</td>\n",
              "    </tr>\n",
              "    <tr>\n",
              "      <th>포토샵 유치원_일러스트레이터 유치원</th>\n",
              "      <td>72092.692308</td>\n",
              "      <td>16.707692</td>\n",
              "      <td>0.050832</td>\n",
              "      <td>648.327517</td>\n",
              "      <td>15781.615385</td>\n",
              "    </tr>\n",
              "    <tr>\n",
              "      <th>프로그래밍 유치원</th>\n",
              "      <td>5921.625000</td>\n",
              "      <td>7.800000</td>\n",
              "      <td>0.224738</td>\n",
              "      <td>2032.326389</td>\n",
              "      <td>23617.000000</td>\n",
              "    </tr>\n",
              "    <tr>\n",
              "      <th>프로그래밍 전체</th>\n",
              "      <td>90375.000000</td>\n",
              "      <td>9.200000</td>\n",
              "      <td>0.024037</td>\n",
              "      <td>123.881559</td>\n",
              "      <td>1626.166667</td>\n",
              "    </tr>\n",
              "    <tr>\n",
              "      <th>프로그래밍 전체_파워컨텐츠_블록체인(삭제)</th>\n",
              "      <td>65353.333333</td>\n",
              "      <td>2344.400000</td>\n",
              "      <td>3.643359</td>\n",
              "      <td>192.773927</td>\n",
              "      <td>431159.666667</td>\n",
              "    </tr>\n",
              "    <tr>\n",
              "      <th>프론트엔드 개발 스쿨 12기_기존 키워드</th>\n",
              "      <td>2015.000000</td>\n",
              "      <td>2.400000</td>\n",
              "      <td>0.119107</td>\n",
              "      <td>64.166667</td>\n",
              "      <td>154.000000</td>\n",
              "    </tr>\n",
              "  </tbody>\n",
              "</table>\n",
              "<p>186 rows × 5 columns</p>\n",
              "</div>"
            ],
            "text/plain": [
              "                                  노출수  ...   총비용(VAT포함,원)\n",
              "광고그룹                                   ...               \n",
              "#000_마케팅 전체_main         14780.145833  ...    7243.958333\n",
              "001.BASIC DESIGN          5738.555556  ...    2427.333333\n",
              "001.데이터분석/ 통계             3715.000000  ...   19575.600000\n",
              "002.R                    13413.777778  ...    4796.000000\n",
              "002.UX/UI                 3090.800000  ...     550.000000\n",
              "...                               ...  ...            ...\n",
              "포토샵 유치원_일러스트레이터 유치원      72092.692308  ...   15781.615385\n",
              "프로그래밍 유치원                 5921.625000  ...   23617.000000\n",
              "프로그래밍 전체                 90375.000000  ...    1626.166667\n",
              "프로그래밍 전체_파워컨텐츠_블록체인(삭제)  65353.333333  ...  431159.666667\n",
              "프론트엔드 개발 스쿨 12기_기존 키워드    2015.000000  ...     154.000000\n",
              "\n",
              "[186 rows x 5 columns]"
            ]
          },
          "metadata": {
            "tags": []
          },
          "execution_count": 62
        }
      ]
    },
    {
      "cell_type": "code",
      "metadata": {
        "id": "gEnFdaUrcjK1",
        "colab_type": "code",
        "colab": {}
      },
      "source": [
        "df_group = grouped.sum()"
      ],
      "execution_count": 0,
      "outputs": []
    },
    {
      "cell_type": "code",
      "metadata": {
        "id": "S_nWUxEDcsri",
        "colab_type": "code",
        "colab": {}
      },
      "source": [
        "df_group['평균클릭비용(VAT포함,원)'] = df_group['총비용(VAT포함,원)']/df_group['클릭수']"
      ],
      "execution_count": 0,
      "outputs": []
    },
    {
      "cell_type": "code",
      "metadata": {
        "id": "u3Fk_6HCdWl9",
        "colab_type": "code",
        "colab": {
          "base_uri": "https://localhost:8080/",
          "height": 228
        },
        "outputId": "bf3f81c1-f93f-4761-f032-4cf12665598b"
      },
      "source": [
        "df_group[df_group['클릭수'] == 0]"
      ],
      "execution_count": 66,
      "outputs": [
        {
          "output_type": "execute_result",
          "data": {
            "text/html": [
              "<div>\n",
              "<style scoped>\n",
              "    .dataframe tbody tr th:only-of-type {\n",
              "        vertical-align: middle;\n",
              "    }\n",
              "\n",
              "    .dataframe tbody tr th {\n",
              "        vertical-align: top;\n",
              "    }\n",
              "\n",
              "    .dataframe thead th {\n",
              "        text-align: right;\n",
              "    }\n",
              "</style>\n",
              "<table border=\"1\" class=\"dataframe\">\n",
              "  <thead>\n",
              "    <tr style=\"text-align: right;\">\n",
              "      <th></th>\n",
              "      <th>노출수</th>\n",
              "      <th>클릭수</th>\n",
              "      <th>클릭률(%)</th>\n",
              "      <th>평균클릭비용(VAT포함,원)</th>\n",
              "      <th>총비용(VAT포함,원)</th>\n",
              "    </tr>\n",
              "    <tr>\n",
              "      <th>광고그룹</th>\n",
              "      <th></th>\n",
              "      <th></th>\n",
              "      <th></th>\n",
              "      <th></th>\n",
              "      <th></th>\n",
              "    </tr>\n",
              "  </thead>\n",
              "  <tbody>\n",
              "    <tr>\n",
              "      <th>Hyperledger Fabric 프로젝트 CAMP</th>\n",
              "      <td>1990</td>\n",
              "      <td>0.0</td>\n",
              "      <td>0.0</td>\n",
              "      <td>NaN</td>\n",
              "      <td>0</td>\n",
              "    </tr>\n",
              "    <tr>\n",
              "      <th>fin_camp_business_4</th>\n",
              "      <td>2136</td>\n",
              "      <td>0.0</td>\n",
              "      <td>0.0</td>\n",
              "      <td>NaN</td>\n",
              "      <td>0</td>\n",
              "    </tr>\n",
              "    <tr>\n",
              "      <th>fin_camp_rfs_9</th>\n",
              "      <td>1928</td>\n",
              "      <td>0.0</td>\n",
              "      <td>0.0</td>\n",
              "      <td>NaN</td>\n",
              "      <td>0</td>\n",
              "    </tr>\n",
              "    <tr>\n",
              "      <th>다함께 DDD 프로젝트</th>\n",
              "      <td>3689</td>\n",
              "      <td>0.0</td>\n",
              "      <td>0.0</td>\n",
              "      <td>NaN</td>\n",
              "      <td>0</td>\n",
              "    </tr>\n",
              "    <tr>\n",
              "      <th>올인원 패키지 : 디지털 마케팅_인스타광고</th>\n",
              "      <td>1377</td>\n",
              "      <td>0.0</td>\n",
              "      <td>0.0</td>\n",
              "      <td>NaN</td>\n",
              "      <td>0</td>\n",
              "    </tr>\n",
              "  </tbody>\n",
              "</table>\n",
              "</div>"
            ],
            "text/plain": [
              "                               노출수  클릭수  클릭률(%)  평균클릭비용(VAT포함,원)  총비용(VAT포함,원)\n",
              "광고그룹                                                                          \n",
              "Hyperledger Fabric 프로젝트 CAMP  1990  0.0     0.0              NaN             0\n",
              "fin_camp_business_4           2136  0.0     0.0              NaN             0\n",
              "fin_camp_rfs_9                1928  0.0     0.0              NaN             0\n",
              "다함께 DDD 프로젝트                  3689  0.0     0.0              NaN             0\n",
              "올인원 패키지 : 디지털 마케팅_인스타광고       1377  0.0     0.0              NaN             0"
            ]
          },
          "metadata": {
            "tags": []
          },
          "execution_count": 66
        }
      ]
    },
    {
      "cell_type": "code",
      "metadata": {
        "id": "bYIrLD3kdl8d",
        "colab_type": "code",
        "colab": {}
      },
      "source": [
        "df_group['평균클릭비용(VAT포함,원)'] = df_group['평균클릭비용(VAT포함,원)'].isnull()"
      ],
      "execution_count": 0,
      "outputs": []
    },
    {
      "cell_type": "code",
      "metadata": {
        "id": "Oterk0gWd1lQ",
        "colab_type": "code",
        "colab": {
          "base_uri": "https://localhost:8080/",
          "height": 228
        },
        "outputId": "e51bdff7-2d6d-4f4a-a076-024e34cd9d0e"
      },
      "source": [
        "df_group[df_group['클릭수'] == 0]"
      ],
      "execution_count": 73,
      "outputs": [
        {
          "output_type": "execute_result",
          "data": {
            "text/html": [
              "<div>\n",
              "<style scoped>\n",
              "    .dataframe tbody tr th:only-of-type {\n",
              "        vertical-align: middle;\n",
              "    }\n",
              "\n",
              "    .dataframe tbody tr th {\n",
              "        vertical-align: top;\n",
              "    }\n",
              "\n",
              "    .dataframe thead th {\n",
              "        text-align: right;\n",
              "    }\n",
              "</style>\n",
              "<table border=\"1\" class=\"dataframe\">\n",
              "  <thead>\n",
              "    <tr style=\"text-align: right;\">\n",
              "      <th></th>\n",
              "      <th>노출수</th>\n",
              "      <th>클릭수</th>\n",
              "      <th>클릭률(%)</th>\n",
              "      <th>평균클릭비용(VAT포함,원)</th>\n",
              "      <th>총비용(VAT포함,원)</th>\n",
              "    </tr>\n",
              "    <tr>\n",
              "      <th>광고그룹</th>\n",
              "      <th></th>\n",
              "      <th></th>\n",
              "      <th></th>\n",
              "      <th></th>\n",
              "      <th></th>\n",
              "    </tr>\n",
              "  </thead>\n",
              "  <tbody>\n",
              "    <tr>\n",
              "      <th>Hyperledger Fabric 프로젝트 CAMP</th>\n",
              "      <td>1990</td>\n",
              "      <td>0.0</td>\n",
              "      <td>0.0</td>\n",
              "      <td>False</td>\n",
              "      <td>0</td>\n",
              "    </tr>\n",
              "    <tr>\n",
              "      <th>fin_camp_business_4</th>\n",
              "      <td>2136</td>\n",
              "      <td>0.0</td>\n",
              "      <td>0.0</td>\n",
              "      <td>False</td>\n",
              "      <td>0</td>\n",
              "    </tr>\n",
              "    <tr>\n",
              "      <th>fin_camp_rfs_9</th>\n",
              "      <td>1928</td>\n",
              "      <td>0.0</td>\n",
              "      <td>0.0</td>\n",
              "      <td>False</td>\n",
              "      <td>0</td>\n",
              "    </tr>\n",
              "    <tr>\n",
              "      <th>다함께 DDD 프로젝트</th>\n",
              "      <td>3689</td>\n",
              "      <td>0.0</td>\n",
              "      <td>0.0</td>\n",
              "      <td>False</td>\n",
              "      <td>0</td>\n",
              "    </tr>\n",
              "    <tr>\n",
              "      <th>올인원 패키지 : 디지털 마케팅_인스타광고</th>\n",
              "      <td>1377</td>\n",
              "      <td>0.0</td>\n",
              "      <td>0.0</td>\n",
              "      <td>False</td>\n",
              "      <td>0</td>\n",
              "    </tr>\n",
              "  </tbody>\n",
              "</table>\n",
              "</div>"
            ],
            "text/plain": [
              "                               노출수  클릭수  클릭률(%)  평균클릭비용(VAT포함,원)  총비용(VAT포함,원)\n",
              "광고그룹                                                                          \n",
              "Hyperledger Fabric 프로젝트 CAMP  1990  0.0     0.0            False             0\n",
              "fin_camp_business_4           2136  0.0     0.0            False             0\n",
              "fin_camp_rfs_9                1928  0.0     0.0            False             0\n",
              "다함께 DDD 프로젝트                  3689  0.0     0.0            False             0\n",
              "올인원 패키지 : 디지털 마케팅_인스타광고       1377  0.0     0.0            False             0"
            ]
          },
          "metadata": {
            "tags": []
          },
          "execution_count": 73
        }
      ]
    },
    {
      "cell_type": "code",
      "metadata": {
        "id": "YAfp8-GSd5b1",
        "colab_type": "code",
        "colab": {}
      },
      "source": [
        "df_group['평균클릭비용(VAT포함,원)'] = round(df_group['평균클릭비용(VAT포함,원)'],0 )\n",
        "df_group['평균클릭비용(VAT포함,원)'] = df_group['평균클릭비용(VAT포함,원)'].astype(int) "
      ],
      "execution_count": 0,
      "outputs": []
    },
    {
      "cell_type": "code",
      "metadata": {
        "id": "50X6Urh1eGft",
        "colab_type": "code",
        "colab": {
          "base_uri": "https://localhost:8080/",
          "height": 198
        },
        "outputId": "162624f4-b13a-48c5-83fa-3f1a3fb89424"
      },
      "source": [
        "df = pd.read_excel('/content/네이버보고서.xls', skiprows =[0])\n",
        "df.head()"
      ],
      "execution_count": 77,
      "outputs": [
        {
          "output_type": "execute_result",
          "data": {
            "text/html": [
              "<div>\n",
              "<style scoped>\n",
              "    .dataframe tbody tr th:only-of-type {\n",
              "        vertical-align: middle;\n",
              "    }\n",
              "\n",
              "    .dataframe tbody tr th {\n",
              "        vertical-align: top;\n",
              "    }\n",
              "\n",
              "    .dataframe thead th {\n",
              "        text-align: right;\n",
              "    }\n",
              "</style>\n",
              "<table border=\"1\" class=\"dataframe\">\n",
              "  <thead>\n",
              "    <tr style=\"text-align: right;\">\n",
              "      <th></th>\n",
              "      <th>광고그룹</th>\n",
              "      <th>키워드</th>\n",
              "      <th>노출수</th>\n",
              "      <th>클릭수</th>\n",
              "      <th>클릭률(%)</th>\n",
              "      <th>평균클릭비용(VAT포함,원)</th>\n",
              "      <th>총비용(VAT포함,원)</th>\n",
              "    </tr>\n",
              "  </thead>\n",
              "  <tbody>\n",
              "    <tr>\n",
              "      <th>0</th>\n",
              "      <td>올인원 패키지 : 디자인 툴_파워컨텐츠_포토샵</td>\n",
              "      <td>-</td>\n",
              "      <td>2319456</td>\n",
              "      <td>9606.0</td>\n",
              "      <td>0.414149</td>\n",
              "      <td>261.549448</td>\n",
              "      <td>2512444</td>\n",
              "    </tr>\n",
              "    <tr>\n",
              "      <th>1</th>\n",
              "      <td>올인원 패키지 : 업무자동화_VBA</td>\n",
              "      <td>-</td>\n",
              "      <td>767491</td>\n",
              "      <td>8058.0</td>\n",
              "      <td>1.049915</td>\n",
              "      <td>295.974808</td>\n",
              "      <td>2384965</td>\n",
              "    </tr>\n",
              "    <tr>\n",
              "      <th>2</th>\n",
              "      <td>ㅍAOP 전체_중복키워드_디자인(삭제)</td>\n",
              "      <td>일러스트</td>\n",
              "      <td>1137840</td>\n",
              "      <td>324.0</td>\n",
              "      <td>0.028475</td>\n",
              "      <td>4841.663580</td>\n",
              "      <td>1568699</td>\n",
              "    </tr>\n",
              "    <tr>\n",
              "      <th>3</th>\n",
              "      <td>올인원 패키지 : 데이터 분석 입문 온라인_파콘</td>\n",
              "      <td>-</td>\n",
              "      <td>694106</td>\n",
              "      <td>1863.6</td>\n",
              "      <td>0.268489</td>\n",
              "      <td>630.593475</td>\n",
              "      <td>1175174</td>\n",
              "    </tr>\n",
              "    <tr>\n",
              "      <th>4</th>\n",
              "      <td>3. html</td>\n",
              "      <td>HTML</td>\n",
              "      <td>9626374</td>\n",
              "      <td>813.6</td>\n",
              "      <td>0.008452</td>\n",
              "      <td>1408.435349</td>\n",
              "      <td>1145903</td>\n",
              "    </tr>\n",
              "  </tbody>\n",
              "</table>\n",
              "</div>"
            ],
            "text/plain": [
              "                         광고그룹   키워드  ...  평균클릭비용(VAT포함,원)  총비용(VAT포함,원)\n",
              "0   올인원 패키지 : 디자인 툴_파워컨텐츠_포토샵     -  ...       261.549448       2512444\n",
              "1         올인원 패키지 : 업무자동화_VBA     -  ...       295.974808       2384965\n",
              "2       ㅍAOP 전체_중복키워드_디자인(삭제)  일러스트  ...      4841.663580       1568699\n",
              "3  올인원 패키지 : 데이터 분석 입문 온라인_파콘     -  ...       630.593475       1175174\n",
              "4                     3. html  HTML  ...      1408.435349       1145903\n",
              "\n",
              "[5 rows x 7 columns]"
            ]
          },
          "metadata": {
            "tags": []
          },
          "execution_count": 77
        }
      ]
    },
    {
      "cell_type": "code",
      "metadata": {
        "id": "4ACTj8TDz5u-",
        "colab_type": "code",
        "colab": {
          "base_uri": "https://localhost:8080/",
          "height": 407
        },
        "outputId": "94b77e4f-bb31-4895-9d47-662e1b63ed40"
      },
      "source": [
        "df['총비용']= df['총비용(VAT포함,원)']\n",
        "df"
      ],
      "execution_count": 103,
      "outputs": [
        {
          "output_type": "execute_result",
          "data": {
            "text/html": [
              "<div>\n",
              "<style scoped>\n",
              "    .dataframe tbody tr th:only-of-type {\n",
              "        vertical-align: middle;\n",
              "    }\n",
              "\n",
              "    .dataframe tbody tr th {\n",
              "        vertical-align: top;\n",
              "    }\n",
              "\n",
              "    .dataframe thead th {\n",
              "        text-align: right;\n",
              "    }\n",
              "</style>\n",
              "<table border=\"1\" class=\"dataframe\">\n",
              "  <thead>\n",
              "    <tr style=\"text-align: right;\">\n",
              "      <th></th>\n",
              "      <th>광고그룹</th>\n",
              "      <th>키워드</th>\n",
              "      <th>노출수</th>\n",
              "      <th>클릭수</th>\n",
              "      <th>클릭률(%)</th>\n",
              "      <th>평균클릭비용(VAT포함,원)</th>\n",
              "      <th>총비용(VAT포함,원)</th>\n",
              "      <th>총비용</th>\n",
              "    </tr>\n",
              "  </thead>\n",
              "  <tbody>\n",
              "    <tr>\n",
              "      <th>0</th>\n",
              "      <td>올인원 패키지 : 디자인 툴_파워컨텐츠_포토샵</td>\n",
              "      <td>-</td>\n",
              "      <td>2319456</td>\n",
              "      <td>9606.0</td>\n",
              "      <td>0.414149</td>\n",
              "      <td>261.549448</td>\n",
              "      <td>2512444</td>\n",
              "      <td>2512444</td>\n",
              "    </tr>\n",
              "    <tr>\n",
              "      <th>1</th>\n",
              "      <td>올인원 패키지 : 업무자동화_VBA</td>\n",
              "      <td>-</td>\n",
              "      <td>767491</td>\n",
              "      <td>8058.0</td>\n",
              "      <td>1.049915</td>\n",
              "      <td>295.974808</td>\n",
              "      <td>2384965</td>\n",
              "      <td>2384965</td>\n",
              "    </tr>\n",
              "    <tr>\n",
              "      <th>2</th>\n",
              "      <td>ㅍAOP 전체_중복키워드_디자인(삭제)</td>\n",
              "      <td>일러스트</td>\n",
              "      <td>1137840</td>\n",
              "      <td>324.0</td>\n",
              "      <td>0.028475</td>\n",
              "      <td>4841.663580</td>\n",
              "      <td>1568699</td>\n",
              "      <td>1568699</td>\n",
              "    </tr>\n",
              "    <tr>\n",
              "      <th>3</th>\n",
              "      <td>올인원 패키지 : 데이터 분석 입문 온라인_파콘</td>\n",
              "      <td>-</td>\n",
              "      <td>694106</td>\n",
              "      <td>1863.6</td>\n",
              "      <td>0.268489</td>\n",
              "      <td>630.593475</td>\n",
              "      <td>1175174</td>\n",
              "      <td>1175174</td>\n",
              "    </tr>\n",
              "    <tr>\n",
              "      <th>4</th>\n",
              "      <td>3. html</td>\n",
              "      <td>HTML</td>\n",
              "      <td>9626374</td>\n",
              "      <td>813.6</td>\n",
              "      <td>0.008452</td>\n",
              "      <td>1408.435349</td>\n",
              "      <td>1145903</td>\n",
              "      <td>1145903</td>\n",
              "    </tr>\n",
              "    <tr>\n",
              "      <th>...</th>\n",
              "      <td>...</td>\n",
              "      <td>...</td>\n",
              "      <td>...</td>\n",
              "      <td>...</td>\n",
              "      <td>...</td>\n",
              "      <td>...</td>\n",
              "      <td>...</td>\n",
              "      <td>...</td>\n",
              "    </tr>\n",
              "    <tr>\n",
              "      <th>1376</th>\n",
              "      <td>올인원 패키지 : 업무자동화_3. 엑셀</td>\n",
              "      <td>엑셀셀서식</td>\n",
              "      <td>24016</td>\n",
              "      <td>0.0</td>\n",
              "      <td>0.000000</td>\n",
              "      <td>0.000000</td>\n",
              "      <td>0</td>\n",
              "      <td>0</td>\n",
              "    </tr>\n",
              "    <tr>\n",
              "      <th>1377</th>\n",
              "      <td>올인원 패키지 : 업무자동화_3. 엑셀</td>\n",
              "      <td>MATCH</td>\n",
              "      <td>32287</td>\n",
              "      <td>0.0</td>\n",
              "      <td>0.000000</td>\n",
              "      <td>0.000000</td>\n",
              "      <td>0</td>\n",
              "      <td>0</td>\n",
              "    </tr>\n",
              "    <tr>\n",
              "      <th>1378</th>\n",
              "      <td>마케팅KPI수립</td>\n",
              "      <td>LTV</td>\n",
              "      <td>32602</td>\n",
              "      <td>0.0</td>\n",
              "      <td>0.000000</td>\n",
              "      <td>0.000000</td>\n",
              "      <td>0</td>\n",
              "      <td>0</td>\n",
              "    </tr>\n",
              "    <tr>\n",
              "      <th>1379</th>\n",
              "      <td>data_camp_rmp_8</td>\n",
              "      <td>DECISION</td>\n",
              "      <td>60844</td>\n",
              "      <td>0.0</td>\n",
              "      <td>0.000000</td>\n",
              "      <td>0.000000</td>\n",
              "      <td>0</td>\n",
              "      <td>0</td>\n",
              "    </tr>\n",
              "    <tr>\n",
              "      <th>1380</th>\n",
              "      <td>4. 웹의 동작</td>\n",
              "      <td>REST</td>\n",
              "      <td>61193</td>\n",
              "      <td>0.0</td>\n",
              "      <td>0.000000</td>\n",
              "      <td>0.000000</td>\n",
              "      <td>0</td>\n",
              "      <td>0</td>\n",
              "    </tr>\n",
              "  </tbody>\n",
              "</table>\n",
              "<p>1381 rows × 8 columns</p>\n",
              "</div>"
            ],
            "text/plain": [
              "                            광고그룹       키워드  ...  총비용(VAT포함,원)      총비용\n",
              "0      올인원 패키지 : 디자인 툴_파워컨텐츠_포토샵         -  ...       2512444  2512444\n",
              "1            올인원 패키지 : 업무자동화_VBA         -  ...       2384965  2384965\n",
              "2          ㅍAOP 전체_중복키워드_디자인(삭제)      일러스트  ...       1568699  1568699\n",
              "3     올인원 패키지 : 데이터 분석 입문 온라인_파콘         -  ...       1175174  1175174\n",
              "4                        3. html      HTML  ...       1145903  1145903\n",
              "...                          ...       ...  ...           ...      ...\n",
              "1376       올인원 패키지 : 업무자동화_3. 엑셀     엑셀셀서식  ...             0        0\n",
              "1377       올인원 패키지 : 업무자동화_3. 엑셀     MATCH  ...             0        0\n",
              "1378                    마케팅KPI수립       LTV  ...             0        0\n",
              "1379             data_camp_rmp_8  DECISION  ...             0        0\n",
              "1380                    4. 웹의 동작      REST  ...             0        0\n",
              "\n",
              "[1381 rows x 8 columns]"
            ]
          },
          "metadata": {
            "tags": []
          },
          "execution_count": 103
        }
      ]
    },
    {
      "cell_type": "code",
      "metadata": {
        "id": "2n4eTMAkl0xd",
        "colab_type": "code",
        "colab": {
          "base_uri": "https://localhost:8080/",
          "height": 126
        },
        "outputId": "a4337c0e-e067-42b1-99d6-48548e32ef00"
      },
      "source": [
        "df1['클릭수']=df['클릭수'].sort_values(ascending=False)\n",
        "df1.head()"
      ],
      "execution_count": 84,
      "outputs": [
        {
          "output_type": "execute_result",
          "data": {
            "text/plain": [
              "0       9606\n",
              "1       8058\n",
              "8       2838\n",
              "83    2798.4\n",
              "26    2535.6\n",
              "Name: 클릭수, dtype: object"
            ]
          },
          "metadata": {
            "tags": []
          },
          "execution_count": 84
        }
      ]
    },
    {
      "cell_type": "code",
      "metadata": {
        "id": "Pbx9YuA5zBTU",
        "colab_type": "code",
        "colab": {
          "base_uri": "https://localhost:8080/",
          "height": 72
        },
        "outputId": "37ee36a0-8559-4d2e-edd6-06a6e92bff8c"
      },
      "source": [
        "df.columns"
      ],
      "execution_count": 104,
      "outputs": [
        {
          "output_type": "execute_result",
          "data": {
            "text/plain": [
              "Index(['광고그룹', '키워드', '노출수', '클릭수', '클릭률(%)', '평균클릭비용(VAT포함,원)',\n",
              "       '총비용(VAT포함,원)', '총비용'],\n",
              "      dtype='object')"
            ]
          },
          "metadata": {
            "tags": []
          },
          "execution_count": 104
        }
      ]
    },
    {
      "cell_type": "code",
      "metadata": {
        "id": "3S_0S6kymG4U",
        "colab_type": "code",
        "colab": {}
      },
      "source": [
        "df1['평균클릭비용(VAT포함,원)']=df['평균클릭비용(VAT포함,원)'].sort_values(ascending=False)"
      ],
      "execution_count": 0,
      "outputs": []
    },
    {
      "cell_type": "code",
      "metadata": {
        "id": "GxmIRlrDmb-r",
        "colab_type": "code",
        "colab": {}
      },
      "source": [
        "import statsmodels.api as sm"
      ],
      "execution_count": 0,
      "outputs": []
    },
    {
      "cell_type": "code",
      "metadata": {
        "id": "9oZfEH-x0kzW",
        "colab_type": "code",
        "colab": {
          "base_uri": "https://localhost:8080/",
          "height": 136
        },
        "outputId": "6d7410a8-1616-4fa3-d6d3-37215b510a5a"
      },
      "source": [
        "result = sm.ols(formula = df['총비용'] ~ df['노출수'] + df['클릭수'], data = df).fit()\n",
        "result.summary()"
      ],
      "execution_count": 115,
      "outputs": [
        {
          "output_type": "error",
          "ename": "SyntaxError",
          "evalue": "ignored",
          "traceback": [
            "\u001b[0;36m  File \u001b[0;32m\"<ipython-input-115-6f329987d8e8>\"\u001b[0;36m, line \u001b[0;32m1\u001b[0m\n\u001b[0;31m    result = sm.ols(formula = df['총비용'] ~ df['노출수'] + df['클릭수'], data = df).fit()\u001b[0m\n\u001b[0m                                        ^\u001b[0m\n\u001b[0;31mSyntaxError\u001b[0m\u001b[0;31m:\u001b[0m invalid syntax\n"
          ]
        }
      ]
    },
    {
      "cell_type": "code",
      "metadata": {
        "id": "3OrGjkmlm1dr",
        "colab_type": "code",
        "colab": {
          "base_uri": "https://localhost:8080/",
          "height": 499
        },
        "outputId": "74a0fd6e-402f-4b7c-ca63-acdacebcfc3b"
      },
      "source": [
        "result = sm.OLS.from_formula(\"df['총비용']~ df['노출수'] + df['클릭수']\", df).fit()\n",
        "result.summary()"
      ],
      "execution_count": 118,
      "outputs": [
        {
          "output_type": "execute_result",
          "data": {
            "text/html": [
              "<table class=\"simpletable\">\n",
              "<caption>OLS Regression Results</caption>\n",
              "<tr>\n",
              "  <th>Dep. Variable:</th>        <td>df['총비용']</td>    <th>  R-squared:         </th> <td>   0.646</td> \n",
              "</tr>\n",
              "<tr>\n",
              "  <th>Model:</th>                   <td>OLS</td>       <th>  Adj. R-squared:    </th> <td>   0.645</td> \n",
              "</tr>\n",
              "<tr>\n",
              "  <th>Method:</th>             <td>Least Squares</td>  <th>  F-statistic:       </th> <td>   1255.</td> \n",
              "</tr>\n",
              "<tr>\n",
              "  <th>Date:</th>             <td>Mon, 24 Feb 2020</td> <th>  Prob (F-statistic):</th> <td>4.05e-311</td>\n",
              "</tr>\n",
              "<tr>\n",
              "  <th>Time:</th>                 <td>06:27:00</td>     <th>  Log-Likelihood:    </th> <td> -17628.</td> \n",
              "</tr>\n",
              "<tr>\n",
              "  <th>No. Observations:</th>      <td>  1381</td>      <th>  AIC:               </th> <td>3.526e+04</td>\n",
              "</tr>\n",
              "<tr>\n",
              "  <th>Df Residuals:</th>          <td>  1378</td>      <th>  BIC:               </th> <td>3.528e+04</td>\n",
              "</tr>\n",
              "<tr>\n",
              "  <th>Df Model:</th>              <td>     2</td>      <th>                     </th>     <td> </td>    \n",
              "</tr>\n",
              "<tr>\n",
              "  <th>Covariance Type:</th>      <td>nonrobust</td>    <th>                     </th>     <td> </td>    \n",
              "</tr>\n",
              "</table>\n",
              "<table class=\"simpletable\">\n",
              "<tr>\n",
              "      <td></td>         <th>coef</th>     <th>std err</th>      <th>t</th>      <th>P>|t|</th>  <th>[0.025</th>    <th>0.975]</th>  \n",
              "</tr>\n",
              "<tr>\n",
              "  <th>Intercept</th> <td> 2.021e+04</td> <td> 2308.012</td> <td>    8.755</td> <td> 0.000</td> <td> 1.57e+04</td> <td> 2.47e+04</td>\n",
              "</tr>\n",
              "<tr>\n",
              "  <th>df['노출수']</th> <td>    0.1197</td> <td>    0.008</td> <td>   15.028</td> <td> 0.000</td> <td>    0.104</td> <td>    0.135</td>\n",
              "</tr>\n",
              "<tr>\n",
              "  <th>df['클릭수']</th> <td>  257.2959</td> <td>    6.094</td> <td>   42.223</td> <td> 0.000</td> <td>  245.342</td> <td>  269.250</td>\n",
              "</tr>\n",
              "</table>\n",
              "<table class=\"simpletable\">\n",
              "<tr>\n",
              "  <th>Omnibus:</th>       <td>1677.364</td> <th>  Durbin-Watson:     </th>  <td>   0.894</td> \n",
              "</tr>\n",
              "<tr>\n",
              "  <th>Prob(Omnibus):</th>  <td> 0.000</td>  <th>  Jarque-Bera (JB):  </th> <td>282292.597</td>\n",
              "</tr>\n",
              "<tr>\n",
              "  <th>Skew:</th>           <td> 6.136</td>  <th>  Prob(JB):          </th>  <td>    0.00</td> \n",
              "</tr>\n",
              "<tr>\n",
              "  <th>Kurtosis:</th>       <td>71.959</td>  <th>  Cond. No.          </th>  <td>3.02e+05</td> \n",
              "</tr>\n",
              "</table><br/><br/>Warnings:<br/>[1] Standard Errors assume that the covariance matrix of the errors is correctly specified.<br/>[2] The condition number is large, 3.02e+05. This might indicate that there are<br/>strong multicollinearity or other numerical problems."
            ],
            "text/plain": [
              "<class 'statsmodels.iolib.summary.Summary'>\n",
              "\"\"\"\n",
              "                            OLS Regression Results                            \n",
              "==============================================================================\n",
              "Dep. Variable:              df['총비용']   R-squared:                       0.646\n",
              "Model:                            OLS   Adj. R-squared:                  0.645\n",
              "Method:                 Least Squares   F-statistic:                     1255.\n",
              "Date:                Mon, 24 Feb 2020   Prob (F-statistic):          4.05e-311\n",
              "Time:                        06:27:00   Log-Likelihood:                -17628.\n",
              "No. Observations:                1381   AIC:                         3.526e+04\n",
              "Df Residuals:                    1378   BIC:                         3.528e+04\n",
              "Df Model:                           2                                         \n",
              "Covariance Type:            nonrobust                                         \n",
              "==============================================================================\n",
              "                 coef    std err          t      P>|t|      [0.025      0.975]\n",
              "------------------------------------------------------------------------------\n",
              "Intercept   2.021e+04   2308.012      8.755      0.000    1.57e+04    2.47e+04\n",
              "df['노출수']      0.1197      0.008     15.028      0.000       0.104       0.135\n",
              "df['클릭수']    257.2959      6.094     42.223      0.000     245.342     269.250\n",
              "==============================================================================\n",
              "Omnibus:                     1677.364   Durbin-Watson:                   0.894\n",
              "Prob(Omnibus):                  0.000   Jarque-Bera (JB):           282292.597\n",
              "Skew:                           6.136   Prob(JB):                         0.00\n",
              "Kurtosis:                      71.959   Cond. No.                     3.02e+05\n",
              "==============================================================================\n",
              "\n",
              "Warnings:\n",
              "[1] Standard Errors assume that the covariance matrix of the errors is correctly specified.\n",
              "[2] The condition number is large, 3.02e+05. This might indicate that there are\n",
              "strong multicollinearity or other numerical problems.\n",
              "\"\"\""
            ]
          },
          "metadata": {
            "tags": []
          },
          "execution_count": 118
        }
      ]
    },
    {
      "cell_type": "code",
      "metadata": {
        "id": "11TT0Sqq01wh",
        "colab_type": "code",
        "colab": {
          "base_uri": "https://localhost:8080/",
          "height": 499
        },
        "outputId": "b0aa2c33-2de0-4829-9d2a-8c9cf6aa306b"
      },
      "source": [
        "result = sm.OLS.from_formula('총비용~ 노출수 + 클릭수', df).fit()\n",
        "result.summary()"
      ],
      "execution_count": 119,
      "outputs": [
        {
          "output_type": "execute_result",
          "data": {
            "text/html": [
              "<table class=\"simpletable\">\n",
              "<caption>OLS Regression Results</caption>\n",
              "<tr>\n",
              "  <th>Dep. Variable:</th>           <td>총비용</td>       <th>  R-squared:         </th> <td>   0.646</td> \n",
              "</tr>\n",
              "<tr>\n",
              "  <th>Model:</th>                   <td>OLS</td>       <th>  Adj. R-squared:    </th> <td>   0.645</td> \n",
              "</tr>\n",
              "<tr>\n",
              "  <th>Method:</th>             <td>Least Squares</td>  <th>  F-statistic:       </th> <td>   1255.</td> \n",
              "</tr>\n",
              "<tr>\n",
              "  <th>Date:</th>             <td>Mon, 24 Feb 2020</td> <th>  Prob (F-statistic):</th> <td>4.05e-311</td>\n",
              "</tr>\n",
              "<tr>\n",
              "  <th>Time:</th>                 <td>06:27:19</td>     <th>  Log-Likelihood:    </th> <td> -17628.</td> \n",
              "</tr>\n",
              "<tr>\n",
              "  <th>No. Observations:</th>      <td>  1381</td>      <th>  AIC:               </th> <td>3.526e+04</td>\n",
              "</tr>\n",
              "<tr>\n",
              "  <th>Df Residuals:</th>          <td>  1378</td>      <th>  BIC:               </th> <td>3.528e+04</td>\n",
              "</tr>\n",
              "<tr>\n",
              "  <th>Df Model:</th>              <td>     2</td>      <th>                     </th>     <td> </td>    \n",
              "</tr>\n",
              "<tr>\n",
              "  <th>Covariance Type:</th>      <td>nonrobust</td>    <th>                     </th>     <td> </td>    \n",
              "</tr>\n",
              "</table>\n",
              "<table class=\"simpletable\">\n",
              "<tr>\n",
              "      <td></td>         <th>coef</th>     <th>std err</th>      <th>t</th>      <th>P>|t|</th>  <th>[0.025</th>    <th>0.975]</th>  \n",
              "</tr>\n",
              "<tr>\n",
              "  <th>Intercept</th> <td> 2.021e+04</td> <td> 2308.012</td> <td>    8.755</td> <td> 0.000</td> <td> 1.57e+04</td> <td> 2.47e+04</td>\n",
              "</tr>\n",
              "<tr>\n",
              "  <th>노출수</th>       <td>    0.1197</td> <td>    0.008</td> <td>   15.028</td> <td> 0.000</td> <td>    0.104</td> <td>    0.135</td>\n",
              "</tr>\n",
              "<tr>\n",
              "  <th>클릭수</th>       <td>  257.2959</td> <td>    6.094</td> <td>   42.223</td> <td> 0.000</td> <td>  245.342</td> <td>  269.250</td>\n",
              "</tr>\n",
              "</table>\n",
              "<table class=\"simpletable\">\n",
              "<tr>\n",
              "  <th>Omnibus:</th>       <td>1677.364</td> <th>  Durbin-Watson:     </th>  <td>   0.894</td> \n",
              "</tr>\n",
              "<tr>\n",
              "  <th>Prob(Omnibus):</th>  <td> 0.000</td>  <th>  Jarque-Bera (JB):  </th> <td>282292.597</td>\n",
              "</tr>\n",
              "<tr>\n",
              "  <th>Skew:</th>           <td> 6.136</td>  <th>  Prob(JB):          </th>  <td>    0.00</td> \n",
              "</tr>\n",
              "<tr>\n",
              "  <th>Kurtosis:</th>       <td>71.959</td>  <th>  Cond. No.          </th>  <td>3.02e+05</td> \n",
              "</tr>\n",
              "</table><br/><br/>Warnings:<br/>[1] Standard Errors assume that the covariance matrix of the errors is correctly specified.<br/>[2] The condition number is large, 3.02e+05. This might indicate that there are<br/>strong multicollinearity or other numerical problems."
            ],
            "text/plain": [
              "<class 'statsmodels.iolib.summary.Summary'>\n",
              "\"\"\"\n",
              "                            OLS Regression Results                            \n",
              "==============================================================================\n",
              "Dep. Variable:                    총비용   R-squared:                       0.646\n",
              "Model:                            OLS   Adj. R-squared:                  0.645\n",
              "Method:                 Least Squares   F-statistic:                     1255.\n",
              "Date:                Mon, 24 Feb 2020   Prob (F-statistic):          4.05e-311\n",
              "Time:                        06:27:19   Log-Likelihood:                -17628.\n",
              "No. Observations:                1381   AIC:                         3.526e+04\n",
              "Df Residuals:                    1378   BIC:                         3.528e+04\n",
              "Df Model:                           2                                         \n",
              "Covariance Type:            nonrobust                                         \n",
              "==============================================================================\n",
              "                 coef    std err          t      P>|t|      [0.025      0.975]\n",
              "------------------------------------------------------------------------------\n",
              "Intercept   2.021e+04   2308.012      8.755      0.000    1.57e+04    2.47e+04\n",
              "노출수            0.1197      0.008     15.028      0.000       0.104       0.135\n",
              "클릭수          257.2959      6.094     42.223      0.000     245.342     269.250\n",
              "==============================================================================\n",
              "Omnibus:                     1677.364   Durbin-Watson:                   0.894\n",
              "Prob(Omnibus):                  0.000   Jarque-Bera (JB):           282292.597\n",
              "Skew:                           6.136   Prob(JB):                         0.00\n",
              "Kurtosis:                      71.959   Cond. No.                     3.02e+05\n",
              "==============================================================================\n",
              "\n",
              "Warnings:\n",
              "[1] Standard Errors assume that the covariance matrix of the errors is correctly specified.\n",
              "[2] The condition number is large, 3.02e+05. This might indicate that there are\n",
              "strong multicollinearity or other numerical problems.\n",
              "\"\"\""
            ]
          },
          "metadata": {
            "tags": []
          },
          "execution_count": 119
        }
      ]
    },
    {
      "cell_type": "code",
      "metadata": {
        "id": "8nrqw6uAEgnD",
        "colab_type": "code",
        "colab": {}
      },
      "source": [
        "from sklearn.model_selection import train_test_split\n",
        "x = df[['노출수', '클릭수']]\n",
        "y = df['총비용']\n",
        "x_train, x_test, y_train, y_test = train_test_split(x, y, train_size=0.68, test_size=0.32, random_state = 4)"
      ],
      "execution_count": 0,
      "outputs": []
    },
    {
      "cell_type": "code",
      "metadata": {
        "id": "l4UFiC864Oc0",
        "colab_type": "code",
        "colab": {
          "base_uri": "https://localhost:8080/",
          "height": 35
        },
        "outputId": "902730ee-0cb0-4bd8-8d9d-44c5009a1f2e"
      },
      "source": [
        "from sklearn.linear_model import LinearRegression\n",
        "mlr = LinearRegression()\n",
        "mlr.fit(x_train, y_train)"
      ],
      "execution_count": 209,
      "outputs": [
        {
          "output_type": "execute_result",
          "data": {
            "text/plain": [
              "LinearRegression(copy_X=True, fit_intercept=True, n_jobs=None, normalize=False)"
            ]
          },
          "metadata": {
            "tags": []
          },
          "execution_count": 209
        }
      ]
    },
    {
      "cell_type": "code",
      "metadata": {
        "id": "l5g-eL6ZE3NT",
        "colab_type": "code",
        "colab": {}
      },
      "source": [
        "test = [[767491,\t8058.0]]\n",
        "my_predict = mlr.predict(test)"
      ],
      "execution_count": 0,
      "outputs": []
    },
    {
      "cell_type": "code",
      "metadata": {
        "id": "BAn3IkR0FFqr",
        "colab_type": "code",
        "colab": {
          "base_uri": "https://localhost:8080/",
          "height": 35
        },
        "outputId": "1ef88a9a-9235-477e-bfc9-5dd50fe7b8cd"
      },
      "source": [
        "my_predict"
      ],
      "execution_count": 211,
      "outputs": [
        {
          "output_type": "execute_result",
          "data": {
            "text/plain": [
              "array([2148544.65640144])"
            ]
          },
          "metadata": {
            "tags": []
          },
          "execution_count": 211
        }
      ]
    },
    {
      "cell_type": "code",
      "metadata": {
        "id": "02R4P8QIFHsD",
        "colab_type": "code",
        "colab": {}
      },
      "source": [
        "y_predicted = mlr.predict(x_test)"
      ],
      "execution_count": 0,
      "outputs": []
    },
    {
      "cell_type": "code",
      "metadata": {
        "id": "X-_2yOY9FgTb",
        "colab_type": "code",
        "colab": {
          "base_uri": "https://localhost:8080/",
          "height": 35
        },
        "outputId": "478cbdc8-77a4-4352-bb20-3dcc6b6b4708"
      },
      "source": [
        "y_predicted[:2]"
      ],
      "execution_count": 213,
      "outputs": [
        {
          "output_type": "execute_result",
          "data": {
            "text/plain": [
              "array([21160.40317953, 19138.67119914])"
            ]
          },
          "metadata": {
            "tags": []
          },
          "execution_count": 213
        }
      ]
    },
    {
      "cell_type": "code",
      "metadata": {
        "id": "JeEOzgqZFh2D",
        "colab_type": "code",
        "colab": {
          "base_uri": "https://localhost:8080/",
          "height": 295
        },
        "outputId": "3c2dc5ee-a474-4d65-f5de-db43b34b45f8"
      },
      "source": [
        "import matplotlib.pyplot as plt\n",
        "plt.scatter(y_test, y_predicted, alpha=0.4)\n",
        "plt.xlim(right = 1000000)\n",
        "plt.ylim(top = 150000, bottom = 0)\n",
        "plt.xlabel(\"Actual Rent\")\n",
        "plt.ylabel(\"Predicted Rent\")\n",
        "plt.title(\"MULTIPLE LINEAR REGRESSION\")\n",
        "plt.show()"
      ],
      "execution_count": 214,
      "outputs": [
        {
          "output_type": "display_data",
          "data": {
            "image/png": "[encoded data removed]",
            "text/plain": [
              "<Figure size 432x288 with 1 Axes>"
            ]
          },
          "metadata": {
            "tags": []
          }
        }
      ]
    },
    {
      "cell_type": "code",
      "metadata": {
        "id": "uCQiVh7BFrzr",
        "colab_type": "code",
        "colab": {
          "base_uri": "https://localhost:8080/",
          "height": 35
        },
        "outputId": "6b783e83-0f49-4cbf-aafd-0d24e4c16ade"
      },
      "source": [
        "print(mlr.score(x_train, y_train))"
      ],
      "execution_count": 215,
      "outputs": [
        {
          "output_type": "stream",
          "text": [
            "0.7026408011992089\n"
          ],
          "name": "stdout"
        }
      ]
    },
    {
      "cell_type": "code",
      "metadata": {
        "id": "oeAxLqzXL5yX",
        "colab_type": "code",
        "colab": {}
      },
      "source": [
        "from sklearn.model_selection import train_test_split\n",
        "x = df[['노출수', '클릭수']]\n",
        "y = df['총비용']\n",
        "x_train, x_test, y_train, y_test = train_test_split(x, y, train_size=0.75, random_state = 4)"
      ],
      "execution_count": 0,
      "outputs": []
    },
    {
      "cell_type": "code",
      "metadata": {
        "id": "lifcfanzG_Tz",
        "colab_type": "code",
        "colab": {
          "base_uri": "https://localhost:8080/",
          "height": 35
        },
        "outputId": "563fb892-672a-45f8-9f87-4b028af4dd82"
      },
      "source": [
        "import pandas as pd\n",
        "from sklearn.ensemble import RandomForestClassifier\n",
        "from sklearn import metrics\n",
        "from sklearn.preprocessing import StandardScaler\n",
        "\n",
        "sc = StandardScaler()\n",
        "sc.fit(x_train)\n",
        "x_train_std = sc.transform(x_train)   \n",
        "# 학습 진행\n",
        "forest = RandomForestClassifier(criterion='entropy', n_estimators=1000, max_depth= 3, n_jobs=3, random_state=42)\n",
        "forest.fit(x_train_std, y_train)\n",
        "# 예측\n",
        "sc.fit(x_test)\n",
        "x_test_std = sc.transform(x_test)\n",
        "y_pred = forest.predict(x_test_std)\n",
        "# 정확도 확인\n",
        "print('정확도 :', metrics.accuracy_score(y_test, y_pred))"
      ],
      "execution_count": 231,
      "outputs": [
        {
          "output_type": "stream",
          "text": [
            "정확도 : 0.23121387283236994\n"
          ],
          "name": "stdout"
        }
      ]
    },
    {
      "cell_type": "code",
      "metadata": {
        "id": "xfStZLDaLqJ6",
        "colab_type": "code",
        "colab": {
          "base_uri": "https://localhost:8080/",
          "height": 35
        },
        "outputId": "7df29e9e-6473-4007-a913-b304435e5fdd"
      },
      "source": [
        "mlr = LinearRegression()\n",
        "mlr.fit(x_train_std, y_train)\n",
        "print(mlr.score(x_train_std, y_train))"
      ],
      "execution_count": 232,
      "outputs": [
        {
          "output_type": "stream",
          "text": [
            "0.6888331267331486\n"
          ],
          "name": "stdout"
        }
      ]
    },
    {
      "cell_type": "code",
      "metadata": {
        "id": "itNHQFNbRs8n",
        "colab_type": "code",
        "colab": {}
      },
      "source": [
        ""
      ],
      "execution_count": 0,
      "outputs": []
    }
  ]
}