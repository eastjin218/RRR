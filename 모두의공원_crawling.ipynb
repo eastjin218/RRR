{
 "cells": [
  {
   "cell_type": "code",
   "execution_count": 1,
   "metadata": {
    "ExecuteTime": {
     "end_time": "2020-02-18T05:21:28.246384Z",
     "start_time": "2020-02-18T05:21:22.803Z"
    }
   },
   "outputs": [
    {
     "name": "stderr",
     "output_type": "stream",
     "text": [
      "Installing package into 'C:/Users/admin/Documents/R/win-library/3.6'\n",
      "(as 'lib' is unspecified)\n"
     ]
    },
    {
     "name": "stdout",
     "output_type": "stream",
     "text": [
      "package 'stringr' successfully unpacked and MD5 sums checked\n",
      "\n",
      "The downloaded binary packages are in\n",
      "\tC:\\Users\\admin\\AppData\\Local\\Temp\\RtmpiQKvBs\\downloaded_packages\n"
     ]
    }
   ],
   "source": [
    "# \n",
    "install.packages('stringr')"
   ]
  },
  {
   "cell_type": "code",
   "execution_count": 2,
   "metadata": {
    "ExecuteTime": {
     "end_time": "2020-02-18T05:21:35.928829Z",
     "start_time": "2020-02-18T05:21:35.887Z"
    }
   },
   "outputs": [
    {
     "name": "stderr",
     "output_type": "stream",
     "text": [
      "Warning message:\n",
      "\"package 'stringr' was built under R version 3.6.2\""
     ]
    }
   ],
   "source": [
    "library(stringr)"
   ]
  },
  {
   "cell_type": "code",
   "execution_count": 3,
   "metadata": {
    "ExecuteTime": {
     "end_time": "2020-02-18T05:21:43.905825Z",
     "start_time": "2020-02-18T05:21:43.888Z"
    }
   },
   "outputs": [],
   "source": [
    "final_data <- NULL"
   ]
  },
  {
   "cell_type": "code",
   "execution_count": 4,
   "metadata": {
    "ExecuteTime": {
     "end_time": "2020-02-18T05:23:49.860632Z",
     "start_time": "2020-02-18T05:23:49.831Z"
    }
   },
   "outputs": [
    {
     "data": {
      "text/html": [
       "'https://www.clien.net/service/board/park?&amp;od=T31&amp;po=0'"
      ],
      "text/latex": [
       "'https://www.clien.net/service/board/park?\\&od=T31\\&po=0'"
      ],
      "text/markdown": [
       "'https://www.clien.net/service/board/park?&amp;od=T31&amp;po=0'"
      ],
      "text/plain": [
       "[1] \"https://www.clien.net/service/board/park?&od=T31&po=0\""
      ]
     },
     "metadata": {},
     "output_type": "display_data"
    }
   ],
   "source": [
    "i <- 1\n",
    "url <- paste0(\"https://www.clien.net/service/board/park?&od=T31&po=\",i-1)\n",
    "url"
   ]
  },
  {
   "cell_type": "code",
   "execution_count": 6,
   "metadata": {
    "ExecuteTime": {
     "end_time": "2020-02-18T05:26:04.140593Z",
     "start_time": "2020-02-18T05:26:04.013Z"
    }
   },
   "outputs": [
    {
     "name": "stderr",
     "output_type": "stream",
     "text": [
      "Warning message in readLines(url, encoding = \"UTF-8\"):\n",
      "\"'https://www.clien.net/service/board/park?&od=T31&po=0'에서 불완전한 마지막 행이 발견되었습니다\""
     ]
    },
    {
     "data": {
      "text/html": [
       "<ol class=list-inline>\n",
       "\t<li>''</li>\n",
       "\t<li>''</li>\n",
       "\t<li>''</li>\n",
       "\t<li>''</li>\n",
       "\t<li>' '</li>\n",
       "\t<li>'&lt;!DOCTYPE HTML&gt;'</li>\n",
       "</ol>\n"
      ],
      "text/latex": [
       "\\begin{enumerate*}\n",
       "\\item ''\n",
       "\\item ''\n",
       "\\item ''\n",
       "\\item ''\n",
       "\\item ' '\n",
       "\\item '<!DOCTYPE HTML>'\n",
       "\\end{enumerate*}\n"
      ],
      "text/markdown": [
       "1. ''\n",
       "2. ''\n",
       "3. ''\n",
       "4. ''\n",
       "5. ' '\n",
       "6. '&lt;!DOCTYPE HTML&gt;'\n",
       "\n",
       "\n"
      ],
      "text/plain": [
       "[1] \"\"                \"\"                \"\"                \"\"               \n",
       "[5] \" \"               \"<!DOCTYPE HTML>\""
      ]
     },
     "metadata": {},
     "output_type": "display_data"
    },
    {
     "data": {
      "text/html": [
       "<ol class=list-inline>\n",
       "\t<li>''</li>\n",
       "\t<li>''</li>\n",
       "\t<li>'&lt;script src=\"/service/js/app/pageJs/list.js?0117_v02\"&gt;&lt;/script&gt; '</li>\n",
       "\t<li>'&lt;script src=\"/service/js/common/clien.observe.js?0123_v01\"&gt;&lt;/script&gt; '</li>\n",
       "\t<li>'&lt;/body&gt;'</li>\n",
       "\t<li>'&lt;/html&gt;'</li>\n",
       "</ol>\n"
      ],
      "text/latex": [
       "\\begin{enumerate*}\n",
       "\\item ''\n",
       "\\item ''\n",
       "\\item '<script src=\"/service/js/app/pageJs/list.js?0117\\_v02\"></script> '\n",
       "\\item '<script src=\"/service/js/common/clien.observe.js?0123\\_v01\"></script> '\n",
       "\\item '</body>'\n",
       "\\item '</html>'\n",
       "\\end{enumerate*}\n"
      ],
      "text/markdown": [
       "1. ''\n",
       "2. ''\n",
       "3. '&lt;script src=\"/service/js/app/pageJs/list.js?0117_v02\"&gt;&lt;/script&gt; '\n",
       "4. '&lt;script src=\"/service/js/common/clien.observe.js?0123_v01\"&gt;&lt;/script&gt; '\n",
       "5. '&lt;/body&gt;'\n",
       "6. '&lt;/html&gt;'\n",
       "\n",
       "\n"
      ],
      "text/plain": [
       "[1] \"\"                                                                       \n",
       "[2] \"\"                                                                       \n",
       "[3] \"<script src=\\\"/service/js/app/pageJs/list.js?0117_v02\\\"></script> \"     \n",
       "[4] \"<script src=\\\"/service/js/common/clien.observe.js?0123_v01\\\"></script> \"\n",
       "[5] \"</body>\"                                                                \n",
       "[6] \"</html>\"                                                                "
      ]
     },
     "metadata": {},
     "output_type": "display_data"
    }
   ],
   "source": [
    "b <- readLines(url, encoding=\"UTF-8\")\n",
    "head(b)\n",
    "tail(b)"
   ]
  },
  {
   "cell_type": "code",
   "execution_count": 7,
   "metadata": {
    "ExecuteTime": {
     "end_time": "2020-02-18T05:27:19.412018Z",
     "start_time": "2020-02-18T05:27:19.359Z"
    }
   },
   "outputs": [
    {
     "name": "stdout",
     "output_type": "stream",
     "text": [
      " chr [1:30] \"\\t\\t\\t\\t\\t\\t<span class=\\\"subject_fixed\\\" data-role=\\\"list-title-text\\\" title=\\\"김원철 기자님이 쓴 기사\\\">김원\"| __truncated__ ...\n"
     ]
    }
   ],
   "source": [
    "b2 <- b[str_detect(b, \"subject_fixed\")]\n",
    "str(b2)"
   ]
  },
  {
   "cell_type": "code",
   "execution_count": 8,
   "metadata": {
    "ExecuteTime": {
     "end_time": "2020-02-18T05:28:47.247473Z",
     "start_time": "2020-02-18T05:28:47.223Z"
    }
   },
   "outputs": [
    {
     "name": "stdout",
     "output_type": "stream",
     "text": [
      " chr [1:30] \"김원철 기자님이 쓴 기사\" ...\n"
     ]
    }
   ],
   "source": [
    "title <- str_extract(b2, (\"(?<=\\\">).*(?=</span>)\"))\n",
    "str(title)"
   ]
  },
  {
   "cell_type": "code",
   "execution_count": 9,
   "metadata": {
    "ExecuteTime": {
     "end_time": "2020-02-18T05:30:18.833531Z",
     "start_time": "2020-02-18T05:30:18.806Z"
    }
   },
   "outputs": [
    {
     "name": "stdout",
     "output_type": "stream",
     "text": [
      " chr [1:32] \"\\t\\t\\t\\t\\t\\t\\t\\t<span class=\\\"hit\\\">734.9 k</span>\" ...\n"
     ]
    }
   ],
   "source": [
    "b3 <- b[str_detect(b, \"<span class=\\\"hit\\\">\")]\n",
    "str(b3)"
   ]
  },
  {
   "cell_type": "code",
   "execution_count": 10,
   "metadata": {
    "ExecuteTime": {
     "end_time": "2020-02-18T05:31:52.631077Z",
     "start_time": "2020-02-18T05:31:52.607Z"
    }
   },
   "outputs": [
    {
     "name": "stdout",
     "output_type": "stream",
     "text": [
      " chr [1:31] \"52.7 k\" \"68\" \"149\" \"132\" \"105\" \"292\" \"301\" \"175\" \"572\" \"288\" ...\n"
     ]
    }
   ],
   "source": [
    "hit <- str_extract(b3, (\"(?<=\\\">).*(?=</span>)\") )[-1]\n",
    "str(hit)"
   ]
  },
  {
   "cell_type": "code",
   "execution_count": 11,
   "metadata": {
    "ExecuteTime": {
     "end_time": "2020-02-18T05:32:41.440718Z",
     "start_time": "2020-02-18T05:32:41.398Z"
    }
   },
   "outputs": [
    {
     "name": "stdout",
     "output_type": "stream",
     "text": [
      " chr [1:30] \"\\t\\t\\t\\t\\t<a class=\\\"list_subject\\\" href=\\\"/service/board/park/14604548?od=T31&po=0&category=&groupCd=\\\" data-r\"| __truncated__ ...\n"
     ]
    }
   ],
   "source": [
    "# 글정보에닿 ㄴurl 주소\n",
    "b5 <- b[which(str_detect(b, \"subject_fixed\" ))-2]\n",
    "str(b5)"
   ]
  },
  {
   "cell_type": "code",
   "execution_count": null,
   "metadata": {},
   "outputs": [],
   "source": [
    "b6 <- str_sub(str_extract(b5, (\"(?<=href=\\\").*(?=data-role)\") ), end=4)\n",
    "str(b6)"
   ]
  },
  {
   "cell_type": "code",
   "execution_count": null,
   "metadata": {},
   "outputs": [],
   "source": [
    "url <- paste0(, b6)"
   ]
  },
  {
   "cell_type": "code",
   "execution_count": null,
   "metadata": {},
   "outputs": [],
   "source": [
    "data <- cbind(title,hit,url)\n",
    "data"
   ]
  }
 ],
 "metadata": {
  "kernelspec": {
   "display_name": "R",
   "language": "R",
   "name": "ir"
  },
  "language_info": {
   "codemirror_mode": "r",
   "file_extension": ".r",
   "mimetype": "text/x-r-source",
   "name": "R",
   "pygments_lexer": "r",
   "version": "3.6.1"
  },
  "toc": {
   "base_numbering": 1,
   "nav_menu": {},
   "number_sections": true,
   "sideBar": true,
   "skip_h1_title": false,
   "title_cell": "Table of Contents",
   "title_sidebar": "Contents",
   "toc_cell": false,
   "toc_position": {},
   "toc_section_display": true,
   "toc_window_display": false
  },
  "varInspector": {
   "cols": {
    "lenName": 16,
    "lenType": 16,
    "lenVar": 40
   },
   "kernels_config": {
    "python": {
     "delete_cmd_postfix": "",
     "delete_cmd_prefix": "del ",
     "library": "var_list.py",
     "varRefreshCmd": "print(var_dic_list())"
    },
    "r": {
     "delete_cmd_postfix": ") ",
     "delete_cmd_prefix": "rm(",
     "library": "var_list.r",
     "varRefreshCmd": "cat(var_dic_list()) "
    }
   },
   "types_to_exclude": [
    "module",
    "function",
    "builtin_function_or_method",
    "instance",
    "_Feature"
   ],
   "window_display": false
  }
 },
 "nbformat": 4,
 "nbformat_minor": 2
}
