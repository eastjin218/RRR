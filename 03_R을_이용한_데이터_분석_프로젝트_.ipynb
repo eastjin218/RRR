{
  "nbformat": 4,
  "nbformat_minor": 0,
  "metadata": {
    "colab": {
      "name": "03. R을 이용한 데이터 분석 프로젝트 .ipynb",
      "provenance": [],
      "toc_visible": true,
      "authorship_tag": "ABX9TyPsYAt9OfUZn6gpt8sTkRCB",
      "include_colab_link": true
    },
    "kernelspec": {
      "name": "ir",
      "display_name": "R"
    }
  },
  "cells": [
    {
      "cell_type": "markdown",
      "metadata": {
        "id": "view-in-github",
        "colab_type": "text"
      },
      "source": [
        "<a href=\"https://colab.research.google.com/github/eastjin218/R_lang./blob/master/03_R%EC%9D%84_%EC%9D%B4%EC%9A%A9%ED%95%9C_%EB%8D%B0%EC%9D%B4%ED%84%B0_%EB%B6%84%EC%84%9D_%ED%94%84%EB%A1%9C%EC%A0%9D%ED%8A%B8_.ipynb\" target=\"_parent\"><img src=\"https://colab.research.google.com/assets/colab-badge.svg\" alt=\"Open In Colab\"/></a>"
      ]
    },
    {
      "cell_type": "code",
      "metadata": {
        "id": "7ym-JYXMBkfl",
        "colab_type": "code",
        "colab": {
          "base_uri": "https://localhost:8080/",
          "height": 272
        },
        "outputId": "2deb5e12-eb39-43fe-dc02-f7b0064d2d7a"
      },
      "source": [
        "library('foreign')             # SPSS 파일 로드\n",
        "library('dplyr')               # 전처리\n",
        "library('ggplot2')             # 시각화\n",
        "library('readxl')              # 엑셀 파일 불러오기"
      ],
      "execution_count": 1,
      "outputs": [
        {
          "output_type": "stream",
          "text": [
            "\n",
            "Attaching package: ‘dplyr’\n",
            "\n",
            "\n",
            "The following objects are masked from ‘package:stats’:\n",
            "\n",
            "    filter, lag\n",
            "\n",
            "\n",
            "The following objects are masked from ‘package:base’:\n",
            "\n",
            "    intersect, setdiff, setequal, union\n",
            "\n",
            "\n"
          ],
          "name": "stderr"
        }
      ]
    },
    {
      "cell_type": "code",
      "metadata": {
        "id": "3Awz4bdRBnc-",
        "colab_type": "code",
        "outputId": "bf8d54b2-fcb4-4b29-9b5e-0c052dbeb831",
        "colab": {
          "base_uri": "https://localhost:8080/",
          "height": 54
        }
      },
      "source": [
        "# 데이터 불러오기\n",
        "raw_welfare <- read.spss(file = \"Koweps_hpc10_2015_beta1.sav\", to.data.frame = T) "
      ],
      "execution_count": 2,
      "outputs": [
        {
          "output_type": "stream",
          "text": [
            "Warning message in read.spss(file = \"Koweps_hpc10_2015_beta1.sav\", to.data.frame = T):\n",
            "“Koweps_hpc10_2015_beta1.sav: Compression bias (0) is not the usual value of 100”\n"
          ],
          "name": "stderr"
        }
      ]
    },
    {
      "cell_type": "code",
      "metadata": {
        "id": "3a9QAjJmB24H",
        "colab_type": "code",
        "outputId": "265cf782-9608-431e-c8e4-27247d765ffc",
        "colab": {
          "base_uri": "https://localhost:8080/",
          "height": 224
        }
      },
      "source": [
        "raw_welfare %>% head()"
      ],
      "execution_count": 3,
      "outputs": [
        {
          "output_type": "display_data",
          "data": {
            "text/plain": [
              "  h10_id h10_ind h10_sn h10_merkey h_new h10_cobf h10_reg5 h10_reg7 h10_din\n",
              "1 1      1       1      10101      0     NA       1        1         864   \n",
              "2 2      1       1      20101      0     NA       1        1         600   \n",
              "3 3      1       1      30101      0     NA       1        1        1571   \n",
              "4 4      1       1      40101      0     NA       1        1        3579   \n",
              "5 4      1       1      40101      0     NA       1        1        3579   \n",
              "6 6      1       1      60101      0     NA       1        1        3030   \n",
              "  h10_cin ⋯ c1007_4aq19 c1007_4aq20 c1007_4aq21 c1007_4aq22 c1007_4aq23\n",
              "1  864    ⋯ NA          NA          NA          NA          NA         \n",
              "2  600    ⋯ NA          NA          NA          NA          NA         \n",
              "3 1619    ⋯ NA          NA          NA          NA          NA         \n",
              "4 3687    ⋯ NA          NA          NA          NA          NA         \n",
              "5 3687    ⋯ NA          NA          NA          NA          NA         \n",
              "6 3486    ⋯ NA          NA          NA          NA          NA         \n",
              "  h10_pers_income1 h10_pers_income2 h10_pers_income3 h10_pers_income4\n",
              "1 NA                 NA               NA             0               \n",
              "2 NA                 NA               NA             0               \n",
              "3 NA               1440               NA             0               \n",
              "4 NA               2400               NA             0               \n",
              "5 NA                 NA               NA             0               \n",
              "6 NA                 NA             3000             0               \n",
              "  h10_pers_income5\n",
              "1 NA              \n",
              "2 NA              \n",
              "3 NA              \n",
              "4 NA              \n",
              "5 NA              \n",
              "6 NA              "
            ],
            "text/latex": "A data.frame: 6 × 957\n\\begin{tabular}{r|lllllllllllllllllllll}\n  & h10\\_id & h10\\_ind & h10\\_sn & h10\\_merkey & h\\_new & h10\\_cobf & h10\\_reg5 & h10\\_reg7 & h10\\_din & h10\\_cin & ⋯ & c1007\\_4aq19 & c1007\\_4aq20 & c1007\\_4aq21 & c1007\\_4aq22 & c1007\\_4aq23 & h10\\_pers\\_income1 & h10\\_pers\\_income2 & h10\\_pers\\_income3 & h10\\_pers\\_income4 & h10\\_pers\\_income5\\\\\n  & <dbl> & <dbl> & <dbl> & <dbl> & <dbl> & <dbl> & <dbl> & <dbl> & <dbl> & <dbl> & ⋯ & <dbl> & <dbl> & <dbl> & <dbl> & <dbl> & <dbl> & <dbl> & <dbl> & <dbl> & <dbl>\\\\\n\\hline\n\t1 & 1 & 1 & 1 & 10101 & 0 & NA & 1 & 1 &  864 &  864 & ⋯ & NA & NA & NA & NA & NA & NA &   NA &   NA & 0 & NA\\\\\n\t2 & 2 & 1 & 1 & 20101 & 0 & NA & 1 & 1 &  600 &  600 & ⋯ & NA & NA & NA & NA & NA & NA &   NA &   NA & 0 & NA\\\\\n\t3 & 3 & 1 & 1 & 30101 & 0 & NA & 1 & 1 & 1571 & 1619 & ⋯ & NA & NA & NA & NA & NA & NA & 1440 &   NA & 0 & NA\\\\\n\t4 & 4 & 1 & 1 & 40101 & 0 & NA & 1 & 1 & 3579 & 3687 & ⋯ & NA & NA & NA & NA & NA & NA & 2400 &   NA & 0 & NA\\\\\n\t5 & 4 & 1 & 1 & 40101 & 0 & NA & 1 & 1 & 3579 & 3687 & ⋯ & NA & NA & NA & NA & NA & NA &   NA &   NA & 0 & NA\\\\\n\t6 & 6 & 1 & 1 & 60101 & 0 & NA & 1 & 1 & 3030 & 3486 & ⋯ & NA & NA & NA & NA & NA & NA &   NA & 3000 & 0 & NA\\\\\n\\end{tabular}\n",
            "text/markdown": "\nA data.frame: 6 × 957\n\n| <!--/--> | h10_id &lt;dbl&gt; | h10_ind &lt;dbl&gt; | h10_sn &lt;dbl&gt; | h10_merkey &lt;dbl&gt; | h_new &lt;dbl&gt; | h10_cobf &lt;dbl&gt; | h10_reg5 &lt;dbl&gt; | h10_reg7 &lt;dbl&gt; | h10_din &lt;dbl&gt; | h10_cin &lt;dbl&gt; | ⋯ ⋯ | c1007_4aq19 &lt;dbl&gt; | c1007_4aq20 &lt;dbl&gt; | c1007_4aq21 &lt;dbl&gt; | c1007_4aq22 &lt;dbl&gt; | c1007_4aq23 &lt;dbl&gt; | h10_pers_income1 &lt;dbl&gt; | h10_pers_income2 &lt;dbl&gt; | h10_pers_income3 &lt;dbl&gt; | h10_pers_income4 &lt;dbl&gt; | h10_pers_income5 &lt;dbl&gt; |\n|---|---|---|---|---|---|---|---|---|---|---|---|---|---|---|---|---|---|---|---|---|---|\n| 1 | 1 | 1 | 1 | 10101 | 0 | NA | 1 | 1 |  864 |  864 | ⋯ | NA | NA | NA | NA | NA | NA |   NA |   NA | 0 | NA |\n| 2 | 2 | 1 | 1 | 20101 | 0 | NA | 1 | 1 |  600 |  600 | ⋯ | NA | NA | NA | NA | NA | NA |   NA |   NA | 0 | NA |\n| 3 | 3 | 1 | 1 | 30101 | 0 | NA | 1 | 1 | 1571 | 1619 | ⋯ | NA | NA | NA | NA | NA | NA | 1440 |   NA | 0 | NA |\n| 4 | 4 | 1 | 1 | 40101 | 0 | NA | 1 | 1 | 3579 | 3687 | ⋯ | NA | NA | NA | NA | NA | NA | 2400 |   NA | 0 | NA |\n| 5 | 4 | 1 | 1 | 40101 | 0 | NA | 1 | 1 | 3579 | 3687 | ⋯ | NA | NA | NA | NA | NA | NA |   NA |   NA | 0 | NA |\n| 6 | 6 | 1 | 1 | 60101 | 0 | NA | 1 | 1 | 3030 | 3486 | ⋯ | NA | NA | NA | NA | NA | NA |   NA | 3000 | 0 | NA |\n\n",
            "text/html": [
              "<table>\n",
              "<caption>A data.frame: 6 × 957</caption>\n",
              "<thead>\n",
              "\t<tr><th></th><th scope=col>h10_id</th><th scope=col>h10_ind</th><th scope=col>h10_sn</th><th scope=col>h10_merkey</th><th scope=col>h_new</th><th scope=col>h10_cobf</th><th scope=col>h10_reg5</th><th scope=col>h10_reg7</th><th scope=col>h10_din</th><th scope=col>h10_cin</th><th scope=col>⋯</th><th scope=col>c1007_4aq19</th><th scope=col>c1007_4aq20</th><th scope=col>c1007_4aq21</th><th scope=col>c1007_4aq22</th><th scope=col>c1007_4aq23</th><th scope=col>h10_pers_income1</th><th scope=col>h10_pers_income2</th><th scope=col>h10_pers_income3</th><th scope=col>h10_pers_income4</th><th scope=col>h10_pers_income5</th></tr>\n",
              "\t<tr><th></th><th scope=col>&lt;dbl&gt;</th><th scope=col>&lt;dbl&gt;</th><th scope=col>&lt;dbl&gt;</th><th scope=col>&lt;dbl&gt;</th><th scope=col>&lt;dbl&gt;</th><th scope=col>&lt;dbl&gt;</th><th scope=col>&lt;dbl&gt;</th><th scope=col>&lt;dbl&gt;</th><th scope=col>&lt;dbl&gt;</th><th scope=col>&lt;dbl&gt;</th><th scope=col>⋯</th><th scope=col>&lt;dbl&gt;</th><th scope=col>&lt;dbl&gt;</th><th scope=col>&lt;dbl&gt;</th><th scope=col>&lt;dbl&gt;</th><th scope=col>&lt;dbl&gt;</th><th scope=col>&lt;dbl&gt;</th><th scope=col>&lt;dbl&gt;</th><th scope=col>&lt;dbl&gt;</th><th scope=col>&lt;dbl&gt;</th><th scope=col>&lt;dbl&gt;</th></tr>\n",
              "</thead>\n",
              "<tbody>\n",
              "\t<tr><th scope=row>1</th><td>1</td><td>1</td><td>1</td><td>10101</td><td>0</td><td>NA</td><td>1</td><td>1</td><td> 864</td><td> 864</td><td>⋯</td><td>NA</td><td>NA</td><td>NA</td><td>NA</td><td>NA</td><td>NA</td><td>  NA</td><td>  NA</td><td>0</td><td>NA</td></tr>\n",
              "\t<tr><th scope=row>2</th><td>2</td><td>1</td><td>1</td><td>20101</td><td>0</td><td>NA</td><td>1</td><td>1</td><td> 600</td><td> 600</td><td>⋯</td><td>NA</td><td>NA</td><td>NA</td><td>NA</td><td>NA</td><td>NA</td><td>  NA</td><td>  NA</td><td>0</td><td>NA</td></tr>\n",
              "\t<tr><th scope=row>3</th><td>3</td><td>1</td><td>1</td><td>30101</td><td>0</td><td>NA</td><td>1</td><td>1</td><td>1571</td><td>1619</td><td>⋯</td><td>NA</td><td>NA</td><td>NA</td><td>NA</td><td>NA</td><td>NA</td><td>1440</td><td>  NA</td><td>0</td><td>NA</td></tr>\n",
              "\t<tr><th scope=row>4</th><td>4</td><td>1</td><td>1</td><td>40101</td><td>0</td><td>NA</td><td>1</td><td>1</td><td>3579</td><td>3687</td><td>⋯</td><td>NA</td><td>NA</td><td>NA</td><td>NA</td><td>NA</td><td>NA</td><td>2400</td><td>  NA</td><td>0</td><td>NA</td></tr>\n",
              "\t<tr><th scope=row>5</th><td>4</td><td>1</td><td>1</td><td>40101</td><td>0</td><td>NA</td><td>1</td><td>1</td><td>3579</td><td>3687</td><td>⋯</td><td>NA</td><td>NA</td><td>NA</td><td>NA</td><td>NA</td><td>NA</td><td>  NA</td><td>  NA</td><td>0</td><td>NA</td></tr>\n",
              "\t<tr><th scope=row>6</th><td>6</td><td>1</td><td>1</td><td>60101</td><td>0</td><td>NA</td><td>1</td><td>1</td><td>3030</td><td>3486</td><td>⋯</td><td>NA</td><td>NA</td><td>NA</td><td>NA</td><td>NA</td><td>NA</td><td>  NA</td><td>3000</td><td>0</td><td>NA</td></tr>\n",
              "</tbody>\n",
              "</table>\n"
            ]
          },
          "metadata": {
            "tags": []
          }
        }
      ]
    },
    {
      "cell_type": "code",
      "metadata": {
        "id": "EmXtPnHVHM3P",
        "colab_type": "code",
        "outputId": "47295a9f-2b44-4531-8fd1-ff8ef5614778",
        "colab": {
          "base_uri": "https://localhost:8080/",
          "height": 547
        }
      },
      "source": [
        "head(raw_welfare)\n",
        "tail(raw_welfare)\n",
        "View(raw_welfare) \n",
        "dim(raw_welfare) \n",
        "str(raw_welfare) \n",
        "summary(raw_welfare)"
      ],
      "execution_count": 5,
      "outputs": [
        {
          "output_type": "display_data",
          "data": {
            "text/plain": [
              "  h10_id h10_ind h10_sn h10_merkey h_new h10_cobf h10_reg5 h10_reg7 h10_din\n",
              "1 1      1       1      10101      0     NA       1        1         864   \n",
              "2 2      1       1      20101      0     NA       1        1         600   \n",
              "3 3      1       1      30101      0     NA       1        1        1571   \n",
              "4 4      1       1      40101      0     NA       1        1        3579   \n",
              "5 4      1       1      40101      0     NA       1        1        3579   \n",
              "6 6      1       1      60101      0     NA       1        1        3030   \n",
              "  h10_cin ⋯ c1007_4aq19 c1007_4aq20 c1007_4aq21 c1007_4aq22 c1007_4aq23\n",
              "1  864    ⋯ NA          NA          NA          NA          NA         \n",
              "2  600    ⋯ NA          NA          NA          NA          NA         \n",
              "3 1619    ⋯ NA          NA          NA          NA          NA         \n",
              "4 3687    ⋯ NA          NA          NA          NA          NA         \n",
              "5 3687    ⋯ NA          NA          NA          NA          NA         \n",
              "6 3486    ⋯ NA          NA          NA          NA          NA         \n",
              "  h10_pers_income1 h10_pers_income2 h10_pers_income3 h10_pers_income4\n",
              "1 NA                 NA               NA             0               \n",
              "2 NA                 NA               NA             0               \n",
              "3 NA               1440               NA             0               \n",
              "4 NA               2400               NA             0               \n",
              "5 NA                 NA               NA             0               \n",
              "6 NA                 NA             3000             0               \n",
              "  h10_pers_income5\n",
              "1 NA              \n",
              "2 NA              \n",
              "3 NA              \n",
              "4 NA              \n",
              "5 NA              \n",
              "6 NA              "
            ],
            "text/latex": "A data.frame: 6 × 957\n\\begin{tabular}{r|lllllllllllllllllllll}\n  & h10\\_id & h10\\_ind & h10\\_sn & h10\\_merkey & h\\_new & h10\\_cobf & h10\\_reg5 & h10\\_reg7 & h10\\_din & h10\\_cin & ⋯ & c1007\\_4aq19 & c1007\\_4aq20 & c1007\\_4aq21 & c1007\\_4aq22 & c1007\\_4aq23 & h10\\_pers\\_income1 & h10\\_pers\\_income2 & h10\\_pers\\_income3 & h10\\_pers\\_income4 & h10\\_pers\\_income5\\\\\n  & <dbl> & <dbl> & <dbl> & <dbl> & <dbl> & <dbl> & <dbl> & <dbl> & <dbl> & <dbl> & ⋯ & <dbl> & <dbl> & <dbl> & <dbl> & <dbl> & <dbl> & <dbl> & <dbl> & <dbl> & <dbl>\\\\\n\\hline\n\t1 & 1 & 1 & 1 & 10101 & 0 & NA & 1 & 1 &  864 &  864 & ⋯ & NA & NA & NA & NA & NA & NA &   NA &   NA & 0 & NA\\\\\n\t2 & 2 & 1 & 1 & 20101 & 0 & NA & 1 & 1 &  600 &  600 & ⋯ & NA & NA & NA & NA & NA & NA &   NA &   NA & 0 & NA\\\\\n\t3 & 3 & 1 & 1 & 30101 & 0 & NA & 1 & 1 & 1571 & 1619 & ⋯ & NA & NA & NA & NA & NA & NA & 1440 &   NA & 0 & NA\\\\\n\t4 & 4 & 1 & 1 & 40101 & 0 & NA & 1 & 1 & 3579 & 3687 & ⋯ & NA & NA & NA & NA & NA & NA & 2400 &   NA & 0 & NA\\\\\n\t5 & 4 & 1 & 1 & 40101 & 0 & NA & 1 & 1 & 3579 & 3687 & ⋯ & NA & NA & NA & NA & NA & NA &   NA &   NA & 0 & NA\\\\\n\t6 & 6 & 1 & 1 & 60101 & 0 & NA & 1 & 1 & 3030 & 3486 & ⋯ & NA & NA & NA & NA & NA & NA &   NA & 3000 & 0 & NA\\\\\n\\end{tabular}\n",
            "text/markdown": "\nA data.frame: 6 × 957\n\n| <!--/--> | h10_id &lt;dbl&gt; | h10_ind &lt;dbl&gt; | h10_sn &lt;dbl&gt; | h10_merkey &lt;dbl&gt; | h_new &lt;dbl&gt; | h10_cobf &lt;dbl&gt; | h10_reg5 &lt;dbl&gt; | h10_reg7 &lt;dbl&gt; | h10_din &lt;dbl&gt; | h10_cin &lt;dbl&gt; | ⋯ ⋯ | c1007_4aq19 &lt;dbl&gt; | c1007_4aq20 &lt;dbl&gt; | c1007_4aq21 &lt;dbl&gt; | c1007_4aq22 &lt;dbl&gt; | c1007_4aq23 &lt;dbl&gt; | h10_pers_income1 &lt;dbl&gt; | h10_pers_income2 &lt;dbl&gt; | h10_pers_income3 &lt;dbl&gt; | h10_pers_income4 &lt;dbl&gt; | h10_pers_income5 &lt;dbl&gt; |\n|---|---|---|---|---|---|---|---|---|---|---|---|---|---|---|---|---|---|---|---|---|---|\n| 1 | 1 | 1 | 1 | 10101 | 0 | NA | 1 | 1 |  864 |  864 | ⋯ | NA | NA | NA | NA | NA | NA |   NA |   NA | 0 | NA |\n| 2 | 2 | 1 | 1 | 20101 | 0 | NA | 1 | 1 |  600 |  600 | ⋯ | NA | NA | NA | NA | NA | NA |   NA |   NA | 0 | NA |\n| 3 | 3 | 1 | 1 | 30101 | 0 | NA | 1 | 1 | 1571 | 1619 | ⋯ | NA | NA | NA | NA | NA | NA | 1440 |   NA | 0 | NA |\n| 4 | 4 | 1 | 1 | 40101 | 0 | NA | 1 | 1 | 3579 | 3687 | ⋯ | NA | NA | NA | NA | NA | NA | 2400 |   NA | 0 | NA |\n| 5 | 4 | 1 | 1 | 40101 | 0 | NA | 1 | 1 | 3579 | 3687 | ⋯ | NA | NA | NA | NA | NA | NA |   NA |   NA | 0 | NA |\n| 6 | 6 | 1 | 1 | 60101 | 0 | NA | 1 | 1 | 3030 | 3486 | ⋯ | NA | NA | NA | NA | NA | NA |   NA | 3000 | 0 | NA |\n\n",
            "text/html": [
              "<table>\n",
              "<caption>A data.frame: 6 × 957</caption>\n",
              "<thead>\n",
              "\t<tr><th></th><th scope=col>h10_id</th><th scope=col>h10_ind</th><th scope=col>h10_sn</th><th scope=col>h10_merkey</th><th scope=col>h_new</th><th scope=col>h10_cobf</th><th scope=col>h10_reg5</th><th scope=col>h10_reg7</th><th scope=col>h10_din</th><th scope=col>h10_cin</th><th scope=col>⋯</th><th scope=col>c1007_4aq19</th><th scope=col>c1007_4aq20</th><th scope=col>c1007_4aq21</th><th scope=col>c1007_4aq22</th><th scope=col>c1007_4aq23</th><th scope=col>h10_pers_income1</th><th scope=col>h10_pers_income2</th><th scope=col>h10_pers_income3</th><th scope=col>h10_pers_income4</th><th scope=col>h10_pers_income5</th></tr>\n",
              "\t<tr><th></th><th scope=col>&lt;dbl&gt;</th><th scope=col>&lt;dbl&gt;</th><th scope=col>&lt;dbl&gt;</th><th scope=col>&lt;dbl&gt;</th><th scope=col>&lt;dbl&gt;</th><th scope=col>&lt;dbl&gt;</th><th scope=col>&lt;dbl&gt;</th><th scope=col>&lt;dbl&gt;</th><th scope=col>&lt;dbl&gt;</th><th scope=col>&lt;dbl&gt;</th><th scope=col>⋯</th><th scope=col>&lt;dbl&gt;</th><th scope=col>&lt;dbl&gt;</th><th scope=col>&lt;dbl&gt;</th><th scope=col>&lt;dbl&gt;</th><th scope=col>&lt;dbl&gt;</th><th scope=col>&lt;dbl&gt;</th><th scope=col>&lt;dbl&gt;</th><th scope=col>&lt;dbl&gt;</th><th scope=col>&lt;dbl&gt;</th><th scope=col>&lt;dbl&gt;</th></tr>\n",
              "</thead>\n",
              "<tbody>\n",
              "\t<tr><th scope=row>1</th><td>1</td><td>1</td><td>1</td><td>10101</td><td>0</td><td>NA</td><td>1</td><td>1</td><td> 864</td><td> 864</td><td>⋯</td><td>NA</td><td>NA</td><td>NA</td><td>NA</td><td>NA</td><td>NA</td><td>  NA</td><td>  NA</td><td>0</td><td>NA</td></tr>\n",
              "\t<tr><th scope=row>2</th><td>2</td><td>1</td><td>1</td><td>20101</td><td>0</td><td>NA</td><td>1</td><td>1</td><td> 600</td><td> 600</td><td>⋯</td><td>NA</td><td>NA</td><td>NA</td><td>NA</td><td>NA</td><td>NA</td><td>  NA</td><td>  NA</td><td>0</td><td>NA</td></tr>\n",
              "\t<tr><th scope=row>3</th><td>3</td><td>1</td><td>1</td><td>30101</td><td>0</td><td>NA</td><td>1</td><td>1</td><td>1571</td><td>1619</td><td>⋯</td><td>NA</td><td>NA</td><td>NA</td><td>NA</td><td>NA</td><td>NA</td><td>1440</td><td>  NA</td><td>0</td><td>NA</td></tr>\n",
              "\t<tr><th scope=row>4</th><td>4</td><td>1</td><td>1</td><td>40101</td><td>0</td><td>NA</td><td>1</td><td>1</td><td>3579</td><td>3687</td><td>⋯</td><td>NA</td><td>NA</td><td>NA</td><td>NA</td><td>NA</td><td>NA</td><td>2400</td><td>  NA</td><td>0</td><td>NA</td></tr>\n",
              "\t<tr><th scope=row>5</th><td>4</td><td>1</td><td>1</td><td>40101</td><td>0</td><td>NA</td><td>1</td><td>1</td><td>3579</td><td>3687</td><td>⋯</td><td>NA</td><td>NA</td><td>NA</td><td>NA</td><td>NA</td><td>NA</td><td>  NA</td><td>  NA</td><td>0</td><td>NA</td></tr>\n",
              "\t<tr><th scope=row>6</th><td>6</td><td>1</td><td>1</td><td>60101</td><td>0</td><td>NA</td><td>1</td><td>1</td><td>3030</td><td>3486</td><td>⋯</td><td>NA</td><td>NA</td><td>NA</td><td>NA</td><td>NA</td><td>NA</td><td>  NA</td><td>3000</td><td>0</td><td>NA</td></tr>\n",
              "</tbody>\n",
              "</table>\n"
            ]
          },
          "metadata": {
            "tags": []
          }
        },
        {
          "output_type": "display_data",
          "data": {
            "text/plain": [
              "      h10_id h10_ind h10_sn h10_merkey h_new h10_cobf h10_reg5 h10_reg7 h10_din\n",
              "16659 9800   7       1      98000701   1     NA       4        5        9764   \n",
              "16660 9800   7       1      98000701   1     NA       4        5        9764   \n",
              "16661 9800   7       1      98000701   1     NA       4        5        9764   \n",
              "16662 9800   7       1      98000701   1     NA       4        5        9764   \n",
              "16663 9800   7       1      98000701   1     NA       4        5        9764   \n",
              "16664 9800   7       1      98000701   1     NA       4        5        9764   \n",
              "      h10_cin ⋯ c1007_4aq19 c1007_4aq20 c1007_4aq21 c1007_4aq22 c1007_4aq23\n",
              "16659 11600   ⋯ NA          NA          NA          NA          NA         \n",
              "16660 11600   ⋯ NA          NA          NA          NA          NA         \n",
              "16661 11600   ⋯ NA          NA          NA          NA          NA         \n",
              "16662 11600   ⋯ NA          NA          NA          NA          NA         \n",
              "16663 11600   ⋯ NA          NA          NA          NA          NA         \n",
              "16664 11600   ⋯ NA          NA          NA          NA          NA         \n",
              "      h10_pers_income1 h10_pers_income2 h10_pers_income3 h10_pers_income4\n",
              "16659   NA              NA              7163             0               \n",
              "16660   NA              NA                NA             0               \n",
              "16661 3630              NA                NA             0               \n",
              "16662   NA             700                NA             0               \n",
              "16663   NA              NA                NA             0               \n",
              "16664   NA              NA                NA             0               \n",
              "      h10_pers_income5\n",
              "16659 NA              \n",
              "16660 NA              \n",
              "16661 NA              \n",
              "16662 NA              \n",
              "16663 NA              \n",
              "16664 NA              "
            ],
            "text/latex": "A data.frame: 6 × 957\n\\begin{tabular}{r|lllllllllllllllllllll}\n  & h10\\_id & h10\\_ind & h10\\_sn & h10\\_merkey & h\\_new & h10\\_cobf & h10\\_reg5 & h10\\_reg7 & h10\\_din & h10\\_cin & ⋯ & c1007\\_4aq19 & c1007\\_4aq20 & c1007\\_4aq21 & c1007\\_4aq22 & c1007\\_4aq23 & h10\\_pers\\_income1 & h10\\_pers\\_income2 & h10\\_pers\\_income3 & h10\\_pers\\_income4 & h10\\_pers\\_income5\\\\\n  & <dbl> & <dbl> & <dbl> & <dbl> & <dbl> & <dbl> & <dbl> & <dbl> & <dbl> & <dbl> & ⋯ & <dbl> & <dbl> & <dbl> & <dbl> & <dbl> & <dbl> & <dbl> & <dbl> & <dbl> & <dbl>\\\\\n\\hline\n\t16659 & 9800 & 7 & 1 & 98000701 & 1 & NA & 4 & 5 & 9764 & 11600 & ⋯ & NA & NA & NA & NA & NA &   NA &  NA & 7163 & 0 & NA\\\\\n\t16660 & 9800 & 7 & 1 & 98000701 & 1 & NA & 4 & 5 & 9764 & 11600 & ⋯ & NA & NA & NA & NA & NA &   NA &  NA &   NA & 0 & NA\\\\\n\t16661 & 9800 & 7 & 1 & 98000701 & 1 & NA & 4 & 5 & 9764 & 11600 & ⋯ & NA & NA & NA & NA & NA & 3630 &  NA &   NA & 0 & NA\\\\\n\t16662 & 9800 & 7 & 1 & 98000701 & 1 & NA & 4 & 5 & 9764 & 11600 & ⋯ & NA & NA & NA & NA & NA &   NA & 700 &   NA & 0 & NA\\\\\n\t16663 & 9800 & 7 & 1 & 98000701 & 1 & NA & 4 & 5 & 9764 & 11600 & ⋯ & NA & NA & NA & NA & NA &   NA &  NA &   NA & 0 & NA\\\\\n\t16664 & 9800 & 7 & 1 & 98000701 & 1 & NA & 4 & 5 & 9764 & 11600 & ⋯ & NA & NA & NA & NA & NA &   NA &  NA &   NA & 0 & NA\\\\\n\\end{tabular}\n",
            "text/markdown": "\nA data.frame: 6 × 957\n\n| <!--/--> | h10_id &lt;dbl&gt; | h10_ind &lt;dbl&gt; | h10_sn &lt;dbl&gt; | h10_merkey &lt;dbl&gt; | h_new &lt;dbl&gt; | h10_cobf &lt;dbl&gt; | h10_reg5 &lt;dbl&gt; | h10_reg7 &lt;dbl&gt; | h10_din &lt;dbl&gt; | h10_cin &lt;dbl&gt; | ⋯ ⋯ | c1007_4aq19 &lt;dbl&gt; | c1007_4aq20 &lt;dbl&gt; | c1007_4aq21 &lt;dbl&gt; | c1007_4aq22 &lt;dbl&gt; | c1007_4aq23 &lt;dbl&gt; | h10_pers_income1 &lt;dbl&gt; | h10_pers_income2 &lt;dbl&gt; | h10_pers_income3 &lt;dbl&gt; | h10_pers_income4 &lt;dbl&gt; | h10_pers_income5 &lt;dbl&gt; |\n|---|---|---|---|---|---|---|---|---|---|---|---|---|---|---|---|---|---|---|---|---|---|\n| 16659 | 9800 | 7 | 1 | 98000701 | 1 | NA | 4 | 5 | 9764 | 11600 | ⋯ | NA | NA | NA | NA | NA |   NA |  NA | 7163 | 0 | NA |\n| 16660 | 9800 | 7 | 1 | 98000701 | 1 | NA | 4 | 5 | 9764 | 11600 | ⋯ | NA | NA | NA | NA | NA |   NA |  NA |   NA | 0 | NA |\n| 16661 | 9800 | 7 | 1 | 98000701 | 1 | NA | 4 | 5 | 9764 | 11600 | ⋯ | NA | NA | NA | NA | NA | 3630 |  NA |   NA | 0 | NA |\n| 16662 | 9800 | 7 | 1 | 98000701 | 1 | NA | 4 | 5 | 9764 | 11600 | ⋯ | NA | NA | NA | NA | NA |   NA | 700 |   NA | 0 | NA |\n| 16663 | 9800 | 7 | 1 | 98000701 | 1 | NA | 4 | 5 | 9764 | 11600 | ⋯ | NA | NA | NA | NA | NA |   NA |  NA |   NA | 0 | NA |\n| 16664 | 9800 | 7 | 1 | 98000701 | 1 | NA | 4 | 5 | 9764 | 11600 | ⋯ | NA | NA | NA | NA | NA |   NA |  NA |   NA | 0 | NA |\n\n",
            "text/html": [
              "<table>\n",
              "<caption>A data.frame: 6 × 957</caption>\n",
              "<thead>\n",
              "\t<tr><th></th><th scope=col>h10_id</th><th scope=col>h10_ind</th><th scope=col>h10_sn</th><th scope=col>h10_merkey</th><th scope=col>h_new</th><th scope=col>h10_cobf</th><th scope=col>h10_reg5</th><th scope=col>h10_reg7</th><th scope=col>h10_din</th><th scope=col>h10_cin</th><th scope=col>⋯</th><th scope=col>c1007_4aq19</th><th scope=col>c1007_4aq20</th><th scope=col>c1007_4aq21</th><th scope=col>c1007_4aq22</th><th scope=col>c1007_4aq23</th><th scope=col>h10_pers_income1</th><th scope=col>h10_pers_income2</th><th scope=col>h10_pers_income3</th><th scope=col>h10_pers_income4</th><th scope=col>h10_pers_income5</th></tr>\n",
              "\t<tr><th></th><th scope=col>&lt;dbl&gt;</th><th scope=col>&lt;dbl&gt;</th><th scope=col>&lt;dbl&gt;</th><th scope=col>&lt;dbl&gt;</th><th scope=col>&lt;dbl&gt;</th><th scope=col>&lt;dbl&gt;</th><th scope=col>&lt;dbl&gt;</th><th scope=col>&lt;dbl&gt;</th><th scope=col>&lt;dbl&gt;</th><th scope=col>&lt;dbl&gt;</th><th scope=col>⋯</th><th scope=col>&lt;dbl&gt;</th><th scope=col>&lt;dbl&gt;</th><th scope=col>&lt;dbl&gt;</th><th scope=col>&lt;dbl&gt;</th><th scope=col>&lt;dbl&gt;</th><th scope=col>&lt;dbl&gt;</th><th scope=col>&lt;dbl&gt;</th><th scope=col>&lt;dbl&gt;</th><th scope=col>&lt;dbl&gt;</th><th scope=col>&lt;dbl&gt;</th></tr>\n",
              "</thead>\n",
              "<tbody>\n",
              "\t<tr><th scope=row>16659</th><td>9800</td><td>7</td><td>1</td><td>98000701</td><td>1</td><td>NA</td><td>4</td><td>5</td><td>9764</td><td>11600</td><td>⋯</td><td>NA</td><td>NA</td><td>NA</td><td>NA</td><td>NA</td><td>  NA</td><td> NA</td><td>7163</td><td>0</td><td>NA</td></tr>\n",
              "\t<tr><th scope=row>16660</th><td>9800</td><td>7</td><td>1</td><td>98000701</td><td>1</td><td>NA</td><td>4</td><td>5</td><td>9764</td><td>11600</td><td>⋯</td><td>NA</td><td>NA</td><td>NA</td><td>NA</td><td>NA</td><td>  NA</td><td> NA</td><td>  NA</td><td>0</td><td>NA</td></tr>\n",
              "\t<tr><th scope=row>16661</th><td>9800</td><td>7</td><td>1</td><td>98000701</td><td>1</td><td>NA</td><td>4</td><td>5</td><td>9764</td><td>11600</td><td>⋯</td><td>NA</td><td>NA</td><td>NA</td><td>NA</td><td>NA</td><td>3630</td><td> NA</td><td>  NA</td><td>0</td><td>NA</td></tr>\n",
              "\t<tr><th scope=row>16662</th><td>9800</td><td>7</td><td>1</td><td>98000701</td><td>1</td><td>NA</td><td>4</td><td>5</td><td>9764</td><td>11600</td><td>⋯</td><td>NA</td><td>NA</td><td>NA</td><td>NA</td><td>NA</td><td>  NA</td><td>700</td><td>  NA</td><td>0</td><td>NA</td></tr>\n",
              "\t<tr><th scope=row>16663</th><td>9800</td><td>7</td><td>1</td><td>98000701</td><td>1</td><td>NA</td><td>4</td><td>5</td><td>9764</td><td>11600</td><td>⋯</td><td>NA</td><td>NA</td><td>NA</td><td>NA</td><td>NA</td><td>  NA</td><td> NA</td><td>  NA</td><td>0</td><td>NA</td></tr>\n",
              "\t<tr><th scope=row>16664</th><td>9800</td><td>7</td><td>1</td><td>98000701</td><td>1</td><td>NA</td><td>4</td><td>5</td><td>9764</td><td>11600</td><td>⋯</td><td>NA</td><td>NA</td><td>NA</td><td>NA</td><td>NA</td><td>  NA</td><td> NA</td><td>  NA</td><td>0</td><td>NA</td></tr>\n",
              "</tbody>\n",
              "</table>\n"
            ]
          },
          "metadata": {
            "tags": []
          }
        },
        {
          "output_type": "error",
          "ename": "ERROR",
          "evalue": "ignored",
          "traceback": [
            "Error in View(raw_welfare): ‘View()’ not yet supported in the Jupyter R kernel\nTraceback:\n",
            "1. View(raw_welfare)",
            "2. stop(sQuote(\"View()\"), \" not yet supported in the Jupyter R kernel\")"
          ]
        }
      ]
    },
    {
      "cell_type": "code",
      "metadata": {
        "id": "dJ9bEGYxHSFO",
        "colab_type": "code",
        "colab": {}
      },
      "source": [
        "welfare <- raw_welfare"
      ],
      "execution_count": 0,
      "outputs": []
    },
    {
      "cell_type": "code",
      "metadata": {
        "id": "00YnYq6bHbOO",
        "colab_type": "code",
        "colab": {}
      },
      "source": [
        "welfare <- rename(welfare,                   sex = h10_g3,            # 성별\n",
        "                   birth = h10_g4,          # 태어난 연도\n",
        "                   marriage = h10_g10,      # 혼인 상태\n",
        "                   religion = h10_g11,      # 종교\n",
        "                   income = p1002_8aq1,     # 월급\n",
        "                   code_job = h10_eco9,     # 직종 코드\n",
        "                   code_region = h10_reg7)  # 지역 코드\n",
        " "
      ],
      "execution_count": 0,
      "outputs": []
    },
    {
      "cell_type": "code",
      "metadata": {
        "id": "LYqBQXWqHePu",
        "colab_type": "code",
        "outputId": "a95b71f4-f136-4608-9e1b-524122486b4c",
        "colab": {
          "base_uri": "https://localhost:8080/",
          "height": 224
        }
      },
      "source": [
        "welfare %>% head()"
      ],
      "execution_count": 8,
      "outputs": [
        {
          "output_type": "display_data",
          "data": {
            "text/plain": [
              "  h10_id h10_ind h10_sn h10_merkey h_new h10_cobf h10_reg5 code_region h10_din\n",
              "1 1      1       1      10101      0     NA       1        1            864   \n",
              "2 2      1       1      20101      0     NA       1        1            600   \n",
              "3 3      1       1      30101      0     NA       1        1           1571   \n",
              "4 4      1       1      40101      0     NA       1        1           3579   \n",
              "5 4      1       1      40101      0     NA       1        1           3579   \n",
              "6 6      1       1      60101      0     NA       1        1           3030   \n",
              "  h10_cin ⋯ c1007_4aq19 c1007_4aq20 c1007_4aq21 c1007_4aq22 c1007_4aq23\n",
              "1  864    ⋯ NA          NA          NA          NA          NA         \n",
              "2  600    ⋯ NA          NA          NA          NA          NA         \n",
              "3 1619    ⋯ NA          NA          NA          NA          NA         \n",
              "4 3687    ⋯ NA          NA          NA          NA          NA         \n",
              "5 3687    ⋯ NA          NA          NA          NA          NA         \n",
              "6 3486    ⋯ NA          NA          NA          NA          NA         \n",
              "  h10_pers_income1 h10_pers_income2 h10_pers_income3 h10_pers_income4\n",
              "1 NA                 NA               NA             0               \n",
              "2 NA                 NA               NA             0               \n",
              "3 NA               1440               NA             0               \n",
              "4 NA               2400               NA             0               \n",
              "5 NA                 NA               NA             0               \n",
              "6 NA                 NA             3000             0               \n",
              "  h10_pers_income5\n",
              "1 NA              \n",
              "2 NA              \n",
              "3 NA              \n",
              "4 NA              \n",
              "5 NA              \n",
              "6 NA              "
            ],
            "text/latex": "A data.frame: 6 × 957\n\\begin{tabular}{r|lllllllllllllllllllll}\n  & h10\\_id & h10\\_ind & h10\\_sn & h10\\_merkey & h\\_new & h10\\_cobf & h10\\_reg5 & code\\_region & h10\\_din & h10\\_cin & ⋯ & c1007\\_4aq19 & c1007\\_4aq20 & c1007\\_4aq21 & c1007\\_4aq22 & c1007\\_4aq23 & h10\\_pers\\_income1 & h10\\_pers\\_income2 & h10\\_pers\\_income3 & h10\\_pers\\_income4 & h10\\_pers\\_income5\\\\\n  & <dbl> & <dbl> & <dbl> & <dbl> & <dbl> & <dbl> & <dbl> & <dbl> & <dbl> & <dbl> & ⋯ & <dbl> & <dbl> & <dbl> & <dbl> & <dbl> & <dbl> & <dbl> & <dbl> & <dbl> & <dbl>\\\\\n\\hline\n\t1 & 1 & 1 & 1 & 10101 & 0 & NA & 1 & 1 &  864 &  864 & ⋯ & NA & NA & NA & NA & NA & NA &   NA &   NA & 0 & NA\\\\\n\t2 & 2 & 1 & 1 & 20101 & 0 & NA & 1 & 1 &  600 &  600 & ⋯ & NA & NA & NA & NA & NA & NA &   NA &   NA & 0 & NA\\\\\n\t3 & 3 & 1 & 1 & 30101 & 0 & NA & 1 & 1 & 1571 & 1619 & ⋯ & NA & NA & NA & NA & NA & NA & 1440 &   NA & 0 & NA\\\\\n\t4 & 4 & 1 & 1 & 40101 & 0 & NA & 1 & 1 & 3579 & 3687 & ⋯ & NA & NA & NA & NA & NA & NA & 2400 &   NA & 0 & NA\\\\\n\t5 & 4 & 1 & 1 & 40101 & 0 & NA & 1 & 1 & 3579 & 3687 & ⋯ & NA & NA & NA & NA & NA & NA &   NA &   NA & 0 & NA\\\\\n\t6 & 6 & 1 & 1 & 60101 & 0 & NA & 1 & 1 & 3030 & 3486 & ⋯ & NA & NA & NA & NA & NA & NA &   NA & 3000 & 0 & NA\\\\\n\\end{tabular}\n",
            "text/markdown": "\nA data.frame: 6 × 957\n\n| <!--/--> | h10_id &lt;dbl&gt; | h10_ind &lt;dbl&gt; | h10_sn &lt;dbl&gt; | h10_merkey &lt;dbl&gt; | h_new &lt;dbl&gt; | h10_cobf &lt;dbl&gt; | h10_reg5 &lt;dbl&gt; | code_region &lt;dbl&gt; | h10_din &lt;dbl&gt; | h10_cin &lt;dbl&gt; | ⋯ ⋯ | c1007_4aq19 &lt;dbl&gt; | c1007_4aq20 &lt;dbl&gt; | c1007_4aq21 &lt;dbl&gt; | c1007_4aq22 &lt;dbl&gt; | c1007_4aq23 &lt;dbl&gt; | h10_pers_income1 &lt;dbl&gt; | h10_pers_income2 &lt;dbl&gt; | h10_pers_income3 &lt;dbl&gt; | h10_pers_income4 &lt;dbl&gt; | h10_pers_income5 &lt;dbl&gt; |\n|---|---|---|---|---|---|---|---|---|---|---|---|---|---|---|---|---|---|---|---|---|---|\n| 1 | 1 | 1 | 1 | 10101 | 0 | NA | 1 | 1 |  864 |  864 | ⋯ | NA | NA | NA | NA | NA | NA |   NA |   NA | 0 | NA |\n| 2 | 2 | 1 | 1 | 20101 | 0 | NA | 1 | 1 |  600 |  600 | ⋯ | NA | NA | NA | NA | NA | NA |   NA |   NA | 0 | NA |\n| 3 | 3 | 1 | 1 | 30101 | 0 | NA | 1 | 1 | 1571 | 1619 | ⋯ | NA | NA | NA | NA | NA | NA | 1440 |   NA | 0 | NA |\n| 4 | 4 | 1 | 1 | 40101 | 0 | NA | 1 | 1 | 3579 | 3687 | ⋯ | NA | NA | NA | NA | NA | NA | 2400 |   NA | 0 | NA |\n| 5 | 4 | 1 | 1 | 40101 | 0 | NA | 1 | 1 | 3579 | 3687 | ⋯ | NA | NA | NA | NA | NA | NA |   NA |   NA | 0 | NA |\n| 6 | 6 | 1 | 1 | 60101 | 0 | NA | 1 | 1 | 3030 | 3486 | ⋯ | NA | NA | NA | NA | NA | NA |   NA | 3000 | 0 | NA |\n\n",
            "text/html": [
              "<table>\n",
              "<caption>A data.frame: 6 × 957</caption>\n",
              "<thead>\n",
              "\t<tr><th></th><th scope=col>h10_id</th><th scope=col>h10_ind</th><th scope=col>h10_sn</th><th scope=col>h10_merkey</th><th scope=col>h_new</th><th scope=col>h10_cobf</th><th scope=col>h10_reg5</th><th scope=col>code_region</th><th scope=col>h10_din</th><th scope=col>h10_cin</th><th scope=col>⋯</th><th scope=col>c1007_4aq19</th><th scope=col>c1007_4aq20</th><th scope=col>c1007_4aq21</th><th scope=col>c1007_4aq22</th><th scope=col>c1007_4aq23</th><th scope=col>h10_pers_income1</th><th scope=col>h10_pers_income2</th><th scope=col>h10_pers_income3</th><th scope=col>h10_pers_income4</th><th scope=col>h10_pers_income5</th></tr>\n",
              "\t<tr><th></th><th scope=col>&lt;dbl&gt;</th><th scope=col>&lt;dbl&gt;</th><th scope=col>&lt;dbl&gt;</th><th scope=col>&lt;dbl&gt;</th><th scope=col>&lt;dbl&gt;</th><th scope=col>&lt;dbl&gt;</th><th scope=col>&lt;dbl&gt;</th><th scope=col>&lt;dbl&gt;</th><th scope=col>&lt;dbl&gt;</th><th scope=col>&lt;dbl&gt;</th><th scope=col>⋯</th><th scope=col>&lt;dbl&gt;</th><th scope=col>&lt;dbl&gt;</th><th scope=col>&lt;dbl&gt;</th><th scope=col>&lt;dbl&gt;</th><th scope=col>&lt;dbl&gt;</th><th scope=col>&lt;dbl&gt;</th><th scope=col>&lt;dbl&gt;</th><th scope=col>&lt;dbl&gt;</th><th scope=col>&lt;dbl&gt;</th><th scope=col>&lt;dbl&gt;</th></tr>\n",
              "</thead>\n",
              "<tbody>\n",
              "\t<tr><th scope=row>1</th><td>1</td><td>1</td><td>1</td><td>10101</td><td>0</td><td>NA</td><td>1</td><td>1</td><td> 864</td><td> 864</td><td>⋯</td><td>NA</td><td>NA</td><td>NA</td><td>NA</td><td>NA</td><td>NA</td><td>  NA</td><td>  NA</td><td>0</td><td>NA</td></tr>\n",
              "\t<tr><th scope=row>2</th><td>2</td><td>1</td><td>1</td><td>20101</td><td>0</td><td>NA</td><td>1</td><td>1</td><td> 600</td><td> 600</td><td>⋯</td><td>NA</td><td>NA</td><td>NA</td><td>NA</td><td>NA</td><td>NA</td><td>  NA</td><td>  NA</td><td>0</td><td>NA</td></tr>\n",
              "\t<tr><th scope=row>3</th><td>3</td><td>1</td><td>1</td><td>30101</td><td>0</td><td>NA</td><td>1</td><td>1</td><td>1571</td><td>1619</td><td>⋯</td><td>NA</td><td>NA</td><td>NA</td><td>NA</td><td>NA</td><td>NA</td><td>1440</td><td>  NA</td><td>0</td><td>NA</td></tr>\n",
              "\t<tr><th scope=row>4</th><td>4</td><td>1</td><td>1</td><td>40101</td><td>0</td><td>NA</td><td>1</td><td>1</td><td>3579</td><td>3687</td><td>⋯</td><td>NA</td><td>NA</td><td>NA</td><td>NA</td><td>NA</td><td>NA</td><td>2400</td><td>  NA</td><td>0</td><td>NA</td></tr>\n",
              "\t<tr><th scope=row>5</th><td>4</td><td>1</td><td>1</td><td>40101</td><td>0</td><td>NA</td><td>1</td><td>1</td><td>3579</td><td>3687</td><td>⋯</td><td>NA</td><td>NA</td><td>NA</td><td>NA</td><td>NA</td><td>NA</td><td>  NA</td><td>  NA</td><td>0</td><td>NA</td></tr>\n",
              "\t<tr><th scope=row>6</th><td>6</td><td>1</td><td>1</td><td>60101</td><td>0</td><td>NA</td><td>1</td><td>1</td><td>3030</td><td>3486</td><td>⋯</td><td>NA</td><td>NA</td><td>NA</td><td>NA</td><td>NA</td><td>NA</td><td>  NA</td><td>3000</td><td>0</td><td>NA</td></tr>\n",
              "</tbody>\n",
              "</table>\n"
            ]
          },
          "metadata": {
            "tags": []
          }
        }
      ]
    },
    {
      "cell_type": "code",
      "metadata": {
        "id": "WfQHEOd_HgFW",
        "colab_type": "code",
        "outputId": "f61b07a4-b90c-4f04-cffa-98108477ee79",
        "colab": {
          "base_uri": "https://localhost:8080/",
          "height": 35
        }
      },
      "source": [
        "class(welfare$sex) "
      ],
      "execution_count": 9,
      "outputs": [
        {
          "output_type": "display_data",
          "data": {
            "text/plain": [
              "[1] \"numeric\""
            ],
            "text/latex": "'numeric'",
            "text/markdown": "'numeric'",
            "text/html": [
              "'numeric'"
            ]
          },
          "metadata": {
            "tags": []
          }
        }
      ]
    },
    {
      "cell_type": "code",
      "metadata": {
        "id": "gTUFM98UH0X4",
        "colab_type": "code",
        "outputId": "eef04485-331c-44a6-b09e-53a01e8e8777",
        "colab": {
          "base_uri": "https://localhost:8080/",
          "height": 72
        }
      },
      "source": [
        "table(welfare$sex)"
      ],
      "execution_count": 10,
      "outputs": [
        {
          "output_type": "display_data",
          "data": {
            "text/plain": [
              "\n",
              "   1    2 \n",
              "7578 9086 "
            ]
          },
          "metadata": {
            "tags": []
          }
        }
      ]
    },
    {
      "cell_type": "code",
      "metadata": {
        "id": "8WBUrjyvH00e",
        "colab_type": "code",
        "colab": {}
      },
      "source": [
        "welfare$sex <- ifelse(welfare$sex == 9, NA, welfare$sex) "
      ],
      "execution_count": 0,
      "outputs": []
    },
    {
      "cell_type": "code",
      "metadata": {
        "id": "YfYzjbM4IQLG",
        "colab_type": "code",
        "outputId": "f48c8743-bf25-4817-c9d9-f1f08209fe43",
        "colab": {
          "base_uri": "https://localhost:8080/",
          "height": 72
        }
      },
      "source": [
        "table(is.na(welfare$sex)) "
      ],
      "execution_count": 12,
      "outputs": [
        {
          "output_type": "display_data",
          "data": {
            "text/plain": [
              "\n",
              "FALSE \n",
              "16664 "
            ]
          },
          "metadata": {
            "tags": []
          }
        }
      ]
    },
    {
      "cell_type": "code",
      "metadata": {
        "id": "6iexZyOAIShm",
        "colab_type": "code",
        "outputId": "1f97bab5-75fb-4cd1-aa76-44701fdecb95",
        "colab": {
          "base_uri": "https://localhost:8080/",
          "height": 510
        }
      },
      "source": [
        "qplot(welfare$income) "
      ],
      "execution_count": 13,
      "outputs": [
        {
          "output_type": "stream",
          "text": [
            "`stat_bin()` using `bins = 30`. Pick better value with `binwidth`.\n",
            "\n",
            "Warning message:\n",
            "“Removed 12030 rows containing non-finite values (stat_bin).”\n"
          ],
          "name": "stderr"
        },
        {
          "output_type": "display_data",
          "data": {
            "image/png": "[encoded data removed]",
            "text/plain": [
              "plot without title"
            ]
          },
          "metadata": {
            "tags": [],
            "image/png": {
              "width": 420,
              "height": 420
            },
            "text/plain": {
              "width": 420,
              "height": 420
            }
          }
        }
      ]
    },
    {
      "cell_type": "code",
      "metadata": {
        "id": "8Ac9KYfnI4Nu",
        "colab_type": "code",
        "outputId": "b16c76b8-b645-4384-deb0-c7fca658a99b",
        "colab": {
          "base_uri": "https://localhost:8080/",
          "height": 54
        }
      },
      "source": [
        "# 이상치 확인\n",
        "summary(welfare$income)"
      ],
      "execution_count": 14,
      "outputs": [
        {
          "output_type": "display_data",
          "data": {
            "text/plain": [
              "   Min. 1st Qu.  Median    Mean 3rd Qu.    Max.    NA's \n",
              "    0.0   122.0   192.5   241.6   316.6  2400.0   12030 "
            ]
          },
          "metadata": {
            "tags": []
          }
        }
      ]
    },
    {
      "cell_type": "code",
      "metadata": {
        "id": "7qr7-MclKNtP",
        "colab_type": "code",
        "colab": {}
      },
      "source": [
        "# 이상치 결측 처리\n",
        " welfare$income <- ifelse(welfare$income %in% c(0, 9999), NA, welfare$income) "
      ],
      "execution_count": 0,
      "outputs": []
    },
    {
      "cell_type": "code",
      "metadata": {
        "id": "PzbILg-LKQtF",
        "colab_type": "code",
        "outputId": "b6cf209d-67d8-4dca-da97-e9073d645b1a",
        "colab": {
          "base_uri": "https://localhost:8080/",
          "height": 72
        }
      },
      "source": [
        "# 결측치 확인\n",
        " table(is.na(welfare$income)) "
      ],
      "execution_count": 16,
      "outputs": [
        {
          "output_type": "display_data",
          "data": {
            "text/plain": [
              "\n",
              "FALSE  TRUE \n",
              " 4620 12044 "
            ]
          },
          "metadata": {
            "tags": []
          }
        }
      ]
    },
    {
      "cell_type": "code",
      "metadata": {
        "id": "lOSR0GZOKWk9",
        "colab_type": "code",
        "outputId": "f43278dc-a21a-4f84-b02d-704cd8b2a6a9",
        "colab": {
          "base_uri": "https://localhost:8080/",
          "height": 120
        }
      },
      "source": [
        "sex_income <- welfare %>%   filter(!is.na(income)) %>%   group_by(sex) %>%   summarise(mean_income = mean(income))\n",
        "sex_income "
      ],
      "execution_count": 17,
      "outputs": [
        {
          "output_type": "display_data",
          "data": {
            "text/plain": [
              "  sex mean_income\n",
              "1 1   312.2932   \n",
              "2 2   163.2471   "
            ],
            "text/latex": "A tibble: 2 × 2\n\\begin{tabular}{ll}\n sex & mean\\_income\\\\\n <dbl> & <dbl>\\\\\n\\hline\n\t 1 & 312.2932\\\\\n\t 2 & 163.2471\\\\\n\\end{tabular}\n",
            "text/markdown": "\nA tibble: 2 × 2\n\n| sex &lt;dbl&gt; | mean_income &lt;dbl&gt; |\n|---|---|\n| 1 | 312.2932 |\n| 2 | 163.2471 |\n\n",
            "text/html": [
              "<table>\n",
              "<caption>A tibble: 2 × 2</caption>\n",
              "<thead>\n",
              "\t<tr><th scope=col>sex</th><th scope=col>mean_income</th></tr>\n",
              "\t<tr><th scope=col>&lt;dbl&gt;</th><th scope=col>&lt;dbl&gt;</th></tr>\n",
              "</thead>\n",
              "<tbody>\n",
              "\t<tr><td>1</td><td>312.2932</td></tr>\n",
              "\t<tr><td>2</td><td>163.2471</td></tr>\n",
              "</tbody>\n",
              "</table>\n"
            ]
          },
          "metadata": {
            "tags": []
          }
        }
      ]
    },
    {
      "cell_type": "code",
      "metadata": {
        "id": "cdd2fTlfKakt",
        "colab_type": "code",
        "outputId": "7d760a48-f87e-4c56-b7d1-a274feb1cc67",
        "colab": {
          "base_uri": "https://localhost:8080/",
          "height": 437
        }
      },
      "source": [
        "ggplot(data = sex_income, aes(x = sex, y = mean_income)) + geom_col() "
      ],
      "execution_count": 18,
      "outputs": [
        {
          "output_type": "display_data",
          "data": {
            "image/png": "[encoded data removed]",
            "text/plain": [
              "plot without title"
            ]
          },
          "metadata": {
            "tags": [],
            "image/png": {
              "width": 420,
              "height": 420
            },
            "text/plain": {
              "width": 420,
              "height": 420
            }
          }
        }
      ]
    },
    {
      "cell_type": "code",
      "metadata": {
        "id": "ApYkaL7rKcg1",
        "colab_type": "code",
        "outputId": "c205101f-461b-4708-9425-1ba3f8013a15",
        "colab": {
          "base_uri": "https://localhost:8080/",
          "height": 35
        }
      },
      "source": [
        "class(welfare$birth) "
      ],
      "execution_count": 19,
      "outputs": [
        {
          "output_type": "display_data",
          "data": {
            "text/plain": [
              "[1] \"numeric\""
            ],
            "text/latex": "'numeric'",
            "text/markdown": "'numeric'",
            "text/html": [
              "'numeric'"
            ]
          },
          "metadata": {
            "tags": []
          }
        }
      ]
    },
    {
      "cell_type": "code",
      "metadata": {
        "id": "pz-PBKadtjuC",
        "colab_type": "code",
        "colab": {
          "base_uri": "https://localhost:8080/",
          "height": 54
        },
        "outputId": "cf4ad2b2-63a5-434e-cf89-c0cd2e64efa0"
      },
      "source": [
        "welfare$age <- 2015 - welfare$birth + 1 \n",
        "summary(welfare$age)"
      ],
      "execution_count": 25,
      "outputs": [
        {
          "output_type": "display_data",
          "data": {
            "text/plain": [
              "   Min. 1st Qu.  Median    Mean 3rd Qu.    Max. \n",
              "   2.00   28.00   50.00   48.43   70.00  109.00 "
            ]
          },
          "metadata": {
            "tags": []
          }
        }
      ]
    },
    {
      "cell_type": "markdown",
      "metadata": {
        "id": "lAWkRlKZtWuj",
        "colab_type": "text"
      },
      "source": [
        "# 나이와 월급의 관계 분석하기 \n",
        " - 1. 나이에 따른 월급 평균표 만들기 "
      ]
    },
    {
      "cell_type": "code",
      "metadata": {
        "id": "UEWtv6qwKebd",
        "colab_type": "code",
        "colab": {
          "base_uri": "https://localhost:8080/",
          "height": 204
        },
        "outputId": "0b71bae8-ac6d-46d9-eb97-0d01cfea38a5"
      },
      "source": [
        "age_income <- welfare %>%   filter(!is.na(income)) %>%   group_by(age) %>%   summarise(mean_income = mean(income)) \n",
        "head(age_income)"
      ],
      "execution_count": 26,
      "outputs": [
        {
          "output_type": "display_data",
          "data": {
            "text/plain": [
              "  age mean_income\n",
              "1 20  121.3000   \n",
              "2 21  105.5185   \n",
              "3 22  130.0923   \n",
              "4 23  141.7157   \n",
              "5 24  134.0877   \n",
              "6 25  144.6559   "
            ],
            "text/latex": "A tibble: 6 × 2\n\\begin{tabular}{ll}\n age & mean\\_income\\\\\n <dbl> & <dbl>\\\\\n\\hline\n\t 20 & 121.3000\\\\\n\t 21 & 105.5185\\\\\n\t 22 & 130.0923\\\\\n\t 23 & 141.7157\\\\\n\t 24 & 134.0877\\\\\n\t 25 & 144.6559\\\\\n\\end{tabular}\n",
            "text/markdown": "\nA tibble: 6 × 2\n\n| age &lt;dbl&gt; | mean_income &lt;dbl&gt; |\n|---|---|\n| 20 | 121.3000 |\n| 21 | 105.5185 |\n| 22 | 130.0923 |\n| 23 | 141.7157 |\n| 24 | 134.0877 |\n| 25 | 144.6559 |\n\n",
            "text/html": [
              "<table>\n",
              "<caption>A tibble: 6 × 2</caption>\n",
              "<thead>\n",
              "\t<tr><th scope=col>age</th><th scope=col>mean_income</th></tr>\n",
              "\t<tr><th scope=col>&lt;dbl&gt;</th><th scope=col>&lt;dbl&gt;</th></tr>\n",
              "</thead>\n",
              "<tbody>\n",
              "\t<tr><td>20</td><td>121.3000</td></tr>\n",
              "\t<tr><td>21</td><td>105.5185</td></tr>\n",
              "\t<tr><td>22</td><td>130.0923</td></tr>\n",
              "\t<tr><td>23</td><td>141.7157</td></tr>\n",
              "\t<tr><td>24</td><td>134.0877</td></tr>\n",
              "\t<tr><td>25</td><td>144.6559</td></tr>\n",
              "</tbody>\n",
              "</table>\n"
            ]
          },
          "metadata": {
            "tags": []
          }
        }
      ]
    },
    {
      "cell_type": "markdown",
      "metadata": {
        "id": "H-_e0nRStuH4",
        "colab_type": "text"
      },
      "source": [
        "- 2. 그래프 만들기\n"
      ]
    },
    {
      "cell_type": "code",
      "metadata": {
        "id": "vwO1w90Htcso",
        "colab_type": "code",
        "colab": {
          "base_uri": "https://localhost:8080/",
          "height": 437
        },
        "outputId": "3406b5a6-51fc-455b-87ed-b2cecd893ba8"
      },
      "source": [
        "ggplot(data = age_income, aes(x = age, y = mean_income)) + geom_line() "
      ],
      "execution_count": 27,
      "outputs": [
        {
          "output_type": "display_data",
          "data": {
            "image/png": "[encoded data removed]",
            "text/plain": [
              "plot without title"
            ]
          },
          "metadata": {
            "tags": [],
            "image/png": {
              "width": 420,
              "height": 420
            },
            "text/plain": {
              "width": 420,
              "height": 420
            }
          }
        }
      ]
    },
    {
      "cell_type": "markdown",
      "metadata": {
        "id": "Yq9RORrXt7ax",
        "colab_type": "text"
      },
      "source": [
        "# 연령대 변수 검토 및 전처리하기 \n",
        "- 파생변수 만들기 - 연령대"
      ]
    },
    {
      "cell_type": "code",
      "metadata": {
        "id": "VH09bJ4ctyGX",
        "colab_type": "code",
        "colab": {
          "base_uri": "https://localhost:8080/",
          "height": 72
        },
        "outputId": "f05a023c-2033-40c8-f58f-496158a3813f"
      },
      "source": [
        " welfare <- welfare %>%   mutate(ageg = ifelse(age < 30, \"young\",                        \n",
        "                                    ifelse(age <= 59, \"middle\", \"old\"))) \n",
        " \n",
        "table(welfare$ageg) "
      ],
      "execution_count": 28,
      "outputs": [
        {
          "output_type": "display_data",
          "data": {
            "text/plain": [
              "\n",
              "middle    old  young \n",
              "  6049   6281   4334 "
            ]
          },
          "metadata": {
            "tags": []
          }
        }
      ]
    },
    {
      "cell_type": "code",
      "metadata": {
        "id": "YiENqyZiuXrO",
        "colab_type": "code",
        "colab": {
          "base_uri": "https://localhost:8080/",
          "height": 437
        },
        "outputId": "7b77708d-4d28-4368-b87f-6ae0a895af2d"
      },
      "source": [
        "qplot(welfare$ageg) "
      ],
      "execution_count": 29,
      "outputs": [
        {
          "output_type": "display_data",
          "data": {
            "image/png": "[encoded data removed]",
            "text/plain": [
              "plot without title"
            ]
          },
          "metadata": {
            "tags": [],
            "image/png": {
              "width": 420,
              "height": 420
            },
            "text/plain": {
              "width": 420,
              "height": 420
            }
          }
        }
      ]
    },
    {
      "cell_type": "markdown",
      "metadata": {
        "id": "-g4jrEHXueTZ",
        "colab_type": "text"
      },
      "source": [
        "# 연령대에 따른 월급 차이 분석하기 \n",
        "- 1. 연령대별 월급 평균표 만들기 "
      ]
    },
    {
      "cell_type": "code",
      "metadata": {
        "id": "wsA1wopBuctQ",
        "colab_type": "code",
        "colab": {
          "base_uri": "https://localhost:8080/",
          "height": 141
        },
        "outputId": "3b98d764-cffd-456b-eaf0-e4d98e41fb57"
      },
      "source": [
        "ageg_income <- welfare %>%   filter(!is.na(income)) %>%   group_by(ageg) %>%   summarise(mean_income = mean(income)) \n",
        " \n",
        "ageg_income "
      ],
      "execution_count": 30,
      "outputs": [
        {
          "output_type": "display_data",
          "data": {
            "text/plain": [
              "  ageg   mean_income\n",
              "1 middle 281.8871   \n",
              "2 old    125.3295   \n",
              "3 young  163.5953   "
            ],
            "text/latex": "A tibble: 3 × 2\n\\begin{tabular}{ll}\n ageg & mean\\_income\\\\\n <chr> & <dbl>\\\\\n\\hline\n\t middle & 281.8871\\\\\n\t old    & 125.3295\\\\\n\t young  & 163.5953\\\\\n\\end{tabular}\n",
            "text/markdown": "\nA tibble: 3 × 2\n\n| ageg &lt;chr&gt; | mean_income &lt;dbl&gt; |\n|---|---|\n| middle | 281.8871 |\n| old    | 125.3295 |\n| young  | 163.5953 |\n\n",
            "text/html": [
              "<table>\n",
              "<caption>A tibble: 3 × 2</caption>\n",
              "<thead>\n",
              "\t<tr><th scope=col>ageg</th><th scope=col>mean_income</th></tr>\n",
              "\t<tr><th scope=col>&lt;chr&gt;</th><th scope=col>&lt;dbl&gt;</th></tr>\n",
              "</thead>\n",
              "<tbody>\n",
              "\t<tr><td>middle</td><td>281.8871</td></tr>\n",
              "\t<tr><td>old   </td><td>125.3295</td></tr>\n",
              "\t<tr><td>young </td><td>163.5953</td></tr>\n",
              "</tbody>\n",
              "</table>\n"
            ]
          },
          "metadata": {
            "tags": []
          }
        }
      ]
    },
    {
      "cell_type": "markdown",
      "metadata": {
        "id": "W0pqr0HyukkL",
        "colab_type": "text"
      },
      "source": [
        "- 2. 그래프 만들기 "
      ]
    },
    {
      "cell_type": "code",
      "metadata": {
        "id": "RpIhUUQzuiRI",
        "colab_type": "code",
        "colab": {
          "base_uri": "https://localhost:8080/",
          "height": 437
        },
        "outputId": "e1405a61-ecb3-4047-cff8-c8cafba39077"
      },
      "source": [
        "ggplot(data = ageg_income, aes(x = ageg, y = mean_income)) + geom_col() "
      ],
      "execution_count": 31,
      "outputs": [
        {
          "output_type": "display_data",
          "data": {
            "image/png": "[encoded data removed]",
            "text/plain": [
              "plot without title"
            ]
          },
          "metadata": {
            "tags": [],
            "image/png": {
              "width": 420,
              "height": 420
            },
            "text/plain": {
              "width": 420,
              "height": 420
            }
          }
        }
      ]
    },
    {
      "cell_type": "markdown",
      "metadata": {
        "id": "GxwNvJcGuscy",
        "colab_type": "text"
      },
      "source": [
        "- 막대 정렬 : 초년, 중년, 노년 나이 순 "
      ]
    },
    {
      "cell_type": "code",
      "metadata": {
        "id": "yWbsZ6RPupLY",
        "colab_type": "code",
        "colab": {
          "base_uri": "https://localhost:8080/",
          "height": 437
        },
        "outputId": "23def3ff-cfcc-49c8-c9e3-8f223677b033"
      },
      "source": [
        "ggplot(data = ageg_income, aes(x = ageg, y = mean_income)) +   geom_col() +   scale_x_discrete(limits = c(\"young\", \"middle\", \"old\")) "
      ],
      "execution_count": 32,
      "outputs": [
        {
          "output_type": "display_data",
          "data": {
            "image/png": "[encoded data removed]",
            "text/plain": [
              "plot without title"
            ]
          },
          "metadata": {
            "tags": [],
            "image/png": {
              "width": 420,
              "height": 420
            },
            "text/plain": {
              "width": 420,
              "height": 420
            }
          }
        }
      ]
    },
    {
      "cell_type": "markdown",
      "metadata": {
        "id": "uAIxqUd_vHgx",
        "colab_type": "text"
      },
      "source": [
        "# 연령대 및 성별 월급 차이 분석하기 \n",
        "- 1. 연령대 및 성별 월급 평균표 만들기 "
      ]
    },
    {
      "cell_type": "code",
      "metadata": {
        "id": "qI_N_ZbvwBzC",
        "colab_type": "code",
        "colab": {
          "base_uri": "https://localhost:8080/",
          "height": 72
        },
        "outputId": "42bf854b-e28b-49b6-cf41-1a69a9973689"
      },
      "source": [
        "welfare$sex <- ifelse(welfare$sex == 1, \"male\", \"female\") \n",
        "table(welfare$sex)"
      ],
      "execution_count": 39,
      "outputs": [
        {
          "output_type": "display_data",
          "data": {
            "text/plain": [
              "\n",
              "female   male \n",
              "  9086   7578 "
            ]
          },
          "metadata": {
            "tags": []
          }
        }
      ]
    },
    {
      "cell_type": "code",
      "metadata": {
        "id": "DWoSEMYxvE7I",
        "colab_type": "code",
        "colab": {
          "base_uri": "https://localhost:8080/",
          "height": 204
        },
        "outputId": "877da7cf-3254-4bbf-b5a7-ae171b1fcb31"
      },
      "source": [
        "sex_income <- welfare %>%   filter(!is.na(income)) %>%   group_by(ageg, sex) %>%   summarise(mean_income = mean(income)) \n",
        " \n",
        "sex_income "
      ],
      "execution_count": 40,
      "outputs": [
        {
          "output_type": "display_data",
          "data": {
            "text/plain": [
              "  ageg   sex    mean_income\n",
              "1 middle female 187.97552  \n",
              "2 middle male   353.07574  \n",
              "3 old    female  81.52917  \n",
              "4 old    male   173.85558  \n",
              "5 young  female 159.50518  \n",
              "6 young  male   170.81737  "
            ],
            "text/latex": "A grouped\\_df: 6 × 3\n\\begin{tabular}{lll}\n ageg & sex & mean\\_income\\\\\n <chr> & <chr> & <dbl>\\\\\n\\hline\n\t middle & female & 187.97552\\\\\n\t middle & male   & 353.07574\\\\\n\t old    & female &  81.52917\\\\\n\t old    & male   & 173.85558\\\\\n\t young  & female & 159.50518\\\\\n\t young  & male   & 170.81737\\\\\n\\end{tabular}\n",
            "text/markdown": "\nA grouped_df: 6 × 3\n\n| ageg &lt;chr&gt; | sex &lt;chr&gt; | mean_income &lt;dbl&gt; |\n|---|---|---|\n| middle | female | 187.97552 |\n| middle | male   | 353.07574 |\n| old    | female |  81.52917 |\n| old    | male   | 173.85558 |\n| young  | female | 159.50518 |\n| young  | male   | 170.81737 |\n\n",
            "text/html": [
              "<table>\n",
              "<caption>A grouped_df: 6 × 3</caption>\n",
              "<thead>\n",
              "\t<tr><th scope=col>ageg</th><th scope=col>sex</th><th scope=col>mean_income</th></tr>\n",
              "\t<tr><th scope=col>&lt;chr&gt;</th><th scope=col>&lt;chr&gt;</th><th scope=col>&lt;dbl&gt;</th></tr>\n",
              "</thead>\n",
              "<tbody>\n",
              "\t<tr><td>middle</td><td>female</td><td>187.97552</td></tr>\n",
              "\t<tr><td>middle</td><td>male  </td><td>353.07574</td></tr>\n",
              "\t<tr><td>old   </td><td>female</td><td> 81.52917</td></tr>\n",
              "\t<tr><td>old   </td><td>male  </td><td>173.85558</td></tr>\n",
              "\t<tr><td>young </td><td>female</td><td>159.50518</td></tr>\n",
              "\t<tr><td>young </td><td>male  </td><td>170.81737</td></tr>\n",
              "</tbody>\n",
              "</table>\n"
            ]
          },
          "metadata": {
            "tags": []
          }
        }
      ]
    },
    {
      "cell_type": "markdown",
      "metadata": {
        "id": "VoDK5rnrvMUj",
        "colab_type": "text"
      },
      "source": [
        "- 2. 그래프 만들기 "
      ]
    },
    {
      "cell_type": "code",
      "metadata": {
        "id": "cCo37hAGvKz3",
        "colab_type": "code",
        "colab": {
          "base_uri": "https://localhost:8080/",
          "height": 437
        },
        "outputId": "b68ad70b-3de9-4611-8507-13debf1d1acd"
      },
      "source": [
        "ggplot(data = sex_income, aes(x = ageg, y = mean_income, fill = sex)) +   geom_col() +   scale_x_discrete(limits = c(\"young\", \"middle\", \"old\")) "
      ],
      "execution_count": 41,
      "outputs": [
        {
          "output_type": "display_data",
          "data": {
            "image/png": "[encoded data removed]",
            "text/plain": [
              "plot without title"
            ]
          },
          "metadata": {
            "tags": [],
            "image/png": {
              "width": 420,
              "height": 420
            },
            "text/plain": {
              "width": 420,
              "height": 420
            }
          }
        }
      ]
    },
    {
      "cell_type": "markdown",
      "metadata": {
        "id": "fv8oMrnPvQYp",
        "colab_type": "text"
      },
      "source": [
        "- 성별 막대 분리 "
      ]
    },
    {
      "cell_type": "code",
      "metadata": {
        "id": "Em0aP5y7vOAI",
        "colab_type": "code",
        "colab": {
          "base_uri": "https://localhost:8080/",
          "height": 437
        },
        "outputId": "90a6c2fc-a383-43a3-f7bc-2b0d9812edfe"
      },
      "source": [
        "ggplot(data = sex_income, aes(x = ageg, y = mean_income, fill = sex)) +   \n",
        "  geom_col(position = \"dodge\") +   \n",
        "  scale_x_discrete(limits = c(\"young\", \"middle\", \"old\")) "
      ],
      "execution_count": 42,
      "outputs": [
        {
          "output_type": "display_data",
          "data": {
            "image/png": "[encoded data removed]",
            "text/plain": [
              "plot without title"
            ]
          },
          "metadata": {
            "tags": [],
            "image/png": {
              "width": 420,
              "height": 420
            },
            "text/plain": {
              "width": 420,
              "height": 420
            }
          }
        }
      ]
    },
    {
      "cell_type": "markdown",
      "metadata": {
        "id": "T7LjIGVox79k",
        "colab_type": "text"
      },
      "source": [
        "- 나이 및 성별 월급 차이 분석하기"
      ]
    },
    {
      "cell_type": "code",
      "metadata": {
        "id": "NJga3fn3vR1P",
        "colab_type": "code",
        "colab": {
          "base_uri": "https://localhost:8080/",
          "height": 204
        },
        "outputId": "2416b455-22b7-4c17-c608-c112f7b65a67"
      },
      "source": [
        "# 성별 연령별 월급 평균표 만들기\n",
        " sex_age <- welfare %>%   filter(!is.na(income)) %>%   group_by(age, sex) %>%   summarise(mean_income = mean(income)) \n",
        " \n",
        "head(sex_age) "
      ],
      "execution_count": 43,
      "outputs": [
        {
          "output_type": "display_data",
          "data": {
            "text/plain": [
              "  age sex    mean_income\n",
              "1 20  female 147.4500   \n",
              "2 20  male    69.0000   \n",
              "3 21  female 106.9789   \n",
              "4 21  male   102.0500   \n",
              "5 22  female 139.8547   \n",
              "6 22  male   118.2379   "
            ],
            "text/latex": "A grouped\\_df: 6 × 3\n\\begin{tabular}{lll}\n age & sex & mean\\_income\\\\\n <dbl> & <chr> & <dbl>\\\\\n\\hline\n\t 20 & female & 147.4500\\\\\n\t 20 & male   &  69.0000\\\\\n\t 21 & female & 106.9789\\\\\n\t 21 & male   & 102.0500\\\\\n\t 22 & female & 139.8547\\\\\n\t 22 & male   & 118.2379\\\\\n\\end{tabular}\n",
            "text/markdown": "\nA grouped_df: 6 × 3\n\n| age &lt;dbl&gt; | sex &lt;chr&gt; | mean_income &lt;dbl&gt; |\n|---|---|---|\n| 20 | female | 147.4500 |\n| 20 | male   |  69.0000 |\n| 21 | female | 106.9789 |\n| 21 | male   | 102.0500 |\n| 22 | female | 139.8547 |\n| 22 | male   | 118.2379 |\n\n",
            "text/html": [
              "<table>\n",
              "<caption>A grouped_df: 6 × 3</caption>\n",
              "<thead>\n",
              "\t<tr><th scope=col>age</th><th scope=col>sex</th><th scope=col>mean_income</th></tr>\n",
              "\t<tr><th scope=col>&lt;dbl&gt;</th><th scope=col>&lt;chr&gt;</th><th scope=col>&lt;dbl&gt;</th></tr>\n",
              "</thead>\n",
              "<tbody>\n",
              "\t<tr><td>20</td><td>female</td><td>147.4500</td></tr>\n",
              "\t<tr><td>20</td><td>male  </td><td> 69.0000</td></tr>\n",
              "\t<tr><td>21</td><td>female</td><td>106.9789</td></tr>\n",
              "\t<tr><td>21</td><td>male  </td><td>102.0500</td></tr>\n",
              "\t<tr><td>22</td><td>female</td><td>139.8547</td></tr>\n",
              "\t<tr><td>22</td><td>male  </td><td>118.2379</td></tr>\n",
              "</tbody>\n",
              "</table>\n"
            ]
          },
          "metadata": {
            "tags": []
          }
        }
      ]
    },
    {
      "cell_type": "markdown",
      "metadata": {
        "id": "8eM4BZVJx_0o",
        "colab_type": "text"
      },
      "source": [
        "- 2. 그래프 만들기 "
      ]
    },
    {
      "cell_type": "code",
      "metadata": {
        "id": "nb93qAh_x-DP",
        "colab_type": "code",
        "colab": {
          "base_uri": "https://localhost:8080/",
          "height": 437
        },
        "outputId": "d5e9a935-9953-4577-964b-99d1331a9e17"
      },
      "source": [
        "ggplot(data = sex_age, aes(x = age, y = mean_income, col = sex)) + geom_line() "
      ],
      "execution_count": 44,
      "outputs": [
        {
          "output_type": "display_data",
          "data": {
            "image/png": "[encoded data removed]",
            "text/plain": [
              "plot without title"
            ]
          },
          "metadata": {
            "tags": [],
            "image/png": {
              "width": 420,
              "height": 420
            },
            "text/plain": {
              "width": 420,
              "height": 420
            }
          }
        }
      ]
    },
    {
      "cell_type": "markdown",
      "metadata": {
        "id": "96-p7Ho2yHCR",
        "colab_type": "text"
      },
      "source": [
        "# 직업별 월급 차이 \n",
        "- 1. 변수 검토하기"
      ]
    },
    {
      "cell_type": "code",
      "metadata": {
        "id": "84oqFWSoyBlG",
        "colab_type": "code",
        "colab": {
          "base_uri": "https://localhost:8080/",
          "height": 35
        },
        "outputId": "c600b497-aa23-42cb-c290-4f23779c4167"
      },
      "source": [
        "class(welfare$code_job)"
      ],
      "execution_count": 45,
      "outputs": [
        {
          "output_type": "display_data",
          "data": {
            "text/plain": [
              "[1] \"numeric\""
            ],
            "text/latex": "'numeric'",
            "text/markdown": "'numeric'",
            "text/html": [
              "'numeric'"
            ]
          },
          "metadata": {
            "tags": []
          }
        }
      ]
    },
    {
      "cell_type": "code",
      "metadata": {
        "id": "PXTTEEfXyMBG",
        "colab_type": "code",
        "colab": {
          "base_uri": "https://localhost:8080/",
          "height": 399
        },
        "outputId": "d71b7481-039d-4c70-c28d-379de3ddc35e"
      },
      "source": [
        "table(welfare$code_job)"
      ],
      "execution_count": 46,
      "outputs": [
        {
          "output_type": "display_data",
          "data": {
            "text/plain": [
              "\n",
              " 111  120  131  132  133  134  135  139  141  149  151  152  153  159  211  212 \n",
              "   2   16   10   11    9    3    7   10   35   20   26   18   15   16    8    4 \n",
              " 213  221  222  223  224  231  232  233  234  235  236  237  239  241  242  243 \n",
              "   3   17   31   12    4   41    5    3    6   48   14    2   29   12    4   63 \n",
              " 244  245  246  247  248  251  252  253  254  259  261  271  272  273  274  281 \n",
              "   4   33   59   77   38   14  111   24   67  109    4   15   11    4   36   17 \n",
              " 283  284  285  286  289  311  312  313  314  320  330  391  392  399  411  412 \n",
              "   8   10   26   16    5  140  260  220   84   75   15    4   13   87   47   12 \n",
              " 421  422  423  429  431  432  441  442  510  521  522  530  611  612  613  620 \n",
              " 124   71    5   14   20   33  154  197  192  353    5  106 1320   11   40    2 \n",
              " 630  710  721  722  730  741  742  743  751  752  753  761  762  771  772  773 \n",
              "  20   29   30   22   16   27    3   34   34    5   49   69   27   11   61   86 \n",
              " 774  780  791  792  799  811  812  819  821  822  823  831  832  841  842  843 \n",
              "   7   17    5   21   45   16    1    6    9    9   23    5   17   32   10    4 \n",
              " 851  852  853  854  855  861  862  863  864  871  873  874  875  876  881  882 \n",
              "  19   13    7   33    9    3   14   17   31    2  257   34   37    2    2    3 \n",
              " 891  892  899  910  921  922  930  941  942  951  952  953  991  992  999 1011 \n",
              "   8   19   16  102   31   74  289  325   99  125  122   73   45   12  141    2 \n",
              "1012 \n",
              "  17 "
            ]
          },
          "metadata": {
            "tags": []
          }
        }
      ]
    },
    {
      "cell_type": "markdown",
      "metadata": {
        "id": "kcV4lXVxyOYR",
        "colab_type": "text"
      },
      "source": [
        "- 2. 전처리\n",
        "  - 직업분류코드 목록 불러오기 "
      ]
    },
    {
      "cell_type": "code",
      "metadata": {
        "id": "OKQbcAInyNFe",
        "colab_type": "code",
        "colab": {
          "base_uri": "https://localhost:8080/",
          "height": 204
        },
        "outputId": "56b6aadf-8c0a-4af8-8c28-4d4222e938fb"
      },
      "source": [
        "library(readxl) \n",
        "list_job <- read_excel(\"Koweps_Codebook.xlsx\", col_names = T, sheet = 2) \n",
        "head(list_job) "
      ],
      "execution_count": 49,
      "outputs": [
        {
          "output_type": "display_data",
          "data": {
            "text/plain": [
              "  code_job job                                \n",
              "1 111      의회의원 고위공무원 및 공공단체임원\n",
              "2 112      기업고위임원                       \n",
              "3 120      행정 및 경영지원 관리자            \n",
              "4 131      연구 교육 및 법률 관련 관리자      \n",
              "5 132      보험 및 금융 관리자                \n",
              "6 133      보건 및 사회복지 관련 관리자       "
            ],
            "text/latex": "A tibble: 6 × 2\n\\begin{tabular}{ll}\n code\\_job & job\\\\\n <dbl> & <chr>\\\\\n\\hline\n\t 111 & 의회의원 고위공무원 및 공공단체임원\\\\\n\t 112 & 기업고위임원                       \\\\\n\t 120 & 행정 및 경영지원 관리자            \\\\\n\t 131 & 연구 교육 및 법률 관련 관리자      \\\\\n\t 132 & 보험 및 금융 관리자                \\\\\n\t 133 & 보건 및 사회복지 관련 관리자       \\\\\n\\end{tabular}\n",
            "text/markdown": "\nA tibble: 6 × 2\n\n| code_job &lt;dbl&gt; | job &lt;chr&gt; |\n|---|---|\n| 111 | 의회의원 고위공무원 및 공공단체임원 |\n| 112 | 기업고위임원                        |\n| 120 | 행정 및 경영지원 관리자             |\n| 131 | 연구 교육 및 법률 관련 관리자       |\n| 132 | 보험 및 금융 관리자                 |\n| 133 | 보건 및 사회복지 관련 관리자        |\n\n",
            "text/html": [
              "<table>\n",
              "<caption>A tibble: 6 × 2</caption>\n",
              "<thead>\n",
              "\t<tr><th scope=col>code_job</th><th scope=col>job</th></tr>\n",
              "\t<tr><th scope=col>&lt;dbl&gt;</th><th scope=col>&lt;chr&gt;</th></tr>\n",
              "</thead>\n",
              "<tbody>\n",
              "\t<tr><td>111</td><td>의회의원 고위공무원 및 공공단체임원</td></tr>\n",
              "\t<tr><td>112</td><td>기업고위임원                       </td></tr>\n",
              "\t<tr><td>120</td><td>행정 및 경영지원 관리자            </td></tr>\n",
              "\t<tr><td>131</td><td>연구 교육 및 법률 관련 관리자      </td></tr>\n",
              "\t<tr><td>132</td><td>보험 및 금융 관리자                </td></tr>\n",
              "\t<tr><td>133</td><td>보건 및 사회복지 관련 관리자       </td></tr>\n",
              "</tbody>\n",
              "</table>\n"
            ]
          },
          "metadata": {
            "tags": []
          }
        }
      ]
    },
    {
      "cell_type": "code",
      "metadata": {
        "id": "rqAzvHcnyS7u",
        "colab_type": "code",
        "colab": {
          "base_uri": "https://localhost:8080/",
          "height": 54
        },
        "outputId": "3f4cc1b4-ed73-432f-8665-3ce4fb75e706"
      },
      "source": [
        "welfare <- left_join(welfare, list_job, id = \"code_job\") "
      ],
      "execution_count": 50,
      "outputs": [
        {
          "output_type": "stream",
          "text": [
            "Joining, by = \"code_job\"\n",
            "\n"
          ],
          "name": "stderr"
        }
      ]
    },
    {
      "cell_type": "code",
      "metadata": {
        "id": "q7HTutiA2FdO",
        "colab_type": "code",
        "colab": {
          "base_uri": "https://localhost:8080/",
          "height": 287
        },
        "outputId": "d5ae37fa-dbf5-4ea4-d7d5-24fb6b430a16"
      },
      "source": [
        "welfare %>%   filter(!is.na(code_job)) %>%   select(code_job, job) %>%   head(10)"
      ],
      "execution_count": 51,
      "outputs": [
        {
          "output_type": "display_data",
          "data": {
            "text/plain": [
              "   code_job job                               \n",
              "1  942      경비원 및 검표원                  \n",
              "2  762      전기공                            \n",
              "3  530      방문 노점 및 통신 판매 관련 종사자\n",
              "4  999      기타 서비스관련 단순 종사원       \n",
              "5  312      경영관련 사무원                   \n",
              "6  254      문리 기술 및 예능 강사            \n",
              "7  510      영업 종사자                       \n",
              "8  530      방문 노점 및 통신 판매 관련 종사자\n",
              "9  286      스포츠 및 레크레이션 관련 전문가  \n",
              "10 521      매장 판매 종사자                  "
            ],
            "text/latex": "A data.frame: 10 × 2\n\\begin{tabular}{r|ll}\n  & code\\_job & job\\\\\n  & <dbl> & <chr>\\\\\n\\hline\n\t1 & 942 & 경비원 및 검표원                  \\\\\n\t2 & 762 & 전기공                            \\\\\n\t3 & 530 & 방문 노점 및 통신 판매 관련 종사자\\\\\n\t4 & 999 & 기타 서비스관련 단순 종사원       \\\\\n\t5 & 312 & 경영관련 사무원                   \\\\\n\t6 & 254 & 문리 기술 및 예능 강사            \\\\\n\t7 & 510 & 영업 종사자                       \\\\\n\t8 & 530 & 방문 노점 및 통신 판매 관련 종사자\\\\\n\t9 & 286 & 스포츠 및 레크레이션 관련 전문가  \\\\\n\t10 & 521 & 매장 판매 종사자                  \\\\\n\\end{tabular}\n",
            "text/markdown": "\nA data.frame: 10 × 2\n\n| <!--/--> | code_job &lt;dbl&gt; | job &lt;chr&gt; |\n|---|---|---|\n| 1 | 942 | 경비원 및 검표원                   |\n| 2 | 762 | 전기공                             |\n| 3 | 530 | 방문 노점 및 통신 판매 관련 종사자 |\n| 4 | 999 | 기타 서비스관련 단순 종사원        |\n| 5 | 312 | 경영관련 사무원                    |\n| 6 | 254 | 문리 기술 및 예능 강사             |\n| 7 | 510 | 영업 종사자                        |\n| 8 | 530 | 방문 노점 및 통신 판매 관련 종사자 |\n| 9 | 286 | 스포츠 및 레크레이션 관련 전문가   |\n| 10 | 521 | 매장 판매 종사자                   |\n\n",
            "text/html": [
              "<table>\n",
              "<caption>A data.frame: 10 × 2</caption>\n",
              "<thead>\n",
              "\t<tr><th></th><th scope=col>code_job</th><th scope=col>job</th></tr>\n",
              "\t<tr><th></th><th scope=col>&lt;dbl&gt;</th><th scope=col>&lt;chr&gt;</th></tr>\n",
              "</thead>\n",
              "<tbody>\n",
              "\t<tr><th scope=row>1</th><td>942</td><td>경비원 및 검표원                  </td></tr>\n",
              "\t<tr><th scope=row>2</th><td>762</td><td>전기공                            </td></tr>\n",
              "\t<tr><th scope=row>3</th><td>530</td><td>방문 노점 및 통신 판매 관련 종사자</td></tr>\n",
              "\t<tr><th scope=row>4</th><td>999</td><td>기타 서비스관련 단순 종사원       </td></tr>\n",
              "\t<tr><th scope=row>5</th><td>312</td><td>경영관련 사무원                   </td></tr>\n",
              "\t<tr><th scope=row>6</th><td>254</td><td>문리 기술 및 예능 강사            </td></tr>\n",
              "\t<tr><th scope=row>7</th><td>510</td><td>영업 종사자                       </td></tr>\n",
              "\t<tr><th scope=row>8</th><td>530</td><td>방문 노점 및 통신 판매 관련 종사자</td></tr>\n",
              "\t<tr><th scope=row>9</th><td>286</td><td>스포츠 및 레크레이션 관련 전문가  </td></tr>\n",
              "\t<tr><th scope=row>10</th><td>521</td><td>매장 판매 종사자                  </td></tr>\n",
              "</tbody>\n",
              "</table>\n"
            ]
          },
          "metadata": {
            "tags": []
          }
        }
      ]
    },
    {
      "cell_type": "markdown",
      "metadata": {
        "id": "URnvUKKw2ItC",
        "colab_type": "text"
      },
      "source": [
        "- 1. 직업별 월급 평균표 만들기 "
      ]
    },
    {
      "cell_type": "code",
      "metadata": {
        "id": "uFEqEwOl2F1l",
        "colab_type": "code",
        "colab": {
          "base_uri": "https://localhost:8080/",
          "height": 204
        },
        "outputId": "e29f176b-5f15-41e0-e09d-14a8c0713435"
      },
      "source": [
        "job_income <- welfare %>%   filter(!is.na(job) & !is.na(income)) %>%   group_by(job) %>%   summarise(mean_income = mean(income)) \n",
        " \n",
        "head(job_income) "
      ],
      "execution_count": 52,
      "outputs": [
        {
          "output_type": "display_data",
          "data": {
            "text/plain": [
              "  job                           mean_income\n",
              "1 가사 및 육아 도우미            80.16648  \n",
              "2 간호사                        240.68127  \n",
              "3 건설 및 광업 단순 종사원      190.12974  \n",
              "4 건설 및 채굴 기계운전원       357.97000  \n",
              "5 건설 전기 및 생산 관련 관리자 535.80556  \n",
              "6 건설관련 기능 종사자          246.63214  "
            ],
            "text/latex": "A tibble: 6 × 2\n\\begin{tabular}{ll}\n job & mean\\_income\\\\\n <chr> & <dbl>\\\\\n\\hline\n\t 가사 및 육아 도우미           &  80.16648\\\\\n\t 간호사                        & 240.68127\\\\\n\t 건설 및 광업 단순 종사원      & 190.12974\\\\\n\t 건설 및 채굴 기계운전원       & 357.97000\\\\\n\t 건설 전기 및 생산 관련 관리자 & 535.80556\\\\\n\t 건설관련 기능 종사자          & 246.63214\\\\\n\\end{tabular}\n",
            "text/markdown": "\nA tibble: 6 × 2\n\n| job &lt;chr&gt; | mean_income &lt;dbl&gt; |\n|---|---|\n| 가사 및 육아 도우미           |  80.16648 |\n| 간호사                        | 240.68127 |\n| 건설 및 광업 단순 종사원      | 190.12974 |\n| 건설 및 채굴 기계운전원       | 357.97000 |\n| 건설 전기 및 생산 관련 관리자 | 535.80556 |\n| 건설관련 기능 종사자          | 246.63214 |\n\n",
            "text/html": [
              "<table>\n",
              "<caption>A tibble: 6 × 2</caption>\n",
              "<thead>\n",
              "\t<tr><th scope=col>job</th><th scope=col>mean_income</th></tr>\n",
              "\t<tr><th scope=col>&lt;chr&gt;</th><th scope=col>&lt;dbl&gt;</th></tr>\n",
              "</thead>\n",
              "<tbody>\n",
              "\t<tr><td>가사 및 육아 도우미          </td><td> 80.16648</td></tr>\n",
              "\t<tr><td>간호사                       </td><td>240.68127</td></tr>\n",
              "\t<tr><td>건설 및 광업 단순 종사원     </td><td>190.12974</td></tr>\n",
              "\t<tr><td>건설 및 채굴 기계운전원      </td><td>357.97000</td></tr>\n",
              "\t<tr><td>건설 전기 및 생산 관련 관리자</td><td>535.80556</td></tr>\n",
              "\t<tr><td>건설관련 기능 종사자         </td><td>246.63214</td></tr>\n",
              "</tbody>\n",
              "</table>\n"
            ]
          },
          "metadata": {
            "tags": []
          }
        }
      ]
    },
    {
      "cell_type": "markdown",
      "metadata": {
        "id": "jV1aCy9H2eY6",
        "colab_type": "text"
      },
      "source": [
        "- 2. 상위 10개 추출"
      ]
    },
    {
      "cell_type": "code",
      "metadata": {
        "id": "-0H0wHSk2N19",
        "colab_type": "code",
        "colab": {
          "base_uri": "https://localhost:8080/",
          "height": 287
        },
        "outputId": "489c35ee-0bbb-4324-bbda-66d67030f933"
      },
      "source": [
        "top10 <- job_income %>%   arrange(desc(mean_income)) %>%   head(10) \n",
        " \n",
        "top10 "
      ],
      "execution_count": 53,
      "outputs": [
        {
          "output_type": "display_data",
          "data": {
            "text/plain": [
              "   job                                  mean_income\n",
              "1  금속 재료 공학 기술자 및 시험원      845.0667   \n",
              "2  의료진료 전문가                      843.6429   \n",
              "3  의회의원 고위공무원 및 공공단체임원  750.0000   \n",
              "4  보험 및 금융 관리자                  726.1800   \n",
              "5  제관원 및 판금원                     572.4067   \n",
              "6  행정 및 경영지원 관리자              563.7633   \n",
              "7  문화 예술 디자인 및 영상 관련 관리자 557.4667   \n",
              "8  연구 교육 및 법률 관련 관리자        549.9125   \n",
              "9  건설 전기 및 생산 관련 관리자        535.8056   \n",
              "10 석유 및 화학물 가공장치 조작원       531.6600   "
            ],
            "text/latex": "A tibble: 10 × 2\n\\begin{tabular}{ll}\n job & mean\\_income\\\\\n <chr> & <dbl>\\\\\n\\hline\n\t 금속 재료 공학 기술자 및 시험원      & 845.0667\\\\\n\t 의료진료 전문가                      & 843.6429\\\\\n\t 의회의원 고위공무원 및 공공단체임원  & 750.0000\\\\\n\t 보험 및 금융 관리자                  & 726.1800\\\\\n\t 제관원 및 판금원                     & 572.4067\\\\\n\t 행정 및 경영지원 관리자              & 563.7633\\\\\n\t 문화 예술 디자인 및 영상 관련 관리자 & 557.4667\\\\\n\t 연구 교육 및 법률 관련 관리자        & 549.9125\\\\\n\t 건설 전기 및 생산 관련 관리자        & 535.8056\\\\\n\t 석유 및 화학물 가공장치 조작원       & 531.6600\\\\\n\\end{tabular}\n",
            "text/markdown": "\nA tibble: 10 × 2\n\n| job &lt;chr&gt; | mean_income &lt;dbl&gt; |\n|---|---|\n| 금속 재료 공학 기술자 및 시험원      | 845.0667 |\n| 의료진료 전문가                      | 843.6429 |\n| 의회의원 고위공무원 및 공공단체임원  | 750.0000 |\n| 보험 및 금융 관리자                  | 726.1800 |\n| 제관원 및 판금원                     | 572.4067 |\n| 행정 및 경영지원 관리자              | 563.7633 |\n| 문화 예술 디자인 및 영상 관련 관리자 | 557.4667 |\n| 연구 교육 및 법률 관련 관리자        | 549.9125 |\n| 건설 전기 및 생산 관련 관리자        | 535.8056 |\n| 석유 및 화학물 가공장치 조작원       | 531.6600 |\n\n",
            "text/html": [
              "<table>\n",
              "<caption>A tibble: 10 × 2</caption>\n",
              "<thead>\n",
              "\t<tr><th scope=col>job</th><th scope=col>mean_income</th></tr>\n",
              "\t<tr><th scope=col>&lt;chr&gt;</th><th scope=col>&lt;dbl&gt;</th></tr>\n",
              "</thead>\n",
              "<tbody>\n",
              "\t<tr><td>금속 재료 공학 기술자 및 시험원     </td><td>845.0667</td></tr>\n",
              "\t<tr><td>의료진료 전문가                     </td><td>843.6429</td></tr>\n",
              "\t<tr><td>의회의원 고위공무원 및 공공단체임원 </td><td>750.0000</td></tr>\n",
              "\t<tr><td>보험 및 금융 관리자                 </td><td>726.1800</td></tr>\n",
              "\t<tr><td>제관원 및 판금원                    </td><td>572.4067</td></tr>\n",
              "\t<tr><td>행정 및 경영지원 관리자             </td><td>563.7633</td></tr>\n",
              "\t<tr><td>문화 예술 디자인 및 영상 관련 관리자</td><td>557.4667</td></tr>\n",
              "\t<tr><td>연구 교육 및 법률 관련 관리자       </td><td>549.9125</td></tr>\n",
              "\t<tr><td>건설 전기 및 생산 관련 관리자       </td><td>535.8056</td></tr>\n",
              "\t<tr><td>석유 및 화학물 가공장치 조작원      </td><td>531.6600</td></tr>\n",
              "</tbody>\n",
              "</table>\n"
            ]
          },
          "metadata": {
            "tags": []
          }
        }
      ]
    },
    {
      "cell_type": "markdown",
      "metadata": {
        "id": "hax4l2Vd2i2a",
        "colab_type": "text"
      },
      "source": [
        "- 3. 그래프 만들기 "
      ]
    },
    {
      "cell_type": "code",
      "metadata": {
        "id": "-QBvRbO_2g81",
        "colab_type": "code",
        "colab": {
          "base_uri": "https://localhost:8080/",
          "height": 437
        },
        "outputId": "3919f796-daf8-4b14-a578-ba0d8a090312"
      },
      "source": [
        "ggplot(data = top10, aes(x = reorder(job, mean_income), y = mean_income)) +   geom_col() +   coord_flip() "
      ],
      "execution_count": 54,
      "outputs": [
        {
          "output_type": "display_data",
          "data": {
            "image/png": "[encoded data removed]",
            "text/plain": [
              "plot without title"
            ]
          },
          "metadata": {
            "tags": [],
            "image/png": {
              "width": 420,
              "height": 420
            },
            "text/plain": {
              "width": 420,
              "height": 420
            }
          }
        }
      ]
    },
    {
      "cell_type": "markdown",
      "metadata": {
        "id": "_jcCSny83dnb",
        "colab_type": "text"
      },
      "source": [
        "- 4. 하위 10위 추출 "
      ]
    },
    {
      "cell_type": "code",
      "metadata": {
        "id": "fYmgyLhh2kxN",
        "colab_type": "code",
        "colab": {
          "base_uri": "https://localhost:8080/",
          "height": 287
        },
        "outputId": "65169e11-caff-4289-dddf-a4cb263f7bbb"
      },
      "source": [
        "bottom10 <- job_income %>%   arrange(mean_income) %>%   head(10) \n",
        " \n",
        "bottom10"
      ],
      "execution_count": 55,
      "outputs": [
        {
          "output_type": "display_data",
          "data": {
            "text/plain": [
              "   job                          mean_income\n",
              "1  가사 및 육아 도우미           80.16648  \n",
              "2  임업관련 종사자               83.33000  \n",
              "3  기타 서비스관련 단순 종사원   88.22101  \n",
              "4  청소원 및 환경 미화원         88.78775  \n",
              "5  약사 및 한약사                89.00000  \n",
              "6  작물재배 종사자               92.00000  \n",
              "7  농립어업관련 단순 종사원     101.58125  \n",
              "8  의료 복지 관련 서비스 종사자 103.52643  \n",
              "9  음식관련 단순 종사원         107.84511  \n",
              "10 판매관련 단순 종사원         116.82203  "
            ],
            "text/latex": "A tibble: 10 × 2\n\\begin{tabular}{ll}\n job & mean\\_income\\\\\n <chr> & <dbl>\\\\\n\\hline\n\t 가사 및 육아 도우미          &  80.16648\\\\\n\t 임업관련 종사자              &  83.33000\\\\\n\t 기타 서비스관련 단순 종사원  &  88.22101\\\\\n\t 청소원 및 환경 미화원        &  88.78775\\\\\n\t 약사 및 한약사               &  89.00000\\\\\n\t 작물재배 종사자              &  92.00000\\\\\n\t 농립어업관련 단순 종사원     & 101.58125\\\\\n\t 의료 복지 관련 서비스 종사자 & 103.52643\\\\\n\t 음식관련 단순 종사원         & 107.84511\\\\\n\t 판매관련 단순 종사원         & 116.82203\\\\\n\\end{tabular}\n",
            "text/markdown": "\nA tibble: 10 × 2\n\n| job &lt;chr&gt; | mean_income &lt;dbl&gt; |\n|---|---|\n| 가사 및 육아 도우미          |  80.16648 |\n| 임업관련 종사자              |  83.33000 |\n| 기타 서비스관련 단순 종사원  |  88.22101 |\n| 청소원 및 환경 미화원        |  88.78775 |\n| 약사 및 한약사               |  89.00000 |\n| 작물재배 종사자              |  92.00000 |\n| 농립어업관련 단순 종사원     | 101.58125 |\n| 의료 복지 관련 서비스 종사자 | 103.52643 |\n| 음식관련 단순 종사원         | 107.84511 |\n| 판매관련 단순 종사원         | 116.82203 |\n\n",
            "text/html": [
              "<table>\n",
              "<caption>A tibble: 10 × 2</caption>\n",
              "<thead>\n",
              "\t<tr><th scope=col>job</th><th scope=col>mean_income</th></tr>\n",
              "\t<tr><th scope=col>&lt;chr&gt;</th><th scope=col>&lt;dbl&gt;</th></tr>\n",
              "</thead>\n",
              "<tbody>\n",
              "\t<tr><td>가사 및 육아 도우미         </td><td> 80.16648</td></tr>\n",
              "\t<tr><td>임업관련 종사자             </td><td> 83.33000</td></tr>\n",
              "\t<tr><td>기타 서비스관련 단순 종사원 </td><td> 88.22101</td></tr>\n",
              "\t<tr><td>청소원 및 환경 미화원       </td><td> 88.78775</td></tr>\n",
              "\t<tr><td>약사 및 한약사              </td><td> 89.00000</td></tr>\n",
              "\t<tr><td>작물재배 종사자             </td><td> 92.00000</td></tr>\n",
              "\t<tr><td>농립어업관련 단순 종사원    </td><td>101.58125</td></tr>\n",
              "\t<tr><td>의료 복지 관련 서비스 종사자</td><td>103.52643</td></tr>\n",
              "\t<tr><td>음식관련 단순 종사원        </td><td>107.84511</td></tr>\n",
              "\t<tr><td>판매관련 단순 종사원        </td><td>116.82203</td></tr>\n",
              "</tbody>\n",
              "</table>\n"
            ]
          },
          "metadata": {
            "tags": []
          }
        }
      ]
    },
    {
      "cell_type": "markdown",
      "metadata": {
        "id": "lXW2VFLS3ihB",
        "colab_type": "text"
      },
      "source": [
        "- 5. 그래프 만들기"
      ]
    },
    {
      "cell_type": "code",
      "metadata": {
        "id": "ZxdCGSaz3g2t",
        "colab_type": "code",
        "colab": {
          "base_uri": "https://localhost:8080/",
          "height": 163
        },
        "outputId": "c3b6b772-f2e0-4c2f-d035-317e2e2336fa"
      },
      "source": [
        "library(tidyverse)\n",
        "install.packages('extrafont')\n",
        "library(extrafont)"
      ],
      "execution_count": 62,
      "outputs": [
        {
          "output_type": "stream",
          "text": [
            "Installing package into ‘/usr/local/lib/R/site-library’\n",
            "(as ‘lib’ is unspecified)\n",
            "\n",
            "also installing the dependencies ‘extrafontdb’, ‘Rttf2pt1’\n",
            "\n",
            "\n",
            "Registering fonts with R\n",
            "\n"
          ],
          "name": "stderr"
        }
      ]
    },
    {
      "cell_type": "code",
      "metadata": {
        "id": "q8P4Fzlw5mgp",
        "colab_type": "code",
        "colab": {
          "base_uri": "https://localhost:8080/",
          "height": 336
        },
        "outputId": "f52b101a-9cc8-4fb7-f571-e402598c6d6b"
      },
      "source": [
        "font_import(pattern = \"D2\")"
      ],
      "execution_count": 66,
      "outputs": [
        {
          "output_type": "stream",
          "text": [
            "Importing fonts may take a few minutes, depending on the number of fonts and the speed of the system.\n",
            "Continue? [y/n] y\n"
          ],
          "name": "stdout"
        },
        {
          "output_type": "stream",
          "text": [
            "Scanning ttf files in /usr/share/fonts/ ...\n",
            "\n",
            "Extracting .afm files from .ttf files...\n",
            "\n"
          ],
          "name": "stderr"
        },
        {
          "output_type": "error",
          "ename": "ERROR",
          "evalue": "ignored",
          "traceback": [
            "Error in data.frame(fontfile = ttfiles, FontName = \"\", stringsAsFactors = FALSE): arguments imply differing number of rows: 0, 1\nTraceback:\n",
            "1. font_import(pattern = \"D2\")",
            "2. ttf_import(paths, recursive, pattern)",
            "3. ttf_extract(ttfiles)",
            "4. data.frame(fontfile = ttfiles, FontName = \"\", stringsAsFactors = FALSE)",
            "5. stop(gettextf(\"arguments imply differing number of rows: %s\", \n .     paste(unique(nrows), collapse = \", \")), domain = NA)"
          ]
        }
      ]
    },
    {
      "cell_type": "code",
      "metadata": {
        "id": "EXVmmilP5wQC",
        "colab_type": "code",
        "colab": {
          "base_uri": "https://localhost:8080/",
          "height": 336
        },
        "outputId": "6fe9a742-b5c2-4753-8f15-d4f9e5eab966"
      },
      "source": [
        "font_import(pattern = \"Nanum\")"
      ],
      "execution_count": 69,
      "outputs": [
        {
          "output_type": "stream",
          "text": [
            "Importing fonts may take a few minutes, depending on the number of fonts and the speed of the system.\n",
            "Continue? [y/n] y\n"
          ],
          "name": "stdout"
        },
        {
          "output_type": "stream",
          "text": [
            "Scanning ttf files in /usr/share/fonts/ ...\n",
            "\n",
            "Extracting .afm files from .ttf files...\n",
            "\n"
          ],
          "name": "stderr"
        },
        {
          "output_type": "error",
          "ename": "ERROR",
          "evalue": "ignored",
          "traceback": [
            "Error in data.frame(fontfile = ttfiles, FontName = \"\", stringsAsFactors = FALSE): arguments imply differing number of rows: 0, 1\nTraceback:\n",
            "1. font_import(pattern = \"Nanum\")",
            "2. ttf_import(paths, recursive, pattern)",
            "3. ttf_extract(ttfiles)",
            "4. data.frame(fontfile = ttfiles, FontName = \"\", stringsAsFactors = FALSE)",
            "5. stop(gettextf(\"arguments imply differing number of rows: %s\", \n .     paste(unique(nrows), collapse = \", \")), domain = NA)"
          ]
        }
      ]
    },
    {
      "cell_type": "code",
      "metadata": {
        "id": "iy463rmQ5Dx_",
        "colab_type": "code",
        "colab": {
          "base_uri": "https://localhost:8080/",
          "height": 437
        },
        "outputId": "90125067-8fec-4f8f-e7b3-af85c91b767b"
      },
      "source": [
        "loadfonts()\n",
        "ggplot(data = bottom10, aes(x = reorder(job, -mean_income),    y = mean_income)) +   geom_col() +   theme_minimal(base_family = \"Nanum Pen Script\") + coord_flip() +   ylim(0, 850)"
      ],
      "execution_count": 71,
      "outputs": [
        {
          "output_type": "display_data",
          "data": {
            "image/png": "[encoded data removed]",
            "text/plain": [
              "plot without title"
            ]
          },
          "metadata": {
            "tags": [],
            "image/png": {
              "width": 420,
              "height": 420
            },
            "text/plain": {
              "width": 420,
              "height": 420
            }
          }
        }
      ]
    },
    {
      "cell_type": "code",
      "metadata": {
        "id": "hWwvzZwR3kwl",
        "colab_type": "code",
        "colab": {}
      },
      "source": [
        ""
      ],
      "execution_count": 0,
      "outputs": []
    }
  ]
}