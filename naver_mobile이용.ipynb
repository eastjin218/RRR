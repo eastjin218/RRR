{
 "cells": [
  {
   "cell_type": "code",
   "execution_count": 1,
   "metadata": {
    "ExecuteTime": {
     "end_time": "2020-02-18T04:56:18.151442Z",
     "start_time": "2020-02-18T04:56:12.491Z"
    }
   },
   "outputs": [
    {
     "name": "stderr",
     "output_type": "stream",
     "text": [
      "Installing package into 'C:/Users/admin/Documents/R/win-library/3.6'\n",
      "(as 'lib' is unspecified)\n"
     ]
    },
    {
     "name": "stdout",
     "output_type": "stream",
     "text": [
      "package 'RJSONIO' successfully unpacked and MD5 sums checked\n",
      "\n",
      "The downloaded binary packages are in\n",
      "\tC:\\Users\\admin\\AppData\\Local\\Temp\\Rtmp8o0SPZ\\downloaded_packages\n"
     ]
    }
   ],
   "source": [
    "install.packages(\"RJSONIO\")"
   ]
  },
  {
   "cell_type": "code",
   "execution_count": 2,
   "metadata": {
    "ExecuteTime": {
     "end_time": "2020-02-18T04:56:24.740142Z",
     "start_time": "2020-02-18T04:56:24.697Z"
    }
   },
   "outputs": [
    {
     "name": "stderr",
     "output_type": "stream",
     "text": [
      "Warning message:\n",
      "\"package 'RJSONIO' was built under R version 3.6.2\"\n",
      "Attaching package: 'RJSONIO'\n",
      "\n",
      "The following objects are masked from 'package:jsonlite':\n",
      "\n",
      "    fromJSON, toJSON\n",
      "\n"
     ]
    }
   ],
   "source": [
    "library(RJSONIO)"
   ]
  },
  {
   "cell_type": "code",
   "execution_count": null,
   "metadata": {},
   "outputs": [],
   "source": [
    "search_loc <- function(keyword){\n",
    "    loc <- iconv(keyword, from=\"cp949\", to=\"UTF-8\")# window 키워드 인코딩 변환\n",
    "#     loc <- keyword # 맥또는 리눅스\n",
    "    juso <- URLencode(keyword)\n",
    "    \n",
    "    ## mobile\n",
    "    url <- paste0(\"https://m.map.naver.com/search2/searchMore.nhn?query=\",\n",
    "                    juso,\"&sm=clk&page=1&displayCount=75&type=SITE_1\")\n",
    "    url\n",
    "    }"
   ]
  },
  {
   "cell_type": "code",
   "execution_count": 11,
   "metadata": {
    "ExecuteTime": {
     "end_time": "2020-02-18T05:11:02.720792Z",
     "start_time": "2020-02-18T05:11:02.704Z"
    }
   },
   "outputs": [],
   "source": [
    "search_loc <- function(keyword){\n",
    "    loc <- iconv(keyword, from=\"cp949\", to=\"UTF-8\")# window 키워드 인코딩 변환\n",
    "#     loc <- keyword # 맥또는 리눅스\n",
    "    juso <- URLencode(keyword)\n",
    "    \n",
    "    ## mobile\n",
    "    url <- paste0(\"https://m.map.naver.com/search2/searchMore.nhn?query=\",juso,\"&sm=clk&page=1&displayCount=75&type=SITE_1\")\n",
    "    url\n",
    "    \n",
    "    ## 여기서도 ctrl + shift + j로 진짜 주소를 찾아올수 있다.\n",
    "    b <- readLines(url,encoding=\"UTF-8\")\n",
    "    head(b)\n",
    "    \n",
    "    b2 <- paste(b,collapse=\" \") # JSON 형태라 R에서 List로 바꾸서ㅓ 쓰기\n",
    "    head(b2)\n",
    "    \n",
    "    b3 <- fromJSON(b2) # List로 변환\n",
    "    head(b3)\n",
    "    \n",
    "    ##\n",
    "    wg <- c(b3$result$site$list[[1]]$x, b3$result$site$list[[1]]$y )\n",
    "    return(wg)\n",
    "}"
   ]
  },
  {
   "cell_type": "code",
   "execution_count": 12,
   "metadata": {
    "ExecuteTime": {
     "end_time": "2020-02-18T05:11:03.896079Z",
     "start_time": "2020-02-18T05:11:03.824Z"
    },
    "scrolled": true
   },
   "outputs": [
    {
     "name": "stderr",
     "output_type": "stream",
     "text": [
      "Warning message in readLines(url, encoding = \"UTF-8\"):\n",
      "\"'https://m.map.naver.com/search2/searchMore.nhn?query=%BC%AD%BF%EF%B4%EB&sm=clk&page=1&displayCount=75&type=SITE_1'에서 불완전한 마지막 행이 발견되었습니다\""
     ]
    },
    {
     "data": {
      "text/plain": [
       "NULL"
      ]
     },
     "metadata": {},
     "output_type": "display_data"
    }
   ],
   "source": [
    "search_loc(\"서울대\")"
   ]
  },
  {
   "cell_type": "code",
   "execution_count": null,
   "metadata": {},
   "outputs": [],
   "source": []
  }
 ],
 "metadata": {
  "kernelspec": {
   "display_name": "R",
   "language": "R",
   "name": "ir"
  },
  "language_info": {
   "codemirror_mode": "r",
   "file_extension": ".r",
   "mimetype": "text/x-r-source",
   "name": "R",
   "pygments_lexer": "r",
   "version": "3.6.1"
  },
  "toc": {
   "base_numbering": 1,
   "nav_menu": {},
   "number_sections": true,
   "sideBar": true,
   "skip_h1_title": false,
   "title_cell": "Table of Contents",
   "title_sidebar": "Contents",
   "toc_cell": false,
   "toc_position": {},
   "toc_section_display": true,
   "toc_window_display": false
  },
  "varInspector": {
   "cols": {
    "lenName": 16,
    "lenType": 16,
    "lenVar": 40
   },
   "kernels_config": {
    "python": {
     "delete_cmd_postfix": "",
     "delete_cmd_prefix": "del ",
     "library": "var_list.py",
     "varRefreshCmd": "print(var_dic_list())"
    },
    "r": {
     "delete_cmd_postfix": ") ",
     "delete_cmd_prefix": "rm(",
     "library": "var_list.r",
     "varRefreshCmd": "cat(var_dic_list()) "
    }
   },
   "types_to_exclude": [
    "module",
    "function",
    "builtin_function_or_method",
    "instance",
    "_Feature"
   ],
   "window_display": false
  }
 },
 "nbformat": 4,
 "nbformat_minor": 2
}
