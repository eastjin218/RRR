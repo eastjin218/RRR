{
  "nbformat": 4,
  "nbformat_minor": 0,
  "metadata": {
    "kernelspec": {
      "display_name": "R",
      "language": "R",
      "name": "ir"
    },
    "language_info": {
      "codemirror_mode": "r",
      "file_extension": ".r",
      "mimetype": "text/x-r-source",
      "name": "R",
      "pygments_lexer": "r",
      "version": "3.6.1"
    },
    "toc": {
      "base_numbering": 1,
      "nav_menu": {},
      "number_sections": true,
      "sideBar": true,
      "skip_h1_title": false,
      "title_cell": "Table of Contents",
      "title_sidebar": "Contents",
      "toc_cell": false,
      "toc_position": {},
      "toc_section_display": true,
      "toc_window_display": false
    },
    "varInspector": {
      "cols": {
        "lenName": 16,
        "lenType": 16,
        "lenVar": 40
      },
      "kernels_config": {
        "python": {
          "delete_cmd_postfix": "",
          "delete_cmd_prefix": "del ",
          "library": "var_list.py",
          "varRefreshCmd": "print(var_dic_list())"
        },
        "r": {
          "delete_cmd_postfix": ") ",
          "delete_cmd_prefix": "rm(",
          "library": "var_list.r",
          "varRefreshCmd": "cat(var_dic_list()) "
        }
      },
      "types_to_exclude": [
        "module",
        "function",
        "builtin_function_or_method",
        "instance",
        "_Feature"
      ],
      "window_display": false
    },
    "colab": {
      "name": "R11.지도시각화.ipynb",
      "provenance": [],
      "include_colab_link": true
    }
  },
  "cells": [
    {
      "cell_type": "markdown",
      "metadata": {
        "id": "view-in-github",
        "colab_type": "text"
      },
      "source": [
        "<a href=\"https://colab.research.google.com/github/eastjin218/RRR/blob/master/R11_%EC%A7%80%EB%8F%84%EC%8B%9C%EA%B0%81%ED%99%94.ipynb\" target=\"_parent\"><img src=\"https://colab.research.google.com/assets/colab-badge.svg\" alt=\"Open In Colab\"/></a>"
      ]
    },
    {
      "cell_type": "markdown",
      "metadata": {
        "id": "dff5Ue68yh-r",
        "colab_type": "text"
      },
      "source": [
        "# 지도 시각화"
      ]
    },
    {
      "cell_type": "markdown",
      "metadata": {
        "id": "JFx--MsGyh-t",
        "colab_type": "text"
      },
      "source": [
        "##  단계 구분\n",
        "- 지역별 통계치를 색깔의 차이로 표현한 지도\n",
        "- 인구나 소득 같은 특성이 지역별로 얼마나 다른지 쉽게 이해할 수 있음"
      ]
    },
    {
      "cell_type": "markdown",
      "metadata": {
        "id": "Jk5lXqYKyh-u",
        "colab_type": "text"
      },
      "source": [
        "### 패키지 준비하기"
      ]
    },
    {
      "cell_type": "code",
      "metadata": {
        "ExecuteTime": {
          "end_time": "2020-02-18T04:02:37.162289Z",
          "start_time": "2020-02-18T04:01:50.511Z"
        },
        "scrolled": false,
        "id": "RqyB3v7Pyh-v",
        "colab_type": "code",
        "colab": {},
        "outputId": "c064db22-2c28-4e02-d72c-e943769ee9a4"
      },
      "source": [
        "install.packages(\"ggiraphExtra\")"
      ],
      "execution_count": 0,
      "outputs": [
        {
          "output_type": "stream",
          "text": [
            "Installing package into 'C:/Users/admin/Documents/R/win-library/3.6'\n",
            "(as 'lib' is unspecified)\n",
            "also installing the dependencies 'systemfonts', 'forcats', 'readr', 'data.table', 'zip', 'nortest', 'survival', 'gdtools', 'haven', 'insight', 'tweenr', 'polyclip', 'RcppEigen', 'flextable', 'officer', 'moonBook', 'ggiraph', 'mycor', 'ppcor', 'sjlabelled', 'sjmisc', 'webshot', 'tidyr', 'ggforce', 'ztable'\n",
            "\n"
          ],
          "name": "stderr"
        },
        {
          "output_type": "stream",
          "text": [
            "\n",
            "  There is a binary version available but the source version is later:\n",
            "          binary source needs_compilation\n",
            "flextable  0.5.7  0.5.8             FALSE\n",
            "\n",
            "package 'systemfonts' successfully unpacked and MD5 sums checked\n",
            "package 'forcats' successfully unpacked and MD5 sums checked\n",
            "package 'readr' successfully unpacked and MD5 sums checked\n",
            "package 'data.table' successfully unpacked and MD5 sums checked\n",
            "package 'zip' successfully unpacked and MD5 sums checked\n",
            "package 'nortest' successfully unpacked and MD5 sums checked\n",
            "package 'survival' successfully unpacked and MD5 sums checked\n",
            "package 'gdtools' successfully unpacked and MD5 sums checked\n",
            "package 'haven' successfully unpacked and MD5 sums checked\n",
            "package 'insight' successfully unpacked and MD5 sums checked\n",
            "package 'tweenr' successfully unpacked and MD5 sums checked\n",
            "package 'polyclip' successfully unpacked and MD5 sums checked\n",
            "package 'RcppEigen' successfully unpacked and MD5 sums checked\n",
            "package 'officer' successfully unpacked and MD5 sums checked\n",
            "package 'moonBook' successfully unpacked and MD5 sums checked\n",
            "package 'ggiraph' successfully unpacked and MD5 sums checked\n",
            "package 'mycor' successfully unpacked and MD5 sums checked\n",
            "package 'ppcor' successfully unpacked and MD5 sums checked\n",
            "package 'sjlabelled' successfully unpacked and MD5 sums checked\n",
            "package 'sjmisc' successfully unpacked and MD5 sums checked\n",
            "package 'webshot' successfully unpacked and MD5 sums checked\n",
            "package 'tidyr' successfully unpacked and MD5 sums checked\n",
            "package 'ggforce' successfully unpacked and MD5 sums checked\n",
            "package 'ztable' successfully unpacked and MD5 sums checked\n",
            "package 'ggiraphExtra' successfully unpacked and MD5 sums checked\n",
            "\n",
            "The downloaded binary packages are in\n",
            "\tC:\\Users\\admin\\AppData\\Local\\Temp\\RtmpgDpFc2\\downloaded_packages\n"
          ],
          "name": "stdout"
        },
        {
          "output_type": "stream",
          "text": [
            "installing the source package 'flextable'\n",
            "\n"
          ],
          "name": "stderr"
        }
      ]
    },
    {
      "cell_type": "code",
      "metadata": {
        "ExecuteTime": {
          "end_time": "2020-02-18T04:40:00.109401Z",
          "start_time": "2020-02-18T04:40:00.075Z"
        },
        "id": "gynTWaDAyh-z",
        "colab_type": "code",
        "colab": {},
        "outputId": "47b373e0-6b2d-4d23-9447-f1bb224898af"
      },
      "source": [
        "library(dplyr)\n",
        "library(ggplot2)"
      ],
      "execution_count": 0,
      "outputs": [
        {
          "output_type": "stream",
          "text": [
            "Warning message:\n",
            "\"package 'dplyr' was built under R version 3.6.2\"\n",
            "Attaching package: 'dplyr'\n",
            "\n",
            "The following objects are masked from 'package:stats':\n",
            "\n",
            "    filter, lag\n",
            "\n",
            "The following objects are masked from 'package:base':\n",
            "\n",
            "    intersect, setdiff, setequal, union\n",
            "\n"
          ],
          "name": "stderr"
        }
      ]
    },
    {
      "cell_type": "code",
      "metadata": {
        "ExecuteTime": {
          "end_time": "2020-02-18T04:02:56.490566Z",
          "start_time": "2020-02-18T04:02:54.644Z"
        },
        "id": "n6UtpaBNyh-1",
        "colab_type": "code",
        "colab": {},
        "outputId": "ee25f162-2ddf-4f3c-bf11-f3188a2e4623"
      },
      "source": [
        "library(ggiraphExtra)"
      ],
      "execution_count": 0,
      "outputs": [
        {
          "output_type": "stream",
          "text": [
            "Warning message:\n",
            "\"package 'ggiraphExtra' was built under R version 3.6.2\""
          ],
          "name": "stderr"
        }
      ]
    },
    {
      "cell_type": "code",
      "metadata": {
        "ExecuteTime": {
          "end_time": "2020-02-18T04:03:16.788423Z",
          "start_time": "2020-02-18T04:03:16.756Z"
        },
        "id": "cUZryGlsyh-4",
        "colab_type": "code",
        "colab": {},
        "outputId": "57b5650e-96fe-41fb-c0ed-fa448677f688"
      },
      "source": [
        "str(USArrests)"
      ],
      "execution_count": 0,
      "outputs": [
        {
          "output_type": "stream",
          "text": [
            "'data.frame':\t50 obs. of  4 variables:\n",
            " $ Murder  : num  13.2 10 8.1 8.8 9 7.9 3.3 5.9 15.4 17.4 ...\n",
            " $ Assault : int  236 263 294 190 276 204 110 238 335 211 ...\n",
            " $ UrbanPop: int  58 48 80 50 91 78 77 72 80 60 ...\n",
            " $ Rape    : num  21.2 44.5 31 19.5 40.6 38.7 11.1 15.8 31.9 25.8 ...\n"
          ],
          "name": "stdout"
        }
      ]
    },
    {
      "cell_type": "code",
      "metadata": {
        "ExecuteTime": {
          "end_time": "2020-02-18T04:03:40.529784Z",
          "start_time": "2020-02-18T04:03:40.501Z"
        },
        "id": "kY4stmdLyh-6",
        "colab_type": "code",
        "colab": {},
        "outputId": "1fb435fd-5142-48a7-f225-b94f79933b3a"
      },
      "source": [
        "head(USArrests)"
      ],
      "execution_count": 0,
      "outputs": [
        {
          "output_type": "display_data",
          "data": {
            "text/html": [
              "<table>\n",
              "<thead><tr><th></th><th scope=col>Murder</th><th scope=col>Assault</th><th scope=col>UrbanPop</th><th scope=col>Rape</th></tr></thead>\n",
              "<tbody>\n",
              "\t<tr><th scope=row>Alabama</th><td>13.2</td><td>236 </td><td>58  </td><td>21.2</td></tr>\n",
              "\t<tr><th scope=row>Alaska</th><td>10.0</td><td>263 </td><td>48  </td><td>44.5</td></tr>\n",
              "\t<tr><th scope=row>Arizona</th><td> 8.1</td><td>294 </td><td>80  </td><td>31.0</td></tr>\n",
              "\t<tr><th scope=row>Arkansas</th><td> 8.8</td><td>190 </td><td>50  </td><td>19.5</td></tr>\n",
              "\t<tr><th scope=row>California</th><td> 9.0</td><td>276 </td><td>91  </td><td>40.6</td></tr>\n",
              "\t<tr><th scope=row>Colorado</th><td> 7.9</td><td>204 </td><td>78  </td><td>38.7</td></tr>\n",
              "</tbody>\n",
              "</table>\n"
            ],
            "text/latex": "\\begin{tabular}{r|llll}\n  & Murder & Assault & UrbanPop & Rape\\\\\n\\hline\n\tAlabama & 13.2 & 236  & 58   & 21.2\\\\\n\tAlaska & 10.0 & 263  & 48   & 44.5\\\\\n\tArizona &  8.1 & 294  & 80   & 31.0\\\\\n\tArkansas &  8.8 & 190  & 50   & 19.5\\\\\n\tCalifornia &  9.0 & 276  & 91   & 40.6\\\\\n\tColorado &  7.9 & 204  & 78   & 38.7\\\\\n\\end{tabular}\n",
            "text/markdown": "\n| <!--/--> | Murder | Assault | UrbanPop | Rape |\n|---|---|---|---|---|\n| Alabama | 13.2 | 236  | 58   | 21.2 |\n| Alaska | 10.0 | 263  | 48   | 44.5 |\n| Arizona |  8.1 | 294  | 80   | 31.0 |\n| Arkansas |  8.8 | 190  | 50   | 19.5 |\n| California |  9.0 | 276  | 91   | 40.6 |\n| Colorado |  7.9 | 204  | 78   | 38.7 |\n\n",
            "text/plain": [
              "           Murder Assault UrbanPop Rape\n",
              "Alabama    13.2   236     58       21.2\n",
              "Alaska     10.0   263     48       44.5\n",
              "Arizona     8.1   294     80       31.0\n",
              "Arkansas    8.8   190     50       19.5\n",
              "California  9.0   276     91       40.6\n",
              "Colorado    7.9   204     78       38.7"
            ]
          },
          "metadata": {
            "tags": []
          }
        }
      ]
    },
    {
      "cell_type": "code",
      "metadata": {
        "ExecuteTime": {
          "end_time": "2020-02-18T04:15:05.908531Z",
          "start_time": "2020-02-18T04:15:05.876Z"
        },
        "scrolled": true,
        "id": "IKVCn-TAyh-_",
        "colab_type": "code",
        "colab": {},
        "outputId": "7001a80c-0ab3-493e-8b04-1e97d6722019"
      },
      "source": [
        "library(tibble)"
      ],
      "execution_count": 0,
      "outputs": [
        {
          "output_type": "stream",
          "text": [
            "Warning message:\n",
            "\"package 'tibble' was built under R version 3.6.2\""
          ],
          "name": "stderr"
        }
      ]
    },
    {
      "cell_type": "code",
      "metadata": {
        "ExecuteTime": {
          "end_time": "2020-02-18T04:27:07.284123Z",
          "start_time": "2020-02-18T04:27:07.259Z"
        },
        "id": "CjelI9sryh_B",
        "colab_type": "code",
        "colab": {}
      },
      "source": [
        "crime <- rownames_to_column(USArrests, var = \"state\")"
      ],
      "execution_count": 0,
      "outputs": []
    },
    {
      "cell_type": "code",
      "metadata": {
        "ExecuteTime": {
          "end_time": "2020-02-18T04:27:11.367731Z",
          "start_time": "2020-02-18T04:27:11.347Z"
        },
        "id": "uRs3Zw5gyh_E",
        "colab_type": "code",
        "colab": {}
      },
      "source": [
        "# 지도 데이터와 동일하게 맞추기 위해 state의 값을 소문자로 수정\n",
        "crime$state <- tolower(crime$state)"
      ],
      "execution_count": 0,
      "outputs": []
    },
    {
      "cell_type": "code",
      "metadata": {
        "ExecuteTime": {
          "end_time": "2020-02-18T04:27:16.053872Z",
          "start_time": "2020-02-18T04:27:16.027Z"
        },
        "id": "kbHmLuNRyh_G",
        "colab_type": "code",
        "colab": {},
        "outputId": "06caaea4-94b3-4ec5-fbd4-5769f22e4ca1"
      },
      "source": [
        "\n",
        "str(crime)"
      ],
      "execution_count": 0,
      "outputs": [
        {
          "output_type": "stream",
          "text": [
            "'data.frame':\t50 obs. of  5 variables:\n",
            " $ state   : chr  \"alabama\" \"alaska\" \"arizona\" \"arkansas\" ...\n",
            " $ Murder  : num  13.2 10 8.1 8.8 9 7.9 3.3 5.9 15.4 17.4 ...\n",
            " $ Assault : int  236 263 294 190 276 204 110 238 335 211 ...\n",
            " $ UrbanPop: int  58 48 80 50 91 78 77 72 80 60 ...\n",
            " $ Rape    : num  21.2 44.5 31 19.5 40.6 38.7 11.1 15.8 31.9 25.8 ...\n"
          ],
          "name": "stdout"
        }
      ]
    },
    {
      "cell_type": "code",
      "metadata": {
        "ExecuteTime": {
          "end_time": "2020-02-18T04:53:34.883617Z",
          "start_time": "2020-02-18T04:53:34.857Z"
        },
        "scrolled": true,
        "id": "oL2Xk6lZyh_J",
        "colab_type": "code",
        "colab": {},
        "outputId": "d09c42df-0cf3-42b7-997d-f59a6a756127"
      },
      "source": [
        "library(dplyr)\n",
        "library(ggplot2)\n",
        "library(tibble)\n",
        "states_map <- ggplot2::map_data(\"state\")\n",
        "str(states_map)"
      ],
      "execution_count": 0,
      "outputs": [
        {
          "output_type": "error",
          "ename": "ERROR",
          "evalue": "Error: Package `maps` required for `map_data`.\nPlease install and try again.\n",
          "traceback": [
            "Error: Package `maps` required for `map_data`.\nPlease install and try again.\nTraceback:\n",
            "1. ggplot2::map_data(\"state\")",
            "2. try_require(\"maps\", \"map_data\")",
            "3. stop(\"Package `\", package, \"` required for `\", fun, \"`.\\n\", \"Please install and try again.\", \n .     call. = FALSE)"
          ]
        }
      ]
    }
  ]
}